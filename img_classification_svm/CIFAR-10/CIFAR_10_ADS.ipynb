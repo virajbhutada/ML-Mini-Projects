{
  "nbformat": 4,
  "nbformat_minor": 0,
  "metadata": {
    "colab": {
      "name": "CIFAR_10_Case_1.ipynb",
      "version": "0.3.2",
      "views": {},
      "default_view": {},
      "provenance": [],
      "collapsed_sections": []
    },
    "kernelspec": {
      "display_name": "Python 3",
      "language": "python",
      "name": "python3"
    },
    "accelerator": "GPU"
  },
  "cells": [
    {
      "metadata": {
        "id": "9Sda8-JPBOZc",
        "colab_type": "code",
        "colab": {
          "autoexec": {
            "startup": false,
            "wait_interval": 0
          },
          "base_uri": "https://localhost:8080/",
          "height": 68
        },
        "outputId": "915ccf9a-6ad7-4ebd-ec7b-711719127ad5",
        "executionInfo": {
          "status": "ok",
          "timestamp": 1524685045778,
          "user_tz": 240,
          "elapsed": 574,
          "user": {
            "displayName": "Shweta Tatiya",
            "photoUrl": "//lh6.googleusercontent.com/--0dIBF4_Y4c/AAAAAAAAAAI/AAAAAAAAAM4/bnIXv4rqGwQ/s50-c-k-no/photo.jpg",
            "userId": "101219336158955273157"
          }
        }
      },
      "cell_type": "code",
      "source": [
        "from __future__ import print_function\n",
        "import keras\n",
        "from keras.datasets import cifar10\n",
        "from keras.preprocessing.image import ImageDataGenerator\n",
        "from keras.models import Sequential\n",
        "from keras.layers import Dense, Dropout, Activation\n",
        "from keras.layers import Conv2D, MaxPooling2D, GlobalMaxPooling2D,BatchNormalization\n",
        "\n",
        "batch_size = 32 \n",
        "num_classes = 10\n",
        "#epochs = 1600\n",
        "data_augmentation = True\n",
        "\n",
        "# The data, shuffled and split between train and test sets:\n",
        "(x_train, y_train), (x_test, y_test) = cifar10.load_data()\n",
        "print('x_train shape:', x_train.shape)\n",
        "print(x_train.shape[0], 'train samples')\n",
        "print(x_test.shape[0], 'test samples')"
      ],
      "execution_count": 9,
      "outputs": [
        {
          "output_type": "stream",
          "text": [
            "x_train shape: (50000, 32, 32, 3)\n",
            "50000 train samples\n",
            "10000 test samples\n"
          ],
          "name": "stdout"
        }
      ]
    },
    {
      "metadata": {
        "id": "JdcEYsOvB4-r",
        "colab_type": "code",
        "colab": {
          "autoexec": {
            "startup": false,
            "wait_interval": 0
          }
        }
      },
      "cell_type": "code",
      "source": [
        "# Convert class vectors to binary class matrices.\n",
        "y_train = keras.utils.to_categorical(y_train, num_classes)\n",
        "y_test = keras.utils.to_categorical(y_test, num_classes)"
      ],
      "execution_count": 0,
      "outputs": []
    },
    {
      "metadata": {
        "id": "aCKgYf3ZCNDe",
        "colab_type": "code",
        "colab": {
          "autoexec": {
            "startup": false,
            "wait_interval": 0
          }
        }
      },
      "cell_type": "code",
      "source": [
        "x_train = x_train.astype('float32')\n",
        "x_test = x_test.astype('float32')\n",
        "x_train /= 255\n",
        "x_test /= 255"
      ],
      "execution_count": 0,
      "outputs": []
    },
    {
      "metadata": {
        "id": "KqwE4Z_HROsc",
        "colab_type": "text"
      },
      "cell_type": "markdown",
      "source": [
        "**CASE 1 - relu,softmax,rmsprop,50 epochs**"
      ]
    },
    {
      "metadata": {
        "id": "MSz7Jpi-CBJK",
        "colab_type": "code",
        "colab": {
          "autoexec": {
            "startup": false,
            "wait_interval": 0
          },
          "base_uri": "https://localhost:8080/",
          "height": 646
        },
        "outputId": "f22f1b32-cbcd-467e-bd65-b676101d46fe",
        "executionInfo": {
          "status": "ok",
          "timestamp": 1524674923183,
          "user_tz": 240,
          "elapsed": 323,
          "user": {
            "displayName": "Shweta Tatiya",
            "photoUrl": "//lh6.googleusercontent.com/--0dIBF4_Y4c/AAAAAAAAAAI/AAAAAAAAAM4/bnIXv4rqGwQ/s50-c-k-no/photo.jpg",
            "userId": "101219336158955273157"
          }
        }
      },
      "cell_type": "code",
      "source": [
        "model = Sequential()\n",
        "\n",
        "model.add(Conv2D(32, (3, 3),kernel_initializer='random_normal',\n",
        "                 input_shape=x_train.shape[1:]))\n",
        "model.add(Activation('relu'))\n",
        "model.add(Conv2D(32, (3, 3),kernel_initializer='random_normal',\n",
        "                 input_shape=x_train.shape[1:]))\n",
        "model.add(Activation('relu'))\n",
        "model.add(Conv2D(32, (3, 3),kernel_initializer='random_normal',\n",
        "                 input_shape=x_train.shape[1:]))\n",
        "model.add(Activation('relu'))\n",
        "model.add(Conv2D(48, (3, 3),kernel_initializer='random_normal',\n",
        "                 input_shape=x_train.shape[1:]))\n",
        "model.add(Activation('relu'))\n",
        "model.add(Conv2D(48, (3, 3),kernel_initializer='random_normal',\n",
        "                 input_shape=x_train.shape[1:]))\n",
        "model.add(Activation('relu'))\n",
        "model.add(GlobalMaxPooling2D())\n",
        "model.add(Dense(500))\n",
        "model.add(Dropout(0.25))\n",
        "model.add(Dense(num_classes))\n",
        "model.add(Activation('softmax'))\n",
        "model.summary()"
      ],
      "execution_count": 27,
      "outputs": [
        {
          "output_type": "stream",
          "text": [
            "_________________________________________________________________\n",
            "Layer (type)                 Output Shape              Param #   \n",
            "=================================================================\n",
            "conv2d_38 (Conv2D)           (None, 30, 30, 32)        896       \n",
            "_________________________________________________________________\n",
            "activation_44 (Activation)   (None, 30, 30, 32)        0         \n",
            "_________________________________________________________________\n",
            "conv2d_39 (Conv2D)           (None, 28, 28, 32)        9248      \n",
            "_________________________________________________________________\n",
            "activation_45 (Activation)   (None, 28, 28, 32)        0         \n",
            "_________________________________________________________________\n",
            "conv2d_40 (Conv2D)           (None, 26, 26, 32)        9248      \n",
            "_________________________________________________________________\n",
            "activation_46 (Activation)   (None, 26, 26, 32)        0         \n",
            "_________________________________________________________________\n",
            "conv2d_41 (Conv2D)           (None, 24, 24, 48)        13872     \n",
            "_________________________________________________________________\n",
            "activation_47 (Activation)   (None, 24, 24, 48)        0         \n",
            "_________________________________________________________________\n",
            "conv2d_42 (Conv2D)           (None, 22, 22, 48)        20784     \n",
            "_________________________________________________________________\n",
            "activation_48 (Activation)   (None, 22, 22, 48)        0         \n",
            "_________________________________________________________________\n",
            "global_max_pooling2d_7 (Glob (None, 48)                0         \n",
            "_________________________________________________________________\n",
            "dense_10 (Dense)             (None, 500)               24500     \n",
            "_________________________________________________________________\n",
            "dropout_7 (Dropout)          (None, 500)               0         \n",
            "_________________________________________________________________\n",
            "dense_11 (Dense)             (None, 10)                5010      \n",
            "_________________________________________________________________\n",
            "activation_49 (Activation)   (None, 10)                0         \n",
            "=================================================================\n",
            "Total params: 83,558\n",
            "Trainable params: 83,558\n",
            "Non-trainable params: 0\n",
            "_________________________________________________________________\n"
          ],
          "name": "stdout"
        }
      ]
    },
    {
      "metadata": {
        "id": "6LKf3cjBCJzT",
        "colab_type": "code",
        "colab": {
          "autoexec": {
            "startup": false,
            "wait_interval": 0
          }
        }
      },
      "cell_type": "code",
      "source": [
        "#opt = keras.optimizers.RMSProp(lr=0.0001)\n",
        "model.compile(loss='categorical_crossentropy',\n",
        "              optimizer=\"RMSProp\",\n",
        "              metrics=['accuracy'])"
      ],
      "execution_count": 0,
      "outputs": []
    },
    {
      "metadata": {
        "id": "4l6KzvC0CVJV",
        "colab_type": "code",
        "colab": {
          "autoexec": {
            "startup": false,
            "wait_interval": 0
          },
          "base_uri": "https://localhost:8080/",
          "height": 1754
        },
        "outputId": "b8c37d71-2919-4a68-99b5-158c1341f2cd",
        "executionInfo": {
          "status": "ok",
          "timestamp": 1524666469410,
          "user_tz": 240,
          "elapsed": 1299709,
          "user": {
            "displayName": "Shweta Tatiya",
            "photoUrl": "//lh6.googleusercontent.com/--0dIBF4_Y4c/AAAAAAAAAAI/AAAAAAAAAM4/bnIXv4rqGwQ/s50-c-k-no/photo.jpg",
            "userId": "101219336158955273157"
          }
        }
      },
      "cell_type": "code",
      "source": [
        " m1=model.fit(x_train, y_train,\n",
        "              batch_size=batch_size,\n",
        "              epochs=50,\n",
        "              validation_data=(x_test, y_test),\n",
        "              shuffle=True)"
      ],
      "execution_count": 6,
      "outputs": [
        {
          "output_type": "stream",
          "text": [
            "Train on 50000 samples, validate on 10000 samples\n",
            "Epoch 1/50\n",
            "50000/50000 [==============================] - 29s 577us/step - loss: 1.8434 - acc: 0.3000 - val_loss: 1.6786 - val_acc: 0.3849\n",
            "Epoch 2/50\n",
            "14976/50000 [=======>......................] - ETA: 17s - loss: 1.5405 - acc: 0.4327"
          ],
          "name": "stdout"
        },
        {
          "output_type": "stream",
          "text": [
            "50000/50000 [==============================] - 26s 528us/step - loss: 1.4802 - acc: 0.4564 - val_loss: 1.4622 - val_acc: 0.4710\n",
            "Epoch 3/50\n",
            "40160/50000 [=======================>......] - ETA: 4s - loss: 1.3526 - acc: 0.5125"
          ],
          "name": "stdout"
        },
        {
          "output_type": "stream",
          "text": [
            "50000/50000 [==============================] - 26s 525us/step - loss: 1.3478 - acc: 0.5149 - val_loss: 1.3957 - val_acc: 0.4979\n",
            "Epoch 4/50\n",
            "49984/50000 [============================>.] - ETA: 0s - loss: 1.2545 - acc: 0.5494"
          ],
          "name": "stdout"
        },
        {
          "output_type": "stream",
          "text": [
            "50000/50000 [==============================] - 26s 525us/step - loss: 1.2544 - acc: 0.5494 - val_loss: 1.2268 - val_acc: 0.5607\n",
            "Epoch 5/50\n",
            "50000/50000 [==============================] - 26s 528us/step - loss: 1.1951 - acc: 0.5762 - val_loss: 1.2232 - val_acc: 0.5689\n",
            "Epoch 6/50\n",
            " 1792/50000 [>.............................] - ETA: 24s - loss: 1.1184 - acc: 0.5993"
          ],
          "name": "stdout"
        },
        {
          "output_type": "stream",
          "text": [
            "50000/50000 [==============================] - 26s 526us/step - loss: 1.1441 - acc: 0.5914 - val_loss: 1.2678 - val_acc: 0.5534\n",
            "Epoch 7/50\n",
            "35296/50000 [====================>.........] - ETA: 7s - loss: 1.0984 - acc: 0.6093"
          ],
          "name": "stdout"
        },
        {
          "output_type": "stream",
          "text": [
            "50000/50000 [==============================] - 26s 523us/step - loss: 1.1013 - acc: 0.6090 - val_loss: 1.1733 - val_acc: 0.5845\n",
            "Epoch 8/50\n",
            "48128/50000 [===========================>..] - ETA: 0s - loss: 1.0716 - acc: 0.6206"
          ],
          "name": "stdout"
        },
        {
          "output_type": "stream",
          "text": [
            "50000/50000 [==============================] - 26s 526us/step - loss: 1.0712 - acc: 0.6207 - val_loss: 1.1560 - val_acc: 0.5961\n",
            "Epoch 9/50\n",
            "50000/50000 [==============================] - 26s 524us/step - loss: 1.0385 - acc: 0.6332 - val_loss: 1.0755 - val_acc: 0.6222\n",
            "Epoch 10/50\n",
            " 1664/50000 [..............................] - ETA: 24s - loss: 1.0278 - acc: 0.6268"
          ],
          "name": "stdout"
        },
        {
          "output_type": "stream",
          "text": [
            "50000/50000 [==============================] - 26s 526us/step - loss: 1.0151 - acc: 0.6398 - val_loss: 1.1377 - val_acc: 0.6118\n",
            "Epoch 11/50\n",
            "35584/50000 [====================>.........] - ETA: 7s - loss: 0.9888 - acc: 0.6513"
          ],
          "name": "stdout"
        },
        {
          "output_type": "stream",
          "text": [
            "50000/50000 [==============================] - 26s 517us/step - loss: 0.9947 - acc: 0.6480 - val_loss: 1.1037 - val_acc: 0.6154\n",
            "Epoch 12/50\n",
            "49120/50000 [============================>.] - ETA: 0s - loss: 0.9742 - acc: 0.6560"
          ],
          "name": "stdout"
        },
        {
          "output_type": "stream",
          "text": [
            "50000/50000 [==============================] - 26s 517us/step - loss: 0.9732 - acc: 0.6566 - val_loss: 1.2130 - val_acc: 0.5795\n",
            "Epoch 13/50\n",
            "50000/50000 [==============================] - 26s 525us/step - loss: 0.9546 - acc: 0.6626 - val_loss: 1.0991 - val_acc: 0.6206\n",
            "Epoch 14/50\n",
            " 1632/50000 [..............................] - ETA: 24s - loss: 0.9326 - acc: 0.6685"
          ],
          "name": "stdout"
        },
        {
          "output_type": "stream",
          "text": [
            "50000/50000 [==============================] - 26s 525us/step - loss: 0.9367 - acc: 0.6699 - val_loss: 1.0213 - val_acc: 0.6401\n",
            "Epoch 15/50\n",
            "35328/50000 [====================>.........] - ETA: 7s - loss: 0.9135 - acc: 0.6771"
          ],
          "name": "stdout"
        },
        {
          "output_type": "stream",
          "text": [
            "50000/50000 [==============================] - 26s 520us/step - loss: 0.9195 - acc: 0.6753 - val_loss: 1.1541 - val_acc: 0.6044\n",
            "Epoch 16/50\n",
            "48992/50000 [============================>.] - ETA: 0s - loss: 0.9104 - acc: 0.6780"
          ],
          "name": "stdout"
        },
        {
          "output_type": "stream",
          "text": [
            "50000/50000 [==============================] - 26s 516us/step - loss: 0.9104 - acc: 0.6778 - val_loss: 1.0282 - val_acc: 0.6410\n",
            "Epoch 17/50\n",
            "50000/50000 [==============================] - 26s 514us/step - loss: 0.8972 - acc: 0.6838 - val_loss: 1.0950 - val_acc: 0.6263\n",
            "Epoch 18/50\n",
            " 2560/50000 [>.............................] - ETA: 23s - loss: 0.8383 - acc: 0.7008"
          ],
          "name": "stdout"
        },
        {
          "output_type": "stream",
          "text": [
            "50000/50000 [==============================] - 26s 515us/step - loss: 0.8768 - acc: 0.6908 - val_loss: 1.1147 - val_acc: 0.6250\n",
            "Epoch 19/50\n",
            "36960/50000 [=====================>........] - ETA: 6s - loss: 0.8598 - acc: 0.6977"
          ],
          "name": "stdout"
        },
        {
          "output_type": "stream",
          "text": [
            "50000/50000 [==============================] - 26s 513us/step - loss: 0.8654 - acc: 0.6953 - val_loss: 1.0624 - val_acc: 0.6379\n",
            "Epoch 20/50\n",
            "49536/50000 [============================>.] - ETA: 0s - loss: 0.8516 - acc: 0.7001"
          ],
          "name": "stdout"
        },
        {
          "output_type": "stream",
          "text": [
            "50000/50000 [==============================] - 26s 513us/step - loss: 0.8531 - acc: 0.6996 - val_loss: 1.0825 - val_acc: 0.6368\n",
            "Epoch 21/50\n",
            "50000/50000 [==============================] - 26s 511us/step - loss: 0.8418 - acc: 0.7029 - val_loss: 1.0688 - val_acc: 0.6413\n",
            "Epoch 22/50\n",
            " 2848/50000 [>.............................] - ETA: 23s - loss: 0.8070 - acc: 0.7124"
          ],
          "name": "stdout"
        },
        {
          "output_type": "stream",
          "text": [
            "50000/50000 [==============================] - 26s 513us/step - loss: 0.8274 - acc: 0.7077 - val_loss: 1.1423 - val_acc: 0.6163\n",
            "Epoch 23/50\n",
            "37344/50000 [=====================>........] - ETA: 6s - loss: 0.8140 - acc: 0.7133"
          ],
          "name": "stdout"
        },
        {
          "output_type": "stream",
          "text": [
            "50000/50000 [==============================] - 26s 513us/step - loss: 0.8177 - acc: 0.7134 - val_loss: 1.0737 - val_acc: 0.6367\n",
            "Epoch 24/50\n",
            "48832/50000 [============================>.] - ETA: 0s - loss: 0.8066 - acc: 0.7168"
          ],
          "name": "stdout"
        },
        {
          "output_type": "stream",
          "text": [
            "50000/50000 [==============================] - 26s 524us/step - loss: 0.8069 - acc: 0.7169 - val_loss: 1.0640 - val_acc: 0.6458\n",
            "Epoch 25/50\n",
            "50000/50000 [==============================] - 26s 516us/step - loss: 0.7950 - acc: 0.7188 - val_loss: 1.1001 - val_acc: 0.6356\n",
            "Epoch 26/50\n",
            " 2304/50000 [>.............................] - ETA: 23s - loss: 0.7552 - acc: 0.7218"
          ],
          "name": "stdout"
        },
        {
          "output_type": "stream",
          "text": [
            "50000/50000 [==============================] - 26s 525us/step - loss: 0.7827 - acc: 0.7243 - val_loss: 1.1020 - val_acc: 0.6269\n",
            "Epoch 27/50\n",
            "35488/50000 [====================>.........] - ETA: 7s - loss: 0.7684 - acc: 0.7276"
          ],
          "name": "stdout"
        },
        {
          "output_type": "stream",
          "text": [
            "50000/50000 [==============================] - 26s 523us/step - loss: 0.7762 - acc: 0.7252 - val_loss: 1.1761 - val_acc: 0.6115\n",
            "Epoch 28/50\n",
            "48096/50000 [===========================>..] - ETA: 0s - loss: 0.7633 - acc: 0.7316"
          ],
          "name": "stdout"
        },
        {
          "output_type": "stream",
          "text": [
            "50000/50000 [==============================] - 26s 523us/step - loss: 0.7651 - acc: 0.7313 - val_loss: 1.0656 - val_acc: 0.6404\n",
            "Epoch 29/50\n",
            "50000/50000 [==============================] - 26s 522us/step - loss: 0.7548 - acc: 0.7356 - val_loss: 1.0806 - val_acc: 0.6375\n",
            "Epoch 30/50\n",
            " 1632/50000 [..............................] - ETA: 23s - loss: 0.7516 - acc: 0.7408"
          ],
          "name": "stdout"
        },
        {
          "output_type": "stream",
          "text": [
            "50000/50000 [==============================] - 26s 521us/step - loss: 0.7443 - acc: 0.7373 - val_loss: 1.0846 - val_acc: 0.6425\n",
            "Epoch 31/50\n",
            "35296/50000 [====================>.........] - ETA: 7s - loss: 0.7281 - acc: 0.7443"
          ],
          "name": "stdout"
        },
        {
          "output_type": "stream",
          "text": [
            "50000/50000 [==============================] - 26s 523us/step - loss: 0.7359 - acc: 0.7414 - val_loss: 1.1407 - val_acc: 0.6346\n",
            "Epoch 32/50\n",
            "48992/50000 [============================>.] - ETA: 0s - loss: 0.7234 - acc: 0.7447"
          ],
          "name": "stdout"
        },
        {
          "output_type": "stream",
          "text": [
            "50000/50000 [==============================] - 26s 513us/step - loss: 0.7245 - acc: 0.7444 - val_loss: 1.1469 - val_acc: 0.6354\n",
            "Epoch 33/50\n",
            "50000/50000 [==============================] - 26s 513us/step - loss: 0.7167 - acc: 0.7461 - val_loss: 1.1404 - val_acc: 0.6317\n",
            "Epoch 34/50\n",
            " 2400/50000 [>.............................] - ETA: 22s - loss: 0.7014 - acc: 0.7525"
          ],
          "name": "stdout"
        },
        {
          "output_type": "stream",
          "text": [
            "50000/50000 [==============================] - 26s 519us/step - loss: 0.7085 - acc: 0.7493 - val_loss: 1.0971 - val_acc: 0.6493\n",
            "Epoch 35/50\n",
            "36224/50000 [====================>.........] - ETA: 6s - loss: 0.6967 - acc: 0.7573"
          ],
          "name": "stdout"
        },
        {
          "output_type": "stream",
          "text": [
            "50000/50000 [==============================] - 26s 516us/step - loss: 0.7042 - acc: 0.7541 - val_loss: 1.1313 - val_acc: 0.6355\n",
            "Epoch 36/50\n",
            "48832/50000 [============================>.] - ETA: 0s - loss: 0.6958 - acc: 0.7559"
          ],
          "name": "stdout"
        },
        {
          "output_type": "stream",
          "text": [
            "50000/50000 [==============================] - 26s 515us/step - loss: 0.6981 - acc: 0.7555 - val_loss: 1.0940 - val_acc: 0.6406\n",
            "Epoch 37/50\n",
            "50000/50000 [==============================] - 25s 509us/step - loss: 0.6870 - acc: 0.7574 - val_loss: 1.1708 - val_acc: 0.6324\n",
            "Epoch 38/50\n",
            " 2528/50000 [>.............................] - ETA: 23s - loss: 0.6597 - acc: 0.7658"
          ],
          "name": "stdout"
        },
        {
          "output_type": "stream",
          "text": [
            "50000/50000 [==============================] - 26s 514us/step - loss: 0.6798 - acc: 0.7582 - val_loss: 1.1609 - val_acc: 0.6377\n",
            "Epoch 39/50\n",
            "37120/50000 [=====================>........] - ETA: 6s - loss: 0.6671 - acc: 0.7626"
          ],
          "name": "stdout"
        },
        {
          "output_type": "stream",
          "text": [
            "50000/50000 [==============================] - 26s 514us/step - loss: 0.6750 - acc: 0.7599 - val_loss: 1.1179 - val_acc: 0.6406\n",
            "Epoch 40/50\n",
            "50000/50000 [==============================] - 25s 510us/step - loss: 0.6712 - acc: 0.7636 - val_loss: 1.1501 - val_acc: 0.6264\n",
            "Epoch 41/50\n",
            "   32/50000 [..............................] - ETA: 28s - loss: 0.4976 - acc: 0.8438"
          ],
          "name": "stdout"
        },
        {
          "output_type": "stream",
          "text": [
            "50000/50000 [==============================] - 26s 512us/step - loss: 0.6568 - acc: 0.7670 - val_loss: 1.1149 - val_acc: 0.6490\n",
            "Epoch 42/50\n",
            "36032/50000 [====================>.........] - ETA: 6s - loss: 0.6463 - acc: 0.7712"
          ],
          "name": "stdout"
        },
        {
          "output_type": "stream",
          "text": [
            "50000/50000 [==============================] - 26s 517us/step - loss: 0.6519 - acc: 0.7705 - val_loss: 1.1269 - val_acc: 0.6406\n",
            "Epoch 43/50\n",
            "49376/50000 [============================>.] - ETA: 0s - loss: 0.6456 - acc: 0.7729"
          ],
          "name": "stdout"
        },
        {
          "output_type": "stream",
          "text": [
            "50000/50000 [==============================] - 26s 514us/step - loss: 0.6463 - acc: 0.7727 - val_loss: 1.2010 - val_acc: 0.6372\n",
            "Epoch 44/50\n",
            "50000/50000 [==============================] - 26s 516us/step - loss: 0.6440 - acc: 0.7724 - val_loss: 1.1901 - val_acc: 0.6289\n",
            "Epoch 45/50\n",
            " 2496/50000 [>.............................] - ETA: 23s - loss: 0.5778 - acc: 0.7869"
          ],
          "name": "stdout"
        },
        {
          "output_type": "stream",
          "text": [
            "50000/50000 [==============================] - 26s 518us/step - loss: 0.6377 - acc: 0.7752 - val_loss: 1.1629 - val_acc: 0.6353\n",
            "Epoch 46/50\n",
            "36672/50000 [=====================>........] - ETA: 6s - loss: 0.6154 - acc: 0.7827"
          ],
          "name": "stdout"
        },
        {
          "output_type": "stream",
          "text": [
            "50000/50000 [==============================] - 26s 519us/step - loss: 0.6260 - acc: 0.7785 - val_loss: 1.1652 - val_acc: 0.6516\n",
            "Epoch 47/50\n",
            "49888/50000 [============================>.] - ETA: 0s - loss: 0.6225 - acc: 0.7803"
          ],
          "name": "stdout"
        },
        {
          "output_type": "stream",
          "text": [
            "50000/50000 [==============================] - 25s 509us/step - loss: 0.6221 - acc: 0.7805 - val_loss: 1.2031 - val_acc: 0.6423\n",
            "Epoch 48/50\n",
            "50000/50000 [==============================] - 26s 515us/step - loss: 0.6148 - acc: 0.7837 - val_loss: 1.1828 - val_acc: 0.6535\n",
            "Epoch 49/50\n",
            " 2720/50000 [>.............................] - ETA: 23s - loss: 0.5401 - acc: 0.8096"
          ],
          "name": "stdout"
        },
        {
          "output_type": "stream",
          "text": [
            "50000/50000 [==============================] - 26s 513us/step - loss: 0.6129 - acc: 0.7830 - val_loss: 1.1891 - val_acc: 0.6398\n",
            "Epoch 50/50\n",
            "35648/50000 [====================>.........] - ETA: 7s - loss: 0.6042 - acc: 0.7865"
          ],
          "name": "stdout"
        },
        {
          "output_type": "stream",
          "text": [
            "50000/50000 [==============================] - 26s 524us/step - loss: 0.6106 - acc: 0.7836 - val_loss: 1.2982 - val_acc: 0.6273\n"
          ],
          "name": "stdout"
        }
      ]
    },
    {
      "metadata": {
        "id": "Q8nW0kHGLuLn",
        "colab_type": "code",
        "colab": {
          "autoexec": {
            "startup": false,
            "wait_interval": 0
          }
        }
      },
      "cell_type": "code",
      "source": [
        "import matplotlib.pyplot as plt\n",
        "import seaborn as sb"
      ],
      "execution_count": 0,
      "outputs": []
    },
    {
      "metadata": {
        "id": "165BMRibLmGv",
        "colab_type": "code",
        "colab": {
          "autoexec": {
            "startup": false,
            "wait_interval": 0
          },
          "base_uri": "https://localhost:8080/",
          "height": 405
        },
        "outputId": "ce7c9574-794c-4231-d198-50b66f8ea3f5",
        "executionInfo": {
          "status": "ok",
          "timestamp": 1524666470728,
          "user_tz": 240,
          "elapsed": 478,
          "user": {
            "displayName": "Shweta Tatiya",
            "photoUrl": "//lh6.googleusercontent.com/--0dIBF4_Y4c/AAAAAAAAAAI/AAAAAAAAAM4/bnIXv4rqGwQ/s50-c-k-no/photo.jpg",
            "userId": "101219336158955273157"
          }
        }
      },
      "cell_type": "code",
      "source": [
        "plt.figure(figsize=(10,6))\n",
        "sb.set_style(\"whitegrid\")\n",
        "plt.plot(m1.history['acc'],color=\"#E74C3C\",marker='o')\n",
        "plt.plot(m1.history['val_acc'],color='#641E16',marker='h')\n",
        "plt.title('Accuracy comparison between Validation and Train Data set',fontsize=15)\n",
        "plt.ylabel('Accuracy')\n",
        "plt.xlabel('Epoch')\n",
        "plt.legend(['Train', 'Test'], loc='lower right')\n",
        "plt.show()"
      ],
      "execution_count": 8,
      "outputs": [
        {
          "output_type": "display_data",
          "data": {
            "image/png": "[encoded data removed]",
            "text/plain": [
              "<matplotlib.figure.Figure at 0x7fae91e865c0>"
            ]
          },
          "metadata": {
            "tags": []
          }
        }
      ]
    },
    {
      "metadata": {
        "id": "RC4NIH4MMJQb",
        "colab_type": "code",
        "colab": {
          "autoexec": {
            "startup": false,
            "wait_interval": 0
          },
          "base_uri": "https://localhost:8080/",
          "height": 405
        },
        "outputId": "b43dfd76-a5ef-4b42-8e46-c11e2817b601",
        "executionInfo": {
          "status": "ok",
          "timestamp": 1524666471352,
          "user_tz": 240,
          "elapsed": 487,
          "user": {
            "displayName": "Shweta Tatiya",
            "photoUrl": "//lh6.googleusercontent.com/--0dIBF4_Y4c/AAAAAAAAAAI/AAAAAAAAAM4/bnIXv4rqGwQ/s50-c-k-no/photo.jpg",
            "userId": "101219336158955273157"
          }
        }
      },
      "cell_type": "code",
      "source": [
        "plt.figure(figsize=(10,6))\n",
        "sb.set_style(\"whitegrid\")\n",
        "plt.plot(m1.history['loss'],color=\"Purple\",marker='o')\n",
        "plt.plot(m1.history['val_loss'],color='Orange',marker='h')\n",
        "plt.title('Loss comparison between Validation and Train Data set',fontsize=15)\n",
        "plt.ylabel('Accuracy')\n",
        "plt.xlabel('Epoch')\n",
        "plt.legend(['Train', 'Test'], loc='best')\n",
        "plt.show()"
      ],
      "execution_count": 9,
      "outputs": [
        {
          "output_type": "display_data",
          "data": {
            "image/png": "[encoded data removed]",
            "text/plain": [
              "<matplotlib.figure.Figure at 0x7fae78d04a58>"
            ]
          },
          "metadata": {
            "tags": []
          }
        }
      ]
    },
    {
      "metadata": {
        "id": "8PBL4LCCREz4",
        "colab_type": "text"
      },
      "cell_type": "markdown",
      "source": [
        "CASE 2 - relu,softmax,adam,epochs-100"
      ]
    },
    {
      "metadata": {
        "id": "vvcwUuDbMjyx",
        "colab_type": "code",
        "colab": {
          "autoexec": {
            "startup": false,
            "wait_interval": 0
          },
          "base_uri": "https://localhost:8080/",
          "height": 1088
        },
        "outputId": "3bef44df-d332-4f65-c78d-dad9431b6135",
        "executionInfo": {
          "status": "ok",
          "timestamp": 1524682344418,
          "user_tz": 240,
          "elapsed": 1855,
          "user": {
            "displayName": "Shweta Tatiya",
            "photoUrl": "//lh6.googleusercontent.com/--0dIBF4_Y4c/AAAAAAAAAAI/AAAAAAAAAM4/bnIXv4rqGwQ/s50-c-k-no/photo.jpg",
            "userId": "101219336158955273157"
          }
        }
      },
      "cell_type": "code",
      "source": [
        "model2 = Sequential()\n",
        "\n",
        "model2.add(Conv2D(32, (3, 3),kernel_initializer='random_uniform',\n",
        "                 input_shape=x_train.shape[1:]))\n",
        "model2.add(Activation('relu'))\n",
        "model2.add(BatchNormalization())\n",
        "model2.add(Conv2D(32, (3, 3),kernel_initializer='random_uniform',\n",
        "                 input_shape=x_train.shape[1:]))\n",
        "model2.add(Activation('relu'))\n",
        "model2.add(BatchNormalization())\n",
        "model2.add(Conv2D(32, (3, 3),kernel_initializer='random_uniform',\n",
        "                 input_shape=x_train.shape[1:]))\n",
        "model2.add(Activation('relu'))\n",
        "model2.add(BatchNormalization())\n",
        "model2.add(Conv2D(48, (3, 3),kernel_initializer='random_uniform',\n",
        "                 input_shape=x_train.shape[1:]))\n",
        "model2.add(Activation('relu'))\n",
        "model2.add(BatchNormalization())\n",
        "model2.add(Conv2D(48, (3, 3),kernel_initializer='random_uniform',\n",
        "                 input_shape=x_train.shape[1:]))\n",
        "model2.add(Activation('relu'))\n",
        "model2.add(BatchNormalization())\n",
        "model2.add(Conv2D(48, (3, 3),kernel_initializer='random_uniform',\n",
        "                 input_shape=x_train.shape[1:]))\n",
        "model2.add(Activation('relu'))\n",
        "model2.add(BatchNormalization())\n",
        "model2.add(Conv2D(64, (3, 3),kernel_initializer='random_uniform',\n",
        "                 input_shape=x_train.shape[1:]))\n",
        "model2.add(Activation('relu'))\n",
        "model2.add(BatchNormalization())\n",
        "model2.add(Conv2D(128, (3, 3),kernel_initializer='random_uniform',\n",
        "                 input_shape=x_train.shape[1:]))\n",
        "model2.add(Activation('relu'))\n",
        "model2.add(BatchNormalization())\n",
        "model2.add(GlobalMaxPooling2D())\n",
        "model2.add(Dropout(0.25))\n",
        "model2.add(Dense(num_classes))\n",
        "model2.add(Activation('softmax'))\n",
        "model2.summary()"
      ],
      "execution_count": 5,
      "outputs": [
        {
          "output_type": "stream",
          "text": [
            "_________________________________________________________________\n",
            "Layer (type)                 Output Shape              Param #   \n",
            "=================================================================\n",
            "conv2d_2 (Conv2D)            (None, 30, 30, 32)        896       \n",
            "_________________________________________________________________\n",
            "activation_2 (Activation)    (None, 30, 30, 32)        0         \n",
            "_________________________________________________________________\n",
            "batch_normalization_1 (Batch (None, 30, 30, 32)        128       \n",
            "_________________________________________________________________\n",
            "conv2d_3 (Conv2D)            (None, 28, 28, 32)        9248      \n",
            "_________________________________________________________________\n",
            "activation_3 (Activation)    (None, 28, 28, 32)        0         \n",
            "_________________________________________________________________\n",
            "batch_normalization_2 (Batch (None, 28, 28, 32)        128       \n",
            "_________________________________________________________________\n",
            "conv2d_4 (Conv2D)            (None, 26, 26, 32)        9248      \n",
            "_________________________________________________________________\n",
            "activation_4 (Activation)    (None, 26, 26, 32)        0         \n",
            "_________________________________________________________________\n",
            "batch_normalization_3 (Batch (None, 26, 26, 32)        128       \n",
            "_________________________________________________________________\n",
            "conv2d_5 (Conv2D)            (None, 24, 24, 48)        13872     \n",
            "_________________________________________________________________\n",
            "activation_5 (Activation)    (None, 24, 24, 48)        0         \n",
            "_________________________________________________________________\n",
            "batch_normalization_4 (Batch (None, 24, 24, 48)        192       \n",
            "_________________________________________________________________\n",
            "conv2d_6 (Conv2D)            (None, 22, 22, 48)        20784     \n",
            "_________________________________________________________________\n",
            "activation_6 (Activation)    (None, 22, 22, 48)        0         \n",
            "_________________________________________________________________\n",
            "batch_normalization_5 (Batch (None, 22, 22, 48)        192       \n",
            "_________________________________________________________________\n",
            "conv2d_7 (Conv2D)            (None, 20, 20, 48)        20784     \n",
            "_________________________________________________________________\n",
            "activation_7 (Activation)    (None, 20, 20, 48)        0         \n",
            "_________________________________________________________________\n",
            "batch_normalization_6 (Batch (None, 20, 20, 48)        192       \n",
            "_________________________________________________________________\n",
            "conv2d_8 (Conv2D)            (None, 18, 18, 64)        27712     \n",
            "_________________________________________________________________\n",
            "activation_8 (Activation)    (None, 18, 18, 64)        0         \n",
            "_________________________________________________________________\n",
            "batch_normalization_7 (Batch (None, 18, 18, 64)        256       \n",
            "_________________________________________________________________\n",
            "conv2d_9 (Conv2D)            (None, 16, 16, 128)       73856     \n",
            "_________________________________________________________________\n",
            "activation_9 (Activation)    (None, 16, 16, 128)       0         \n",
            "_________________________________________________________________\n",
            "batch_normalization_8 (Batch (None, 16, 16, 128)       512       \n",
            "_________________________________________________________________\n",
            "global_max_pooling2d_1 (Glob (None, 128)               0         \n",
            "_________________________________________________________________\n",
            "dropout_1 (Dropout)          (None, 128)               0         \n",
            "_________________________________________________________________\n",
            "dense_1 (Dense)              (None, 10)                1290      \n",
            "_________________________________________________________________\n",
            "activation_10 (Activation)   (None, 10)                0         \n",
            "=================================================================\n",
            "Total params: 179,418\n",
            "Trainable params: 178,554\n",
            "Non-trainable params: 864\n",
            "_________________________________________________________________\n"
          ],
          "name": "stdout"
        }
      ]
    },
    {
      "metadata": {
        "id": "uGe730cANZ3E",
        "colab_type": "code",
        "colab": {
          "autoexec": {
            "startup": false,
            "wait_interval": 0
          }
        }
      },
      "cell_type": "code",
      "source": [
        "opt = keras.optimizers.Adamax(lr=0.001)\n",
        "model2.compile(loss='categorical_crossentropy',\n",
        "              optimizer=opt,\n",
        "              metrics=['accuracy'])"
      ],
      "execution_count": 0,
      "outputs": []
    },
    {
      "metadata": {
        "id": "h2ADtM2WNket",
        "colab_type": "code",
        "colab": {
          "autoexec": {
            "startup": false,
            "wait_interval": 0
          },
          "base_uri": "https://localhost:8080/",
          "height": 3454
        },
        "outputId": "f14d0da9-4320-4708-ead4-2be709362b39",
        "executionInfo": {
          "status": "ok",
          "timestamp": 1524684976002,
          "user_tz": 240,
          "elapsed": 2623536,
          "user": {
            "displayName": "Shweta Tatiya",
            "photoUrl": "//lh6.googleusercontent.com/--0dIBF4_Y4c/AAAAAAAAAAI/AAAAAAAAAM4/bnIXv4rqGwQ/s50-c-k-no/photo.jpg",
            "userId": "101219336158955273157"
          }
        }
      },
      "cell_type": "code",
      "source": [
        " m2=model2.fit(x_train, y_train,\n",
        "              batch_size=500,\n",
        "              epochs=100,\n",
        "              validation_data=(x_test, y_test),\n",
        "              shuffle=True)"
      ],
      "execution_count": 7,
      "outputs": [
        {
          "output_type": "stream",
          "text": [
            "Train on 50000 samples, validate on 10000 samples\n",
            "Epoch 1/100\n",
            "50000/50000 [==============================] - 30s 595us/step - loss: 2.7217 - acc: 0.2389 - val_loss: 2.2400 - val_acc: 0.2671\n",
            "Epoch 2/100\n",
            "50000/50000 [==============================] - 26s 525us/step - loss: 2.0312 - acc: 0.3137 - val_loss: 1.8252 - val_acc: 0.3603\n",
            "Epoch 3/100\n",
            "50000/50000 [==============================] - 26s 525us/step - loss: 1.8613 - acc: 0.3566 - val_loss: 1.7192 - val_acc: 0.4011\n",
            "Epoch 4/100\n",
            "11500/50000 [=====>........................] - ETA: 18s - loss: 1.7880 - acc: 0.3731"
          ],
          "name": "stdout"
        },
        {
          "output_type": "stream",
          "text": [
            "50000/50000 [==============================] - 26s 525us/step - loss: 1.7538 - acc: 0.3859 - val_loss: 1.6115 - val_acc: 0.4158\n",
            "Epoch 5/100\n",
            "50000/50000 [==============================] - 26s 525us/step - loss: 1.6668 - acc: 0.4223 - val_loss: 1.5265 - val_acc: 0.4641\n",
            "Epoch 6/100\n",
            "50000/50000 [==============================] - 26s 525us/step - loss: 1.5851 - acc: 0.4486 - val_loss: 1.5301 - val_acc: 0.4509\n",
            "Epoch 7/100\n",
            "33500/50000 [===================>..........] - ETA: 8s - loss: 1.5138 - acc: 0.4765"
          ],
          "name": "stdout"
        },
        {
          "output_type": "stream",
          "text": [
            "50000/50000 [==============================] - 26s 525us/step - loss: 1.5071 - acc: 0.4786 - val_loss: 1.5846 - val_acc: 0.4421\n",
            "Epoch 8/100\n",
            "50000/50000 [==============================] - 26s 526us/step - loss: 1.4356 - acc: 0.5034 - val_loss: 1.3607 - val_acc: 0.5248\n",
            "Epoch 9/100\n",
            "50000/50000 [==============================] - 26s 524us/step - loss: 1.3569 - acc: 0.5341 - val_loss: 1.3665 - val_acc: 0.5227\n",
            "Epoch 10/100\n",
            "37000/50000 [=====================>........] - ETA: 6s - loss: 1.3066 - acc: 0.5502"
          ],
          "name": "stdout"
        },
        {
          "output_type": "stream",
          "text": [
            "50000/50000 [==============================] - 26s 526us/step - loss: 1.3033 - acc: 0.5534 - val_loss: 1.2892 - val_acc: 0.5445\n",
            "Epoch 11/100\n",
            "50000/50000 [==============================] - 26s 525us/step - loss: 1.2665 - acc: 0.5692 - val_loss: 1.3116 - val_acc: 0.5368\n",
            "Epoch 12/100\n",
            "50000/50000 [==============================] - 26s 525us/step - loss: 1.2027 - acc: 0.5903 - val_loss: 1.4024 - val_acc: 0.5029\n",
            "Epoch 13/100\n",
            "37000/50000 [=====================>........] - ETA: 6s - loss: 1.1588 - acc: 0.6069"
          ],
          "name": "stdout"
        },
        {
          "output_type": "stream",
          "text": [
            "50000/50000 [==============================] - 26s 525us/step - loss: 1.1635 - acc: 0.6053 - val_loss: 1.1926 - val_acc: 0.5993\n",
            "Epoch 14/100\n",
            "50000/50000 [==============================] - 26s 525us/step - loss: 1.1197 - acc: 0.6207 - val_loss: 1.0558 - val_acc: 0.6349\n",
            "Epoch 15/100\n",
            "50000/50000 [==============================] - 26s 526us/step - loss: 1.0842 - acc: 0.6327 - val_loss: 1.0856 - val_acc: 0.6314\n",
            "Epoch 16/100\n",
            "37000/50000 [=====================>........] - ETA: 6s - loss: 1.0499 - acc: 0.6459"
          ],
          "name": "stdout"
        },
        {
          "output_type": "stream",
          "text": [
            "50000/50000 [==============================] - 26s 526us/step - loss: 1.0476 - acc: 0.6458 - val_loss: 1.0577 - val_acc: 0.6344\n",
            "Epoch 17/100\n",
            "50000/50000 [==============================] - 26s 525us/step - loss: 1.0249 - acc: 0.6557 - val_loss: 1.0126 - val_acc: 0.6446\n",
            "Epoch 18/100\n",
            "50000/50000 [==============================] - 26s 526us/step - loss: 1.0087 - acc: 0.6653 - val_loss: 0.9861 - val_acc: 0.6614\n",
            "Epoch 19/100\n",
            "37000/50000 [=====================>........] - ETA: 6s - loss: 0.9604 - acc: 0.6770"
          ],
          "name": "stdout"
        },
        {
          "output_type": "stream",
          "text": [
            "50000/50000 [==============================] - 26s 527us/step - loss: 0.9598 - acc: 0.6777 - val_loss: 1.1167 - val_acc: 0.6108\n",
            "Epoch 20/100\n",
            "50000/50000 [==============================] - 26s 525us/step - loss: 0.9389 - acc: 0.6850 - val_loss: 0.9956 - val_acc: 0.6590\n",
            "Epoch 21/100\n",
            "50000/50000 [==============================] - 26s 526us/step - loss: 0.9013 - acc: 0.6956 - val_loss: 1.1608 - val_acc: 0.5940\n",
            "Epoch 22/100\n",
            "37000/50000 [=====================>........] - ETA: 6s - loss: 0.8895 - acc: 0.7038"
          ],
          "name": "stdout"
        },
        {
          "output_type": "stream",
          "text": [
            "50000/50000 [==============================] - 26s 526us/step - loss: 0.9023 - acc: 0.7013 - val_loss: 0.9862 - val_acc: 0.6588\n",
            "Epoch 23/100\n",
            "50000/50000 [==============================] - 26s 525us/step - loss: 0.8621 - acc: 0.7131 - val_loss: 1.0147 - val_acc: 0.6518\n",
            "Epoch 24/100\n",
            "50000/50000 [==============================] - 26s 526us/step - loss: 0.8502 - acc: 0.7167 - val_loss: 1.0210 - val_acc: 0.6449\n",
            "Epoch 25/100\n",
            "37000/50000 [=====================>........] - ETA: 6s - loss: 0.8140 - acc: 0.7278"
          ],
          "name": "stdout"
        },
        {
          "output_type": "stream",
          "text": [
            "50000/50000 [==============================] - 26s 525us/step - loss: 0.8170 - acc: 0.7263 - val_loss: 0.9710 - val_acc: 0.6603\n",
            "Epoch 26/100\n",
            "50000/50000 [==============================] - 26s 524us/step - loss: 0.8104 - acc: 0.7285 - val_loss: 0.9695 - val_acc: 0.6672\n",
            "Epoch 27/100\n",
            "50000/50000 [==============================] - 26s 525us/step - loss: 0.7970 - acc: 0.7368 - val_loss: 1.1001 - val_acc: 0.6225\n",
            "Epoch 28/100\n",
            "37000/50000 [=====================>........] - ETA: 6s - loss: 0.7713 - acc: 0.7445"
          ],
          "name": "stdout"
        },
        {
          "output_type": "stream",
          "text": [
            "50000/50000 [==============================] - 26s 524us/step - loss: 0.7753 - acc: 0.7435 - val_loss: 0.9084 - val_acc: 0.6814\n",
            "Epoch 29/100\n",
            "50000/50000 [==============================] - 26s 525us/step - loss: 0.7554 - acc: 0.7479 - val_loss: 0.8616 - val_acc: 0.7006\n",
            "Epoch 30/100\n",
            "50000/50000 [==============================] - 26s 525us/step - loss: 0.7394 - acc: 0.7560 - val_loss: 0.8729 - val_acc: 0.6993\n",
            "Epoch 31/100\n",
            "37000/50000 [=====================>........] - ETA: 6s - loss: 0.7194 - acc: 0.7652"
          ],
          "name": "stdout"
        },
        {
          "output_type": "stream",
          "text": [
            "50000/50000 [==============================] - 26s 523us/step - loss: 0.7210 - acc: 0.7622 - val_loss: 0.9410 - val_acc: 0.6820\n",
            "Epoch 32/100\n",
            "50000/50000 [==============================] - 26s 525us/step - loss: 0.7142 - acc: 0.7624 - val_loss: 0.8752 - val_acc: 0.7042\n",
            "Epoch 33/100\n",
            "50000/50000 [==============================] - 26s 525us/step - loss: 0.6896 - acc: 0.7704 - val_loss: 0.8540 - val_acc: 0.7096\n",
            "Epoch 34/100\n",
            "37000/50000 [=====================>........] - ETA: 6s - loss: 0.6853 - acc: 0.7743"
          ],
          "name": "stdout"
        },
        {
          "output_type": "stream",
          "text": [
            "50000/50000 [==============================] - 26s 524us/step - loss: 0.6886 - acc: 0.7720 - val_loss: 0.9459 - val_acc: 0.6900\n",
            "Epoch 35/100\n",
            "50000/50000 [==============================] - 26s 523us/step - loss: 0.6742 - acc: 0.7762 - val_loss: 0.8260 - val_acc: 0.7225\n",
            "Epoch 36/100\n",
            "50000/50000 [==============================] - 26s 523us/step - loss: 0.6532 - acc: 0.7836 - val_loss: 0.8414 - val_acc: 0.7146\n",
            "Epoch 37/100\n",
            "37000/50000 [=====================>........] - ETA: 6s - loss: 0.6370 - acc: 0.7895"
          ],
          "name": "stdout"
        },
        {
          "output_type": "stream",
          "text": [
            "50000/50000 [==============================] - 26s 521us/step - loss: 0.6432 - acc: 0.7867 - val_loss: 0.8683 - val_acc: 0.7068\n",
            "Epoch 38/100\n",
            "50000/50000 [==============================] - 26s 521us/step - loss: 0.6222 - acc: 0.7928 - val_loss: 0.8627 - val_acc: 0.7120\n",
            "Epoch 39/100\n",
            "50000/50000 [==============================] - 26s 518us/step - loss: 0.6164 - acc: 0.7958 - val_loss: 0.8654 - val_acc: 0.7083\n",
            "Epoch 40/100\n",
            "37000/50000 [=====================>........] - ETA: 6s - loss: 0.6181 - acc: 0.7979"
          ],
          "name": "stdout"
        },
        {
          "output_type": "stream",
          "text": [
            "50000/50000 [==============================] - 26s 520us/step - loss: 0.6137 - acc: 0.7984 - val_loss: 0.8825 - val_acc: 0.7084\n",
            "Epoch 41/100\n",
            "50000/50000 [==============================] - 26s 519us/step - loss: 0.5947 - acc: 0.8030 - val_loss: 0.8714 - val_acc: 0.7145\n",
            "Epoch 42/100\n",
            "50000/50000 [==============================] - 26s 520us/step - loss: 0.5793 - acc: 0.8077 - val_loss: 0.8503 - val_acc: 0.7179\n",
            "Epoch 43/100\n",
            "37000/50000 [=====================>........] - ETA: 6s - loss: 0.5684 - acc: 0.8120"
          ],
          "name": "stdout"
        },
        {
          "output_type": "stream",
          "text": [
            "50000/50000 [==============================] - 26s 519us/step - loss: 0.5705 - acc: 0.8105 - val_loss: 0.8428 - val_acc: 0.7186\n",
            "Epoch 44/100\n",
            "50000/50000 [==============================] - 26s 521us/step - loss: 0.5418 - acc: 0.8197 - val_loss: 0.8835 - val_acc: 0.7137\n",
            "Epoch 45/100\n",
            "50000/50000 [==============================] - 26s 520us/step - loss: 0.5398 - acc: 0.8215 - val_loss: 0.8697 - val_acc: 0.7178\n",
            "Epoch 46/100\n",
            "37000/50000 [=====================>........] - ETA: 6s - loss: 0.5279 - acc: 0.8275"
          ],
          "name": "stdout"
        },
        {
          "output_type": "stream",
          "text": [
            "50000/50000 [==============================] - 26s 520us/step - loss: 0.5387 - acc: 0.8246 - val_loss: 0.8239 - val_acc: 0.7293\n",
            "Epoch 47/100\n",
            "50000/50000 [==============================] - 26s 520us/step - loss: 0.5173 - acc: 0.8270 - val_loss: 0.9065 - val_acc: 0.7008\n",
            "Epoch 48/100\n",
            "50000/50000 [==============================] - 26s 520us/step - loss: 0.5169 - acc: 0.8290 - val_loss: 0.9256 - val_acc: 0.7094\n",
            "Epoch 49/100\n",
            "37000/50000 [=====================>........] - ETA: 6s - loss: 0.4953 - acc: 0.8335"
          ],
          "name": "stdout"
        },
        {
          "output_type": "stream",
          "text": [
            "50000/50000 [==============================] - 26s 523us/step - loss: 0.4995 - acc: 0.8325 - val_loss: 0.8917 - val_acc: 0.7191\n",
            "Epoch 50/100\n",
            "50000/50000 [==============================] - 26s 524us/step - loss: 0.4953 - acc: 0.8355 - val_loss: 0.8998 - val_acc: 0.7071\n",
            "Epoch 51/100\n",
            "50000/50000 [==============================] - 26s 524us/step - loss: 0.4797 - acc: 0.8402 - val_loss: 0.8765 - val_acc: 0.7209\n",
            "Epoch 52/100\n",
            "37000/50000 [=====================>........] - ETA: 6s - loss: 0.4678 - acc: 0.8437"
          ],
          "name": "stdout"
        },
        {
          "output_type": "stream",
          "text": [
            "50000/50000 [==============================] - 26s 524us/step - loss: 0.4737 - acc: 0.8417 - val_loss: 0.9030 - val_acc: 0.7139\n",
            "Epoch 53/100\n",
            "50000/50000 [==============================] - 26s 525us/step - loss: 0.4658 - acc: 0.8437 - val_loss: 0.9782 - val_acc: 0.7011\n",
            "Epoch 54/100\n",
            "50000/50000 [==============================] - 26s 524us/step - loss: 0.4711 - acc: 0.8461 - val_loss: 0.9022 - val_acc: 0.7129\n",
            "Epoch 55/100\n",
            "37000/50000 [=====================>........] - ETA: 6s - loss: 0.4182 - acc: 0.8600"
          ],
          "name": "stdout"
        },
        {
          "output_type": "stream",
          "text": [
            "50000/50000 [==============================] - 26s 523us/step - loss: 0.4255 - acc: 0.8582 - val_loss: 0.8751 - val_acc: 0.7292\n",
            "Epoch 56/100\n",
            "50000/50000 [==============================] - 26s 525us/step - loss: 0.4115 - acc: 0.8648 - val_loss: 0.9018 - val_acc: 0.7282\n",
            "Epoch 57/100\n",
            "50000/50000 [==============================] - 26s 524us/step - loss: 0.3965 - acc: 0.8692 - val_loss: 0.9216 - val_acc: 0.7212\n",
            "Epoch 58/100\n",
            "37000/50000 [=====================>........] - ETA: 6s - loss: 0.3978 - acc: 0.8695"
          ],
          "name": "stdout"
        },
        {
          "output_type": "stream",
          "text": [
            "50000/50000 [==============================] - 26s 523us/step - loss: 0.4010 - acc: 0.8674 - val_loss: 0.8957 - val_acc: 0.7211\n",
            "Epoch 59/100\n",
            "50000/50000 [==============================] - 26s 522us/step - loss: 0.4008 - acc: 0.8694 - val_loss: 0.8922 - val_acc: 0.7294\n",
            "Epoch 60/100\n",
            "50000/50000 [==============================] - 26s 521us/step - loss: 0.3806 - acc: 0.8737 - val_loss: 0.9328 - val_acc: 0.7221\n",
            "Epoch 61/100\n",
            "37000/50000 [=====================>........] - ETA: 6s - loss: 0.3675 - acc: 0.8782"
          ],
          "name": "stdout"
        },
        {
          "output_type": "stream",
          "text": [
            "50000/50000 [==============================] - 26s 522us/step - loss: 0.3802 - acc: 0.8752 - val_loss: 1.0151 - val_acc: 0.7102\n",
            "Epoch 62/100\n",
            "50000/50000 [==============================] - 26s 523us/step - loss: 0.3780 - acc: 0.8764 - val_loss: 1.0079 - val_acc: 0.7107\n",
            "Epoch 63/100\n",
            "50000/50000 [==============================] - 26s 521us/step - loss: 0.3594 - acc: 0.8817 - val_loss: 0.9184 - val_acc: 0.7265\n",
            "Epoch 64/100\n",
            "37000/50000 [=====================>........] - ETA: 6s - loss: 0.3429 - acc: 0.8888"
          ],
          "name": "stdout"
        },
        {
          "output_type": "stream",
          "text": [
            "50000/50000 [==============================] - 26s 520us/step - loss: 0.3457 - acc: 0.8878 - val_loss: 0.9391 - val_acc: 0.7306\n",
            "Epoch 65/100\n",
            "50000/50000 [==============================] - 26s 520us/step - loss: 0.3554 - acc: 0.8839 - val_loss: 0.9826 - val_acc: 0.7257\n",
            "Epoch 66/100\n",
            "50000/50000 [==============================] - 26s 522us/step - loss: 0.3493 - acc: 0.8868 - val_loss: 0.9278 - val_acc: 0.7331\n",
            "Epoch 67/100\n",
            "37000/50000 [=====================>........] - ETA: 6s - loss: 0.3215 - acc: 0.8928"
          ],
          "name": "stdout"
        },
        {
          "output_type": "stream",
          "text": [
            "50000/50000 [==============================] - 26s 523us/step - loss: 0.3316 - acc: 0.8899 - val_loss: 0.9802 - val_acc: 0.7279\n",
            "Epoch 68/100\n",
            "50000/50000 [==============================] - 26s 522us/step - loss: 0.3312 - acc: 0.8919 - val_loss: 1.0673 - val_acc: 0.7120\n",
            "Epoch 69/100\n",
            "50000/50000 [==============================] - 26s 524us/step - loss: 0.3458 - acc: 0.8882 - val_loss: 1.0504 - val_acc: 0.7164\n",
            "Epoch 70/100\n",
            "37000/50000 [=====================>........] - ETA: 6s - loss: 0.3143 - acc: 0.8992"
          ],
          "name": "stdout"
        },
        {
          "output_type": "stream",
          "text": [
            "50000/50000 [==============================] - 26s 524us/step - loss: 0.3193 - acc: 0.8971 - val_loss: 1.0095 - val_acc: 0.7230\n",
            "Epoch 71/100\n",
            "50000/50000 [==============================] - 26s 524us/step - loss: 0.3278 - acc: 0.8927 - val_loss: 1.0450 - val_acc: 0.7199\n",
            "Epoch 72/100\n",
            "50000/50000 [==============================] - 26s 523us/step - loss: 0.3216 - acc: 0.8937 - val_loss: 1.0245 - val_acc: 0.7288\n",
            "Epoch 73/100\n",
            "37000/50000 [=====================>........] - ETA: 6s - loss: 0.3085 - acc: 0.9001"
          ],
          "name": "stdout"
        },
        {
          "output_type": "stream",
          "text": [
            "50000/50000 [==============================] - 26s 525us/step - loss: 0.3122 - acc: 0.8988 - val_loss: 1.0573 - val_acc: 0.7188\n",
            "Epoch 74/100\n",
            "50000/50000 [==============================] - 26s 524us/step - loss: 0.3107 - acc: 0.8982 - val_loss: 1.0379 - val_acc: 0.7243\n",
            "Epoch 75/100\n",
            "50000/50000 [==============================] - 26s 523us/step - loss: 0.3206 - acc: 0.8961 - val_loss: 1.0556 - val_acc: 0.7121\n",
            "Epoch 76/100\n",
            "37000/50000 [=====================>........] - ETA: 6s - loss: 0.2933 - acc: 0.9049"
          ],
          "name": "stdout"
        },
        {
          "output_type": "stream",
          "text": [
            "50000/50000 [==============================] - 26s 525us/step - loss: 0.2937 - acc: 0.9052 - val_loss: 1.0262 - val_acc: 0.7242\n",
            "Epoch 77/100\n",
            "50000/50000 [==============================] - 26s 524us/step - loss: 0.2899 - acc: 0.9051 - val_loss: 1.0520 - val_acc: 0.7197\n",
            "Epoch 78/100\n",
            "50000/50000 [==============================] - 26s 524us/step - loss: 0.2759 - acc: 0.9104 - val_loss: 1.1084 - val_acc: 0.7111\n",
            "Epoch 79/100\n",
            "37000/50000 [=====================>........] - ETA: 6s - loss: 0.2844 - acc: 0.9076"
          ],
          "name": "stdout"
        },
        {
          "output_type": "stream",
          "text": [
            "50000/50000 [==============================] - 26s 523us/step - loss: 0.2884 - acc: 0.9063 - val_loss: 1.0845 - val_acc: 0.7215\n",
            "Epoch 80/100\n",
            "50000/50000 [==============================] - 26s 523us/step - loss: 0.2841 - acc: 0.9081 - val_loss: 1.1923 - val_acc: 0.7036\n",
            "Epoch 81/100\n",
            "50000/50000 [==============================] - 26s 524us/step - loss: 0.2747 - acc: 0.9133 - val_loss: 1.1102 - val_acc: 0.7205\n",
            "Epoch 82/100\n",
            "37000/50000 [=====================>........] - ETA: 6s - loss: 0.2626 - acc: 0.9167"
          ],
          "name": "stdout"
        },
        {
          "output_type": "stream",
          "text": [
            "50000/50000 [==============================] - 26s 525us/step - loss: 0.2701 - acc: 0.9139 - val_loss: 1.1932 - val_acc: 0.7043\n",
            "Epoch 83/100\n",
            "50000/50000 [==============================] - 26s 524us/step - loss: 0.2674 - acc: 0.9145 - val_loss: 1.0597 - val_acc: 0.7236\n",
            "Epoch 84/100\n",
            "50000/50000 [==============================] - 26s 524us/step - loss: 0.2701 - acc: 0.9133 - val_loss: 1.1421 - val_acc: 0.7052\n",
            "Epoch 85/100\n",
            "37000/50000 [=====================>........] - ETA: 6s - loss: 0.2880 - acc: 0.9073"
          ],
          "name": "stdout"
        },
        {
          "output_type": "stream",
          "text": [
            "50000/50000 [==============================] - 26s 524us/step - loss: 0.2854 - acc: 0.9079 - val_loss: 1.0853 - val_acc: 0.7234\n",
            "Epoch 86/100\n",
            "50000/50000 [==============================] - 26s 523us/step - loss: 0.2410 - acc: 0.9246 - val_loss: 1.0496 - val_acc: 0.7274\n",
            "Epoch 87/100\n",
            "50000/50000 [==============================] - 26s 524us/step - loss: 0.2390 - acc: 0.9261 - val_loss: 1.0994 - val_acc: 0.7211\n",
            "Epoch 88/100\n",
            "37000/50000 [=====================>........] - ETA: 6s - loss: 0.2388 - acc: 0.9254"
          ],
          "name": "stdout"
        },
        {
          "output_type": "stream",
          "text": [
            "50000/50000 [==============================] - 26s 524us/step - loss: 0.2432 - acc: 0.9236 - val_loss: 1.1027 - val_acc: 0.7288\n",
            "Epoch 89/100\n",
            "50000/50000 [==============================] - 26s 524us/step - loss: 0.2452 - acc: 0.9227 - val_loss: 1.2095 - val_acc: 0.7120\n",
            "Epoch 90/100\n",
            "50000/50000 [==============================] - 26s 524us/step - loss: 0.2531 - acc: 0.9190 - val_loss: 1.1250 - val_acc: 0.7229\n",
            "Epoch 91/100\n",
            "37000/50000 [=====================>........] - ETA: 6s - loss: 0.2475 - acc: 0.9230"
          ],
          "name": "stdout"
        },
        {
          "output_type": "stream",
          "text": [
            "50000/50000 [==============================] - 26s 523us/step - loss: 0.2508 - acc: 0.9217 - val_loss: 1.2448 - val_acc: 0.7104\n",
            "Epoch 92/100\n",
            "50000/50000 [==============================] - 26s 524us/step - loss: 0.2455 - acc: 0.9217 - val_loss: 1.1193 - val_acc: 0.7240\n",
            "Epoch 93/100\n",
            "50000/50000 [==============================] - 26s 525us/step - loss: 0.2315 - acc: 0.9272 - val_loss: 1.1374 - val_acc: 0.7199\n",
            "Epoch 94/100\n",
            "37000/50000 [=====================>........] - ETA: 6s - loss: 0.2316 - acc: 0.9260"
          ],
          "name": "stdout"
        },
        {
          "output_type": "stream",
          "text": [
            "50000/50000 [==============================] - 26s 524us/step - loss: 0.2366 - acc: 0.9244 - val_loss: 1.1674 - val_acc: 0.7236\n",
            "Epoch 95/100\n",
            "50000/50000 [==============================] - 26s 524us/step - loss: 0.2268 - acc: 0.9282 - val_loss: 1.1184 - val_acc: 0.7278\n",
            "Epoch 96/100\n",
            "50000/50000 [==============================] - 26s 525us/step - loss: 0.2259 - acc: 0.9281 - val_loss: 1.2109 - val_acc: 0.7162\n",
            "Epoch 97/100\n",
            "37000/50000 [=====================>........] - ETA: 6s - loss: 0.2164 - acc: 0.9322"
          ],
          "name": "stdout"
        },
        {
          "output_type": "stream",
          "text": [
            "50000/50000 [==============================] - 26s 524us/step - loss: 0.2208 - acc: 0.9300 - val_loss: 1.1597 - val_acc: 0.7214\n",
            "Epoch 98/100\n",
            "50000/50000 [==============================] - 26s 524us/step - loss: 0.2313 - acc: 0.9278 - val_loss: 1.2048 - val_acc: 0.7255\n",
            "Epoch 99/100\n",
            "50000/50000 [==============================] - 26s 525us/step - loss: 0.2328 - acc: 0.9264 - val_loss: 1.1866 - val_acc: 0.7192\n",
            "Epoch 100/100\n",
            "37000/50000 [=====================>........] - ETA: 6s - loss: 0.2144 - acc: 0.9331"
          ],
          "name": "stdout"
        },
        {
          "output_type": "stream",
          "text": [
            "50000/50000 [==============================] - 26s 524us/step - loss: 0.2222 - acc: 0.9301 - val_loss: 1.1459 - val_acc: 0.7293\n"
          ],
          "name": "stdout"
        }
      ]
    },
    {
      "metadata": {
        "id": "PrU7r_9UT1pA",
        "colab_type": "code",
        "colab": {
          "autoexec": {
            "startup": false,
            "wait_interval": 0
          },
          "base_uri": "https://localhost:8080/",
          "height": 405
        },
        "outputId": "dc4f863d-3a8e-49ea-c019-0d1c0fced3cd",
        "executionInfo": {
          "status": "ok",
          "timestamp": 1524685403697,
          "user_tz": 240,
          "elapsed": 441,
          "user": {
            "displayName": "Shweta Tatiya",
            "photoUrl": "//lh6.googleusercontent.com/--0dIBF4_Y4c/AAAAAAAAAAI/AAAAAAAAAM4/bnIXv4rqGwQ/s50-c-k-no/photo.jpg",
            "userId": "101219336158955273157"
          }
        }
      },
      "cell_type": "code",
      "source": [
        "plt.figure(figsize=(10,6))\n",
        "sb.set_style(\"whitegrid\")\n",
        "plt.plot(m2.history['acc'],color=\"#E74C3C\",marker='o')\n",
        "plt.plot(m2.history['val_acc'],color='#641E16',marker='h')\n",
        "plt.title('Accuracy comparison between Validation and Train Data set',fontsize=15)\n",
        "plt.ylabel('Accuracy')\n",
        "plt.xlabel('Epoch')\n",
        "plt.legend(['Train', 'Test'], loc='best')\n",
        "plt.show()"
      ],
      "execution_count": 15,
      "outputs": [
        {
          "output_type": "display_data",
          "data": {
            "image/png": "[encoded data removed]",
            "text/plain": [
              "<matplotlib.figure.Figure at 0x7f8e6a9e8588>"
            ]
          },
          "metadata": {
            "tags": []
          }
        }
      ]
    },
    {
      "metadata": {
        "id": "ll8m17erUPE5",
        "colab_type": "code",
        "colab": {
          "autoexec": {
            "startup": false,
            "wait_interval": 0
          },
          "base_uri": "https://localhost:8080/",
          "height": 405
        },
        "outputId": "c14a1a11-df12-4722-bd4f-8f3144c57bed",
        "executionInfo": {
          "status": "ok",
          "timestamp": 1524685178427,
          "user_tz": 240,
          "elapsed": 406,
          "user": {
            "displayName": "Shweta Tatiya",
            "photoUrl": "//lh6.googleusercontent.com/--0dIBF4_Y4c/AAAAAAAAAAI/AAAAAAAAAM4/bnIXv4rqGwQ/s50-c-k-no/photo.jpg",
            "userId": "101219336158955273157"
          }
        }
      },
      "cell_type": "code",
      "source": [
        "plt.figure(figsize=(10,6))\n",
        "sb.set_style(\"whitegrid\")\n",
        "plt.plot(m2.history['loss'],color=\"#E74C3C\",marker='o')\n",
        "plt.plot(m2.history['val_loss'],color='#641E16',marker='h')\n",
        "plt.title('Loss comparison between Validation and Train Data set',fontsize=15)\n",
        "plt.ylabel('Accuracy')\n",
        "plt.xlabel('Epoch')\n",
        "plt.legend(['Train', 'Test'], loc='best')\n",
        "plt.show()"
      ],
      "execution_count": 14,
      "outputs": [
        {
          "output_type": "display_data",
          "data": {
            "image/png": "[encoded data removed]",
            "text/plain": [
              "<matplotlib.figure.Figure at 0x7f8e6aac1fd0>"
            ]
          },
          "metadata": {
            "tags": []
          }
        }
      ]
    },
    {
      "metadata": {
        "id": "Bd564xsvR1zC",
        "colab_type": "text"
      },
      "cell_type": "markdown",
      "source": [
        "CASE 3-tanh,softmax,epchs-100,adamax\n",
        "\n"
      ]
    },
    {
      "metadata": {
        "id": "gEqpFKf6UYnv",
        "colab_type": "code",
        "colab": {
          "autoexec": {
            "startup": false,
            "wait_interval": 0
          },
          "base_uri": "https://localhost:8080/",
          "height": 782
        },
        "outputId": "49c740b0-bebe-4bc0-d066-417b4d867fb6",
        "executionInfo": {
          "status": "ok",
          "timestamp": 1524669327853,
          "user_tz": 240,
          "elapsed": 326,
          "user": {
            "displayName": "Shweta Tatiya",
            "photoUrl": "//lh6.googleusercontent.com/--0dIBF4_Y4c/AAAAAAAAAAI/AAAAAAAAAM4/bnIXv4rqGwQ/s50-c-k-no/photo.jpg",
            "userId": "101219336158955273157"
          }
        }
      },
      "cell_type": "code",
      "source": [
        "model3 = Sequential()\n",
        "\n",
        "model3.add(Conv2D(32, (3, 3),kernel_initializer='glorot_uniform',\n",
        "                 input_shape=x_train.shape[1:]))\n",
        "model3.add(Activation('tanh'))\n",
        "model3.add(Conv2D(32, (3, 3),kernel_initializer='glorot_uniform',\n",
        "                 input_shape=x_train.shape[1:]))\n",
        "model3.add(Activation('tanh'))\n",
        "model3.add(Conv2D(32, (3, 3),kernel_initializer='glorot_uniform',\n",
        "                 input_shape=x_train.shape[1:]))\n",
        "model3.add(Activation('tanh'))\n",
        "model3.add(Conv2D(48, (3, 3),kernel_initializer='glorot_uniform',\n",
        "                 input_shape=x_train.shape[1:]))\n",
        "model3.add(Activation('tanh'))\n",
        "model3.add(Conv2D(48, (3, 3),kernel_initializer='glorot_uniform',\n",
        "                 input_shape=x_train.shape[1:]))\n",
        "model3.add(Activation('tanh'))\n",
        "model3.add(Conv2D(48, (3, 3),kernel_initializer='glorot_uniform',\n",
        "                 input_shape=x_train.shape[1:]))\n",
        "model3.add(Activation('tanh'))\n",
        "model3.add(Conv2D(48, (3, 3),kernel_initializer='glorot_uniform',\n",
        "                 input_shape=x_train.shape[1:]))\n",
        "model3.add(Activation('tanh'))\n",
        "model3.add(GlobalMaxPooling2D())\n",
        "model3.add(Dense(500))\n",
        "model3.add(Dropout(0.25))\n",
        "model3.add(Dense(num_classes))\n",
        "model3.add(Activation('softmax'))\n",
        "model3.summary()"
      ],
      "execution_count": 21,
      "outputs": [
        {
          "output_type": "stream",
          "text": [
            "_________________________________________________________________\n",
            "Layer (type)                 Output Shape              Param #   \n",
            "=================================================================\n",
            "conv2d_31 (Conv2D)           (None, 30, 30, 32)        896       \n",
            "_________________________________________________________________\n",
            "activation_36 (Activation)   (None, 30, 30, 32)        0         \n",
            "_________________________________________________________________\n",
            "conv2d_32 (Conv2D)           (None, 28, 28, 32)        9248      \n",
            "_________________________________________________________________\n",
            "activation_37 (Activation)   (None, 28, 28, 32)        0         \n",
            "_________________________________________________________________\n",
            "conv2d_33 (Conv2D)           (None, 26, 26, 32)        9248      \n",
            "_________________________________________________________________\n",
            "activation_38 (Activation)   (None, 26, 26, 32)        0         \n",
            "_________________________________________________________________\n",
            "conv2d_34 (Conv2D)           (None, 24, 24, 48)        13872     \n",
            "_________________________________________________________________\n",
            "activation_39 (Activation)   (None, 24, 24, 48)        0         \n",
            "_________________________________________________________________\n",
            "conv2d_35 (Conv2D)           (None, 22, 22, 48)        20784     \n",
            "_________________________________________________________________\n",
            "activation_40 (Activation)   (None, 22, 22, 48)        0         \n",
            "_________________________________________________________________\n",
            "conv2d_36 (Conv2D)           (None, 20, 20, 48)        20784     \n",
            "_________________________________________________________________\n",
            "activation_41 (Activation)   (None, 20, 20, 48)        0         \n",
            "_________________________________________________________________\n",
            "conv2d_37 (Conv2D)           (None, 18, 18, 48)        20784     \n",
            "_________________________________________________________________\n",
            "activation_42 (Activation)   (None, 18, 18, 48)        0         \n",
            "_________________________________________________________________\n",
            "global_max_pooling2d_6 (Glob (None, 48)                0         \n",
            "_________________________________________________________________\n",
            "dense_8 (Dense)              (None, 500)               24500     \n",
            "_________________________________________________________________\n",
            "dropout_6 (Dropout)          (None, 500)               0         \n",
            "_________________________________________________________________\n",
            "dense_9 (Dense)              (None, 10)                5010      \n",
            "_________________________________________________________________\n",
            "activation_43 (Activation)   (None, 10)                0         \n",
            "=================================================================\n",
            "Total params: 125,126\n",
            "Trainable params: 125,126\n",
            "Non-trainable params: 0\n",
            "_________________________________________________________________\n"
          ],
          "name": "stdout"
        }
      ]
    },
    {
      "metadata": {
        "id": "1XhosmVzVFxB",
        "colab_type": "code",
        "colab": {
          "autoexec": {
            "startup": false,
            "wait_interval": 0
          }
        }
      },
      "cell_type": "code",
      "source": [
        "#opt = keras.optimizers.Adam(lr=0.0001)\n",
        "model3.compile(loss='categorical_crossentropy',\n",
        "              optimizer=\"Adamax\",\n",
        "              metrics=['accuracy'])"
      ],
      "execution_count": 0,
      "outputs": []
    },
    {
      "metadata": {
        "id": "_6o397mjVHsv",
        "colab_type": "code",
        "colab": {
          "autoexec": {
            "startup": false,
            "wait_interval": 0
          },
          "base_uri": "https://localhost:8080/",
          "height": 5154
        },
        "outputId": "3aa73b9e-bd8e-428f-b5a7-5a34cb6d0d6c",
        "executionInfo": {
          "status": "ok",
          "timestamp": 1524674680757,
          "user_tz": 240,
          "elapsed": 5343169,
          "user": {
            "displayName": "Shweta Tatiya",
            "photoUrl": "//lh6.googleusercontent.com/--0dIBF4_Y4c/AAAAAAAAAAI/AAAAAAAAAM4/bnIXv4rqGwQ/s50-c-k-no/photo.jpg",
            "userId": "101219336158955273157"
          }
        }
      },
      "cell_type": "code",
      "source": [
        " m3=model3.fit(x_train, y_train,\n",
        "              batch_size=batch_size,\n",
        "              epochs=150,\n",
        "              validation_data=(x_test, y_test),\n",
        "              shuffle=True)"
      ],
      "execution_count": 23,
      "outputs": [
        {
          "output_type": "stream",
          "text": [
            "Train on 50000 samples, validate on 10000 samples\n",
            "Epoch 1/150\n",
            "50000/50000 [==============================] - 37s 742us/step - loss: 1.7332 - acc: 0.3505 - val_loss: 1.4506 - val_acc: 0.4750\n",
            "Epoch 2/150\n",
            " 6112/50000 [==>...........................] - ETA: 30s - loss: 1.4781 - acc: 0.4705"
          ],
          "name": "stdout"
        },
        {
          "output_type": "stream",
          "text": [
            "50000/50000 [==============================] - 36s 719us/step - loss: 1.4132 - acc: 0.4896 - val_loss: 1.3632 - val_acc: 0.5064\n",
            "Epoch 3/150\n",
            "24320/50000 [=============>................] - ETA: 17s - loss: 1.3259 - acc: 0.5214"
          ],
          "name": "stdout"
        },
        {
          "output_type": "stream",
          "text": [
            "50000/50000 [==============================] - 37s 734us/step - loss: 1.3091 - acc: 0.5268 - val_loss: 1.2772 - val_acc: 0.5359\n",
            "Epoch 4/150\n",
            "30560/50000 [=================>............] - ETA: 13s - loss: 1.2524 - acc: 0.5508\b\b\b\b\b\b\b\b\b\b\b\b\b\b\b\b\b\b\b\b\b\b\b\b\b\b\b\b\b\b\b\b\b\b\b\b\b\b\b\b\b\b\b\b\b\b\b\b\b\b\b\b\b\b\b\b\b\b\b\b\b\b\b\b\b\b\b\b\b\b\b\b\b\b\b\b\b\b\b\b\b\b\b\b"
          ],
          "name": "stdout"
        },
        {
          "output_type": "stream",
          "text": [
            "50000/50000 [==============================] - 37s 735us/step - loss: 1.2491 - acc: 0.5541 - val_loss: 1.2356 - val_acc: 0.5493\n",
            "Epoch 5/150\n",
            "32896/50000 [==================>...........] - ETA: 11s - loss: 1.2010 - acc: 0.5704"
          ],
          "name": "stdout"
        },
        {
          "output_type": "stream",
          "text": [
            "50000/50000 [==============================] - 37s 734us/step - loss: 1.2018 - acc: 0.5705 - val_loss: 1.2132 - val_acc: 0.5597\n",
            "Epoch 6/150\n",
            "33728/50000 [===================>..........] - ETA: 11s - loss: 1.1656 - acc: 0.5835"
          ],
          "name": "stdout"
        },
        {
          "output_type": "stream",
          "text": [
            "50000/50000 [==============================] - 37s 737us/step - loss: 1.1600 - acc: 0.5862 - val_loss: 1.1594 - val_acc: 0.5774\n",
            "Epoch 7/150\n",
            "33088/50000 [==================>...........] - ETA: 11s - loss: 1.1302 - acc: 0.5957"
          ],
          "name": "stdout"
        },
        {
          "output_type": "stream",
          "text": [
            "50000/50000 [==============================] - 37s 731us/step - loss: 1.1372 - acc: 0.5933 - val_loss: 1.2183 - val_acc: 0.5637\n",
            "Epoch 8/150\n",
            "33792/50000 [===================>..........] - ETA: 11s - loss: 1.1199 - acc: 0.5998"
          ],
          "name": "stdout"
        },
        {
          "output_type": "stream",
          "text": [
            "50000/50000 [==============================] - 37s 735us/step - loss: 1.1180 - acc: 0.6015 - val_loss: 1.1442 - val_acc: 0.5883\n",
            "Epoch 9/150\n",
            "34176/50000 [===================>..........] - ETA: 10s - loss: 1.0735 - acc: 0.6180"
          ],
          "name": "stdout"
        },
        {
          "output_type": "stream",
          "text": [
            "50000/50000 [==============================] - 37s 735us/step - loss: 1.0856 - acc: 0.6138 - val_loss: 1.1529 - val_acc: 0.5908\n",
            "Epoch 10/150\n",
            "33408/50000 [===================>..........] - ETA: 11s - loss: 1.0584 - acc: 0.6228"
          ],
          "name": "stdout"
        },
        {
          "output_type": "stream",
          "text": [
            "50000/50000 [==============================] - 37s 739us/step - loss: 1.0673 - acc: 0.6209 - val_loss: 1.1790 - val_acc: 0.5752\n",
            "Epoch 11/150\n",
            "32736/50000 [==================>...........] - ETA: 12s - loss: 1.0457 - acc: 0.6242"
          ],
          "name": "stdout"
        },
        {
          "output_type": "stream",
          "text": [
            "50000/50000 [==============================] - 37s 739us/step - loss: 1.0530 - acc: 0.6230 - val_loss: 1.1270 - val_acc: 0.5934\n",
            "Epoch 12/150\n",
            "32832/50000 [==================>...........] - ETA: 12s - loss: 1.0262 - acc: 0.6353"
          ],
          "name": "stdout"
        },
        {
          "output_type": "stream",
          "text": [
            "50000/50000 [==============================] - 37s 740us/step - loss: 1.0301 - acc: 0.6339 - val_loss: 1.0872 - val_acc: 0.6110\n",
            "Epoch 13/150\n",
            "33568/50000 [===================>..........] - ETA: 11s - loss: 1.0024 - acc: 0.6453"
          ],
          "name": "stdout"
        },
        {
          "output_type": "stream",
          "text": [
            "50000/50000 [==============================] - 37s 737us/step - loss: 1.0082 - acc: 0.6426 - val_loss: 1.1133 - val_acc: 0.6100\n",
            "Epoch 14/150\n",
            "33632/50000 [===================>..........] - ETA: 11s - loss: 0.9963 - acc: 0.6480"
          ],
          "name": "stdout"
        },
        {
          "output_type": "stream",
          "text": [
            "50000/50000 [==============================] - 37s 736us/step - loss: 1.0020 - acc: 0.6445 - val_loss: 1.1256 - val_acc: 0.6012\n",
            "Epoch 15/150\n",
            "33312/50000 [==================>...........] - ETA: 11s - loss: 0.9786 - acc: 0.6515"
          ],
          "name": "stdout"
        },
        {
          "output_type": "stream",
          "text": [
            "50000/50000 [==============================] - 37s 735us/step - loss: 0.9872 - acc: 0.6489 - val_loss: 1.1042 - val_acc: 0.6061\n",
            "Epoch 16/150\n",
            "33856/50000 [===================>..........] - ETA: 11s - loss: 0.9669 - acc: 0.6544"
          ],
          "name": "stdout"
        },
        {
          "output_type": "stream",
          "text": [
            "50000/50000 [==============================] - 37s 732us/step - loss: 0.9682 - acc: 0.6551 - val_loss: 1.0983 - val_acc: 0.6069\n",
            "Epoch 17/150\n",
            "35520/50000 [====================>.........] - ETA: 9s - loss: 0.9458 - acc: 0.6661"
          ],
          "name": "stdout"
        },
        {
          "output_type": "stream",
          "text": [
            "50000/50000 [==============================] - 36s 719us/step - loss: 0.9508 - acc: 0.6647 - val_loss: 1.0853 - val_acc: 0.6132\n",
            "Epoch 18/150\n",
            "34592/50000 [===================>..........] - ETA: 10s - loss: 0.9461 - acc: 0.6632"
          ],
          "name": "stdout"
        },
        {
          "output_type": "stream",
          "text": [
            "50000/50000 [==============================] - 36s 726us/step - loss: 0.9513 - acc: 0.6603 - val_loss: 1.1052 - val_acc: 0.6074\n",
            "Epoch 19/150\n",
            "35200/50000 [====================>.........] - ETA: 10s - loss: 0.9318 - acc: 0.6671"
          ],
          "name": "stdout"
        },
        {
          "output_type": "stream",
          "text": [
            "50000/50000 [==============================] - 36s 724us/step - loss: 0.9412 - acc: 0.6638 - val_loss: 1.1025 - val_acc: 0.6094\n",
            "Epoch 20/150\n",
            "35392/50000 [====================>.........] - ETA: 9s - loss: 0.9180 - acc: 0.6718 "
          ],
          "name": "stdout"
        },
        {
          "output_type": "stream",
          "text": [
            "50000/50000 [==============================] - 36s 722us/step - loss: 0.9329 - acc: 0.6663 - val_loss: 1.0922 - val_acc: 0.6146\n",
            "Epoch 21/150\n",
            "35424/50000 [====================>.........] - ETA: 9s - loss: 0.9153 - acc: 0.6758 "
          ],
          "name": "stdout"
        },
        {
          "output_type": "stream",
          "text": [
            "50000/50000 [==============================] - 36s 718us/step - loss: 0.9188 - acc: 0.6745 - val_loss: 1.0929 - val_acc: 0.6135\n",
            "Epoch 22/150\n",
            "36704/50000 [=====================>........] - ETA: 8s - loss: 0.8989 - acc: 0.6828"
          ],
          "name": "stdout"
        },
        {
          "output_type": "stream",
          "text": [
            "50000/50000 [==============================] - 35s 703us/step - loss: 0.9010 - acc: 0.6817 - val_loss: 1.1108 - val_acc: 0.6108\n",
            "Epoch 23/150\n",
            "36768/50000 [=====================>........] - ETA: 8s - loss: 0.8886 - acc: 0.6829"
          ],
          "name": "stdout"
        },
        {
          "output_type": "stream",
          "text": [
            "50000/50000 [==============================] - 35s 698us/step - loss: 0.8871 - acc: 0.6836 - val_loss: 1.0895 - val_acc: 0.6151\n",
            "Epoch 24/150\n",
            "36928/50000 [=====================>........] - ETA: 8s - loss: 0.8648 - acc: 0.6928"
          ],
          "name": "stdout"
        },
        {
          "output_type": "stream",
          "text": [
            "50000/50000 [==============================] - 35s 700us/step - loss: 0.8711 - acc: 0.6911 - val_loss: 1.0915 - val_acc: 0.6168\n",
            "Epoch 25/150\n",
            "36928/50000 [=====================>........] - ETA: 8s - loss: 0.8710 - acc: 0.6912"
          ],
          "name": "stdout"
        },
        {
          "output_type": "stream",
          "text": [
            "50000/50000 [==============================] - 35s 704us/step - loss: 0.8810 - acc: 0.6873 - val_loss: 1.0925 - val_acc: 0.6093\n",
            "Epoch 26/150\n",
            "37184/50000 [=====================>........] - ETA: 8s - loss: 0.8652 - acc: 0.6961"
          ],
          "name": "stdout"
        },
        {
          "output_type": "stream",
          "text": [
            "50000/50000 [==============================] - 35s 698us/step - loss: 0.8719 - acc: 0.6934 - val_loss: 1.1113 - val_acc: 0.6155\n",
            "Epoch 27/150\n",
            "37120/50000 [=====================>........] - ETA: 8s - loss: 0.8575 - acc: 0.6954"
          ],
          "name": "stdout"
        },
        {
          "output_type": "stream",
          "text": [
            "50000/50000 [==============================] - 35s 699us/step - loss: 0.8644 - acc: 0.6927 - val_loss: 1.1085 - val_acc: 0.6183\n",
            "Epoch 28/150\n",
            "37632/50000 [=====================>........] - ETA: 8s - loss: 0.8455 - acc: 0.6979"
          ],
          "name": "stdout"
        },
        {
          "output_type": "stream",
          "text": [
            "50000/50000 [==============================] - 35s 696us/step - loss: 0.8557 - acc: 0.6946 - val_loss: 1.0921 - val_acc: 0.6150\n",
            "Epoch 29/150\n",
            "37632/50000 [=====================>........] - ETA: 8s - loss: 0.8500 - acc: 0.6963"
          ],
          "name": "stdout"
        },
        {
          "output_type": "stream",
          "text": [
            "50000/50000 [==============================] - 35s 693us/step - loss: 0.8560 - acc: 0.6948 - val_loss: 1.1189 - val_acc: 0.6097\n",
            "Epoch 30/150\n",
            "37376/50000 [=====================>........] - ETA: 8s - loss: 0.8436 - acc: 0.6990"
          ],
          "name": "stdout"
        },
        {
          "output_type": "stream",
          "text": [
            "50000/50000 [==============================] - 35s 694us/step - loss: 0.8490 - acc: 0.6966 - val_loss: 1.1115 - val_acc: 0.6104\n",
            "Epoch 31/150\n",
            "36896/50000 [=====================>........] - ETA: 8s - loss: 0.8346 - acc: 0.7014"
          ],
          "name": "stdout"
        },
        {
          "output_type": "stream",
          "text": [
            "50000/50000 [==============================] - 35s 703us/step - loss: 0.8386 - acc: 0.6992 - val_loss: 1.1045 - val_acc: 0.6184\n",
            "Epoch 32/150\n",
            "37248/50000 [=====================>........] - ETA: 8s - loss: 0.8256 - acc: 0.7044"
          ],
          "name": "stdout"
        },
        {
          "output_type": "stream",
          "text": [
            "50000/50000 [==============================] - 35s 698us/step - loss: 0.8316 - acc: 0.7035 - val_loss: 1.0868 - val_acc: 0.6230\n",
            "Epoch 33/150\n",
            "37216/50000 [=====================>........] - ETA: 8s - loss: 0.8248 - acc: 0.7055"
          ],
          "name": "stdout"
        },
        {
          "output_type": "stream",
          "text": [
            "50000/50000 [==============================] - 34s 688us/step - loss: 0.8320 - acc: 0.7028 - val_loss: 1.0914 - val_acc: 0.6149\n",
            "Epoch 34/150\n",
            "37312/50000 [=====================>........] - ETA: 8s - loss: 0.8228 - acc: 0.7081"
          ],
          "name": "stdout"
        },
        {
          "output_type": "stream",
          "text": [
            "50000/50000 [==============================] - 35s 701us/step - loss: 0.8255 - acc: 0.7071 - val_loss: 1.0897 - val_acc: 0.6286\n",
            "Epoch 35/150\n",
            "37376/50000 [=====================>........] - ETA: 8s - loss: 0.8040 - acc: 0.7124"
          ],
          "name": "stdout"
        },
        {
          "output_type": "stream",
          "text": [
            "50000/50000 [==============================] - 35s 699us/step - loss: 0.8084 - acc: 0.7120 - val_loss: 1.1154 - val_acc: 0.6197\n",
            "Epoch 36/150\n",
            "37312/50000 [=====================>........] - ETA: 8s - loss: 0.7987 - acc: 0.7153"
          ],
          "name": "stdout"
        },
        {
          "output_type": "stream",
          "text": [
            "50000/50000 [==============================] - 35s 698us/step - loss: 0.8107 - acc: 0.7115 - val_loss: 1.0895 - val_acc: 0.6266\n",
            "Epoch 37/150\n",
            "36544/50000 [====================>.........] - ETA: 8s - loss: 0.7944 - acc: 0.7180"
          ],
          "name": "stdout"
        },
        {
          "output_type": "stream",
          "text": [
            "50000/50000 [==============================] - 35s 702us/step - loss: 0.8015 - acc: 0.7154 - val_loss: 1.0812 - val_acc: 0.6256\n",
            "Epoch 38/150\n",
            "35872/50000 [====================>.........] - ETA: 9s - loss: 0.7890 - acc: 0.7185"
          ],
          "name": "stdout"
        },
        {
          "output_type": "stream",
          "text": [
            "50000/50000 [==============================] - 36s 723us/step - loss: 0.8016 - acc: 0.7147 - val_loss: 1.0735 - val_acc: 0.6334\n",
            "Epoch 39/150\n",
            "35488/50000 [====================>.........] - ETA: 9s - loss: 0.7971 - acc: 0.7148"
          ],
          "name": "stdout"
        },
        {
          "output_type": "stream",
          "text": [
            "50000/50000 [==============================] - 36s 719us/step - loss: 0.8053 - acc: 0.7125 - val_loss: 1.1179 - val_acc: 0.6178\n",
            "Epoch 40/150\n",
            "35584/50000 [====================>.........] - ETA: 9s - loss: 0.7785 - acc: 0.7216"
          ],
          "name": "stdout"
        },
        {
          "output_type": "stream",
          "text": [
            "50000/50000 [==============================] - 36s 726us/step - loss: 0.7876 - acc: 0.7190 - val_loss: 1.1343 - val_acc: 0.6159\n",
            "Epoch 41/150\n",
            "34816/50000 [===================>..........] - ETA: 10s - loss: 0.7789 - acc: 0.7222"
          ],
          "name": "stdout"
        },
        {
          "output_type": "stream",
          "text": [
            "50000/50000 [==============================] - 37s 730us/step - loss: 0.7935 - acc: 0.7167 - val_loss: 1.1017 - val_acc: 0.6269\n",
            "Epoch 42/150\n",
            "34688/50000 [===================>..........] - ETA: 10s - loss: 0.7845 - acc: 0.7198"
          ],
          "name": "stdout"
        },
        {
          "output_type": "stream",
          "text": [
            "50000/50000 [==============================] - 36s 722us/step - loss: 0.7944 - acc: 0.7165 - val_loss: 1.1130 - val_acc: 0.6181\n",
            "Epoch 43/150\n",
            "34976/50000 [===================>..........] - ETA: 10s - loss: 0.7750 - acc: 0.7224"
          ],
          "name": "stdout"
        },
        {
          "output_type": "stream",
          "text": [
            "50000/50000 [==============================] - 36s 718us/step - loss: 0.7840 - acc: 0.7194 - val_loss: 1.1316 - val_acc: 0.6132\n",
            "Epoch 44/150\n",
            "36064/50000 [====================>.........] - ETA: 9s - loss: 0.7775 - acc: 0.7222"
          ],
          "name": "stdout"
        },
        {
          "output_type": "stream",
          "text": [
            "50000/50000 [==============================] - 35s 703us/step - loss: 0.7864 - acc: 0.7186 - val_loss: 1.1774 - val_acc: 0.6043\n",
            "Epoch 45/150\n",
            "37344/50000 [=====================>........] - ETA: 8s - loss: 0.7748 - acc: 0.7224"
          ],
          "name": "stdout"
        },
        {
          "output_type": "stream",
          "text": [
            "50000/50000 [==============================] - 35s 692us/step - loss: 0.7828 - acc: 0.7205 - val_loss: 1.1111 - val_acc: 0.6247\n",
            "Epoch 46/150\n",
            "37376/50000 [=====================>........] - ETA: 8s - loss: 0.7794 - acc: 0.7231"
          ],
          "name": "stdout"
        },
        {
          "output_type": "stream",
          "text": [
            "50000/50000 [==============================] - 35s 701us/step - loss: 0.7829 - acc: 0.7211 - val_loss: 1.1437 - val_acc: 0.6142\n",
            "Epoch 47/150\n",
            "37440/50000 [=====================>........] - ETA: 8s - loss: 0.7758 - acc: 0.7246"
          ],
          "name": "stdout"
        },
        {
          "output_type": "stream",
          "text": [
            "50000/50000 [==============================] - 35s 703us/step - loss: 0.7811 - acc: 0.7207 - val_loss: 1.1416 - val_acc: 0.6089\n",
            "Epoch 48/150\n",
            "36448/50000 [====================>.........] - ETA: 9s - loss: 0.7610 - acc: 0.7274"
          ],
          "name": "stdout"
        },
        {
          "output_type": "stream",
          "text": [
            "50000/50000 [==============================] - 35s 708us/step - loss: 0.7693 - acc: 0.7243 - val_loss: 1.1619 - val_acc: 0.6121\n",
            "Epoch 49/150\n",
            "37088/50000 [=====================>........] - ETA: 8s - loss: 0.7562 - acc: 0.7313"
          ],
          "name": "stdout"
        },
        {
          "output_type": "stream",
          "text": [
            "50000/50000 [==============================] - 35s 702us/step - loss: 0.7624 - acc: 0.7293 - val_loss: 1.1195 - val_acc: 0.6215\n",
            "Epoch 50/150\n",
            "37120/50000 [=====================>........] - ETA: 8s - loss: 0.7562 - acc: 0.7307"
          ],
          "name": "stdout"
        },
        {
          "output_type": "stream",
          "text": [
            "50000/50000 [==============================] - 35s 701us/step - loss: 0.7627 - acc: 0.7278 - val_loss: 1.1293 - val_acc: 0.6220\n",
            "Epoch 51/150\n",
            "37024/50000 [=====================>........] - ETA: 8s - loss: 0.7559 - acc: 0.7310"
          ],
          "name": "stdout"
        },
        {
          "output_type": "stream",
          "text": [
            "50000/50000 [==============================] - 35s 709us/step - loss: 0.7620 - acc: 0.7286 - val_loss: 1.1413 - val_acc: 0.6198\n",
            "Epoch 52/150\n",
            "36992/50000 [=====================>........] - ETA: 8s - loss: 0.7448 - acc: 0.7353"
          ],
          "name": "stdout"
        },
        {
          "output_type": "stream",
          "text": [
            "50000/50000 [==============================] - 35s 702us/step - loss: 0.7552 - acc: 0.7294 - val_loss: 1.1354 - val_acc: 0.6138\n",
            "Epoch 53/150\n",
            "37408/50000 [=====================>........] - ETA: 8s - loss: 0.7527 - acc: 0.7321"
          ],
          "name": "stdout"
        },
        {
          "output_type": "stream",
          "text": [
            "50000/50000 [==============================] - 35s 702us/step - loss: 0.7612 - acc: 0.7289 - val_loss: 1.1878 - val_acc: 0.6014\n",
            "Epoch 54/150\n",
            "36640/50000 [====================>.........] - ETA: 8s - loss: 0.7441 - acc: 0.7334"
          ],
          "name": "stdout"
        },
        {
          "output_type": "stream",
          "text": [
            "50000/50000 [==============================] - 35s 702us/step - loss: 0.7522 - acc: 0.7308 - val_loss: 1.1280 - val_acc: 0.6223\n",
            "Epoch 55/150\n",
            "36064/50000 [====================>.........] - ETA: 9s - loss: 0.7422 - acc: 0.7353"
          ],
          "name": "stdout"
        },
        {
          "output_type": "stream",
          "text": [
            "50000/50000 [==============================] - 36s 722us/step - loss: 0.7468 - acc: 0.7342 - val_loss: 1.1297 - val_acc: 0.6145\n",
            "Epoch 56/150\n",
            "34528/50000 [===================>..........] - ETA: 10s - loss: 0.7272 - acc: 0.7376"
          ],
          "name": "stdout"
        },
        {
          "output_type": "stream",
          "text": [
            "50000/50000 [==============================] - 37s 732us/step - loss: 0.7389 - acc: 0.7349 - val_loss: 1.1400 - val_acc: 0.6186\n",
            "Epoch 57/150\n",
            "34560/50000 [===================>..........] - ETA: 10s - loss: 0.7356 - acc: 0.7366"
          ],
          "name": "stdout"
        },
        {
          "output_type": "stream",
          "text": [
            "50000/50000 [==============================] - 37s 732us/step - loss: 0.7397 - acc: 0.7347 - val_loss: 1.1426 - val_acc: 0.6233\n",
            "Epoch 58/150\n",
            "33888/50000 [===================>..........] - ETA: 11s - loss: 0.7339 - acc: 0.7344"
          ],
          "name": "stdout"
        },
        {
          "output_type": "stream",
          "text": [
            "50000/50000 [==============================] - 37s 734us/step - loss: 0.7432 - acc: 0.7316 - val_loss: 1.1355 - val_acc: 0.6231\n",
            "Epoch 59/150\n",
            "34048/50000 [===================>..........] - ETA: 11s - loss: 0.7302 - acc: 0.7391"
          ],
          "name": "stdout"
        },
        {
          "output_type": "stream",
          "text": [
            "50000/50000 [==============================] - 37s 734us/step - loss: 0.7423 - acc: 0.7333 - val_loss: 1.1513 - val_acc: 0.6171\n",
            "Epoch 60/150\n",
            "34016/50000 [===================>..........] - ETA: 11s - loss: 0.7262 - acc: 0.7402"
          ],
          "name": "stdout"
        },
        {
          "output_type": "stream",
          "text": [
            "50000/50000 [==============================] - 37s 735us/step - loss: 0.7368 - acc: 0.7359 - val_loss: 1.1647 - val_acc: 0.6157\n",
            "Epoch 61/150\n",
            "34208/50000 [===================>..........] - ETA: 10s - loss: 0.7305 - acc: 0.7395"
          ],
          "name": "stdout"
        },
        {
          "output_type": "stream",
          "text": [
            "50000/50000 [==============================] - 37s 731us/step - loss: 0.7389 - acc: 0.7358 - val_loss: 1.1472 - val_acc: 0.6184\n",
            "Epoch 62/150\n",
            "34304/50000 [===================>..........] - ETA: 10s - loss: 0.7209 - acc: 0.7439"
          ],
          "name": "stdout"
        },
        {
          "output_type": "stream",
          "text": [
            "50000/50000 [==============================] - 37s 730us/step - loss: 0.7347 - acc: 0.7372 - val_loss: 1.1490 - val_acc: 0.6135\n",
            "Epoch 63/150\n",
            "33600/50000 [===================>..........] - ETA: 11s - loss: 0.7239 - acc: 0.7401"
          ],
          "name": "stdout"
        },
        {
          "output_type": "stream",
          "text": [
            "50000/50000 [==============================] - 37s 737us/step - loss: 0.7340 - acc: 0.7374 - val_loss: 1.1373 - val_acc: 0.6211\n",
            "Epoch 64/150\n",
            "33376/50000 [===================>..........] - ETA: 11s - loss: 0.7259 - acc: 0.7401"
          ],
          "name": "stdout"
        },
        {
          "output_type": "stream",
          "text": [
            "50000/50000 [==============================] - 37s 736us/step - loss: 0.7316 - acc: 0.7375 - val_loss: 1.1420 - val_acc: 0.6166\n",
            "Epoch 65/150\n",
            "34112/50000 [===================>..........] - ETA: 10s - loss: 0.7195 - acc: 0.7428"
          ],
          "name": "stdout"
        },
        {
          "output_type": "stream",
          "text": [
            "50000/50000 [==============================] - 37s 732us/step - loss: 0.7283 - acc: 0.7386 - val_loss: 1.1401 - val_acc: 0.6208\n",
            "Epoch 66/150\n",
            "34688/50000 [===================>..........] - ETA: 10s - loss: 0.7171 - acc: 0.7415"
          ],
          "name": "stdout"
        },
        {
          "output_type": "stream",
          "text": [
            "50000/50000 [==============================] - 36s 729us/step - loss: 0.7279 - acc: 0.7379 - val_loss: 1.1634 - val_acc: 0.6182\n",
            "Epoch 67/150\n",
            "33984/50000 [===================>..........] - ETA: 11s - loss: 0.7088 - acc: 0.7474"
          ],
          "name": "stdout"
        },
        {
          "output_type": "stream",
          "text": [
            "50000/50000 [==============================] - 37s 734us/step - loss: 0.7206 - acc: 0.7425 - val_loss: 1.1263 - val_acc: 0.6239\n",
            "Epoch 68/150\n",
            "34112/50000 [===================>..........] - ETA: 11s - loss: 0.7165 - acc: 0.7447"
          ],
          "name": "stdout"
        },
        {
          "output_type": "stream",
          "text": [
            "50000/50000 [==============================] - 37s 732us/step - loss: 0.7286 - acc: 0.7397 - val_loss: 1.1897 - val_acc: 0.6122\n",
            "Epoch 69/150\n",
            "34336/50000 [===================>..........] - ETA: 10s - loss: 0.7160 - acc: 0.7430"
          ],
          "name": "stdout"
        },
        {
          "output_type": "stream",
          "text": [
            "50000/50000 [==============================] - 36s 729us/step - loss: 0.7191 - acc: 0.7426 - val_loss: 1.1593 - val_acc: 0.6155\n",
            "Epoch 70/150\n",
            "34496/50000 [===================>..........] - ETA: 10s - loss: 0.7196 - acc: 0.7425"
          ],
          "name": "stdout"
        },
        {
          "output_type": "stream",
          "text": [
            "50000/50000 [==============================] - 36s 729us/step - loss: 0.7309 - acc: 0.7381 - val_loss: 1.1351 - val_acc: 0.6201\n",
            "Epoch 71/150\n",
            "35808/50000 [====================>.........] - ETA: 9s - loss: 0.7200 - acc: 0.7432"
          ],
          "name": "stdout"
        },
        {
          "output_type": "stream",
          "text": [
            "50000/50000 [==============================] - 35s 696us/step - loss: 0.7320 - acc: 0.7382 - val_loss: 1.1414 - val_acc: 0.6204\n",
            "Epoch 72/150\n",
            "36928/50000 [=====================>........] - ETA: 8s - loss: 0.7241 - acc: 0.7398"
          ],
          "name": "stdout"
        },
        {
          "output_type": "stream",
          "text": [
            "50000/50000 [==============================] - 35s 692us/step - loss: 0.7281 - acc: 0.7392 - val_loss: 1.1405 - val_acc: 0.6149\n",
            "Epoch 73/150\n",
            "37344/50000 [=====================>........] - ETA: 8s - loss: 0.7125 - acc: 0.7456"
          ],
          "name": "stdout"
        },
        {
          "output_type": "stream",
          "text": [
            "50000/50000 [==============================] - 35s 698us/step - loss: 0.7246 - acc: 0.7405 - val_loss: 1.1449 - val_acc: 0.6220\n",
            "Epoch 74/150\n",
            "37600/50000 [=====================>........] - ETA: 8s - loss: 0.7329 - acc: 0.7377"
          ],
          "name": "stdout"
        },
        {
          "output_type": "stream",
          "text": [
            "50000/50000 [==============================] - 35s 697us/step - loss: 0.7382 - acc: 0.7349 - val_loss: 1.1375 - val_acc: 0.6182\n",
            "Epoch 75/150\n",
            "36928/50000 [=====================>........] - ETA: 8s - loss: 0.7142 - acc: 0.7435"
          ],
          "name": "stdout"
        },
        {
          "output_type": "stream",
          "text": [
            "50000/50000 [==============================] - 35s 709us/step - loss: 0.7267 - acc: 0.7385 - val_loss: 1.1517 - val_acc: 0.6211\n",
            "Epoch 76/150\n",
            "36704/50000 [=====================>........] - ETA: 8s - loss: 0.7243 - acc: 0.7392"
          ],
          "name": "stdout"
        },
        {
          "output_type": "stream",
          "text": [
            "50000/50000 [==============================] - 35s 703us/step - loss: 0.7364 - acc: 0.7353 - val_loss: 1.1259 - val_acc: 0.6249\n",
            "Epoch 77/150\n",
            "37120/50000 [=====================>........] - ETA: 8s - loss: 0.7293 - acc: 0.7410"
          ],
          "name": "stdout"
        },
        {
          "output_type": "stream",
          "text": [
            "50000/50000 [==============================] - 35s 698us/step - loss: 0.7360 - acc: 0.7376 - val_loss: 1.1561 - val_acc: 0.6189\n",
            "Epoch 78/150\n",
            "37664/50000 [=====================>........] - ETA: 7s - loss: 0.7253 - acc: 0.7396"
          ],
          "name": "stdout"
        },
        {
          "output_type": "stream",
          "text": [
            "50000/50000 [==============================] - 34s 682us/step - loss: 0.7367 - acc: 0.7349 - val_loss: 1.1594 - val_acc: 0.6156\n",
            "Epoch 79/150\n",
            "37920/50000 [=====================>........] - ETA: 7s - loss: 0.7268 - acc: 0.7409"
          ],
          "name": "stdout"
        },
        {
          "output_type": "stream",
          "text": [
            "50000/50000 [==============================] - 34s 687us/step - loss: 0.7323 - acc: 0.7384 - val_loss: 1.1774 - val_acc: 0.6115\n",
            "Epoch 80/150\n",
            "37248/50000 [=====================>........] - ETA: 8s - loss: 0.7326 - acc: 0.7408"
          ],
          "name": "stdout"
        },
        {
          "output_type": "stream",
          "text": [
            "50000/50000 [==============================] - 35s 698us/step - loss: 0.7407 - acc: 0.7350 - val_loss: 1.1415 - val_acc: 0.6194\n",
            "Epoch 81/150\n",
            "37152/50000 [=====================>........] - ETA: 8s - loss: 0.7275 - acc: 0.7402"
          ],
          "name": "stdout"
        },
        {
          "output_type": "stream",
          "text": [
            "50000/50000 [==============================] - 35s 697us/step - loss: 0.7304 - acc: 0.7393 - val_loss: 1.1604 - val_acc: 0.6168\n",
            "Epoch 82/150\n",
            "37568/50000 [=====================>........] - ETA: 8s - loss: 0.7218 - acc: 0.7412"
          ],
          "name": "stdout"
        },
        {
          "output_type": "stream",
          "text": [
            "50000/50000 [==============================] - 35s 699us/step - loss: 0.7289 - acc: 0.7388 - val_loss: 1.1343 - val_acc: 0.6210\n",
            "Epoch 83/150\n",
            "37344/50000 [=====================>........] - ETA: 8s - loss: 0.7267 - acc: 0.7396"
          ],
          "name": "stdout"
        },
        {
          "output_type": "stream",
          "text": [
            "50000/50000 [==============================] - 35s 693us/step - loss: 0.7347 - acc: 0.7374 - val_loss: 1.1248 - val_acc: 0.6157\n",
            "Epoch 84/150\n",
            "37056/50000 [=====================>........] - ETA: 8s - loss: 0.7162 - acc: 0.7403"
          ],
          "name": "stdout"
        },
        {
          "output_type": "stream",
          "text": [
            "50000/50000 [==============================] - 35s 699us/step - loss: 0.7234 - acc: 0.7388 - val_loss: 1.1447 - val_acc: 0.6193\n",
            "Epoch 85/150\n",
            "37536/50000 [=====================>........] - ETA: 8s - loss: 0.7322 - acc: 0.7365"
          ],
          "name": "stdout"
        },
        {
          "output_type": "stream",
          "text": [
            "50000/50000 [==============================] - 35s 691us/step - loss: 0.7369 - acc: 0.7357 - val_loss: 1.1189 - val_acc: 0.6210\n",
            "Epoch 86/150\n",
            "37632/50000 [=====================>........] - ETA: 8s - loss: 0.7390 - acc: 0.7371"
          ],
          "name": "stdout"
        },
        {
          "output_type": "stream",
          "text": [
            "50000/50000 [==============================] - 35s 693us/step - loss: 0.7441 - acc: 0.7336 - val_loss: 1.1310 - val_acc: 0.6233\n",
            "Epoch 87/150\n",
            "37472/50000 [=====================>........] - ETA: 8s - loss: 0.7271 - acc: 0.7372"
          ],
          "name": "stdout"
        },
        {
          "output_type": "stream",
          "text": [
            "50000/50000 [==============================] - 35s 692us/step - loss: 0.7394 - acc: 0.7332 - val_loss: 1.1515 - val_acc: 0.6163\n",
            "Epoch 88/150\n",
            "36416/50000 [====================>.........] - ETA: 9s - loss: 0.7294 - acc: 0.7385"
          ],
          "name": "stdout"
        },
        {
          "output_type": "stream",
          "text": [
            "50000/50000 [==============================] - 36s 716us/step - loss: 0.7332 - acc: 0.7373 - val_loss: 1.1725 - val_acc: 0.6098\n",
            "Epoch 89/150\n",
            "35520/50000 [====================>.........] - ETA: 9s - loss: 0.7260 - acc: 0.7393"
          ],
          "name": "stdout"
        },
        {
          "output_type": "stream",
          "text": [
            "50000/50000 [==============================] - 36s 718us/step - loss: 0.7400 - acc: 0.7347 - val_loss: 1.1228 - val_acc: 0.6245\n",
            "Epoch 90/150\n",
            "35328/50000 [====================>.........] - ETA: 9s - loss: 0.7300 - acc: 0.7376 "
          ],
          "name": "stdout"
        },
        {
          "output_type": "stream",
          "text": [
            "50000/50000 [==============================] - 36s 720us/step - loss: 0.7381 - acc: 0.7338 - val_loss: 1.1486 - val_acc: 0.6153\n",
            "Epoch 91/150\n",
            "35200/50000 [====================>.........] - ETA: 10s - loss: 0.7370 - acc: 0.7357"
          ],
          "name": "stdout"
        },
        {
          "output_type": "stream",
          "text": [
            "50000/50000 [==============================] - 36s 713us/step - loss: 0.7415 - acc: 0.7342 - val_loss: 1.1491 - val_acc: 0.6201\n",
            "Epoch 92/150\n",
            "35776/50000 [====================>.........] - ETA: 9s - loss: 0.7350 - acc: 0.7383"
          ],
          "name": "stdout"
        },
        {
          "output_type": "stream",
          "text": [
            "50000/50000 [==============================] - 36s 712us/step - loss: 0.7456 - acc: 0.7349 - val_loss: 1.1773 - val_acc: 0.6119\n",
            "Epoch 93/150\n",
            "36864/50000 [=====================>........] - ETA: 8s - loss: 0.7374 - acc: 0.7359"
          ],
          "name": "stdout"
        },
        {
          "output_type": "stream",
          "text": [
            "50000/50000 [==============================] - 35s 692us/step - loss: 0.7430 - acc: 0.7347 - val_loss: 1.1517 - val_acc: 0.6146\n",
            "Epoch 94/150\n",
            "37344/50000 [=====================>........] - ETA: 8s - loss: 0.7365 - acc: 0.7351"
          ],
          "name": "stdout"
        },
        {
          "output_type": "stream",
          "text": [
            "50000/50000 [==============================] - 35s 696us/step - loss: 0.7431 - acc: 0.7330 - val_loss: 1.1342 - val_acc: 0.6134\n",
            "Epoch 95/150\n",
            "37504/50000 [=====================>........] - ETA: 8s - loss: 0.7452 - acc: 0.7319"
          ],
          "name": "stdout"
        },
        {
          "output_type": "stream",
          "text": [
            "50000/50000 [==============================] - 35s 693us/step - loss: 0.7475 - acc: 0.7311 - val_loss: 1.1430 - val_acc: 0.6191\n",
            "Epoch 96/150\n",
            "37504/50000 [=====================>........] - ETA: 8s - loss: 0.7391 - acc: 0.7353"
          ],
          "name": "stdout"
        },
        {
          "output_type": "stream",
          "text": [
            "50000/50000 [==============================] - 35s 692us/step - loss: 0.7449 - acc: 0.7328 - val_loss: 1.1653 - val_acc: 0.6166\n",
            "Epoch 97/150\n",
            "37536/50000 [=====================>........] - ETA: 8s - loss: 0.7507 - acc: 0.7315"
          ],
          "name": "stdout"
        },
        {
          "output_type": "stream",
          "text": [
            "50000/50000 [==============================] - 35s 695us/step - loss: 0.7526 - acc: 0.7311 - val_loss: 1.1402 - val_acc: 0.6179\n",
            "Epoch 98/150\n",
            "37664/50000 [=====================>........] - ETA: 8s - loss: 0.7411 - acc: 0.7341"
          ],
          "name": "stdout"
        },
        {
          "output_type": "stream",
          "text": [
            "50000/50000 [==============================] - 35s 695us/step - loss: 0.7469 - acc: 0.7323 - val_loss: 1.1602 - val_acc: 0.6123\n",
            "Epoch 99/150\n",
            "37632/50000 [=====================>........] - ETA: 8s - loss: 0.7509 - acc: 0.7336"
          ],
          "name": "stdout"
        },
        {
          "output_type": "stream",
          "text": [
            "50000/50000 [==============================] - 35s 695us/step - loss: 0.7543 - acc: 0.7310 - val_loss: 1.1481 - val_acc: 0.6157\n",
            "Epoch 100/150\n",
            "37408/50000 [=====================>........] - ETA: 8s - loss: 0.7532 - acc: 0.7328"
          ],
          "name": "stdout"
        },
        {
          "output_type": "stream",
          "text": [
            "50000/50000 [==============================] - 35s 703us/step - loss: 0.7593 - acc: 0.7302 - val_loss: 1.1539 - val_acc: 0.6138\n",
            "Epoch 101/150\n",
            "36352/50000 [====================>.........] - ETA: 9s - loss: 0.7526 - acc: 0.7291"
          ],
          "name": "stdout"
        },
        {
          "output_type": "stream",
          "text": [
            "50000/50000 [==============================] - 35s 699us/step - loss: 0.7585 - acc: 0.7271 - val_loss: 1.1464 - val_acc: 0.6079\n",
            "Epoch 102/150\n",
            "37280/50000 [=====================>........] - ETA: 8s - loss: 0.7623 - acc: 0.7269"
          ],
          "name": "stdout"
        },
        {
          "output_type": "stream",
          "text": [
            "50000/50000 [==============================] - 34s 687us/step - loss: 0.7628 - acc: 0.7269 - val_loss: 1.1502 - val_acc: 0.6106\n",
            "Epoch 103/150\n",
            "37472/50000 [=====================>........] - ETA: 8s - loss: 0.7409 - acc: 0.7324"
          ],
          "name": "stdout"
        },
        {
          "output_type": "stream",
          "text": [
            "50000/50000 [==============================] - 34s 678us/step - loss: 0.7461 - acc: 0.7310 - val_loss: 1.1434 - val_acc: 0.6175\n",
            "Epoch 104/150\n",
            "37440/50000 [=====================>........] - ETA: 8s - loss: 0.7483 - acc: 0.7292"
          ],
          "name": "stdout"
        },
        {
          "output_type": "stream",
          "text": [
            "50000/50000 [==============================] - 34s 689us/step - loss: 0.7551 - acc: 0.7276 - val_loss: 1.1690 - val_acc: 0.6117\n",
            "Epoch 105/150\n",
            "37408/50000 [=====================>........] - ETA: 8s - loss: 0.7535 - acc: 0.7296"
          ],
          "name": "stdout"
        },
        {
          "output_type": "stream",
          "text": [
            "50000/50000 [==============================] - 35s 694us/step - loss: 0.7632 - acc: 0.7254 - val_loss: 1.1370 - val_acc: 0.6182\n",
            "Epoch 106/150\n",
            "36576/50000 [====================>.........]"
          ],
          "name": "stdout"
        },
        {
          "output_type": "stream",
          "text": [
            "50000/50000 [==============================] - 36s 712us/step - loss: 0.7593 - acc: 0.7264 - val_loss: 1.1456 - val_acc: 0.6177\n",
            "Epoch 107/150\n",
            "35552/50000 [====================>.........] - ETA: 9s - loss: 0.7578 - acc: 0.7301"
          ],
          "name": "stdout"
        },
        {
          "output_type": "stream",
          "text": [
            "50000/50000 [==============================] - 36s 716us/step - loss: 0.7648 - acc: 0.7272 - val_loss: 1.1604 - val_acc: 0.6114\n",
            "Epoch 108/150\n",
            "36064/50000 [====================>.........] - ETA: 9s - loss: 0.7695 - acc: 0.7234"
          ],
          "name": "stdout"
        },
        {
          "output_type": "stream",
          "text": [
            "50000/50000 [==============================] - 36s 712us/step - loss: 0.7702 - acc: 0.7241 - val_loss: 1.1387 - val_acc: 0.6213\n",
            "Epoch 109/150\n",
            "35232/50000 [====================>.........] - ETA: 9s - loss: 0.7548 - acc: 0.7271 "
          ],
          "name": "stdout"
        },
        {
          "output_type": "stream",
          "text": [
            "50000/50000 [==============================] - 36s 715us/step - loss: 0.7654 - acc: 0.7246 - val_loss: 1.1520 - val_acc: 0.6062\n",
            "Epoch 110/150\n",
            "35552/50000 [====================>.........] - ETA: 9s - loss: 0.7672 - acc: 0.7224"
          ],
          "name": "stdout"
        },
        {
          "output_type": "stream",
          "text": [
            "50000/50000 [==============================] - 35s 709us/step - loss: 0.7690 - acc: 0.7220 - val_loss: 1.1411 - val_acc: 0.6185\n",
            "Epoch 111/150\n",
            "35968/50000 [====================>.........] - ETA: 9s - loss: 0.7669 - acc: 0.7250"
          ],
          "name": "stdout"
        },
        {
          "output_type": "stream",
          "text": [
            "50000/50000 [==============================] - 35s 705us/step - loss: 0.7760 - acc: 0.7217 - val_loss: 1.1341 - val_acc: 0.6191\n",
            "Epoch 112/150\n",
            "36640/50000 [====================>.........] - ETA: 8s - loss: 0.7851 - acc: 0.7176"
          ],
          "name": "stdout"
        },
        {
          "output_type": "stream",
          "text": [
            "50000/50000 [==============================] - 35s 707us/step - loss: 0.7792 - acc: 0.7197 - val_loss: 1.1363 - val_acc: 0.6207\n",
            "Epoch 113/150\n",
            "36160/50000 [====================>.........] - ETA: 9s - loss: 0.7754 - acc: 0.7233"
          ],
          "name": "stdout"
        },
        {
          "output_type": "stream",
          "text": [
            "50000/50000 [==============================] - 36s 711us/step - loss: 0.7821 - acc: 0.7204 - val_loss: 1.1644 - val_acc: 0.6053\n",
            "Epoch 114/150\n",
            "36000/50000 [====================>.........] - ETA: 9s - loss: 0.7722 - acc: 0.7240"
          ],
          "name": "stdout"
        },
        {
          "output_type": "stream",
          "text": [
            "50000/50000 [==============================] - 36s 711us/step - loss: 0.7747 - acc: 0.7224 - val_loss: 1.1436 - val_acc: 0.6116\n",
            "Epoch 115/150\n",
            "36800/50000 [=====================>........] - ETA: 8s - loss: 0.7660 - acc: 0.7261"
          ],
          "name": "stdout"
        },
        {
          "output_type": "stream",
          "text": [
            "50000/50000 [==============================] - 35s 704us/step - loss: 0.7687 - acc: 0.7246 - val_loss: 1.1479 - val_acc: 0.6151\n",
            "Epoch 116/150\n",
            "37024/50000 [=====================>........] - ETA: 8s - loss: 0.7600 - acc: 0.7264"
          ],
          "name": "stdout"
        },
        {
          "output_type": "stream",
          "text": [
            "50000/50000 [==============================] - 35s 707us/step - loss: 0.7689 - acc: 0.7230 - val_loss: 1.1476 - val_acc: 0.6140\n",
            "Epoch 117/150\n",
            "36960/50000 [=====================>........] - ETA: 8s - loss: 0.7671 - acc: 0.7240"
          ],
          "name": "stdout"
        },
        {
          "output_type": "stream",
          "text": [
            "50000/50000 [==============================] - 35s 706us/step - loss: 0.7766 - acc: 0.7223 - val_loss: 1.1669 - val_acc: 0.6067\n",
            "Epoch 118/150\n",
            "37088/50000 [=====================>........] - ETA: 8s - loss: 0.7752 - acc: 0.7252"
          ],
          "name": "stdout"
        },
        {
          "output_type": "stream",
          "text": [
            "50000/50000 [==============================] - 36s 714us/step - loss: 0.7800 - acc: 0.7227 - val_loss: 1.1103 - val_acc: 0.6236\n",
            "Epoch 119/150\n",
            "36032/50000 [====================>.........] - ETA: 9s - loss: 0.7663 - acc: 0.7255"
          ],
          "name": "stdout"
        },
        {
          "output_type": "stream",
          "text": [
            "50000/50000 [==============================] - 36s 720us/step - loss: 0.7703 - acc: 0.7241 - val_loss: 1.1358 - val_acc: 0.6170\n",
            "Epoch 120/150\n",
            "36192/50000 [====================>.........] - ETA: 9s - loss: 0.7787 - acc: 0.7217"
          ],
          "name": "stdout"
        },
        {
          "output_type": "stream",
          "text": [
            "50000/50000 [==============================] - 35s 707us/step - loss: 0.7872 - acc: 0.7188 - val_loss: 1.1400 - val_acc: 0.6122\n",
            "Epoch 121/150\n",
            "36192/50000 [====================>.........] - ETA: 9s - loss: 0.7733 - acc: 0.7236"
          ],
          "name": "stdout"
        },
        {
          "output_type": "stream",
          "text": [
            "50000/50000 [==============================] - 35s 710us/step - loss: 0.7779 - acc: 0.7232 - val_loss: 1.1592 - val_acc: 0.6057\n",
            "Epoch 122/150\n",
            "35744/50000 [====================>.........] - ETA: 9s - loss: 0.7732 - acc: 0.7242"
          ],
          "name": "stdout"
        },
        {
          "output_type": "stream",
          "text": [
            "50000/50000 [==============================] - 35s 709us/step - loss: 0.7790 - acc: 0.7223 - val_loss: 1.1456 - val_acc: 0.6129\n",
            "Epoch 123/150\n",
            "36032/50000 [====================>.........] - ETA: 9s - loss: 0.7785 - acc: 0.7211"
          ],
          "name": "stdout"
        },
        {
          "output_type": "stream",
          "text": [
            "50000/50000 [==============================] - 36s 714us/step - loss: 0.7889 - acc: 0.7168 - val_loss: 1.1404 - val_acc: 0.6099\n",
            "Epoch 124/150\n",
            "34560/50000 [===================>..........] - ETA: 10s - loss: 0.7722 - acc: 0.7247"
          ],
          "name": "stdout"
        },
        {
          "output_type": "stream",
          "text": [
            "50000/50000 [==============================] - 36s 728us/step - loss: 0.7835 - acc: 0.7209 - val_loss: 1.1351 - val_acc: 0.6102\n",
            "Epoch 125/150\n",
            "35872/50000 [====================>.........] - ETA: 9s - loss: 0.7845 - acc: 0.7199"
          ],
          "name": "stdout"
        },
        {
          "output_type": "stream",
          "text": [
            "50000/50000 [==============================] - 36s 712us/step - loss: 0.7910 - acc: 0.7177 - val_loss: 1.1618 - val_acc: 0.6106\n",
            "Epoch 126/150\n",
            "36224/50000 [====================>.........] - ETA: 9s - loss: 0.7886 - acc: 0.7176"
          ],
          "name": "stdout"
        },
        {
          "output_type": "stream",
          "text": [
            "50000/50000 [==============================] - 35s 710us/step - loss: 0.7888 - acc: 0.7174 - val_loss: 1.1507 - val_acc: 0.6144\n",
            "Epoch 127/150\n",
            "36352/50000 [====================>.........] - ETA: 9s - loss: 0.7838 - acc: 0.7192"
          ],
          "name": "stdout"
        },
        {
          "output_type": "stream",
          "text": [
            "50000/50000 [==============================] - 36s 713us/step - loss: 0.7892 - acc: 0.7186 - val_loss: 1.1175 - val_acc: 0.6230\n",
            "Epoch 128/150\n",
            "36480/50000 [====================>.........] - ETA: 9s - loss: 0.7779 - acc: 0.7200"
          ],
          "name": "stdout"
        },
        {
          "output_type": "stream",
          "text": [
            "50000/50000 [==============================] - 36s 712us/step - loss: 0.7875 - acc: 0.7168 - val_loss: 1.1311 - val_acc: 0.6149\n",
            "Epoch 129/150\n",
            "34208/50000 [===================>..........] - ETA: 10s - loss: 0.7738 - acc: 0.7208"
          ],
          "name": "stdout"
        },
        {
          "output_type": "stream",
          "text": [
            "50000/50000 [==============================] - 36s 721us/step - loss: 0.7860 - acc: 0.7178 - val_loss: 1.1316 - val_acc: 0.6222\n",
            "Epoch 130/150\n",
            "34688/50000 [===================>..........] - ETA: 10s - loss: 0.7924 - acc: 0.7167"
          ],
          "name": "stdout"
        },
        {
          "output_type": "stream",
          "text": [
            "50000/50000 [==============================] - 36s 719us/step - loss: 0.7953 - acc: 0.7154 - val_loss: 1.1206 - val_acc: 0.6209\n",
            "Epoch 131/150\n",
            "34848/50000 [===================>..........] - ETA: 10s - loss: 0.7880 - acc: 0.7177"
          ],
          "name": "stdout"
        },
        {
          "output_type": "stream",
          "text": [
            "50000/50000 [==============================] - 36s 721us/step - loss: 0.7977 - acc: 0.7144 - val_loss: 1.1219 - val_acc: 0.6178\n",
            "Epoch 132/150\n",
            "35264/50000 [====================>.........] - ETA: 10s - loss: 0.7899 - acc: 0.7171"
          ],
          "name": "stdout"
        },
        {
          "output_type": "stream",
          "text": [
            "50000/50000 [==============================] - 36s 718us/step - loss: 0.7960 - acc: 0.7153 - val_loss: 1.1380 - val_acc: 0.6152\n",
            "Epoch 133/150\n",
            "35360/50000 [====================>.........] - ETA: 9s - loss: 0.7930 - acc: 0.7183"
          ],
          "name": "stdout"
        },
        {
          "output_type": "stream",
          "text": [
            "50000/50000 [==============================] - 36s 716us/step - loss: 0.8001 - acc: 0.7159 - val_loss: 1.1267 - val_acc: 0.6131\n",
            "Epoch 134/150\n",
            "35488/50000 [====================>.........] - ETA: 9s - loss: 0.7944 - acc: 0.7168"
          ],
          "name": "stdout"
        },
        {
          "output_type": "stream",
          "text": [
            "50000/50000 [==============================] - 36s 716us/step - loss: 0.7978 - acc: 0.7157 - val_loss: 1.1320 - val_acc: 0.6165\n",
            "Epoch 135/150\n",
            "35712/50000 [====================>.........] - ETA: 9s - loss: 0.7995 - acc: 0.7116"
          ],
          "name": "stdout"
        },
        {
          "output_type": "stream",
          "text": [
            "50000/50000 [==============================] - 36s 715us/step - loss: 0.8024 - acc: 0.7111 - val_loss: 1.1517 - val_acc: 0.6092\n",
            "Epoch 136/150\n",
            "34944/50000 [===================>..........] - ETA: 10s - loss: 0.8074 - acc: 0.7119"
          ],
          "name": "stdout"
        },
        {
          "output_type": "stream",
          "text": [
            "50000/50000 [==============================] - 36s 724us/step - loss: 0.8147 - acc: 0.7077 - val_loss: 1.1449 - val_acc: 0.6088\n",
            "Epoch 137/150\n",
            "34752/50000 [===================>..........] - ETA: 10s - loss: 0.7975 - acc: 0.7137"
          ],
          "name": "stdout"
        },
        {
          "output_type": "stream",
          "text": [
            "50000/50000 [==============================] - 36s 728us/step - loss: 0.8024 - acc: 0.7131 - val_loss: 1.1505 - val_acc: 0.6115\n",
            "Epoch 138/150\n",
            "35168/50000 [====================>.........] - ETA: 9s - loss: 0.8060 - acc: 0.7103 \b\b\b\b\b\b\b\b\b\b\b\b\b\b\b\b\b\b\b\b\b\b\b\b\b\b\b\b\b\b\b\b\b\b\b\b\b\b\b\b\b\b\b\b\b\b\b\b\b\b\b\b\b\b\b\b\b\b\b\b\b\b\b\b\b\b\b\b\b\b\b\b\b\b\b\b\b\b\b\b\b\b\b"
          ],
          "name": "stdout"
        },
        {
          "output_type": "stream",
          "text": [
            "50000/50000 [==============================] - 36s 712us/step - loss: 0.8074 - acc: 0.7102 - val_loss: 1.1366 - val_acc: 0.6150\n",
            "Epoch 139/150\n",
            "35104/50000 [====================>.........] - ETA: 10s - loss: 0.7988 - acc: 0.7144"
          ],
          "name": "stdout"
        },
        {
          "output_type": "stream",
          "text": [
            "50000/50000 [==============================] - 36s 714us/step - loss: 0.8066 - acc: 0.7104 - val_loss: 1.1705 - val_acc: 0.6005\n",
            "Epoch 140/150\n",
            "35168/50000 [====================>.........] - ETA: 10s - loss: 0.7994 - acc: 0.7149"
          ],
          "name": "stdout"
        },
        {
          "output_type": "stream",
          "text": [
            "50000/50000 [==============================] - 36s 713us/step - loss: 0.8086 - acc: 0.7101 - val_loss: 1.1373 - val_acc: 0.6149\n",
            "Epoch 141/150\n",
            "35872/50000 [====================>.........] - ETA: 9s - loss: 0.8014 - acc: 0.7163"
          ],
          "name": "stdout"
        },
        {
          "output_type": "stream",
          "text": [
            "50000/50000 [==============================] - 36s 713us/step - loss: 0.8032 - acc: 0.7137 - val_loss: 1.1399 - val_acc: 0.6110\n",
            "Epoch 142/150\n",
            "36288/50000 [====================>.........] - ETA: 9s - loss: 0.7991 - acc: 0.7114"
          ],
          "name": "stdout"
        },
        {
          "output_type": "stream",
          "text": [
            "50000/50000 [==============================] - 36s 711us/step - loss: 0.8100 - acc: 0.7082 - val_loss: 1.1267 - val_acc: 0.6105\n",
            "Epoch 143/150\n",
            "35584/50000 [====================>.........] - ETA: 9s - loss: 0.8244 - acc: 0.7043"
          ],
          "name": "stdout"
        },
        {
          "output_type": "stream",
          "text": [
            "50000/50000 [==============================] - 36s 717us/step - loss: 0.8304 - acc: 0.7021 - val_loss: 1.1225 - val_acc: 0.6159\n",
            "Epoch 144/150\n",
            "35168/50000 [====================>.........] - ETA: 10s - loss: 0.8278 - acc: 0.7038"
          ],
          "name": "stdout"
        },
        {
          "output_type": "stream",
          "text": [
            "50000/50000 [==============================] - 36s 714us/step - loss: 0.8320 - acc: 0.7031 - val_loss: 1.1601 - val_acc: 0.6092\n",
            "Epoch 145/150\n",
            "35424/50000 [====================>.........] - ETA: 9s - loss: 0.8135 - acc: 0.7104"
          ],
          "name": "stdout"
        },
        {
          "output_type": "stream",
          "text": [
            "50000/50000 [==============================] - 36s 712us/step - loss: 0.8221 - acc: 0.7077 - val_loss: 1.1503 - val_acc: 0.6090\n",
            "Epoch 146/150\n",
            "35392/50000 [====================>.........] - ETA: 9s - loss: 0.8266 - acc: 0.7046"
          ],
          "name": "stdout"
        },
        {
          "output_type": "stream",
          "text": [
            "50000/50000 [==============================] - 36s 711us/step - loss: 0.8361 - acc: 0.7012 - val_loss: 1.1110 - val_acc: 0.6152\n",
            "Epoch 147/150\n",
            "35392/50000 [====================>.........] - ETA: 9s - loss: 0.8297 - acc: 0.7038"
          ],
          "name": "stdout"
        },
        {
          "output_type": "stream",
          "text": [
            "50000/50000 [==============================] - 36s 711us/step - loss: 0.8377 - acc: 0.7012 - val_loss: 1.1483 - val_acc: 0.6013\n",
            "Epoch 148/150\n",
            "36160/50000 [====================>.........] - ETA: 9s - loss: 0.8419 - acc: 0.7008"
          ],
          "name": "stdout"
        },
        {
          "output_type": "stream",
          "text": [
            "50000/50000 [==============================] - 36s 711us/step - loss: 0.8484 - acc: 0.6988 - val_loss: 1.1237 - val_acc: 0.6154\n",
            "Epoch 149/150\n",
            "35488/50000 [====================>.........] - ETA: 9s - loss: 0.8520 - acc: 0.6951"
          ],
          "name": "stdout"
        },
        {
          "output_type": "stream",
          "text": [
            "50000/50000 [==============================] - 36s 714us/step - loss: 0.8505 - acc: 0.6944 - val_loss: 1.1033 - val_acc: 0.6249\n",
            "Epoch 150/150\n",
            "35776/50000 [====================>.........] - ETA: 9s - loss: 0.8396 - acc: 0.6983"
          ],
          "name": "stdout"
        },
        {
          "output_type": "stream",
          "text": [
            "50000/50000 [==============================] - 36s 712us/step - loss: 0.8453 - acc: 0.6967 - val_loss: 1.1318 - val_acc: 0.6104\n"
          ],
          "name": "stdout"
        }
      ]
    },
    {
      "metadata": {
        "id": "uQWlIx4py1Sf",
        "colab_type": "code",
        "colab": {
          "autoexec": {
            "startup": false,
            "wait_interval": 0
          },
          "base_uri": "https://localhost:8080/",
          "height": 643
        },
        "outputId": "909e1e4e-a2db-4960-e3f6-53d1b82f6068",
        "executionInfo": {
          "status": "ok",
          "timestamp": 1524674818274,
          "user_tz": 240,
          "elapsed": 617,
          "user": {
            "displayName": "Shweta Tatiya",
            "photoUrl": "//lh6.googleusercontent.com/--0dIBF4_Y4c/AAAAAAAAAAI/AAAAAAAAAM4/bnIXv4rqGwQ/s50-c-k-no/photo.jpg",
            "userId": "101219336158955273157"
          }
        }
      },
      "cell_type": "code",
      "source": [
        "plt.figure(figsize=(18,10))\n",
        "sb.set_style(\"whitegrid\")\n",
        "plt.plot(m3.history['acc'],color=\"#E74C3C\",marker='o')\n",
        "plt.plot(m3.history['val_acc'],color='#641E16',marker='h')\n",
        "plt.title('Accuracy comparison between Validation and Train Data set',fontsize=15)\n",
        "plt.ylabel('Accuracy')\n",
        "plt.xlabel('Epoch')\n",
        "plt.legend(['Train', 'Test'], loc='best')\n",
        "plt.show()"
      ],
      "execution_count": 24,
      "outputs": [
        {
          "output_type": "display_data",
          "data": {
            "image/png": "[encoded data removed]",
            "text/plain": [
              "<matplotlib.figure.Figure at 0x7fae5cc137f0>"
            ]
          },
          "metadata": {
            "tags": []
          }
        }
      ]
    },
    {
      "metadata": {
        "id": "Unsq_E5ds7ZE",
        "colab_type": "code",
        "colab": {
          "autoexec": {
            "startup": false,
            "wait_interval": 0
          },
          "base_uri": "https://localhost:8080/",
          "height": 405
        },
        "outputId": "328a040f-3194-478f-a519-1316616b50a1",
        "executionInfo": {
          "status": "ok",
          "timestamp": 1524674851464,
          "user_tz": 240,
          "elapsed": 460,
          "user": {
            "displayName": "Shweta Tatiya",
            "photoUrl": "//lh6.googleusercontent.com/--0dIBF4_Y4c/AAAAAAAAAAI/AAAAAAAAAM4/bnIXv4rqGwQ/s50-c-k-no/photo.jpg",
            "userId": "101219336158955273157"
          }
        }
      },
      "cell_type": "code",
      "source": [
        "plt.figure(figsize=(10,6))\n",
        "sb.set_style(\"whitegrid\")\n",
        "plt.plot(m3.history['loss'],color=\"#E74C3C\",marker='o')\n",
        "plt.plot(m3.history['val_loss'],color='#641E16',marker='h')\n",
        "plt.title('Loss comparison between Validation and Train Data set',fontsize=15)\n",
        "plt.ylabel('Accuracy')\n",
        "plt.xlabel('Epoch')\n",
        "plt.legend(['Train', 'Test'], loc='best')\n",
        "plt.show()"
      ],
      "execution_count": 25,
      "outputs": [
        {
          "output_type": "display_data",
          "data": {
            "image/png": "[encoded data removed]",
            "text/plain": [
              "<matplotlib.figure.Figure at 0x7fae5cc4c080>"
            ]
          },
          "metadata": {
            "tags": []
          }
        }
      ]
    }
  ]
}