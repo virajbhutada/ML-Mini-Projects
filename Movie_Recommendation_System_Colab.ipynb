{
  "nbformat": 4,
  "nbformat_minor": 0,
  "metadata": {
    "colab": {
      "provenance": [],
      "authorship_tag": "ABX9TyOA1X+j5zya5kYYMFujldRc",
      "include_colab_link": true
    },
    "kernelspec": {
      "name": "python3",
      "display_name": "Python 3"
    },
    "language_info": {
      "name": "python"
    }
  },
  "cells": [
    {
      "cell_type": "markdown",
      "metadata": {
        "id": "view-in-github",
        "colab_type": "text"
      },
      "source": [
        "<a href=\"https://colab.research.google.com/github/virajbhutada/Spark-Foundation-Tasks/blob/main/Movie_Recommendation_System_Colab.ipynb\" target=\"_parent\"><img src=\"https://colab.research.google.com/assets/colab-badge.svg\" alt=\"Open In Colab\"/></a>"
      ]
    },
    {
      "cell_type": "markdown",
      "source": [
        "# **Movie Recommendation System**\n",
        "\n",
        "# Movie Match: Revolutionizing Movie Recommendations with Close Match Algorithm\n",
        "\n",
        "**Movie Match** is a groundbreaking recommendation system engineered specifically for movie enthusiasts. Powered by the Close Match algorithm, Movie Match meticulously analyzes user inputs, accommodating even the subtlest variations, to suggest movies that closely align with users' preferences.\n",
        "\n",
        "**Close Match Precision**: Movie Match's Close Match algorithm ensures unparalleled accuracy, making it adept at handling typos, misspellings, or minor deviations in movie titles. Users can expect spot-on movie suggestions, enhancing their cinematic journey.\n",
        "\n",
        "**Tailored Movie Suggestions**: Whether you're into classics, thrillers, or rom-coms, Movie Match tailors its recommendations based on your movie choices. Explore a world of cinematic brilliance with handpicked suggestions that match your unique taste.\n",
        "\n",
        "**Seamless Movie Discovery**: Discovering movies has never been this intuitive. Movie Match simplifies the movie-search experience, offering a curated selection of films akin to your cinematic interests. Dive into a cinematic adventure that resonates with your preferences.\n",
        "\n",
        "Join Movie Match today and embark on a cinematic adventure designed exclusively for your unique taste.\n",
        "\n"
      ],
      "metadata": {
        "id": "3ZdTJrWQ23JC"
      }
    },
    {
      "cell_type": "markdown",
      "source": [
        "# **Objective**\n",
        "\n",
        "The objective of this Movie Recommendation System is to provide users with highly accurate and personalized movie suggestions based on their preferences and inputs. Utilizing the Close Match algorithm, this system aims to offer spot-on recommendations, even accommodating minor deviations in movie titles. By tailoring suggestions to individual tastes and ensuring a seamless user experience, this system strives to enhance user engagement and satisfaction, making movie discovery an enjoyable and effortless process for every user."
      ],
      "metadata": {
        "id": "BbyZnIzg5P6m"
      }
    },
    {
      "cell_type": "markdown",
      "source": [
        "**Data** **Source** - The dataset for this project was obtained from the YBI Foundation Kaggle repository. It includes information about movies, user ratings, and other relevant features necessary for building the recommendation system."
      ],
      "metadata": {
        "id": "8hMLtyiW6PVb"
      }
    },
    {
      "cell_type": "markdown",
      "source": [
        "# **Import Libraries**"
      ],
      "metadata": {
        "id": "lrrTejf17Sso"
      }
    },
    {
      "cell_type": "code",
      "source": [
        "import pandas as pd\n",
        "import numpy as np"
      ],
      "metadata": {
        "id": "X2iMQVMPhmAA"
      },
      "execution_count": 1,
      "outputs": []
    },
    {
      "cell_type": "markdown",
      "source": [
        "# **Import Dataset**"
      ],
      "metadata": {
        "id": "WTYn0slB7nY-"
      }
    },
    {
      "cell_type": "code",
      "source": [
        "df = pd.read_csv(r'https://raw.githubusercontent.com/YBI-Foundation/Dataset/main/Movies%20Recommendation.csv')"
      ],
      "metadata": {
        "id": "faGi8sq3i990"
      },
      "execution_count": 2,
      "outputs": []
    },
    {
      "cell_type": "code",
      "source": [
        "df.head()"
      ],
      "metadata": {
        "colab": {
          "base_uri": "https://localhost:8080/",
          "height": 672
        },
        "id": "OMgLoAiw7tG8",
        "outputId": "b9bed7fd-db0a-476f-f278-7aaa61ecb77b"
      },
      "execution_count": 3,
      "outputs": [
        {
          "output_type": "execute_result",
          "data": {
            "text/plain": [
              "   Movie_ID      Movie_Title                       Movie_Genre Movie_Language  \\\n",
              "0         1       Four Rooms                      Crime Comedy             en   \n",
              "1         2        Star Wars  Adventure Action Science Fiction             en   \n",
              "2         3     Finding Nemo                  Animation Family             en   \n",
              "3         4     Forrest Gump              Comedy Drama Romance             en   \n",
              "4         5  American Beauty                             Drama             en   \n",
              "\n",
              "   Movie_Budget  Movie_Popularity Movie_Release_Date  Movie_Revenue  \\\n",
              "0       4000000         22.876230         09-12-1995        4300000   \n",
              "1      11000000        126.393695         25-05-1977      775398007   \n",
              "2      94000000         85.688789         30-05-2003      940335536   \n",
              "3      55000000        138.133331         06-07-1994      677945399   \n",
              "4      15000000         80.878605         15-09-1999      356296601   \n",
              "\n",
              "   Movie_Runtime  Movie_Vote  ...  \\\n",
              "0           98.0         6.5  ...   \n",
              "1          121.0         8.1  ...   \n",
              "2          100.0         7.6  ...   \n",
              "3          142.0         8.2  ...   \n",
              "4          122.0         7.9  ...   \n",
              "\n",
              "                                      Movie_Homepage  \\\n",
              "0                                                NaN   \n",
              "1  http://www.starwars.com/films/star-wars-episod...   \n",
              "2              http://movies.disney.com/finding-nemo   \n",
              "3                                                NaN   \n",
              "4                      http://www.dreamworks.com/ab/   \n",
              "\n",
              "                                      Movie_Keywords  \\\n",
              "0          hotel new year's eve witch bet hotel room   \n",
              "1        android galaxy hermit death star lightsaber   \n",
              "2  father son relationship harbor underwater fish...   \n",
              "3  vietnam veteran hippie mentally disabled runni...   \n",
              "4  male nudity female nudity adultery midlife cri...   \n",
              "\n",
              "                                      Movie_Overview  \\\n",
              "0  It's Ted the Bellhop's first night on the job....   \n",
              "1  Princess Leia is captured and held hostage by ...   \n",
              "2  Nemo, an adventurous young clownfish, is unexp...   \n",
              "3  A man with a low IQ has accomplished great thi...   \n",
              "4  Lester Burnham, a depressed suburban father in...   \n",
              "\n",
              "                              Movie_Production_House  \\\n",
              "0  [{\"name\": \"Miramax Films\", \"id\": 14}, {\"name\":...   \n",
              "1  [{\"name\": \"Lucasfilm\", \"id\": 1}, {\"name\": \"Twe...   \n",
              "2     [{\"name\": \"Pixar Animation Studios\", \"id\": 3}]   \n",
              "3          [{\"name\": \"Paramount Pictures\", \"id\": 4}]   \n",
              "4  [{\"name\": \"DreamWorks SKG\", \"id\": 27}, {\"name\"...   \n",
              "\n",
              "                            Movie_Production_Country  \\\n",
              "0  [{\"iso_3166_1\": \"US\", \"name\": \"United States o...   \n",
              "1  [{\"iso_3166_1\": \"US\", \"name\": \"United States o...   \n",
              "2  [{\"iso_3166_1\": \"US\", \"name\": \"United States o...   \n",
              "3  [{\"iso_3166_1\": \"US\", \"name\": \"United States o...   \n",
              "4  [{\"iso_3166_1\": \"US\", \"name\": \"United States o...   \n",
              "\n",
              "                      Movie_Spoken_Language  \\\n",
              "0  [{\"iso_639_1\": \"en\", \"name\": \"English\"}]   \n",
              "1  [{\"iso_639_1\": \"en\", \"name\": \"English\"}]   \n",
              "2  [{\"iso_639_1\": \"en\", \"name\": \"English\"}]   \n",
              "3  [{\"iso_639_1\": \"en\", \"name\": \"English\"}]   \n",
              "4  [{\"iso_639_1\": \"en\", \"name\": \"English\"}]   \n",
              "\n",
              "                                       Movie_Tagline  \\\n",
              "0  Twelve outrageous guests. Four scandalous requ...   \n",
              "1       A long time ago in a galaxy far, far away...   \n",
              "2  There are 3.7 trillion fish in the ocean, they...   \n",
              "3  The world will never be the same, once you've ...   \n",
              "4                                       Look closer.   \n",
              "\n",
              "                                          Movie_Cast  \\\n",
              "0  Tim Roth Antonio Banderas Jennifer Beals Madon...   \n",
              "1  Mark Hamill Harrison Ford Carrie Fisher Peter ...   \n",
              "2  Albert Brooks Ellen DeGeneres Alexander Gould ...   \n",
              "3  Tom Hanks Robin Wright Gary Sinise Mykelti Wil...   \n",
              "4  Kevin Spacey Annette Bening Thora Birch Wes Be...   \n",
              "\n",
              "                                          Movie_Crew   Movie_Director  \n",
              "0  [{'name': 'Allison Anders', 'gender': 1, 'depa...   Allison Anders  \n",
              "1  [{'name': 'George Lucas', 'gender': 2, 'depart...     George Lucas  \n",
              "2  [{'name': 'Andrew Stanton', 'gender': 2, 'depa...   Andrew Stanton  \n",
              "3  [{'name': 'Alan Silvestri', 'gender': 2, 'depa...  Robert Zemeckis  \n",
              "4  [{'name': 'Thomas Newman', 'gender': 2, 'depar...       Sam Mendes  \n",
              "\n",
              "[5 rows x 21 columns]"
            ],
            "text/html": [
              "\n",
              "  <div id=\"df-8d7ea0ed-e9a4-492c-87ed-989fd8e2c6f1\" class=\"colab-df-container\">\n",
              "    <div>\n",
              "<style scoped>\n",
              "    .dataframe tbody tr th:only-of-type {\n",
              "        vertical-align: middle;\n",
              "    }\n",
              "\n",
              "    .dataframe tbody tr th {\n",
              "        vertical-align: top;\n",
              "    }\n",
              "\n",
              "    .dataframe thead th {\n",
              "        text-align: right;\n",
              "    }\n",
              "</style>\n",
              "<table border=\"1\" class=\"dataframe\">\n",
              "  <thead>\n",
              "    <tr style=\"text-align: right;\">\n",
              "      <th></th>\n",
              "      <th>Movie_ID</th>\n",
              "      <th>Movie_Title</th>\n",
              "      <th>Movie_Genre</th>\n",
              "      <th>Movie_Language</th>\n",
              "      <th>Movie_Budget</th>\n",
              "      <th>Movie_Popularity</th>\n",
              "      <th>Movie_Release_Date</th>\n",
              "      <th>Movie_Revenue</th>\n",
              "      <th>Movie_Runtime</th>\n",
              "      <th>Movie_Vote</th>\n",
              "      <th>...</th>\n",
              "      <th>Movie_Homepage</th>\n",
              "      <th>Movie_Keywords</th>\n",
              "      <th>Movie_Overview</th>\n",
              "      <th>Movie_Production_House</th>\n",
              "      <th>Movie_Production_Country</th>\n",
              "      <th>Movie_Spoken_Language</th>\n",
              "      <th>Movie_Tagline</th>\n",
              "      <th>Movie_Cast</th>\n",
              "      <th>Movie_Crew</th>\n",
              "      <th>Movie_Director</th>\n",
              "    </tr>\n",
              "  </thead>\n",
              "  <tbody>\n",
              "    <tr>\n",
              "      <th>0</th>\n",
              "      <td>1</td>\n",
              "      <td>Four Rooms</td>\n",
              "      <td>Crime Comedy</td>\n",
              "      <td>en</td>\n",
              "      <td>4000000</td>\n",
              "      <td>22.876230</td>\n",
              "      <td>09-12-1995</td>\n",
              "      <td>4300000</td>\n",
              "      <td>98.0</td>\n",
              "      <td>6.5</td>\n",
              "      <td>...</td>\n",
              "      <td>NaN</td>\n",
              "      <td>hotel new year's eve witch bet hotel room</td>\n",
              "      <td>It's Ted the Bellhop's first night on the job....</td>\n",
              "      <td>[{\"name\": \"Miramax Films\", \"id\": 14}, {\"name\":...</td>\n",
              "      <td>[{\"iso_3166_1\": \"US\", \"name\": \"United States o...</td>\n",
              "      <td>[{\"iso_639_1\": \"en\", \"name\": \"English\"}]</td>\n",
              "      <td>Twelve outrageous guests. Four scandalous requ...</td>\n",
              "      <td>Tim Roth Antonio Banderas Jennifer Beals Madon...</td>\n",
              "      <td>[{'name': 'Allison Anders', 'gender': 1, 'depa...</td>\n",
              "      <td>Allison Anders</td>\n",
              "    </tr>\n",
              "    <tr>\n",
              "      <th>1</th>\n",
              "      <td>2</td>\n",
              "      <td>Star Wars</td>\n",
              "      <td>Adventure Action Science Fiction</td>\n",
              "      <td>en</td>\n",
              "      <td>11000000</td>\n",
              "      <td>126.393695</td>\n",
              "      <td>25-05-1977</td>\n",
              "      <td>775398007</td>\n",
              "      <td>121.0</td>\n",
              "      <td>8.1</td>\n",
              "      <td>...</td>\n",
              "      <td>http://www.starwars.com/films/star-wars-episod...</td>\n",
              "      <td>android galaxy hermit death star lightsaber</td>\n",
              "      <td>Princess Leia is captured and held hostage by ...</td>\n",
              "      <td>[{\"name\": \"Lucasfilm\", \"id\": 1}, {\"name\": \"Twe...</td>\n",
              "      <td>[{\"iso_3166_1\": \"US\", \"name\": \"United States o...</td>\n",
              "      <td>[{\"iso_639_1\": \"en\", \"name\": \"English\"}]</td>\n",
              "      <td>A long time ago in a galaxy far, far away...</td>\n",
              "      <td>Mark Hamill Harrison Ford Carrie Fisher Peter ...</td>\n",
              "      <td>[{'name': 'George Lucas', 'gender': 2, 'depart...</td>\n",
              "      <td>George Lucas</td>\n",
              "    </tr>\n",
              "    <tr>\n",
              "      <th>2</th>\n",
              "      <td>3</td>\n",
              "      <td>Finding Nemo</td>\n",
              "      <td>Animation Family</td>\n",
              "      <td>en</td>\n",
              "      <td>94000000</td>\n",
              "      <td>85.688789</td>\n",
              "      <td>30-05-2003</td>\n",
              "      <td>940335536</td>\n",
              "      <td>100.0</td>\n",
              "      <td>7.6</td>\n",
              "      <td>...</td>\n",
              "      <td>http://movies.disney.com/finding-nemo</td>\n",
              "      <td>father son relationship harbor underwater fish...</td>\n",
              "      <td>Nemo, an adventurous young clownfish, is unexp...</td>\n",
              "      <td>[{\"name\": \"Pixar Animation Studios\", \"id\": 3}]</td>\n",
              "      <td>[{\"iso_3166_1\": \"US\", \"name\": \"United States o...</td>\n",
              "      <td>[{\"iso_639_1\": \"en\", \"name\": \"English\"}]</td>\n",
              "      <td>There are 3.7 trillion fish in the ocean, they...</td>\n",
              "      <td>Albert Brooks Ellen DeGeneres Alexander Gould ...</td>\n",
              "      <td>[{'name': 'Andrew Stanton', 'gender': 2, 'depa...</td>\n",
              "      <td>Andrew Stanton</td>\n",
              "    </tr>\n",
              "    <tr>\n",
              "      <th>3</th>\n",
              "      <td>4</td>\n",
              "      <td>Forrest Gump</td>\n",
              "      <td>Comedy Drama Romance</td>\n",
              "      <td>en</td>\n",
              "      <td>55000000</td>\n",
              "      <td>138.133331</td>\n",
              "      <td>06-07-1994</td>\n",
              "      <td>677945399</td>\n",
              "      <td>142.0</td>\n",
              "      <td>8.2</td>\n",
              "      <td>...</td>\n",
              "      <td>NaN</td>\n",
              "      <td>vietnam veteran hippie mentally disabled runni...</td>\n",
              "      <td>A man with a low IQ has accomplished great thi...</td>\n",
              "      <td>[{\"name\": \"Paramount Pictures\", \"id\": 4}]</td>\n",
              "      <td>[{\"iso_3166_1\": \"US\", \"name\": \"United States o...</td>\n",
              "      <td>[{\"iso_639_1\": \"en\", \"name\": \"English\"}]</td>\n",
              "      <td>The world will never be the same, once you've ...</td>\n",
              "      <td>Tom Hanks Robin Wright Gary Sinise Mykelti Wil...</td>\n",
              "      <td>[{'name': 'Alan Silvestri', 'gender': 2, 'depa...</td>\n",
              "      <td>Robert Zemeckis</td>\n",
              "    </tr>\n",
              "    <tr>\n",
              "      <th>4</th>\n",
              "      <td>5</td>\n",
              "      <td>American Beauty</td>\n",
              "      <td>Drama</td>\n",
              "      <td>en</td>\n",
              "      <td>15000000</td>\n",
              "      <td>80.878605</td>\n",
              "      <td>15-09-1999</td>\n",
              "      <td>356296601</td>\n",
              "      <td>122.0</td>\n",
              "      <td>7.9</td>\n",
              "      <td>...</td>\n",
              "      <td>http://www.dreamworks.com/ab/</td>\n",
              "      <td>male nudity female nudity adultery midlife cri...</td>\n",
              "      <td>Lester Burnham, a depressed suburban father in...</td>\n",
              "      <td>[{\"name\": \"DreamWorks SKG\", \"id\": 27}, {\"name\"...</td>\n",
              "      <td>[{\"iso_3166_1\": \"US\", \"name\": \"United States o...</td>\n",
              "      <td>[{\"iso_639_1\": \"en\", \"name\": \"English\"}]</td>\n",
              "      <td>Look closer.</td>\n",
              "      <td>Kevin Spacey Annette Bening Thora Birch Wes Be...</td>\n",
              "      <td>[{'name': 'Thomas Newman', 'gender': 2, 'depar...</td>\n",
              "      <td>Sam Mendes</td>\n",
              "    </tr>\n",
              "  </tbody>\n",
              "</table>\n",
              "<p>5 rows × 21 columns</p>\n",
              "</div>\n",
              "    <div class=\"colab-df-buttons\">\n",
              "\n",
              "  <div class=\"colab-df-container\">\n",
              "    <button class=\"colab-df-convert\" onclick=\"convertToInteractive('df-8d7ea0ed-e9a4-492c-87ed-989fd8e2c6f1')\"\n",
              "            title=\"Convert this dataframe to an interactive table.\"\n",
              "            style=\"display:none;\">\n",
              "\n",
              "  <svg xmlns=\"http://www.w3.org/2000/svg\" height=\"24px\" viewBox=\"0 -960 960 960\">\n",
              "    <path d=\"M120-120v-720h720v720H120Zm60-500h600v-160H180v160Zm220 220h160v-160H400v160Zm0 220h160v-160H400v160ZM180-400h160v-160H180v160Zm440 0h160v-160H620v160ZM180-180h160v-160H180v160Zm440 0h160v-160H620v160Z\"/>\n",
              "  </svg>\n",
              "    </button>\n",
              "\n",
              "  <style>\n",
              "    .colab-df-container {\n",
              "      display:flex;\n",
              "      gap: 12px;\n",
              "    }\n",
              "\n",
              "    .colab-df-convert {\n",
              "      background-color: #E8F0FE;\n",
              "      border: none;\n",
              "      border-radius: 50%;\n",
              "      cursor: pointer;\n",
              "      display: none;\n",
              "      fill: #1967D2;\n",
              "      height: 32px;\n",
              "      padding: 0 0 0 0;\n",
              "      width: 32px;\n",
              "    }\n",
              "\n",
              "    .colab-df-convert:hover {\n",
              "      background-color: #E2EBFA;\n",
              "      box-shadow: 0px 1px 2px rgba(60, 64, 67, 0.3), 0px 1px 3px 1px rgba(60, 64, 67, 0.15);\n",
              "      fill: #174EA6;\n",
              "    }\n",
              "\n",
              "    .colab-df-buttons div {\n",
              "      margin-bottom: 4px;\n",
              "    }\n",
              "\n",
              "    [theme=dark] .colab-df-convert {\n",
              "      background-color: #3B4455;\n",
              "      fill: #D2E3FC;\n",
              "    }\n",
              "\n",
              "    [theme=dark] .colab-df-convert:hover {\n",
              "      background-color: #434B5C;\n",
              "      box-shadow: 0px 1px 3px 1px rgba(0, 0, 0, 0.15);\n",
              "      filter: drop-shadow(0px 1px 2px rgba(0, 0, 0, 0.3));\n",
              "      fill: #FFFFFF;\n",
              "    }\n",
              "  </style>\n",
              "\n",
              "    <script>\n",
              "      const buttonEl =\n",
              "        document.querySelector('#df-8d7ea0ed-e9a4-492c-87ed-989fd8e2c6f1 button.colab-df-convert');\n",
              "      buttonEl.style.display =\n",
              "        google.colab.kernel.accessAllowed ? 'block' : 'none';\n",
              "\n",
              "      async function convertToInteractive(key) {\n",
              "        const element = document.querySelector('#df-8d7ea0ed-e9a4-492c-87ed-989fd8e2c6f1');\n",
              "        const dataTable =\n",
              "          await google.colab.kernel.invokeFunction('convertToInteractive',\n",
              "                                                    [key], {});\n",
              "        if (!dataTable) return;\n",
              "\n",
              "        const docLinkHtml = 'Like what you see? Visit the ' +\n",
              "          '<a target=\"_blank\" href=https://colab.research.google.com/notebooks/data_table.ipynb>data table notebook</a>'\n",
              "          + ' to learn more about interactive tables.';\n",
              "        element.innerHTML = '';\n",
              "        dataTable['output_type'] = 'display_data';\n",
              "        await google.colab.output.renderOutput(dataTable, element);\n",
              "        const docLink = document.createElement('div');\n",
              "        docLink.innerHTML = docLinkHtml;\n",
              "        element.appendChild(docLink);\n",
              "      }\n",
              "    </script>\n",
              "  </div>\n",
              "\n",
              "\n",
              "<div id=\"df-64e80f9c-f924-4f33-8e16-e05d27f164cb\">\n",
              "  <button class=\"colab-df-quickchart\" onclick=\"quickchart('df-64e80f9c-f924-4f33-8e16-e05d27f164cb')\"\n",
              "            title=\"Suggest charts.\"\n",
              "            style=\"display:none;\">\n",
              "\n",
              "<svg xmlns=\"http://www.w3.org/2000/svg\" height=\"24px\"viewBox=\"0 0 24 24\"\n",
              "     width=\"24px\">\n",
              "    <g>\n",
              "        <path d=\"M19 3H5c-1.1 0-2 .9-2 2v14c0 1.1.9 2 2 2h14c1.1 0 2-.9 2-2V5c0-1.1-.9-2-2-2zM9 17H7v-7h2v7zm4 0h-2V7h2v10zm4 0h-2v-4h2v4z\"/>\n",
              "    </g>\n",
              "</svg>\n",
              "  </button>\n",
              "\n",
              "<style>\n",
              "  .colab-df-quickchart {\n",
              "      --bg-color: #E8F0FE;\n",
              "      --fill-color: #1967D2;\n",
              "      --hover-bg-color: #E2EBFA;\n",
              "      --hover-fill-color: #174EA6;\n",
              "      --disabled-fill-color: #AAA;\n",
              "      --disabled-bg-color: #DDD;\n",
              "  }\n",
              "\n",
              "  [theme=dark] .colab-df-quickchart {\n",
              "      --bg-color: #3B4455;\n",
              "      --fill-color: #D2E3FC;\n",
              "      --hover-bg-color: #434B5C;\n",
              "      --hover-fill-color: #FFFFFF;\n",
              "      --disabled-bg-color: #3B4455;\n",
              "      --disabled-fill-color: #666;\n",
              "  }\n",
              "\n",
              "  .colab-df-quickchart {\n",
              "    background-color: var(--bg-color);\n",
              "    border: none;\n",
              "    border-radius: 50%;\n",
              "    cursor: pointer;\n",
              "    display: none;\n",
              "    fill: var(--fill-color);\n",
              "    height: 32px;\n",
              "    padding: 0;\n",
              "    width: 32px;\n",
              "  }\n",
              "\n",
              "  .colab-df-quickchart:hover {\n",
              "    background-color: var(--hover-bg-color);\n",
              "    box-shadow: 0 1px 2px rgba(60, 64, 67, 0.3), 0 1px 3px 1px rgba(60, 64, 67, 0.15);\n",
              "    fill: var(--button-hover-fill-color);\n",
              "  }\n",
              "\n",
              "  .colab-df-quickchart-complete:disabled,\n",
              "  .colab-df-quickchart-complete:disabled:hover {\n",
              "    background-color: var(--disabled-bg-color);\n",
              "    fill: var(--disabled-fill-color);\n",
              "    box-shadow: none;\n",
              "  }\n",
              "\n",
              "  .colab-df-spinner {\n",
              "    border: 2px solid var(--fill-color);\n",
              "    border-color: transparent;\n",
              "    border-bottom-color: var(--fill-color);\n",
              "    animation:\n",
              "      spin 1s steps(1) infinite;\n",
              "  }\n",
              "\n",
              "  @keyframes spin {\n",
              "    0% {\n",
              "      border-color: transparent;\n",
              "      border-bottom-color: var(--fill-color);\n",
              "      border-left-color: var(--fill-color);\n",
              "    }\n",
              "    20% {\n",
              "      border-color: transparent;\n",
              "      border-left-color: var(--fill-color);\n",
              "      border-top-color: var(--fill-color);\n",
              "    }\n",
              "    30% {\n",
              "      border-color: transparent;\n",
              "      border-left-color: var(--fill-color);\n",
              "      border-top-color: var(--fill-color);\n",
              "      border-right-color: var(--fill-color);\n",
              "    }\n",
              "    40% {\n",
              "      border-color: transparent;\n",
              "      border-right-color: var(--fill-color);\n",
              "      border-top-color: var(--fill-color);\n",
              "    }\n",
              "    60% {\n",
              "      border-color: transparent;\n",
              "      border-right-color: var(--fill-color);\n",
              "    }\n",
              "    80% {\n",
              "      border-color: transparent;\n",
              "      border-right-color: var(--fill-color);\n",
              "      border-bottom-color: var(--fill-color);\n",
              "    }\n",
              "    90% {\n",
              "      border-color: transparent;\n",
              "      border-bottom-color: var(--fill-color);\n",
              "    }\n",
              "  }\n",
              "</style>\n",
              "\n",
              "  <script>\n",
              "    async function quickchart(key) {\n",
              "      const quickchartButtonEl =\n",
              "        document.querySelector('#' + key + ' button');\n",
              "      quickchartButtonEl.disabled = true;  // To prevent multiple clicks.\n",
              "      quickchartButtonEl.classList.add('colab-df-spinner');\n",
              "      try {\n",
              "        const charts = await google.colab.kernel.invokeFunction(\n",
              "            'suggestCharts', [key], {});\n",
              "      } catch (error) {\n",
              "        console.error('Error during call to suggestCharts:', error);\n",
              "      }\n",
              "      quickchartButtonEl.classList.remove('colab-df-spinner');\n",
              "      quickchartButtonEl.classList.add('colab-df-quickchart-complete');\n",
              "    }\n",
              "    (() => {\n",
              "      let quickchartButtonEl =\n",
              "        document.querySelector('#df-64e80f9c-f924-4f33-8e16-e05d27f164cb button');\n",
              "      quickchartButtonEl.style.display =\n",
              "        google.colab.kernel.accessAllowed ? 'block' : 'none';\n",
              "    })();\n",
              "  </script>\n",
              "</div>\n",
              "    </div>\n",
              "  </div>\n"
            ]
          },
          "metadata": {},
          "execution_count": 3
        }
      ]
    },
    {
      "cell_type": "code",
      "source": [
        "df.info()"
      ],
      "metadata": {
        "colab": {
          "base_uri": "https://localhost:8080/"
        },
        "id": "6kaMuKi870HW",
        "outputId": "b9ed9cfa-afd6-416b-e013-401e6ca87912"
      },
      "execution_count": 4,
      "outputs": [
        {
          "output_type": "stream",
          "name": "stdout",
          "text": [
            "<class 'pandas.core.frame.DataFrame'>\n",
            "RangeIndex: 4760 entries, 0 to 4759\n",
            "Data columns (total 21 columns):\n",
            " #   Column                    Non-Null Count  Dtype  \n",
            "---  ------                    --------------  -----  \n",
            " 0   Movie_ID                  4760 non-null   int64  \n",
            " 1   Movie_Title               4760 non-null   object \n",
            " 2   Movie_Genre               4760 non-null   object \n",
            " 3   Movie_Language            4760 non-null   object \n",
            " 4   Movie_Budget              4760 non-null   int64  \n",
            " 5   Movie_Popularity          4760 non-null   float64\n",
            " 6   Movie_Release_Date        4760 non-null   object \n",
            " 7   Movie_Revenue             4760 non-null   int64  \n",
            " 8   Movie_Runtime             4758 non-null   float64\n",
            " 9   Movie_Vote                4760 non-null   float64\n",
            " 10  Movie_Vote_Count          4760 non-null   int64  \n",
            " 11  Movie_Homepage            1699 non-null   object \n",
            " 12  Movie_Keywords            4373 non-null   object \n",
            " 13  Movie_Overview            4757 non-null   object \n",
            " 14  Movie_Production_House    4760 non-null   object \n",
            " 15  Movie_Production_Country  4760 non-null   object \n",
            " 16  Movie_Spoken_Language     4760 non-null   object \n",
            " 17  Movie_Tagline             3942 non-null   object \n",
            " 18  Movie_Cast                4733 non-null   object \n",
            " 19  Movie_Crew                4760 non-null   object \n",
            " 20  Movie_Director            4738 non-null   object \n",
            "dtypes: float64(3), int64(4), object(14)\n",
            "memory usage: 781.1+ KB\n"
          ]
        }
      ]
    },
    {
      "cell_type": "code",
      "source": [
        "df.shape"
      ],
      "metadata": {
        "colab": {
          "base_uri": "https://localhost:8080/"
        },
        "id": "CSrojM8U74QK",
        "outputId": "34516396-1158-401c-fc29-bba2ba47bb34"
      },
      "execution_count": 5,
      "outputs": [
        {
          "output_type": "execute_result",
          "data": {
            "text/plain": [
              "(4760, 21)"
            ]
          },
          "metadata": {},
          "execution_count": 5
        }
      ]
    },
    {
      "cell_type": "code",
      "source": [
        "df.columns"
      ],
      "metadata": {
        "colab": {
          "base_uri": "https://localhost:8080/"
        },
        "id": "eeDm-5Vr761m",
        "outputId": "64319bae-e401-48ff-cd64-d05d25f89de2"
      },
      "execution_count": 6,
      "outputs": [
        {
          "output_type": "execute_result",
          "data": {
            "text/plain": [
              "Index(['Movie_ID', 'Movie_Title', 'Movie_Genre', 'Movie_Language',\n",
              "       'Movie_Budget', 'Movie_Popularity', 'Movie_Release_Date',\n",
              "       'Movie_Revenue', 'Movie_Runtime', 'Movie_Vote', 'Movie_Vote_Count',\n",
              "       'Movie_Homepage', 'Movie_Keywords', 'Movie_Overview',\n",
              "       'Movie_Production_House', 'Movie_Production_Country',\n",
              "       'Movie_Spoken_Language', 'Movie_Tagline', 'Movie_Cast', 'Movie_Crew',\n",
              "       'Movie_Director'],\n",
              "      dtype='object')"
            ]
          },
          "metadata": {},
          "execution_count": 6
        }
      ]
    },
    {
      "cell_type": "markdown",
      "source": [
        "# **Get Feature Selection**\n",
        "\n"
      ],
      "metadata": {
        "id": "_yVpd4kAkS-6"
      }
    },
    {
      "cell_type": "code",
      "source": [
        "df_features = df[[ 'Movie_Genre', 'Movie_Keywords', 'Movie_Tagline', 'Movie_Cast', 'Movie_Director']].fillna('')"
      ],
      "metadata": {
        "id": "Wcb1Zj72keAQ"
      },
      "execution_count": 7,
      "outputs": []
    },
    {
      "cell_type": "code",
      "source": [
        "df_features.shape"
      ],
      "metadata": {
        "colab": {
          "base_uri": "https://localhost:8080/"
        },
        "id": "vfYbeers8FuI",
        "outputId": "49ea06c5-7dcf-452a-9274-fb2346722d9e"
      },
      "execution_count": 8,
      "outputs": [
        {
          "output_type": "execute_result",
          "data": {
            "text/plain": [
              "(4760, 5)"
            ]
          },
          "metadata": {},
          "execution_count": 8
        }
      ]
    },
    {
      "cell_type": "code",
      "source": [
        "df_features"
      ],
      "metadata": {
        "colab": {
          "base_uri": "https://localhost:8080/",
          "height": 423
        },
        "id": "lb9jHzZw8LC3",
        "outputId": "33133255-69db-49e4-c736-b7680a12b7cf"
      },
      "execution_count": 9,
      "outputs": [
        {
          "output_type": "execute_result",
          "data": {
            "text/plain": [
              "                           Movie_Genre  \\\n",
              "0                         Crime Comedy   \n",
              "1     Adventure Action Science Fiction   \n",
              "2                     Animation Family   \n",
              "3                 Comedy Drama Romance   \n",
              "4                                Drama   \n",
              "...                                ...   \n",
              "4755                            Horror   \n",
              "4756               Comedy Family Drama   \n",
              "4757                    Thriller Drama   \n",
              "4758                            Family   \n",
              "4759                       Documentary   \n",
              "\n",
              "                                         Movie_Keywords  \\\n",
              "0             hotel new year's eve witch bet hotel room   \n",
              "1           android galaxy hermit death star lightsaber   \n",
              "2     father son relationship harbor underwater fish...   \n",
              "3     vietnam veteran hippie mentally disabled runni...   \n",
              "4     male nudity female nudity adultery midlife cri...   \n",
              "...                                                 ...   \n",
              "4755                                                      \n",
              "4756                                                      \n",
              "4757                     christian film sex trafficking   \n",
              "4758                                                      \n",
              "4759  music actors legendary perfomer classic hollyw...   \n",
              "\n",
              "                                          Movie_Tagline  \\\n",
              "0     Twelve outrageous guests. Four scandalous requ...   \n",
              "1          A long time ago in a galaxy far, far away...   \n",
              "2     There are 3.7 trillion fish in the ocean, they...   \n",
              "3     The world will never be the same, once you've ...   \n",
              "4                                          Look closer.   \n",
              "...                                                 ...   \n",
              "4755                The hot spot where Satan's waitin'.   \n",
              "4756           It’s better to stand out than to fit in.   \n",
              "4757           She never knew it could happen to her...   \n",
              "4758                                                      \n",
              "4759                                                      \n",
              "\n",
              "                                             Movie_Cast     Movie_Director  \n",
              "0     Tim Roth Antonio Banderas Jennifer Beals Madon...     Allison Anders  \n",
              "1     Mark Hamill Harrison Ford Carrie Fisher Peter ...       George Lucas  \n",
              "2     Albert Brooks Ellen DeGeneres Alexander Gould ...     Andrew Stanton  \n",
              "3     Tom Hanks Robin Wright Gary Sinise Mykelti Wil...    Robert Zemeckis  \n",
              "4     Kevin Spacey Annette Bening Thora Birch Wes Be...         Sam Mendes  \n",
              "...                                                 ...                ...  \n",
              "4755  Lisa Hart Carroll Michael Des Barres Paul Drak...         Pece Dingo  \n",
              "4756  Roni Akurati Brighton Sharbino Jason Lee Anjul...       Frank Lotito  \n",
              "4757  Nicole Smolen Kim Baldwin Ariana Stephens Brys...       Jaco Booyens  \n",
              "4758                                                                        \n",
              "4759                                    Tony Oppedisano  Simon Napier-Bell  \n",
              "\n",
              "[4760 rows x 5 columns]"
            ],
            "text/html": [
              "\n",
              "  <div id=\"df-cfe11a2f-a6f0-4f8c-b791-07d9958c9b70\" class=\"colab-df-container\">\n",
              "    <div>\n",
              "<style scoped>\n",
              "    .dataframe tbody tr th:only-of-type {\n",
              "        vertical-align: middle;\n",
              "    }\n",
              "\n",
              "    .dataframe tbody tr th {\n",
              "        vertical-align: top;\n",
              "    }\n",
              "\n",
              "    .dataframe thead th {\n",
              "        text-align: right;\n",
              "    }\n",
              "</style>\n",
              "<table border=\"1\" class=\"dataframe\">\n",
              "  <thead>\n",
              "    <tr style=\"text-align: right;\">\n",
              "      <th></th>\n",
              "      <th>Movie_Genre</th>\n",
              "      <th>Movie_Keywords</th>\n",
              "      <th>Movie_Tagline</th>\n",
              "      <th>Movie_Cast</th>\n",
              "      <th>Movie_Director</th>\n",
              "    </tr>\n",
              "  </thead>\n",
              "  <tbody>\n",
              "    <tr>\n",
              "      <th>0</th>\n",
              "      <td>Crime Comedy</td>\n",
              "      <td>hotel new year's eve witch bet hotel room</td>\n",
              "      <td>Twelve outrageous guests. Four scandalous requ...</td>\n",
              "      <td>Tim Roth Antonio Banderas Jennifer Beals Madon...</td>\n",
              "      <td>Allison Anders</td>\n",
              "    </tr>\n",
              "    <tr>\n",
              "      <th>1</th>\n",
              "      <td>Adventure Action Science Fiction</td>\n",
              "      <td>android galaxy hermit death star lightsaber</td>\n",
              "      <td>A long time ago in a galaxy far, far away...</td>\n",
              "      <td>Mark Hamill Harrison Ford Carrie Fisher Peter ...</td>\n",
              "      <td>George Lucas</td>\n",
              "    </tr>\n",
              "    <tr>\n",
              "      <th>2</th>\n",
              "      <td>Animation Family</td>\n",
              "      <td>father son relationship harbor underwater fish...</td>\n",
              "      <td>There are 3.7 trillion fish in the ocean, they...</td>\n",
              "      <td>Albert Brooks Ellen DeGeneres Alexander Gould ...</td>\n",
              "      <td>Andrew Stanton</td>\n",
              "    </tr>\n",
              "    <tr>\n",
              "      <th>3</th>\n",
              "      <td>Comedy Drama Romance</td>\n",
              "      <td>vietnam veteran hippie mentally disabled runni...</td>\n",
              "      <td>The world will never be the same, once you've ...</td>\n",
              "      <td>Tom Hanks Robin Wright Gary Sinise Mykelti Wil...</td>\n",
              "      <td>Robert Zemeckis</td>\n",
              "    </tr>\n",
              "    <tr>\n",
              "      <th>4</th>\n",
              "      <td>Drama</td>\n",
              "      <td>male nudity female nudity adultery midlife cri...</td>\n",
              "      <td>Look closer.</td>\n",
              "      <td>Kevin Spacey Annette Bening Thora Birch Wes Be...</td>\n",
              "      <td>Sam Mendes</td>\n",
              "    </tr>\n",
              "    <tr>\n",
              "      <th>...</th>\n",
              "      <td>...</td>\n",
              "      <td>...</td>\n",
              "      <td>...</td>\n",
              "      <td>...</td>\n",
              "      <td>...</td>\n",
              "    </tr>\n",
              "    <tr>\n",
              "      <th>4755</th>\n",
              "      <td>Horror</td>\n",
              "      <td></td>\n",
              "      <td>The hot spot where Satan's waitin'.</td>\n",
              "      <td>Lisa Hart Carroll Michael Des Barres Paul Drak...</td>\n",
              "      <td>Pece Dingo</td>\n",
              "    </tr>\n",
              "    <tr>\n",
              "      <th>4756</th>\n",
              "      <td>Comedy Family Drama</td>\n",
              "      <td></td>\n",
              "      <td>It’s better to stand out than to fit in.</td>\n",
              "      <td>Roni Akurati Brighton Sharbino Jason Lee Anjul...</td>\n",
              "      <td>Frank Lotito</td>\n",
              "    </tr>\n",
              "    <tr>\n",
              "      <th>4757</th>\n",
              "      <td>Thriller Drama</td>\n",
              "      <td>christian film sex trafficking</td>\n",
              "      <td>She never knew it could happen to her...</td>\n",
              "      <td>Nicole Smolen Kim Baldwin Ariana Stephens Brys...</td>\n",
              "      <td>Jaco Booyens</td>\n",
              "    </tr>\n",
              "    <tr>\n",
              "      <th>4758</th>\n",
              "      <td>Family</td>\n",
              "      <td></td>\n",
              "      <td></td>\n",
              "      <td></td>\n",
              "      <td></td>\n",
              "    </tr>\n",
              "    <tr>\n",
              "      <th>4759</th>\n",
              "      <td>Documentary</td>\n",
              "      <td>music actors legendary perfomer classic hollyw...</td>\n",
              "      <td></td>\n",
              "      <td>Tony Oppedisano</td>\n",
              "      <td>Simon Napier-Bell</td>\n",
              "    </tr>\n",
              "  </tbody>\n",
              "</table>\n",
              "<p>4760 rows × 5 columns</p>\n",
              "</div>\n",
              "    <div class=\"colab-df-buttons\">\n",
              "\n",
              "  <div class=\"colab-df-container\">\n",
              "    <button class=\"colab-df-convert\" onclick=\"convertToInteractive('df-cfe11a2f-a6f0-4f8c-b791-07d9958c9b70')\"\n",
              "            title=\"Convert this dataframe to an interactive table.\"\n",
              "            style=\"display:none;\">\n",
              "\n",
              "  <svg xmlns=\"http://www.w3.org/2000/svg\" height=\"24px\" viewBox=\"0 -960 960 960\">\n",
              "    <path d=\"M120-120v-720h720v720H120Zm60-500h600v-160H180v160Zm220 220h160v-160H400v160Zm0 220h160v-160H400v160ZM180-400h160v-160H180v160Zm440 0h160v-160H620v160ZM180-180h160v-160H180v160Zm440 0h160v-160H620v160Z\"/>\n",
              "  </svg>\n",
              "    </button>\n",
              "\n",
              "  <style>\n",
              "    .colab-df-container {\n",
              "      display:flex;\n",
              "      gap: 12px;\n",
              "    }\n",
              "\n",
              "    .colab-df-convert {\n",
              "      background-color: #E8F0FE;\n",
              "      border: none;\n",
              "      border-radius: 50%;\n",
              "      cursor: pointer;\n",
              "      display: none;\n",
              "      fill: #1967D2;\n",
              "      height: 32px;\n",
              "      padding: 0 0 0 0;\n",
              "      width: 32px;\n",
              "    }\n",
              "\n",
              "    .colab-df-convert:hover {\n",
              "      background-color: #E2EBFA;\n",
              "      box-shadow: 0px 1px 2px rgba(60, 64, 67, 0.3), 0px 1px 3px 1px rgba(60, 64, 67, 0.15);\n",
              "      fill: #174EA6;\n",
              "    }\n",
              "\n",
              "    .colab-df-buttons div {\n",
              "      margin-bottom: 4px;\n",
              "    }\n",
              "\n",
              "    [theme=dark] .colab-df-convert {\n",
              "      background-color: #3B4455;\n",
              "      fill: #D2E3FC;\n",
              "    }\n",
              "\n",
              "    [theme=dark] .colab-df-convert:hover {\n",
              "      background-color: #434B5C;\n",
              "      box-shadow: 0px 1px 3px 1px rgba(0, 0, 0, 0.15);\n",
              "      filter: drop-shadow(0px 1px 2px rgba(0, 0, 0, 0.3));\n",
              "      fill: #FFFFFF;\n",
              "    }\n",
              "  </style>\n",
              "\n",
              "    <script>\n",
              "      const buttonEl =\n",
              "        document.querySelector('#df-cfe11a2f-a6f0-4f8c-b791-07d9958c9b70 button.colab-df-convert');\n",
              "      buttonEl.style.display =\n",
              "        google.colab.kernel.accessAllowed ? 'block' : 'none';\n",
              "\n",
              "      async function convertToInteractive(key) {\n",
              "        const element = document.querySelector('#df-cfe11a2f-a6f0-4f8c-b791-07d9958c9b70');\n",
              "        const dataTable =\n",
              "          await google.colab.kernel.invokeFunction('convertToInteractive',\n",
              "                                                    [key], {});\n",
              "        if (!dataTable) return;\n",
              "\n",
              "        const docLinkHtml = 'Like what you see? Visit the ' +\n",
              "          '<a target=\"_blank\" href=https://colab.research.google.com/notebooks/data_table.ipynb>data table notebook</a>'\n",
              "          + ' to learn more about interactive tables.';\n",
              "        element.innerHTML = '';\n",
              "        dataTable['output_type'] = 'display_data';\n",
              "        await google.colab.output.renderOutput(dataTable, element);\n",
              "        const docLink = document.createElement('div');\n",
              "        docLink.innerHTML = docLinkHtml;\n",
              "        element.appendChild(docLink);\n",
              "      }\n",
              "    </script>\n",
              "  </div>\n",
              "\n",
              "\n",
              "<div id=\"df-cf53ec91-7e37-4144-a35c-3a9c5b11144e\">\n",
              "  <button class=\"colab-df-quickchart\" onclick=\"quickchart('df-cf53ec91-7e37-4144-a35c-3a9c5b11144e')\"\n",
              "            title=\"Suggest charts.\"\n",
              "            style=\"display:none;\">\n",
              "\n",
              "<svg xmlns=\"http://www.w3.org/2000/svg\" height=\"24px\"viewBox=\"0 0 24 24\"\n",
              "     width=\"24px\">\n",
              "    <g>\n",
              "        <path d=\"M19 3H5c-1.1 0-2 .9-2 2v14c0 1.1.9 2 2 2h14c1.1 0 2-.9 2-2V5c0-1.1-.9-2-2-2zM9 17H7v-7h2v7zm4 0h-2V7h2v10zm4 0h-2v-4h2v4z\"/>\n",
              "    </g>\n",
              "</svg>\n",
              "  </button>\n",
              "\n",
              "<style>\n",
              "  .colab-df-quickchart {\n",
              "      --bg-color: #E8F0FE;\n",
              "      --fill-color: #1967D2;\n",
              "      --hover-bg-color: #E2EBFA;\n",
              "      --hover-fill-color: #174EA6;\n",
              "      --disabled-fill-color: #AAA;\n",
              "      --disabled-bg-color: #DDD;\n",
              "  }\n",
              "\n",
              "  [theme=dark] .colab-df-quickchart {\n",
              "      --bg-color: #3B4455;\n",
              "      --fill-color: #D2E3FC;\n",
              "      --hover-bg-color: #434B5C;\n",
              "      --hover-fill-color: #FFFFFF;\n",
              "      --disabled-bg-color: #3B4455;\n",
              "      --disabled-fill-color: #666;\n",
              "  }\n",
              "\n",
              "  .colab-df-quickchart {\n",
              "    background-color: var(--bg-color);\n",
              "    border: none;\n",
              "    border-radius: 50%;\n",
              "    cursor: pointer;\n",
              "    display: none;\n",
              "    fill: var(--fill-color);\n",
              "    height: 32px;\n",
              "    padding: 0;\n",
              "    width: 32px;\n",
              "  }\n",
              "\n",
              "  .colab-df-quickchart:hover {\n",
              "    background-color: var(--hover-bg-color);\n",
              "    box-shadow: 0 1px 2px rgba(60, 64, 67, 0.3), 0 1px 3px 1px rgba(60, 64, 67, 0.15);\n",
              "    fill: var(--button-hover-fill-color);\n",
              "  }\n",
              "\n",
              "  .colab-df-quickchart-complete:disabled,\n",
              "  .colab-df-quickchart-complete:disabled:hover {\n",
              "    background-color: var(--disabled-bg-color);\n",
              "    fill: var(--disabled-fill-color);\n",
              "    box-shadow: none;\n",
              "  }\n",
              "\n",
              "  .colab-df-spinner {\n",
              "    border: 2px solid var(--fill-color);\n",
              "    border-color: transparent;\n",
              "    border-bottom-color: var(--fill-color);\n",
              "    animation:\n",
              "      spin 1s steps(1) infinite;\n",
              "  }\n",
              "\n",
              "  @keyframes spin {\n",
              "    0% {\n",
              "      border-color: transparent;\n",
              "      border-bottom-color: var(--fill-color);\n",
              "      border-left-color: var(--fill-color);\n",
              "    }\n",
              "    20% {\n",
              "      border-color: transparent;\n",
              "      border-left-color: var(--fill-color);\n",
              "      border-top-color: var(--fill-color);\n",
              "    }\n",
              "    30% {\n",
              "      border-color: transparent;\n",
              "      border-left-color: var(--fill-color);\n",
              "      border-top-color: var(--fill-color);\n",
              "      border-right-color: var(--fill-color);\n",
              "    }\n",
              "    40% {\n",
              "      border-color: transparent;\n",
              "      border-right-color: var(--fill-color);\n",
              "      border-top-color: var(--fill-color);\n",
              "    }\n",
              "    60% {\n",
              "      border-color: transparent;\n",
              "      border-right-color: var(--fill-color);\n",
              "    }\n",
              "    80% {\n",
              "      border-color: transparent;\n",
              "      border-right-color: var(--fill-color);\n",
              "      border-bottom-color: var(--fill-color);\n",
              "    }\n",
              "    90% {\n",
              "      border-color: transparent;\n",
              "      border-bottom-color: var(--fill-color);\n",
              "    }\n",
              "  }\n",
              "</style>\n",
              "\n",
              "  <script>\n",
              "    async function quickchart(key) {\n",
              "      const quickchartButtonEl =\n",
              "        document.querySelector('#' + key + ' button');\n",
              "      quickchartButtonEl.disabled = true;  // To prevent multiple clicks.\n",
              "      quickchartButtonEl.classList.add('colab-df-spinner');\n",
              "      try {\n",
              "        const charts = await google.colab.kernel.invokeFunction(\n",
              "            'suggestCharts', [key], {});\n",
              "      } catch (error) {\n",
              "        console.error('Error during call to suggestCharts:', error);\n",
              "      }\n",
              "      quickchartButtonEl.classList.remove('colab-df-spinner');\n",
              "      quickchartButtonEl.classList.add('colab-df-quickchart-complete');\n",
              "    }\n",
              "    (() => {\n",
              "      let quickchartButtonEl =\n",
              "        document.querySelector('#df-cf53ec91-7e37-4144-a35c-3a9c5b11144e button');\n",
              "      quickchartButtonEl.style.display =\n",
              "        google.colab.kernel.accessAllowed ? 'block' : 'none';\n",
              "    })();\n",
              "  </script>\n",
              "</div>\n",
              "    </div>\n",
              "  </div>\n"
            ]
          },
          "metadata": {},
          "execution_count": 9
        }
      ]
    },
    {
      "cell_type": "code",
      "source": [
        "x = df_features['Movie_Genre'] + '' + df_features['Movie_Keywords'] + '' + df_features['Movie_Tagline'] +''+ df_features['Movie_Cast']+ ''+ df_features['Movie_Director']"
      ],
      "metadata": {
        "id": "_ytxKvp08OFN"
      },
      "execution_count": 10,
      "outputs": []
    },
    {
      "cell_type": "code",
      "source": [
        "x"
      ],
      "metadata": {
        "colab": {
          "base_uri": "https://localhost:8080/"
        },
        "id": "98Dglwm_nY7S",
        "outputId": "05af5df1-e31e-4ccd-8182-b48d04c59f84"
      },
      "execution_count": 22,
      "outputs": [
        {
          "output_type": "execute_result",
          "data": {
            "text/plain": [
              "<4760x27466 sparse matrix of type '<class 'numpy.float64'>'\n",
              "\twith 111276 stored elements in Compressed Sparse Row format>"
            ]
          },
          "metadata": {},
          "execution_count": 22
        }
      ]
    },
    {
      "cell_type": "code",
      "source": [
        "x.shape"
      ],
      "metadata": {
        "colab": {
          "base_uri": "https://localhost:8080/"
        },
        "id": "q-mCZkWo8TxF",
        "outputId": "499bae12-b64d-4699-8614-0d76909beeb7"
      },
      "execution_count": 11,
      "outputs": [
        {
          "output_type": "execute_result",
          "data": {
            "text/plain": [
              "(4760,)"
            ]
          },
          "metadata": {},
          "execution_count": 11
        }
      ]
    },
    {
      "cell_type": "markdown",
      "source": [
        "# Get Feature Text Conversion to Tokens"
      ],
      "metadata": {
        "id": "6ktGaplEnqQ6"
      }
    },
    {
      "cell_type": "code",
      "source": [
        "from sklearn.feature_extraction.text import TfidfVectorizer\n"
      ],
      "metadata": {
        "id": "n3RfUY3an2Hf"
      },
      "execution_count": 12,
      "outputs": []
    },
    {
      "cell_type": "code",
      "source": [
        "tfidf = TfidfVectorizer()\n"
      ],
      "metadata": {
        "id": "DhXgmLLVofc9"
      },
      "execution_count": 13,
      "outputs": []
    },
    {
      "cell_type": "code",
      "source": [
        "x = tfidf.fit_transform(x)\n"
      ],
      "metadata": {
        "id": "pRHHv0PPolfF"
      },
      "execution_count": 14,
      "outputs": []
    },
    {
      "cell_type": "code",
      "source": [
        "x.shape"
      ],
      "metadata": {
        "colab": {
          "base_uri": "https://localhost:8080/"
        },
        "id": "CPSJBOc3o1FJ",
        "outputId": "56a7ddfa-48aa-4e39-db70-8bf22b4de41f"
      },
      "execution_count": 15,
      "outputs": [
        {
          "output_type": "execute_result",
          "data": {
            "text/plain": [
              "(4760, 27466)"
            ]
          },
          "metadata": {},
          "execution_count": 15
        }
      ]
    },
    {
      "cell_type": "code",
      "source": [
        "print(x)"
      ],
      "metadata": {
        "colab": {
          "base_uri": "https://localhost:8080/"
        },
        "id": "w_a-F7a4o5-Z",
        "outputId": "15efdbb5-8d37-4274-91a2-fa5b6cec26f8"
      },
      "execution_count": 21,
      "outputs": [
        {
          "output_type": "stream",
          "name": "stdout",
          "text": [
            "  (0, 1028)\t0.16196019146631543\n",
            "  (0, 24785)\t0.1954632929283795\n",
            "  (0, 15844)\t0.14205053053187272\n",
            "  (0, 15553)\t0.17099186675469502\n",
            "  (0, 2132)\t0.18002354204307464\n",
            "  (0, 13312)\t0.09914387783149516\n",
            "  (0, 1887)\t0.14106037409792174\n",
            "  (0, 1216)\t0.13920306109638164\n",
            "  (0, 21158)\t0.14205053053187272\n",
            "  (0, 24701)\t0.11357423942624927\n",
            "  (0, 14943)\t0.091376722056839\n",
            "  (0, 18098)\t0.06200430666985742\n",
            "  (0, 26738)\t0.175053052455033\n",
            "  (0, 9790)\t0.08712552095655665\n",
            "  (0, 26675)\t0.1116831168780693\n",
            "  (0, 13401)\t0.13748876529263096\n",
            "  (0, 24105)\t0.10726395493180996\n",
            "  (0, 18192)\t0.07278761942152372\n",
            "  (0, 6172)\t0.11970212451073885\n",
            "  (0, 9626)\t0.11757910435818826\n",
            "  (0, 11960)\t0.20134029899961134\n",
            "  (0, 12801)\t0.1530338818199682\n",
            "  (0, 2292)\t0.1954632929283795\n",
            "  (0, 15172)\t0.1537691763994982\n",
            "  (0, 18196)\t0.08579029869987485\n",
            "  :\t:\n",
            "  (4757, 1839)\t0.19327629083107672\n",
            "  (4757, 5410)\t0.19734759150400596\n",
            "  (4757, 11350)\t0.21582294886514122\n",
            "  (4757, 22017)\t0.1646400247918531\n",
            "  (4757, 17789)\t0.18881341937258544\n",
            "  (4757, 9484)\t0.1411164779725638\n",
            "  (4757, 14176)\t0.2330831990045816\n",
            "  (4757, 11762)\t0.17321388936472645\n",
            "  (4757, 14052)\t0.1776312353410007\n",
            "  (4757, 24232)\t0.10947784435203887\n",
            "  (4757, 24746)\t0.09744940789814222\n",
            "  (4757, 13079)\t0.12400374714145113\n",
            "  (4757, 17721)\t0.1489085353667712\n",
            "  (4758, 8651)\t1.0\n",
            "  (4759, 18229)\t0.33527342183765224\n",
            "  (4759, 22434)\t0.33527342183765224\n",
            "  (4759, 18841)\t0.33527342183765224\n",
            "  (4759, 6950)\t0.33527342183765224\n",
            "  (4759, 345)\t0.31978160936741457\n",
            "  (4759, 14742)\t0.31978160936741457\n",
            "  (4759, 12139)\t0.2778063685558062\n",
            "  (4759, 4446)\t0.282306565154911\n",
            "  (4759, 17552)\t0.3087899934962816\n",
            "  (4759, 9955)\t0.21805075638656476\n",
            "  (4759, 2285)\t0.21465229435984196\n"
          ]
        }
      ]
    },
    {
      "cell_type": "markdown",
      "source": [
        "# **Get Similarity Score using Cosine Similarity**\n",
        "\n",
        "cosine_similarity computes the L2-normalized dot product of vectors. Euclidean (L2) normalization projects the vectors onto the unit sphere, and their dot product is then the cosine of the angle between the points denoted by the vectors.\n"
      ],
      "metadata": {
        "id": "F1s2B2S9pO2H"
      }
    },
    {
      "cell_type": "code",
      "source": [
        " from sklearn.metrics.pairwise import cosine_similarity\n"
      ],
      "metadata": {
        "id": "1zFMR2LZpg_G"
      },
      "execution_count": 16,
      "outputs": []
    },
    {
      "cell_type": "code",
      "source": [
        "Similarity_Score = cosine_similarity(x)\n"
      ],
      "metadata": {
        "id": "6Dw7zlukppaW"
      },
      "execution_count": 17,
      "outputs": []
    },
    {
      "cell_type": "code",
      "source": [
        "Similarity_Score"
      ],
      "metadata": {
        "colab": {
          "base_uri": "https://localhost:8080/"
        },
        "id": "tkTqhzqQqAZ6",
        "outputId": "c369172a-cb4f-4840-d3db-4a5e16789a55"
      },
      "execution_count": 19,
      "outputs": [
        {
          "output_type": "execute_result",
          "data": {
            "text/plain": [
              "array([[1.        , 0.01438634, 0.03807033, ..., 0.        , 0.        ,\n",
              "        0.        ],\n",
              "       [0.01438634, 1.        , 0.00844858, ..., 0.        , 0.        ,\n",
              "        0.        ],\n",
              "       [0.03807033, 0.00844858, 1.        , ..., 0.        , 0.        ,\n",
              "        0.        ],\n",
              "       ...,\n",
              "       [0.        , 0.        , 0.        , ..., 1.        , 0.        ,\n",
              "        0.        ],\n",
              "       [0.        , 0.        , 0.        , ..., 0.        , 1.        ,\n",
              "        0.        ],\n",
              "       [0.        , 0.        , 0.        , ..., 0.        , 0.        ,\n",
              "        1.        ]])"
            ]
          },
          "metadata": {},
          "execution_count": 19
        }
      ]
    },
    {
      "cell_type": "code",
      "source": [
        "Similarity_Score.shape"
      ],
      "metadata": {
        "colab": {
          "base_uri": "https://localhost:8080/"
        },
        "id": "_Cj3mKCWqJqO",
        "outputId": "2546b158-ed95-4836-f419-f4e39cd60bd2"
      },
      "execution_count": 20,
      "outputs": [
        {
          "output_type": "execute_result",
          "data": {
            "text/plain": [
              "(4760, 4760)"
            ]
          },
          "metadata": {},
          "execution_count": 20
        }
      ]
    },
    {
      "cell_type": "markdown",
      "source": [
        "**Get Movie Name as Input from User and Validate for Closest Spelling**"
      ],
      "metadata": {
        "id": "07ygpSC0qN01"
      }
    },
    {
      "cell_type": "code",
      "source": [
        "Favourite_Movie_Name = input(' Enter your favourite movie name :')\n"
      ],
      "metadata": {
        "colab": {
          "base_uri": "https://localhost:8080/"
        },
        "id": "UjzxHG6QrA2e",
        "outputId": "adfc14f0-ee5e-4f9c-f976-85f9d25b80f2"
      },
      "execution_count": 23,
      "outputs": [
        {
          "name": "stdout",
          "output_type": "stream",
          "text": [
            " Enter your favourite movie name :Star Wars\n"
          ]
        }
      ]
    },
    {
      "cell_type": "code",
      "source": [
        "All_Movies_Title_List = df['Movie_Title'].tolist()"
      ],
      "metadata": {
        "id": "Qtq2jnvfshlJ"
      },
      "execution_count": 24,
      "outputs": []
    },
    {
      "cell_type": "code",
      "source": [
        "import difflib"
      ],
      "metadata": {
        "id": "r6dk2ESPsqLB"
      },
      "execution_count": 25,
      "outputs": []
    },
    {
      "cell_type": "code",
      "source": [
        "Movie_Recommendation = difflib.get_close_matches (Favourite_Movie_Name, All_Movies_Title_List)\n",
        "print(Movie_Recommendation)\n"
      ],
      "metadata": {
        "colab": {
          "base_uri": "https://localhost:8080/"
        },
        "id": "9NGk22JGsvan",
        "outputId": "0aa5bb91-1d9f-45d2-99f9-c37b48156926"
      },
      "execution_count": 26,
      "outputs": [
        {
          "output_type": "stream",
          "name": "stdout",
          "text": [
            "['Star Wars', 'Star Trek', 'State Fair']\n"
          ]
        }
      ]
    },
    {
      "cell_type": "code",
      "source": [
        "Close_Match = Movie_Recommendation[0]\n",
        "print (Close_Match)"
      ],
      "metadata": {
        "colab": {
          "base_uri": "https://localhost:8080/"
        },
        "id": "RNLvKO979-nq",
        "outputId": "32974c64-4c05-4dc8-c156-81218ceaf74f"
      },
      "execution_count": 27,
      "outputs": [
        {
          "output_type": "stream",
          "name": "stdout",
          "text": [
            "Star Wars\n"
          ]
        }
      ]
    },
    {
      "cell_type": "code",
      "source": [
        "\n",
        "Index_of_Close_Match_Movie = df [df.Movie_Title == Close_Match]['Movie_ID'].values[0]\n",
        "print(Index_of_Close_Match_Movie)\n"
      ],
      "metadata": {
        "colab": {
          "base_uri": "https://localhost:8080/"
        },
        "id": "tzQUudQmtYiQ",
        "outputId": "e729dadc-62c3-4d9b-a310-9a7c54209884"
      },
      "execution_count": 28,
      "outputs": [
        {
          "output_type": "stream",
          "name": "stdout",
          "text": [
            "2\n"
          ]
        }
      ]
    },
    {
      "cell_type": "code",
      "source": [
        "# getting a list of similar movies\n",
        "\n",
        "Recommendation_Score = list(enumerate(Similarity_Score[Index_of_Close_Match_Movie]))\n",
        "print (Recommendation_Score)\n",
        "\n",
        "\n"
      ],
      "metadata": {
        "colab": {
          "base_uri": "https://localhost:8080/"
        },
        "id": "rz-GrRlxuOEW",
        "outputId": "558bf5b2-5c7c-4811-ff3e-4a20d46764a1"
      },
      "execution_count": 29,
      "outputs": [
        {
          "output_type": "stream",
          "name": "stdout",
          "text": [
            "[(0, 0.03807032572268845), (1, 0.00844857868046558), (2, 1.0), (3, 0.0079027889418109), (4, 0.0), (5, 0.0), (6, 0.0), (7, 0.010413459181243579), (8, 0.0), (9, 0.004343046097131075), (10, 0.01805370262105669), (11, 0.004793121024553406), (12, 0.005076187566359604), (13, 0.0), (14, 0.08557563690511476), (15, 0.0), (16, 0.0), (17, 0.0), (18, 0.004307583708046612), (19, 0.0), (20, 0.0), (21, 0.0), (22, 0.030172566584450996), (23, 0.0), (24, 0.0), (25, 0.013764104620818092), (26, 0.027419348962276664), (27, 0.01904429372097841), (28, 0.004691611272717557), (29, 0.01590961434907543), (30, 0.015972301685172215), (31, 0.0), (32, 0.0), (33, 0.01464201232651933), (34, 0.0), (35, 0.01284599680683387), (36, 0.0), (37, 0.008360209891661754), (38, 0.0), (39, 0.004496313556220067), (40, 0.0), (41, 0.0), (42, 0.0), (43, 0.008348759004619665), (44, 0.015977708219608092), (45, 0.004335058152356135), (46, 0.0), (47, 0.02229329422595427), (48, 0.0), (49, 0.026122344238041682), (50, 0.011887933853798794), (51, 0.0), (52, 0.015293965352635408), (53, 0.02947544735740338), (54, 0.0), (55, 0.0), (56, 0.004687032022370417), (57, 0.01776069890849616), (58, 0.021409159133289262), (59, 0.0), (60, 0.004002438081949027), (61, 0.01116036601060631), (62, 0.0), (63, 0.0), (64, 0.004039969507618458), (65, 0.0), (66, 0.0), (67, 0.012515483596732808), (68, 0.0), (69, 0.013789777457851605), (70, 0.03542239723172084), (71, 0.0), (72, 0.028184552650138972), (73, 0.01755836170170713), (74, 0.00978483089586553), (75, 0.02053403820942691), (76, 0.00801505026964957), (77, 0.0), (78, 0.003911466095667967), (79, 0.04414651479631314), (80, 0.01088733355230097), (81, 0.0), (82, 0.01690717052650869), (83, 0.0), (84, 0.0), (85, 0.011394768290217709), (86, 0.022177032035519018), (87, 0.009530599363192057), (88, 0.011619347261452967), (89, 0.0), (90, 0.0), (91, 0.029455543462414573), (92, 0.008748778736113167), (93, 0.0), (94, 0.011252215145292255), (95, 0.0), (96, 0.03347181880711711), (97, 0.00402767983806372), (98, 0.0), (99, 0.0), (100, 0.0), (101, 0.004881700950412113), (102, 0.015152384165459155), (103, 0.0), (104, 0.0), (105, 0.004567270073855008), (106, 0.09172975814859877), (107, 0.0), (108, 0.03322500584940299), (109, 0.0), (110, 0.012335623201663442), (111, 0.0), (112, 0.004506556828814568), (113, 0.007729573068978223), (114, 0.011588359407096602), (115, 0.0), (116, 0.0), (117, 0.0), (118, 0.0), (119, 0.004444755554968106), (120, 0.0), (121, 0.05730210998490881), (122, 0.016954171596001034), (123, 0.004890293732693801), (124, 0.00844304259157156), (125, 0.014236076374646474), (126, 0.0), (127, 0.0), (128, 0.0), (129, 0.0), (130, 0.02300622650296118), (131, 0.0), (132, 0.008898586174865648), (133, 0.0), (134, 0.0), (135, 0.004566901502520252), (136, 0.022350088500742857), (137, 0.05831638891477643), (138, 0.004434990487943624), (139, 0.0), (140, 0.030500630955689074), (141, 0.0), (142, 0.010253004364249795), (143, 0.01045380963292604), (144, 0.030333597894960117), (145, 0.0), (146, 0.033902784282787674), (147, 0.0), (148, 0.004156500166965141), (149, 0.010428118880852391), (150, 0.013850400187344653), (151, 0.0), (152, 0.013690803362075891), (153, 0.0), (154, 0.010640078296096816), (155, 0.03354741550035384), (156, 0.007642634125613894), (157, 0.0), (158, 0.0), (159, 0.003727473197180148), (160, 0.04921784722839574), (161, 0.010616747936115908), (162, 0.009929232200454377), (163, 0.0), (164, 0.0), (165, 0.047081785734564494), (166, 0.03177883598591808), (167, 0.008838580764815755), (168, 0.0036975036005101277), (169, 0.016519089758006294), (170, 0.02647231928063318), (171, 0.004508615049071548), (172, 0.0), (173, 0.03227530917013583), (174, 0.0), (175, 0.00992823048837703), (176, 0.01234685737273047), (177, 0.015285669455104754), (178, 0.0818799853784977), (179, 0.027022689085760575), (180, 0.0), (181, 0.0), (182, 0.06701014753058371), (183, 0.0), (184, 0.014937769745413141), (185, 0.05506924971327734), (186, 0.003939329899029587), (187, 0.02186202146840951), (188, 0.011344023157226685), (189, 0.00473217052444673), (190, 0.0), (191, 0.012601706432720038), (192, 0.02177246074888687), (193, 0.012010478677981162), (194, 0.008239641466546398), (195, 0.003953448057880979), (196, 0.027294402632023627), (197, 0.0), (198, 0.03162589873422597), (199, 0.0), (200, 0.0), (201, 0.01688288634586089), (202, 0.020251885124691015), (203, 0.01782295303548998), (204, 0.0), (205, 0.0), (206, 0.0), (207, 0.0), (208, 0.0), (209, 0.0), (210, 0.0), (211, 0.0), (212, 0.03698586008220983), (213, 0.0), (214, 0.008570328804871746), (215, 0.004401215356416493), (216, 0.01696731992008991), (217, 0.03423043080223217), (218, 0.008654699094895501), (219, 0.01381624143645384), (220, 0.0047672506378962426), (221, 0.008845866940968743), (222, 0.008139702905089129), (223, 0.013605859415302235), (224, 0.0), (225, 0.016240645950545207), (226, 0.0), (227, 0.0), (228, 0.007038842152883211), (229, 0.02307027783419191), (230, 0.11908027434400201), (231, 0.02176756963148615), (232, 0.012433051727885287), (233, 0.038888638023476814), (234, 0.0), (235, 0.0), (236, 0.0), (237, 0.011319845466280006), (238, 0.0), (239, 0.06142932303496858), (240, 0.01312232172974021), (241, 0.0), (242, 0.0), (243, 0.006553884857247604), (244, 0.0), (245, 0.014003401456649878), (246, 0.0), (247, 0.13165843050488332), (248, 0.0), (249, 0.008083204434507205), (250, 0.005044032005446811), (251, 0.016435269430592894), (252, 0.0), (253, 0.0), (254, 0.012726584401344635), (255, 0.0), (256, 0.02997811783298607), (257, 0.0), (258, 0.0), (259, 0.009282578380994928), (260, 0.004550230825046072), (261, 0.004504430416349312), (262, 0.0), (263, 0.013228053480487318), (264, 0.004671627923784269), (265, 0.019153718589623506), (266, 0.014326446516332936), (267, 0.0), (268, 0.0), (269, 0.03001500623606212), (270, 0.01900171588117544), (271, 0.016602884950763484), (272, 0.004826633892739709), (273, 0.011983901083534051), (274, 0.0), (275, 0.0), (276, 0.01121261534109418), (277, 0.024310182200528115), (278, 0.0), (279, 0.02361923306802171), (280, 0.0), (281, 0.0), (282, 0.0), (283, 0.0), (284, 0.01304290233208344), (285, 0.008489302761704433), (286, 0.07657960647715087), (287, 0.008857862140598867), (288, 0.0038886560585867347), (289, 0.0), (290, 0.0), (291, 0.004249527412949086), (292, 0.011181547332192034), (293, 0.06930408884673477), (294, 0.003645120149900551), (295, 0.0), (296, 0.0), (297, 0.00967903958758415), (298, 0.014666641325878721), (299, 0.0046389876684438626), (300, 0.0), (301, 0.00477740626421292), (302, 0.0), (303, 0.0), (304, 0.015161149352871325), (305, 0.0), (306, 0.0042472619987962), (307, 0.0), (308, 0.0), (309, 0.011378526001213935), (310, 0.008886424204543553), (311, 0.00873999790083535), (312, 0.011948156067661092), (313, 0.0), (314, 0.0), (315, 0.011475602516409665), (316, 0.0), (317, 0.018609912026769024), (318, 0.0), (319, 0.011499460757375783), (320, 0.0), (321, 0.0), (322, 0.0), (323, 0.0), (324, 0.025661419143435064), (325, 0.0), (326, 0.0), (327, 0.02345164583162203), (328, 0.009202308775110269), (329, 0.0), (330, 0.014975098382891922), (331, 0.0), (332, 0.0), (333, 0.0), (334, 0.010118069947856754), (335, 0.012780618282960161), (336, 0.01566219682909385), (337, 0.03401367355449057), (338, 0.012921869137191582), (339, 0.009185235193917018), (340, 0.0), (341, 0.009931542693371194), (342, 0.014937655713602503), (343, 0.0), (344, 0.004821590116944471), (345, 0.013158306410227335), (346, 0.027405070126909147), (347, 0.016750164394501717), (348, 0.004519982556785809), (349, 0.01182188253655771), (350, 0.026675183610666325), (351, 0.016662658855808598), (352, 0.012793362328649714), (353, 0.06173490198462901), (354, 0.004234475779613941), (355, 0.028622364444235986), (356, 0.024451597000124455), (357, 0.008226803031283703), (358, 0.01638234072477261), (359, 0.011369588632330842), (360, 0.02436574219943037), (361, 0.013925868770767302), (362, 0.024365346997512687), (363, 0.027066313938112718), (364, 0.0), (365, 0.014876856266128363), (366, 0.0), (367, 0.0), (368, 0.005295995338178485), (369, 0.012578218813351937), (370, 0.024157217711032127), (371, 0.0), (372, 0.0043361541469943785), (373, 0.020483365371850817), (374, 0.0), (375, 0.0), (376, 0.0), (377, 0.009441005453128438), (378, 0.01646966127547954), (379, 0.021845178643197415), (380, 0.005148768519219593), (381, 0.0037412572349347405), (382, 0.0), (383, 0.0), (384, 0.017564279707854107), (385, 0.07719299775162768), (386, 0.0), (387, 0.0), (388, 0.004382815244063864), (389, 0.0), (390, 0.0), (391, 0.01597480271466391), (392, 0.031081413455469335), (393, 0.0), (394, 0.0), (395, 0.0121733759964673), (396, 0.0), (397, 0.0), (398, 0.0), (399, 0.0), (400, 0.011975971829050814), (401, 0.0), (402, 0.0), (403, 0.016135455615174092), (404, 0.009300774311474759), (405, 0.0), (406, 0.0286674773171496), (407, 0.011080721354062321), (408, 0.004357789588243923), (409, 0.017015319341025764), (410, 0.004167567458039161), (411, 0.004297898609772526), (412, 0.007500692619071721), (413, 0.0), (414, 0.0), (415, 0.017731126770373414), (416, 0.0), (417, 0.0), (418, 0.004871508954175926), (419, 0.0), (420, 0.0), (421, 0.04682742449805603), (422, 0.0), (423, 0.0), (424, 0.005190492072113361), (425, 0.005197648270010327), (426, 0.0), (427, 0.06090489667620368), (428, 0.030753472580431332), (429, 0.03441396274368133), (430, 0.009712946697358142), (431, 0.0), (432, 0.0), (433, 0.00991967131745683), (434, 0.022104199334178298), (435, 0.013093157213002561), (436, 0.0), (437, 0.0), (438, 0.0), (439, 0.004555214463355322), (440, 0.007605243603266358), (441, 0.017609469288835444), (442, 0.0), (443, 0.0), (444, 0.0), (445, 0.0), (446, 0.030457163378801236), (447, 0.0), (448, 0.016476538694969033), (449, 0.01110376554766754), (450, 0.0), (451, 0.019451198174515533), (452, 0.00707831006040098), (453, 0.013155335798918436), (454, 0.014894793222799982), (455, 0.02321503577330703), (456, 0.0), (457, 0.010468396119643824), (458, 0.0), (459, 0.061972249529126264), (460, 0.009073846250884879), (461, 0.02842218208410866), (462, 0.0), (463, 0.05592310338409941), (464, 0.011929835870459414), (465, 0.019305295514323147), (466, 0.011384271456343478), (467, 0.011955249967264126), (468, 0.0), (469, 0.023947499688056942), (470, 0.0), (471, 0.0), (472, 0.047550361226183176), (473, 0.011347170815935928), (474, 0.03436298828261998), (475, 0.0), (476, 0.0), (477, 0.0037647247396491693), (478, 0.0), (479, 0.017353150967047863), (480, 0.0), (481, 0.0), (482, 0.0), (483, 0.00469989750988521), (484, 0.0), (485, 0.0), (486, 0.004363112371728574), (487, 0.0), (488, 0.03009429767315539), (489, 0.0), (490, 0.0), (491, 0.005464043209394252), (492, 0.004343321663769042), (493, 0.0), (494, 0.00929638598498561), (495, 0.01887228905425569), (496, 0.020276362289274062), (497, 0.004062893271737594), (498, 0.025657782189572785), (499, 0.0), (500, 0.031927990104935425), (501, 0.01559081907650851), (502, 0.0), (503, 0.0), (504, 0.00469008870293854), (505, 0.0), (506, 0.0), (507, 0.028218570207189625), (508, 0.028340117059081953), (509, 0.0), (510, 0.0036716406702003135), (511, 0.004239673753795963), (512, 0.0), (513, 0.0), (514, 0.0), (515, 0.0), (516, 0.0), (517, 0.01962392263692943), (518, 0.0), (519, 0.010542008845742579), (520, 0.01386670181736232), (521, 0.004611638483525298), (522, 0.0), (523, 0.004696811703503156), (524, 0.027764343585446282), (525, 0.00474725552142193), (526, 0.0), (527, 0.0), (528, 0.0), (529, 0.0046385968149957185), (530, 0.027215637607335766), (531, 0.0), (532, 0.020591273747676213), (533, 0.0), (534, 0.0), (535, 0.0), (536, 0.0), (537, 0.013018941631512012), (538, 0.026547573989476738), (539, 0.012067614357962735), (540, 0.06732851266962983), (541, 0.015535396653045815), (542, 0.006846909825937287), (543, 0.0), (544, 0.0), (545, 0.012199632620617917), (546, 0.04717175841213842), (547, 0.01002173831071868), (548, 0.028930321568438354), (549, 0.015270584907557758), (550, 0.0), (551, 0.0), (552, 0.0), (553, 0.006631758382587698), (554, 0.0), (555, 0.02315099132749917), (556, 0.0), (557, 0.017189629022629604), (558, 0.0), (559, 0.015099536017063587), (560, 0.021852208645542916), (561, 0.02996698646599191), (562, 0.047870262116537256), (563, 0.0), (564, 0.0), (565, 0.0), (566, 0.05267623847848729), (567, 0.03441336704531375), (568, 0.016191262264571463), (569, 0.004227733471231504), (570, 0.0), (571, 0.0), (572, 0.0), (573, 0.0), (574, 0.0), (575, 0.004236312784653793), (576, 0.0), (577, 0.014972255759938866), (578, 0.029564127760796213), (579, 0.0), (580, 0.0), (581, 0.0), (582, 0.013940497439762998), (583, 0.004177312751161386), (584, 0.0), (585, 0.01647032920302299), (586, 0.0), (587, 0.0), (588, 0.0), (589, 0.0), (590, 0.0), (591, 0.0), (592, 0.0), (593, 0.0), (594, 0.03540496254535305), (595, 0.0), (596, 0.037419800329094144), (597, 0.022878580208583722), (598, 0.0), (599, 0.0), (600, 0.011828131377888353), (601, 0.0), (602, 0.0), (603, 0.0), (604, 0.010653355891227624), (605, 0.008746435520672263), (606, 0.0), (607, 0.009022582536171733), (608, 0.0), (609, 0.022488745288114138), (610, 0.01675890907236894), (611, 0.010022370739710797), (612, 0.013178890316315583), (613, 0.004534578881924187), (614, 0.005305677084742409), (615, 0.0), (616, 0.0), (617, 0.0), (618, 0.015912219071183953), (619, 0.07215816678972854), (620, 0.0299507813703409), (621, 0.02360774428477231), (622, 0.012174038377558965), (623, 0.0), (624, 0.07430599286362866), (625, 0.0), (626, 0.0), (627, 0.0), (628, 0.011436109959951294), (629, 0.008276742003270566), (630, 0.012836201680336768), (631, 0.0), (632, 0.0), (633, 0.0), (634, 0.0), (635, 0.010060950515236939), (636, 0.0), (637, 0.0), (638, 0.0), (639, 0.014229646636219185), (640, 0.03168865503056699), (641, 0.008832964379115793), (642, 0.014075415123110242), (643, 0.03438009091570024), (644, 0.0), (645, 0.0), (646, 0.025117966736179324), (647, 0.008494271395502554), (648, 0.021663486762760316), (649, 0.0), (650, 0.0), (651, 0.04672577803890586), (652, 0.0), (653, 0.008093504563489475), (654, 0.0), (655, 0.0), (656, 0.016736518795045865), (657, 0.022770315463823042), (658, 0.0), (659, 0.0), (660, 0.0), (661, 0.0), (662, 0.02414949305341707), (663, 0.0), (664, 0.012574441816024146), (665, 0.044230624632034254), (666, 0.00508236942334148), (667, 0.0), (668, 0.0036739025709673296), (669, 0.0), (670, 0.0141197067922682), (671, 0.0), (672, 0.0), (673, 0.0), (674, 0.0134729858799675), (675, 0.0), (676, 0.011702676008623134), (677, 0.004982570084242637), (678, 0.0), (679, 0.0), (680, 0.0), (681, 0.0), (682, 0.0), (683, 0.017936605756592974), (684, 0.01077028755764666), (685, 0.004706483467974926), (686, 0.0), (687, 0.005089058277070701), (688, 0.0), (689, 0.011329249104310468), (690, 0.020756985033801092), (691, 0.050741269590230856), (692, 0.0078122273436913026), (693, 0.011550933105423836), (694, 0.0), (695, 0.017793763441932845), (696, 0.017061658972653354), (697, 0.011892147552561579), (698, 0.07122182295392931), (699, 0.022467236191471424), (700, 0.00490300996119972), (701, 0.0051543030048457296), (702, 0.0), (703, 0.028124032495959704), (704, 0.004875764956700254), (705, 0.06530891137247684), (706, 0.021409472300964294), (707, 0.0), (708, 0.03505481252742363), (709, 0.07502152737526728), (710, 0.0), (711, 0.0), (712, 0.01156291880776507), (713, 0.0), (714, 0.0), (715, 0.0), (716, 0.0), (717, 0.0269538083421679), (718, 0.0), (719, 0.011531811136728163), (720, 0.0), (721, 0.0), (722, 0.0041462774906068055), (723, 0.011737206637674857), (724, 0.011517367277651416), (725, 0.003918472678955894), (726, 0.007779557422826963), (727, 0.009001060593029747), (728, 0.0), (729, 0.0), (730, 0.040117620994530284), (731, 0.024921413533805593), (732, 0.0), (733, 0.008019638076398187), (734, 0.0), (735, 0.0), (736, 0.0046171170477197175), (737, 0.017807508273909336), (738, 0.003761932090838376), (739, 0.0), (740, 0.02466823340202144), (741, 0.0), (742, 0.026631883754946503), (743, 0.029901408596051313), (744, 0.014916133210479406), (745, 0.008573025837149086), (746, 0.0), (747, 0.004979359598733231), (748, 0.0), (749, 0.009185580098509612), (750, 0.016773506503092856), (751, 0.0), (752, 0.0774282858478528), (753, 0.03210200555944722), (754, 0.0), (755, 0.011699369399278098), (756, 0.00406681112798491), (757, 0.011107219531632385), (758, 0.0), (759, 0.0), (760, 0.0), (761, 0.0), (762, 0.016156763135857656), (763, 0.01735631407549823), (764, 0.0), (765, 0.0), (766, 0.0), (767, 0.0), (768, 0.04918318805823848), (769, 0.02781159211667582), (770, 0.0), (771, 0.0), (772, 0.0), (773, 0.004419814526995358), (774, 0.0), (775, 0.014601942524279387), (776, 0.0), (777, 0.0), (778, 0.029497031952203545), (779, 0.004054935111763373), (780, 0.02028991885437738), (781, 0.004816643684441383), (782, 0.0), (783, 0.0), (784, 0.0), (785, 0.021186241270065034), (786, 0.015560100658211088), (787, 0.03244731744570177), (788, 0.004248555944668247), (789, 0.007440485516330696), (790, 0.013427981959674536), (791, 0.0), (792, 0.014770868578383969), (793, 0.012102823507711033), (794, 0.07232935148372502), (795, 0.0), (796, 0.0), (797, 0.013944807080635514), (798, 0.008782799843090014), (799, 0.0), (800, 0.0), (801, 0.0), (802, 0.014490376222865003), (803, 0.012273405837258142), (804, 0.023197462985443926), (805, 0.01714237890994608), (806, 0.03152231518188589), (807, 0.013141426154200239), (808, 0.0), (809, 0.0), (810, 0.021344015455631467), (811, 0.012256307575878533), (812, 0.01122384757685191), (813, 0.01059977988144753), (814, 0.0), (815, 0.036847973614388504), (816, 0.0), (817, 0.0), (818, 0.0), (819, 0.01367334019414327), (820, 0.0188715191384917), (821, 0.027159625705767507), (822, 0.00923180315855782), (823, 0.0), (824, 0.006601468999496272), (825, 0.0), (826, 0.0), (827, 0.015264929476548951), (828, 0.0), (829, 0.024278883323039353), (830, 0.0), (831, 0.020827297566513428), (832, 0.0), (833, 0.01126980521671586), (834, 0.01161554983158391), (835, 0.011179953899110823), (836, 0.014920095766006353), (837, 0.0), (838, 0.011375262480979635), (839, 0.010264822741757978), (840, 0.013461482286798275), (841, 0.0), (842, 0.0), (843, 0.009624069292246148), (844, 0.0), (845, 0.0), (846, 0.029350780201735767), (847, 0.018115536599443854), (848, 0.0), (849, 0.012030131140002618), (850, 0.03051896773457634), (851, 0.0), (852, 0.04813194458184428), (853, 0.057357282734923125), (854, 0.004462396145575748), (855, 0.021342695861282936), (856, 0.02168319620407323), (857, 0.0), (858, 0.00854824535302763), (859, 0.0), (860, 0.0), (861, 0.014597649663638164), (862, 0.045915946470424795), (863, 0.0), (864, 0.0), (865, 0.0), (866, 0.004373724985370754), (867, 0.0), (868, 0.011116029320075821), (869, 0.0), (870, 0.004477238864884074), (871, 0.0), (872, 0.012230484895518713), (873, 0.0), (874, 0.01913897807184898), (875, 0.0), (876, 0.0), (877, 0.0), (878, 0.015715191212802213), (879, 0.04246651255460153), (880, 0.041462297888856005), (881, 0.05790134213577614), (882, 0.01223998326834001), (883, 0.0044697823770990675), (884, 0.025597239042920033), (885, 0.004168638372393237), (886, 0.0), (887, 0.03342501823288316), (888, 0.0), (889, 0.0), (890, 0.017236354641532198), (891, 0.022778739856656436), (892, 0.016662235675747396), (893, 0.03315163276338265), (894, 0.02058005180470754), (895, 0.01718360461580532), (896, 0.0), (897, 0.004666866052198217), (898, 0.004127927895286582), (899, 0.022587815032829184), (900, 0.01859389992733242), (901, 0.0), (902, 0.0), (903, 0.0), (904, 0.0), (905, 0.013870472438145733), (906, 0.024058655133521165), (907, 0.004358724684021893), (908, 0.004752318616886722), (909, 0.013368807626546521), (910, 0.0), (911, 0.055258456969553685), (912, 0.03519094683575736), (913, 0.004831802732989072), (914, 0.0), (915, 0.01551665455898888), (916, 0.0), (917, 0.0), (918, 0.004758275475292474), (919, 0.0050382579514736915), (920, 0.012311257643546708), (921, 0.0), (922, 0.0), (923, 0.0), (924, 0.013941980435637082), (925, 0.0), (926, 0.025924083782054113), (927, 0.0), (928, 0.014353961422635921), (929, 0.0035413857653458997), (930, 0.004831308266072638), (931, 0.014294272157240764), (932, 0.028034004511813034), (933, 0.0), (934, 0.00851817086234636), (935, 0.02448857825798422), (936, 0.02374641139658512), (937, 0.0), (938, 0.004563079612170135), (939, 0.01119076380726169), (940, 0.0), (941, 0.0), (942, 0.0), (943, 0.0), (944, 0.01080722010204711), (945, 0.013722842319869265), (946, 0.04579031114790215), (947, 0.0), (948, 0.035709954690400454), (949, 0.0), (950, 0.0), (951, 0.0), (952, 0.0), (953, 0.02598192150411853), (954, 0.025800883104805127), (955, 0.0), (956, 0.0), (957, 0.012660993412394694), (958, 0.017757230522571582), (959, 0.0), (960, 0.0), (961, 0.0), (962, 0.008924678494968577), (963, 0.004308918523753452), (964, 0.0), (965, 0.0), (966, 0.016400055444898216), (967, 0.0), (968, 0.0), (969, 0.0), (970, 0.0), (971, 0.016460006279751773), (972, 0.0), (973, 0.016470243460174797), (974, 0.004343202922673693), (975, 0.011473223843070304), (976, 0.0), (977, 0.0), (978, 0.004141401238229404), (979, 0.0), (980, 0.0), (981, 0.016779132149417626), (982, 0.004936003583236574), (983, 0.0), (984, 0.0), (985, 0.01854272594903659), (986, 0.0), (987, 0.0), (988, 0.035015344630837705), (989, 0.059145225889967276), (990, 0.0), (991, 0.01790156167522037), (992, 0.0), (993, 0.0046064163246750545), (994, 0.0), (995, 0.025023426456369305), (996, 0.0), (997, 0.0), (998, 0.013147568098041438), (999, 0.0), (1000, 0.012812684840965137), (1001, 0.008780885175663925), (1002, 0.036246109452340664), (1003, 0.0), (1004, 0.010711045319669809), (1005, 0.00731374137955981), (1006, 0.016822262850850943), (1007, 0.0), (1008, 0.020585616985589493), (1009, 0.052254822962427276), (1010, 0.044196409668973494), (1011, 0.019667850712417), (1012, 0.0), (1013, 0.0), (1014, 0.0), (1015, 0.0), (1016, 0.011914117750037452), (1017, 0.0), (1018, 0.01869779227834931), (1019, 0.0), (1020, 0.0), (1021, 0.034016675356048076), (1022, 0.004559626936980746), (1023, 0.0), (1024, 0.0), (1025, 0.027261565852477042), (1026, 0.020649945953367492), (1027, 0.0), (1028, 0.012075954675032322), (1029, 0.01737265579668023), (1030, 0.0), (1031, 0.0), (1032, 0.0), (1033, 0.008616559591758218), (1034, 0.0), (1035, 0.004585479913870663), (1036, 0.0), (1037, 0.0), (1038, 0.02881231412274289), (1039, 0.00812867391139468), (1040, 0.010106604587649925), (1041, 0.038050309274142824), (1042, 0.008005179952821451), (1043, 0.0), (1044, 0.0), (1045, 0.01204330839700899), (1046, 0.02884781931850993), (1047, 0.0), (1048, 0.004714466790722259), (1049, 0.013608446995101055), (1050, 0.039913830838865655), (1051, 0.0), (1052, 0.004275361655992422), (1053, 0.0), (1054, 0.004249465533557249), (1055, 0.0), (1056, 0.0), (1057, 0.025443602699530884), (1058, 0.0), (1059, 0.004521145309932745), (1060, 0.01622247210618905), (1061, 0.0), (1062, 0.00996756113323702), (1063, 0.0), (1064, 0.0), (1065, 0.0), (1066, 0.0043385433165830135), (1067, 0.01068522831447133), (1068, 0.016067978623130478), (1069, 0.0), (1070, 0.0), (1071, 0.014425422581131326), (1072, 0.05463456447450868), (1073, 0.010953726136533507), (1074, 0.0), (1075, 0.0), (1076, 0.010764662329850226), (1077, 0.016344550322512183), (1078, 0.0), (1079, 0.014883969731932784), (1080, 0.033997791678335144), (1081, 0.011204114886932222), (1082, 0.04764431472990323), (1083, 0.0), (1084, 0.011062393140842973), (1085, 0.013888654507019203), (1086, 0.0), (1087, 0.009058790710418749), (1088, 0.0), (1089, 0.012730058715367004), (1090, 0.02218670211250989), (1091, 0.0), (1092, 0.056363250705840515), (1093, 0.0), (1094, 0.053214656815687586), (1095, 0.02834987042202934), (1096, 0.0), (1097, 0.0), (1098, 0.0), (1099, 0.0), (1100, 0.009371737540615472), (1101, 0.0), (1102, 0.0), (1103, 0.0), (1104, 0.01731489320128013), (1105, 0.021335005251639838), (1106, 0.012918753254980313), (1107, 0.02924509694482741), (1108, 0.0), (1109, 0.018673661871331192), (1110, 0.0), (1111, 0.004604202949047933), (1112, 0.011387851391176169), (1113, 0.004452771990966977), (1114, 0.025099150703854815), (1115, 0.01452884925524591), (1116, 0.012684179540987748), (1117, 0.011390884013555943), (1118, 0.018083476020842967), (1119, 0.0), (1120, 0.004012754586866088), (1121, 0.0), (1122, 0.016607900867716224), (1123, 0.0), (1124, 0.0), (1125, 0.0), (1126, 0.0), (1127, 0.0), (1128, 0.0), (1129, 0.016121237413105807), (1130, 0.013421779246358267), (1131, 0.0), (1132, 0.015501397623366376), (1133, 0.009192216516303765), (1134, 0.010481956295672373), (1135, 0.01127937553056199), (1136, 0.0041092086141802375), (1137, 0.0), (1138, 0.0), (1139, 0.0), (1140, 0.004777366860265644), (1141, 0.0), (1142, 0.0), (1143, 0.0), (1144, 0.0), (1145, 0.0), (1146, 0.004672554356460875), (1147, 0.0), (1148, 0.0), (1149, 0.0), (1150, 0.0), (1151, 0.0), (1152, 0.03152790392139604), (1153, 0.012587011142478802), (1154, 0.0), (1155, 0.014311283101358693), (1156, 0.0), (1157, 0.015020617546629023), (1158, 0.0), (1159, 0.0), (1160, 0.0), (1161, 0.013041947541167366), (1162, 0.0), (1163, 0.02466597573233593), (1164, 0.0), (1165, 0.013678869733874752), (1166, 0.025861469160224505), (1167, 0.0), (1168, 0.0052081351383293974), (1169, 0.0), (1170, 0.0), (1171, 0.016516824393424785), (1172, 0.012111711099011862), (1173, 0.004257760865532261), (1174, 0.0), (1175, 0.012195175660267378), (1176, 0.06899382430705998), (1177, 0.0), (1178, 0.03466146664369883), (1179, 0.004689831415104384), (1180, 0.028054759644122403), (1181, 0.0), (1182, 0.033517420557972855), (1183, 0.0), (1184, 0.0), (1185, 0.0), (1186, 0.0), (1187, 0.0), (1188, 0.0), (1189, 0.0), (1190, 0.0), (1191, 0.009210427928808052), (1192, 0.009342898091250903), (1193, 0.0), (1194, 0.004020027770365424), (1195, 0.02816808985689081), (1196, 0.0), (1197, 0.011168216464565034), (1198, 0.01353234616987794), (1199, 0.0), (1200, 0.0), (1201, 0.0), (1202, 0.040037358181489145), (1203, 0.0), (1204, 0.0), (1205, 0.0), (1206, 0.0), (1207, 0.015489178183684308), (1208, 0.005627233519990564), (1209, 0.010860210780539711), (1210, 0.05291382349250229), (1211, 0.02330512375252832), (1212, 0.04452735713951778), (1213, 0.008344757622564248), (1214, 0.015803858075138028), (1215, 0.014177580695959863), (1216, 0.03153244485604918), (1217, 0.0), (1218, 0.0), (1219, 0.010682798720257418), (1220, 0.0), (1221, 0.00388692114823244), (1222, 0.010136860940852315), (1223, 0.004706576017744731), (1224, 0.0), (1225, 0.0), (1226, 0.037006501579408144), (1227, 0.012122544696291301), (1228, 0.01247448924013939), (1229, 0.0), (1230, 0.0), (1231, 0.011218491175439146), (1232, 0.012416945879670216), (1233, 0.0), (1234, 0.0), (1235, 0.011390619757303298), (1236, 0.0), (1237, 0.023405629050885626), (1238, 0.0), (1239, 0.004621487407325666), (1240, 0.0), (1241, 0.0362106441792705), (1242, 0.0085547981770224), (1243, 0.0), (1244, 0.0), (1245, 0.009113542080969192), (1246, 0.01457037445382716), (1247, 0.011520925833061592), (1248, 0.0), (1249, 0.0083726299825049), (1250, 0.016556509176181518), (1251, 0.09194112082341202), (1252, 0.0), (1253, 0.020848989041419505), (1254, 0.03478663304324653), (1255, 0.011504853785376284), (1256, 0.0), (1257, 0.06555126361582395), (1258, 0.0), (1259, 0.025905012589184553), (1260, 0.0), (1261, 0.0), (1262, 0.004720019332583412), (1263, 0.01145510482081831), (1264, 0.0), (1265, 0.0), (1266, 0.0), (1267, 0.013090784453688324), (1268, 0.0), (1269, 0.011842692357592137), (1270, 0.004233878854177847), (1271, 0.0), (1272, 0.0), (1273, 0.0), (1274, 0.0), (1275, 0.0), (1276, 0.10147676855245022), (1277, 0.007429095529713171), (1278, 0.01965363501725724), (1279, 0.030906087688611937), (1280, 0.0), (1281, 0.0), (1282, 0.02515584916144357), (1283, 0.0), (1284, 0.03055367398002161), (1285, 0.013260525325250062), (1286, 0.0), (1287, 0.0), (1288, 0.01091525709274991), (1289, 0.0), (1290, 0.0), (1291, 0.021131548063560816), (1292, 0.01087575302738559), (1293, 0.0), (1294, 0.0), (1295, 0.018039370710325846), (1296, 0.030093335341825858), (1297, 0.0), (1298, 0.0), (1299, 0.0), (1300, 0.0), (1301, 0.01440134545763621), (1302, 0.0), (1303, 0.0), (1304, 0.009084363871772347), (1305, 0.037914337290944566), (1306, 0.019237180129491976), (1307, 0.021476079512981194), (1308, 0.004287491493894161), (1309, 0.0), (1310, 0.0), (1311, 0.0), (1312, 0.0041103249881774065), (1313, 0.0), (1314, 0.0043335881432923756), (1315, 0.0), (1316, 0.0), (1317, 0.0), (1318, 0.0), (1319, 0.0603114660364352), (1320, 0.0), (1321, 0.023271308969767653), (1322, 0.005114113796629734), (1323, 0.012357842801954183), (1324, 0.0), (1325, 0.0), (1326, 0.0), (1327, 0.05227197082757827), (1328, 0.0), (1329, 0.008999184836427724), (1330, 0.0), (1331, 0.0), (1332, 0.0), (1333, 0.027078593683485468), (1334, 0.00936086296203166), (1335, 0.0), (1336, 0.023590752220399615), (1337, 0.0), (1338, 0.004586000552408034), (1339, 0.04169573348136266), (1340, 0.0), (1341, 0.017439480865304807), (1342, 0.0), (1343, 0.005412877122189497), (1344, 0.021022305751385875), (1345, 0.012401034216429636), (1346, 0.004825273348287727), (1347, 0.0), (1348, 0.0), (1349, 0.005085155432685835), (1350, 0.0), (1351, 0.04012583327626529), (1352, 0.014395239476504687), (1353, 0.018138386779724916), (1354, 0.0084116911144334), (1355, 0.0), (1356, 0.03388290002004113), (1357, 0.0), (1358, 0.0), (1359, 0.0), (1360, 0.004395326787000158), (1361, 0.0), (1362, 0.0), (1363, 0.0), (1364, 0.04261309902915955), (1365, 0.04676672045467191), (1366, 0.00843344001705649), (1367, 0.0), (1368, 0.013234841318279504), (1369, 0.011650560052388367), (1370, 0.0), (1371, 0.0), (1372, 0.0), (1373, 0.01602886813920233), (1374, 0.009200716869429462), (1375, 0.0), (1376, 0.0), (1377, 0.003947935580783028), (1378, 0.0), (1379, 0.013950209687785847), (1380, 0.0), (1381, 0.005316918052833885), (1382, 0.0), (1383, 0.022514684975307467), (1384, 0.004171155933342636), (1385, 0.011215282246298275), (1386, 0.0), (1387, 0.01075355489246351), (1388, 0.0), (1389, 0.0), (1390, 0.022937960715260573), (1391, 0.0), (1392, 0.008528071818959529), (1393, 0.009967782407092894), (1394, 0.003998161636887048), (1395, 0.0037815295415234698), (1396, 0.004696409484296642), (1397, 0.01211713011661383), (1398, 0.0), (1399, 0.0), (1400, 0.0), (1401, 0.009738638037616956), (1402, 0.00474493425314266), (1403, 0.01450957831565977), (1404, 0.013299878323683477), (1405, 0.038085003147394034), (1406, 0.011472407035014405), (1407, 0.01670396367966385), (1408, 0.0), (1409, 0.04419488231675653), (1410, 0.0), (1411, 0.014189404744202452), (1412, 0.02851342936107977), (1413, 0.004729323803526498), (1414, 0.010683826046313766), (1415, 0.0), (1416, 0.0), (1417, 0.0), (1418, 0.003612837403711126), (1419, 0.009474301914171016), (1420, 0.009081050894995777), (1421, 0.011320777862960683), (1422, 0.0), (1423, 0.010454294324331212), (1424, 0.0), (1425, 0.0), (1426, 0.0), (1427, 0.03007350708881207), (1428, 0.0), (1429, 0.0), (1430, 0.026836692248536853), (1431, 0.013646386251468492), (1432, 0.0), (1433, 0.04391700569838633), (1434, 0.0), (1435, 0.0), (1436, 0.0046846402191717705), (1437, 0.0), (1438, 0.0), (1439, 0.0), (1440, 0.0), (1441, 0.0), (1442, 0.004515785837125417), (1443, 0.016786835993411964), (1444, 0.0), (1445, 0.012309773930199561), (1446, 0.00445543304276734), (1447, 0.01657171406403647), (1448, 0.0), (1449, 0.0), (1450, 0.044814081521665286), (1451, 0.013191392634527906), (1452, 0.0), (1453, 0.018064277985707373), (1454, 0.037901129349618236), (1455, 0.0), (1456, 0.02569276725415945), (1457, 0.0), (1458, 0.018767068398090996), (1459, 0.009249763269765194), (1460, 0.01511654931137207), (1461, 0.004667503686817278), (1462, 0.0), (1463, 0.0), (1464, 0.017822468874044813), (1465, 0.014689166480695449), (1466, 0.0), (1467, 0.01826244287291051), (1468, 0.03911010631498075), (1469, 0.0), (1470, 0.0), (1471, 0.007012682487318796), (1472, 0.02109178833805704), (1473, 0.08395798652061737), (1474, 0.014622553396181702), (1475, 0.012199925729736402), (1476, 0.0), (1477, 0.06806277725043297), (1478, 0.0345910785660487), (1479, 0.01267735884535303), (1480, 0.017133053383722546), (1481, 0.01623370950028958), (1482, 0.014985012600950134), (1483, 0.0), (1484, 0.0), (1485, 0.026845225497089727), (1486, 0.0), (1487, 0.019362911063577456), (1488, 0.0), (1489, 0.018402138975063542), (1490, 0.0), (1491, 0.0), (1492, 0.026398631370183855), (1493, 0.01553020762498861), (1494, 0.018843299386566262), (1495, 0.0319870062512741), (1496, 0.04159184372812995), (1497, 0.0), (1498, 0.0), (1499, 0.0), (1500, 0.009017227091608572), (1501, 0.004620022445202848), (1502, 0.0), (1503, 0.02364439829420762), (1504, 0.0), (1505, 0.06228667683562401), (1506, 0.009460958749865795), (1507, 0.010745309749777058), (1508, 0.0), (1509, 0.011437908240934177), (1510, 0.004441055570026158), (1511, 0.018134861072302253), (1512, 0.0), (1513, 0.0), (1514, 0.0), (1515, 0.00455888464697138), (1516, 0.0), (1517, 0.009291360754811816), (1518, 0.0), (1519, 0.0), (1520, 0.004949475347230499), (1521, 0.016512694966613575), (1522, 0.009288902602390795), (1523, 0.06325131298427979), (1524, 0.015729294495707), (1525, 0.004671835579397632), (1526, 0.016602299972268142), (1527, 0.0), (1528, 0.0), (1529, 0.031570926277674674), (1530, 0.003893089185958141), (1531, 0.0), (1532, 0.010963343921409368), (1533, 0.0), (1534, 0.0), (1535, 0.003894097486542527), (1536, 0.0), (1537, 0.004931243957083853), (1538, 0.029859596328114878), (1539, 0.012595406643493672), (1540, 0.0), (1541, 0.0), (1542, 0.0), (1543, 0.010765293069096646), (1544, 0.052505407089004884), (1545, 0.0), (1546, 0.004124315170689466), (1547, 0.0), (1548, 0.0057613764868268726), (1549, 0.009572930993750015), (1550, 0.03185670106119863), (1551, 0.0046040949769900474), (1552, 0.02244594094487392), (1553, 0.00805986006087192), (1554, 0.0), (1555, 0.004271942402061434), (1556, 0.0), (1557, 0.09922218430901181), (1558, 0.0), (1559, 0.022555057054107843), (1560, 0.0), (1561, 0.02061742490268136), (1562, 0.02900691151884526), (1563, 0.010025394981554676), (1564, 0.014766529871529335), (1565, 0.0), (1566, 0.0), (1567, 0.0), (1568, 0.037043277713641666), (1569, 0.019032097641497273), (1570, 0.02895947583661019), (1571, 0.0), (1572, 0.0), (1573, 0.0), (1574, 0.038144377672614256), (1575, 0.0), (1576, 0.0), (1577, 0.016898917560551414), (1578, 0.02557159572686561), (1579, 0.012802847223211148), (1580, 0.010343479918112746), (1581, 0.0), (1582, 0.01773717517692137), (1583, 0.0), (1584, 0.036012157310875606), (1585, 0.0), (1586, 0.06923800928554484), (1587, 0.00482493970969262), (1588, 0.012451882237253365), (1589, 0.0), (1590, 0.0), (1591, 0.0), (1592, 0.0), (1593, 0.0), (1594, 0.009938308655682635), (1595, 0.0), (1596, 0.0), (1597, 0.004452750585951439), (1598, 0.0), (1599, 0.009641580755984964), (1600, 0.013934333460405119), (1601, 0.014978849620603312), (1602, 0.013495922684289743), (1603, 0.01224186540793794), (1604, 0.011627758160077887), (1605, 0.0), (1606, 0.012195376536020477), (1607, 0.012732656846002386), (1608, 0.008663565042899184), (1609, 0.029839469721543766), (1610, 0.016352627983406254), (1611, 0.0), (1612, 0.0), (1613, 0.004739827286245961), (1614, 0.017615185285265688), (1615, 0.0), (1616, 0.01861006256977197), (1617, 0.004451587675515422), (1618, 0.0), (1619, 0.004773213387360884), (1620, 0.004549651596887152), (1621, 0.01144731882206587), (1622, 0.0), (1623, 0.0), (1624, 0.0), (1625, 0.010744107957691144), (1626, 0.015088751530440817), (1627, 0.0), (1628, 0.0), (1629, 0.03173403463464729), (1630, 0.008665567602850411), (1631, 0.0), (1632, 0.008897512693474737), (1633, 0.0), (1634, 0.015863025197320784), (1635, 0.0), (1636, 0.0), (1637, 0.0), (1638, 0.0), (1639, 0.0), (1640, 0.02020957523663476), (1641, 0.0), (1642, 0.004360718283730919), (1643, 0.0), (1644, 0.0), (1645, 0.02128028318957677), (1646, 0.09653774568219), (1647, 0.02782767660565046), (1648, 0.007092995987061626), (1649, 0.008752200539022998), (1650, 0.008409514101623671), (1651, 0.0), (1652, 0.008397865150811474), (1653, 0.0), (1654, 0.011217926618968914), (1655, 0.01460865669132171), (1656, 0.0), (1657, 0.0), (1658, 0.0), (1659, 0.0), (1660, 0.004780973730430254), (1661, 0.0), (1662, 0.004295931754847085), (1663, 0.011415221884815661), (1664, 0.03533399294609195), (1665, 0.0), (1666, 0.020834361224929432), (1667, 0.011162137520137533), (1668, 0.008813532596138126), (1669, 0.0), (1670, 0.0), (1671, 0.0), (1672, 0.011051683118642434), (1673, 0.0), (1674, 0.0), (1675, 0.01266984284105407), (1676, 0.027614887850077197), (1677, 0.009563651144702126), (1678, 0.014008941002065116), (1679, 0.014944869508629543), (1680, 0.0), (1681, 0.005173468667641835), (1682, 0.028917384976054006), (1683, 0.0), (1684, 0.0), (1685, 0.0), (1686, 0.0), (1687, 0.0), (1688, 0.00474259184599889), (1689, 0.004694688991361453), (1690, 0.010643393320079976), (1691, 0.0038719809244021604), (1692, 0.016358164913868573), (1693, 0.0), (1694, 0.0313935725255819), (1695, 0.013302347110383065), (1696, 0.011905114857378132), (1697, 0.0), (1698, 0.03727131979759666), (1699, 0.0), (1700, 0.06358429049311945), (1701, 0.018205426903528003), (1702, 0.005030151561296442), (1703, 0.030573719517835773), (1704, 0.004961387290233528), (1705, 0.0), (1706, 0.013175383905038052), (1707, 0.003914431064356645), (1708, 0.0), (1709, 0.013622121022895018), (1710, 0.0), (1711, 0.01639199655322023), (1712, 0.0), (1713, 0.0), (1714, 0.11617902073919106), (1715, 0.02857843876952639), (1716, 0.0), (1717, 0.0), (1718, 0.014904566024759775), (1719, 0.004156859062814107), (1720, 0.01322191904033554), (1721, 0.0), (1722, 0.0), (1723, 0.008795068256603861), (1724, 0.04021349814285783), (1725, 0.01911843933086131), (1726, 0.016335137131791647), (1727, 0.0), (1728, 0.0), (1729, 0.0), (1730, 0.0), (1731, 0.0), (1732, 0.0), (1733, 0.005067504395241401), (1734, 0.012715046431639938), (1735, 0.0), (1736, 0.0), (1737, 0.07383331000361239), (1738, 0.004517358202105414), (1739, 0.0), (1740, 0.0), (1741, 0.011251513784527748), (1742, 0.004440273424817882), (1743, 0.039959998556289), (1744, 0.0), (1745, 0.0), (1746, 0.00431024335056902), (1747, 0.0), (1748, 0.0), (1749, 0.0), (1750, 0.0), (1751, 0.004698429310661118), (1752, 0.0), (1753, 0.0), (1754, 0.0), (1755, 0.02220236351874726), (1756, 0.004371979209951031), (1757, 0.009293754424073434), (1758, 0.06781399353119814), (1759, 0.011584951878767881), (1760, 0.03361064097731732), (1761, 0.0), (1762, 0.03356027026582951), (1763, 0.0), (1764, 0.0314314053212229), (1765, 0.0), (1766, 0.0), (1767, 0.0), (1768, 0.016153697986339477), (1769, 0.01357377622023003), (1770, 0.0), (1771, 0.04387276874794866), (1772, 0.004118902384459198), (1773, 0.0), (1774, 0.018285095333895253), (1775, 0.0), (1776, 0.021919637784593143), (1777, 0.00960763419989853), (1778, 0.03760078393832046), (1779, 0.012481956205144201), (1780, 0.0), (1781, 0.007733813777412202), (1782, 0.004436605021133768), (1783, 0.0), (1784, 0.014843125896193046), (1785, 0.0), (1786, 0.0), (1787, 0.030534069041723264), (1788, 0.012942139071901079), (1789, 0.03475538487891742), (1790, 0.0), (1791, 0.01283271318201983), (1792, 0.0), (1793, 0.004405686445756398), (1794, 0.0327240404183819), (1795, 0.0), (1796, 0.0), (1797, 0.01589376741920867), (1798, 0.005025493829354855), (1799, 0.03636612921827598), (1800, 0.012858024990717663), (1801, 0.0), (1802, 0.00799462795782419), (1803, 0.0), (1804, 0.009234976870654152), (1805, 0.0), (1806, 0.0), (1807, 0.0), (1808, 0.021364043132298935), (1809, 0.008470588804316998), (1810, 0.08031828876065357), (1811, 0.011788718193883819), (1812, 0.026564803721442716), (1813, 0.07139972092417153), (1814, 0.014960514704410356), (1815, 0.0), (1816, 0.012579160245919737), (1817, 0.03377197378105781), (1818, 0.01570661099159976), (1819, 0.0), (1820, 0.01262377124649451), (1821, 0.0), (1822, 0.0), (1823, 0.008803272836161414), (1824, 0.0219717159750673), (1825, 0.008869284452629248), (1826, 0.0), (1827, 0.010794573279607669), (1828, 0.020775951229780924), (1829, 0.0), (1830, 0.0), (1831, 0.0), (1832, 0.0), (1833, 0.05272609480146134), (1834, 0.05883884855085723), (1835, 0.0), (1836, 0.0), (1837, 0.01355421043257062), (1838, 0.0), (1839, 0.0), (1840, 0.0), (1841, 0.019242503434368383), (1842, 0.042151715801068315), (1843, 0.0), (1844, 0.01428236769541641), (1845, 0.04768778546469278), (1846, 0.0), (1847, 0.0), (1848, 0.0), (1849, 0.016621229404328596), (1850, 0.004043226232048889), (1851, 0.004906436015826164), (1852, 0.009233372394617387), (1853, 0.0), (1854, 0.0), (1855, 0.03219628623175132), (1856, 0.0), (1857, 0.004556109980194817), (1858, 0.004961128503897419), (1859, 0.009673532513529776), (1860, 0.07382430778139326), (1861, 0.02403630739459496), (1862, 0.03566291649148507), (1863, 0.0), (1864, 0.018952848604444992), (1865, 0.008508975448875342), (1866, 0.0), (1867, 0.0), (1868, 0.025893574768506008), (1869, 0.010684474575642824), (1870, 0.0), (1871, 0.00941518824428793), (1872, 0.0), (1873, 0.016172591666064624), (1874, 0.0), (1875, 0.0), (1876, 0.022243358758292753), (1877, 0.010929499233004677), (1878, 0.008943936033008455), (1879, 0.0), (1880, 0.0), (1881, 0.01425663521289934), (1882, 0.0), (1883, 0.0), (1884, 0.0), (1885, 0.0), (1886, 0.08515624993694729), (1887, 0.005191914109445917), (1888, 0.028438355431737082), (1889, 0.0), (1890, 0.0), (1891, 0.023929939604131225), (1892, 0.0), (1893, 0.004924135419692585), (1894, 0.0), (1895, 0.0043118449385915365), (1896, 0.0), (1897, 0.012796672078741998), (1898, 0.0), (1899, 0.0), (1900, 0.0), (1901, 0.0), (1902, 0.0), (1903, 0.06539169253833454), (1904, 0.0), (1905, 0.0), (1906, 0.0), (1907, 0.004955722593923749), (1908, 0.00471433728171249), (1909, 0.0), (1910, 0.02231945206053568), (1911, 0.0), (1912, 0.011353597181626585), (1913, 0.0), (1914, 0.015374245387962395), (1915, 0.00921146525444577), (1916, 0.0), (1917, 0.0), (1918, 0.0), (1919, 0.009569560362485473), (1920, 0.04666780192919519), (1921, 0.011410027314181559), (1922, 0.0), (1923, 0.0), (1924, 0.0), (1925, 0.019949996825426693), (1926, 0.03427906286591954), (1927, 0.031067958625284504), (1928, 0.0), (1929, 0.0), (1930, 0.0), (1931, 0.012430010897176116), (1932, 0.0), (1933, 0.0358643891951021), (1934, 0.010899509826900735), (1935, 0.03686476864709801), (1936, 0.0), (1937, 0.025114757605576257), (1938, 0.0), (1939, 0.0), (1940, 0.0), (1941, 0.0), (1942, 0.012126161298715861), (1943, 0.0), (1944, 0.029800874522978808), (1945, 0.0), (1946, 0.0), (1947, 0.0), (1948, 0.03180745334490735), (1949, 0.0), (1950, 0.04728111864204438), (1951, 0.017124253624487676), (1952, 0.005022351041386766), (1953, 0.03504199009659703), (1954, 0.02021490485213274), (1955, 0.0), (1956, 0.0), (1957, 0.007764821636429819), (1958, 0.0), (1959, 0.03458653088667271), (1960, 0.0), (1961, 0.016594580914503283), (1962, 0.0), (1963, 0.009743048711517004), (1964, 0.06564785271116898), (1965, 0.0), (1966, 0.0), (1967, 0.009499657678362064), (1968, 0.005139690033075771), (1969, 0.01671539222062339), (1970, 0.0), (1971, 0.004099514428469991), (1972, 0.0), (1973, 0.015317078695220004), (1974, 0.05903772673317863), (1975, 0.0), (1976, 0.0), (1977, 0.00836510623071976), (1978, 0.008244899177575794), (1979, 0.023283090210098292), (1980, 0.0), (1981, 0.003869304227801112), (1982, 0.008472556007460554), (1983, 0.0), (1984, 0.004515220522592348), (1985, 0.004674545440400853), (1986, 0.0), (1987, 0.004175654482365754), (1988, 0.004400950016704656), (1989, 0.0), (1990, 0.004200769797049678), (1991, 0.0), (1992, 0.022560324040172205), (1993, 0.01218104334973845), (1994, 0.0041549441833926065), (1995, 0.0), (1996, 0.0), (1997, 0.0050250410575528115), (1998, 0.01635239116347119), (1999, 0.014833907273769037), (2000, 0.030880172423215543), (2001, 0.0), (2002, 0.0), (2003, 0.004661650914042341), (2004, 0.0), (2005, 0.034901007731317296), (2006, 0.0), (2007, 0.01686470455649794), (2008, 0.0), (2009, 0.0137843555115287), (2010, 0.0), (2011, 0.0), (2012, 0.0051301440441066624), (2013, 0.0036859360980047106), (2014, 0.0245411564472078), (2015, 0.0), (2016, 0.08375055724724575), (2017, 0.0046147084120866915), (2018, 0.0), (2019, 0.013175878749575287), (2020, 0.0), (2021, 0.0), (2022, 0.025241178702857456), (2023, 0.0), (2024, 0.0), (2025, 0.0), (2026, 0.0), (2027, 0.004552639073308038), (2028, 0.0), (2029, 0.004442178804671491), (2030, 0.014117555037705173), (2031, 0.00840714058036013), (2032, 0.0052285192459244935), (2033, 0.0), (2034, 0.013729919767756527), (2035, 0.0), (2036, 0.01794242962352869), (2037, 0.014648914880878317), (2038, 0.012448226719837372), (2039, 0.013479934807713066), (2040, 0.021417986545712177), (2041, 0.013669491253173849), (2042, 0.0), (2043, 0.012634836856000886), (2044, 0.0), (2045, 0.004581346075353375), (2046, 0.0), (2047, 0.003976159908718367), (2048, 0.0), (2049, 0.0), (2050, 0.011682005604104168), (2051, 0.013571608737030623), (2052, 0.0), (2053, 0.009932627967792445), (2054, 0.0), (2055, 0.019488529964182308), (2056, 0.004494114886827517), (2057, 0.0), (2058, 0.004169846192548497), (2059, 0.022112457061724395), (2060, 0.023984806337463443), (2061, 0.05316991860933282), (2062, 0.00868777901625859), (2063, 0.0), (2064, 0.012479464363622433), (2065, 0.00813858251215029), (2066, 0.0), (2067, 0.0), (2068, 0.0), (2069, 0.0), (2070, 0.003914448943552984), (2071, 0.0045532225669682345), (2072, 0.00476089550336342), (2073, 0.016186925485249318), (2074, 0.016559330175723783), (2075, 0.0), (2076, 0.0), (2077, 0.0), (2078, 0.0), (2079, 0.005158783283039406), (2080, 0.0), (2081, 0.0), (2082, 0.0), (2083, 0.0), (2084, 0.0), (2085, 0.01714157709923801), (2086, 0.017139333731068), (2087, 0.0), (2088, 0.012498371246502974), (2089, 0.0), (2090, 0.0), (2091, 0.0), (2092, 0.0), (2093, 0.0), (2094, 0.004317800226708941), (2095, 0.01284094929785756), (2096, 0.0), (2097, 0.03136950620874827), (2098, 0.07728781456108877), (2099, 0.0), (2100, 0.026704808659930815), (2101, 0.0), (2102, 0.03650962934665532), (2103, 0.009136211369480401), (2104, 0.02990568921841475), (2105, 0.0), (2106, 0.0), (2107, 0.01129826928749322), (2108, 0.0), (2109, 0.02816457447968612), (2110, 0.0), (2111, 0.020586400861155166), (2112, 0.0049455869209389615), (2113, 0.02670657149038768), (2114, 0.025884430009484788), (2115, 0.0), (2116, 0.012974940399418565), (2117, 0.0), (2118, 0.03143152695687794), (2119, 0.0), (2120, 0.0), (2121, 0.02303789722294199), (2122, 0.00929766469642601), (2123, 0.0), (2124, 0.0), (2125, 0.0), (2126, 0.00484210157709626), (2127, 0.0), (2128, 0.004497041272015855), (2129, 0.0), (2130, 0.0), (2131, 0.004483581920113575), (2132, 0.0), (2133, 0.0), (2134, 0.0), (2135, 0.0786513630988084), (2136, 0.0), (2137, 0.0), (2138, 0.05030061976693408), (2139, 0.0), (2140, 0.019682921697665525), (2141, 0.0), (2142, 0.0), (2143, 0.010879216710529714), (2144, 0.011749452674082938), (2145, 0.05607712441245663), (2146, 0.0), (2147, 0.0048774806457525756), (2148, 0.0), (2149, 0.0), (2150, 0.012707561738385852), (2151, 0.0), (2152, 0.0), (2153, 0.013132184835031913), (2154, 0.0), (2155, 0.01708292612898855), (2156, 0.004078144723624818), (2157, 0.0), (2158, 0.01049951822826104), (2159, 0.010270626190540016), (2160, 0.009047596342454233), (2161, 0.0548516523609949), (2162, 0.0), (2163, 0.0), (2164, 0.0), (2165, 0.0), (2166, 0.0), (2167, 0.02528053011382141), (2168, 0.0), (2169, 0.004619497192733914), (2170, 0.015728519448170965), (2171, 0.0), (2172, 0.0), (2173, 0.0), (2174, 0.009193357192589152), (2175, 0.008683939812102075), (2176, 0.0), (2177, 0.014101766888403767), (2178, 0.00452447571244067), (2179, 0.0), (2180, 0.005225522570434169), (2181, 0.0), (2182, 0.0), (2183, 0.012459456880181177), (2184, 0.026080733512336605), (2185, 0.014568659404441717), (2186, 0.0), (2187, 0.0), (2188, 0.0), (2189, 0.0), (2190, 0.05123772875020859), (2191, 0.008605053582349009), (2192, 0.01164187732352083), (2193, 0.004639924113694541), (2194, 0.0), (2195, 0.020232390653558495), (2196, 0.02711736319842687), (2197, 0.04053968965694754), (2198, 0.0046322062088606985), (2199, 0.0), (2200, 0.014082315941061395), (2201, 0.02153683998797439), (2202, 0.0), (2203, 0.0), (2204, 0.011991688299672894), (2205, 0.0), (2206, 0.011424489579066084), (2207, 0.012872616167274134), (2208, 0.0), (2209, 0.0), (2210, 0.0), (2211, 0.023896394294247253), (2212, 0.024427745955589223), (2213, 0.0), (2214, 0.0), (2215, 0.009030991388376597), (2216, 0.0), (2217, 0.0), (2218, 0.04340717874624073), (2219, 0.0), (2220, 0.00730223224398341), (2221, 0.041238052237752496), (2222, 0.017477328064378406), (2223, 0.0), (2224, 0.008557799725810332), (2225, 0.0), (2226, 0.011682291803446519), (2227, 0.02495135849344439), (2228, 0.0), (2229, 0.0), (2230, 0.0), (2231, 0.0), (2232, 0.026334037840866575), (2233, 0.0), (2234, 0.03546405944246364), (2235, 0.02243834644197641), (2236, 0.019583318537141667), (2237, 0.024425305214921828), (2238, 0.0), (2239, 0.013604809645048465), (2240, 0.0), (2241, 0.004873369684112401), (2242, 0.0), (2243, 0.0), (2244, 0.0), (2245, 0.027025917993535542), (2246, 0.004698328797472407), (2247, 0.0), (2248, 0.0), (2249, 0.0), (2250, 0.05429454782716734), (2251, 0.0), (2252, 0.010006735774840498), (2253, 0.0), (2254, 0.0), (2255, 0.0), (2256, 0.0), (2257, 0.0), (2258, 0.0), (2259, 0.004937797180971773), (2260, 0.0), (2261, 0.0), (2262, 0.012677470306913326), (2263, 0.029412264246985627), (2264, 0.06831850140558739), (2265, 0.0), (2266, 0.01951336484389762), (2267, 0.016167142734915894), (2268, 0.01649382283940347), (2269, 0.0), (2270, 0.0), (2271, 0.0), (2272, 0.0), (2273, 0.0), (2274, 0.014493694322689207), (2275, 0.0), (2276, 0.0), (2277, 0.004811849344172637), (2278, 0.004710319562768656), (2279, 0.0), (2280, 0.04122607689943975), (2281, 0.0), (2282, 0.0), (2283, 0.02798061519995747), (2284, 0.0), (2285, 0.008280585706019881), (2286, 0.0), (2287, 0.008499782011962479), (2288, 0.0), (2289, 0.0), (2290, 0.04909908296043263), (2291, 0.004332298495381543), (2292, 0.03276490553660233), (2293, 0.0), (2294, 0.0), (2295, 0.0), (2296, 0.0038151719966352205), (2297, 0.01889869450870886), (2298, 0.0), (2299, 0.04524595886124629), (2300, 0.0), (2301, 0.004231428605095467), (2302, 0.0), (2303, 0.03045689590523367), (2304, 0.0), (2305, 0.0), (2306, 0.0), (2307, 0.0), (2308, 0.0), (2309, 0.0), (2310, 0.0), (2311, 0.013057742552848086), (2312, 0.0), (2313, 0.0), (2314, 0.0), (2315, 0.0), (2316, 0.0), (2317, 0.013696497182949623), (2318, 0.007665800997315312), (2319, 0.0), (2320, 0.010728450207961458), (2321, 0.06271290407027308), (2322, 0.06867888541061992), (2323, 0.0), (2324, 0.0), (2325, 0.0), (2326, 0.011793553565379375), (2327, 0.0197549858636853), (2328, 0.0), (2329, 0.039739920155827044), (2330, 0.0), (2331, 0.0), (2332, 0.013554477609036683), (2333, 0.0), (2334, 0.004876153883394447), (2335, 0.06933443416404116), (2336, 0.0), (2337, 0.0), (2338, 0.008267307919711902), (2339, 0.005190831921813864), (2340, 0.0453425059989118), (2341, 0.0), (2342, 0.0), (2343, 0.0), (2344, 0.0), (2345, 0.0), (2346, 0.0), (2347, 0.008781561210171807), (2348, 0.0), (2349, 0.0), (2350, 0.0), (2351, 0.005424428871366557), (2352, 0.022033374118387416), (2353, 0.029055150499990443), (2354, 0.011677957414532345), (2355, 0.0), (2356, 0.0), (2357, 0.0), (2358, 0.0), (2359, 0.034240554179918996), (2360, 0.03217000066976449), (2361, 0.0), (2362, 0.0), (2363, 0.00584767816061335), (2364, 0.0), (2365, 0.017666735948369438), (2366, 0.015426271020799171), (2367, 0.015228772020512881), (2368, 0.01387347657240528), (2369, 0.0), (2370, 0.032108160768726676), (2371, 0.0), (2372, 0.028775153591110283), (2373, 0.0), (2374, 0.0), (2375, 0.0), (2376, 0.007225453408260219), (2377, 0.003810044012365334), (2378, 0.011401986530095297), (2379, 0.0), (2380, 0.0), (2381, 0.0), (2382, 0.0), (2383, 0.0), (2384, 0.0), (2385, 0.0), (2386, 0.0), (2387, 0.0), (2388, 0.0), (2389, 0.0), (2390, 0.012458213175981607), (2391, 0.0), (2392, 0.03587605080138094), (2393, 0.07687397917417865), (2394, 0.0), (2395, 0.0), (2396, 0.0), (2397, 0.0), (2398, 0.03527008247414435), (2399, 0.008579881047127466), (2400, 0.0), (2401, 0.0), (2402, 0.0), (2403, 0.0), (2404, 0.0), (2405, 0.0), (2406, 0.032364205680931596), (2407, 0.0), (2408, 0.02509823712849136), (2409, 0.013454121664379058), (2410, 0.0), (2411, 0.0), (2412, 0.007942369063873904), (2413, 0.01780426710646325), (2414, 0.018033110894330903), (2415, 0.0), (2416, 0.0047171617431027435), (2417, 0.0), (2418, 0.004997919931846071), (2419, 0.0), (2420, 0.0), (2421, 0.009465599529872276), (2422, 0.009198011144894018), (2423, 0.0), (2424, 0.0), (2425, 0.0), (2426, 0.0), (2427, 0.010788536874180197), (2428, 0.0), (2429, 0.0), (2430, 0.01359951065018862), (2431, 0.004772210538414283), (2432, 0.0), (2433, 0.07579498923004277), (2434, 0.0), (2435, 0.0), (2436, 0.005067625030345518), (2437, 0.0), (2438, 0.0), (2439, 0.0), (2440, 0.0), (2441, 0.009581843025706947), (2442, 0.022903788236049962), (2443, 0.0682334265349309), (2444, 0.0047454975186691575), (2445, 0.044104948567515), (2446, 0.004414934405106815), (2447, 0.003965413461913207), (2448, 0.0), (2449, 0.0), (2450, 0.024541696454396453), (2451, 0.014235195367287698), (2452, 0.0), (2453, 0.0), (2454, 0.0), (2455, 0.0), (2456, 0.0), (2457, 0.014993848464922499), (2458, 0.005357151786972874), (2459, 0.0), (2460, 0.009997102304665268), (2461, 0.0), (2462, 0.014726315950779768), (2463, 0.0), (2464, 0.0), (2465, 0.0), (2466, 0.0), (2467, 0.0), (2468, 0.0), (2469, 0.0), (2470, 0.0), (2471, 0.0), (2472, 0.012757816683030861), (2473, 0.015469822064794756), (2474, 0.011062724164911131), (2475, 0.0), (2476, 0.030672442899543243), (2477, 0.0), (2478, 0.0), (2479, 0.015867618653059797), (2480, 0.0045027912707573175), (2481, 0.013870008029570658), (2482, 0.0), (2483, 0.0), (2484, 0.01752234079603365), (2485, 0.010481320665382826), (2486, 0.0), (2487, 0.004828800601492171), (2488, 0.0), (2489, 0.0), (2490, 0.0), (2491, 0.004277669007368061), (2492, 0.009366107227252), (2493, 0.0), (2494, 0.022158217012763975), (2495, 0.0), (2496, 0.016491487928861577), (2497, 0.0), (2498, 0.008968500403721713), (2499, 0.0), (2500, 0.0), (2501, 0.004661515163844957), (2502, 0.037878734309282076), (2503, 0.004588521336411953), (2504, 0.018647104767852318), (2505, 0.0), (2506, 0.0), (2507, 0.01012016537528373), (2508, 0.0), (2509, 0.05079923168947091), (2510, 0.010311660996154472), (2511, 0.004732504549020054), (2512, 0.0), (2513, 0.012852926016713416), (2514, 0.012793685474387815), (2515, 0.0), (2516, 0.014561104653164073), (2517, 0.01997280060326408), (2518, 0.005150671246740923), (2519, 0.0), (2520, 0.0), (2521, 0.01713697758666311), (2522, 0.0), (2523, 0.0), (2524, 0.0), (2525, 0.012739187597075667), (2526, 0.01418096309116974), (2527, 0.0), (2528, 0.011068206661301937), (2529, 0.0), (2530, 0.0), (2531, 0.0), (2532, 0.015530661818807351), (2533, 0.01184026655950729), (2534, 0.006381125608954107), (2535, 0.0), (2536, 0.0), (2537, 0.0), (2538, 0.005846367968777364), (2539, 0.01186899450567266), (2540, 0.03255496672890229), (2541, 0.03461624256697866), (2542, 0.0), (2543, 0.0), (2544, 0.007984828689593356), (2545, 0.0), (2546, 0.004955501403787904), (2547, 0.005673221180895805), (2548, 0.01740085125978397), (2549, 0.0), (2550, 0.01037416120036071), (2551, 0.0), (2552, 0.013109727405256809), (2553, 0.040438412532811496), (2554, 0.016741177144064173), (2555, 0.0), (2556, 0.0), (2557, 0.0), (2558, 0.0), (2559, 0.0), (2560, 0.01816622643741341), (2561, 0.0), (2562, 0.01588060265728072), (2563, 0.02368118674587839), (2564, 0.0), (2565, 0.0), (2566, 0.0), (2567, 0.0), (2568, 0.04937927460082482), (2569, 0.0), (2570, 0.01897220653682568), (2571, 0.0), (2572, 0.0), (2573, 0.010163754921679624), (2574, 0.012778099990923573), (2575, 0.0), (2576, 0.0), (2577, 0.0), (2578, 0.015423844326999437), (2579, 0.012821359244356572), (2580, 0.03841535311758176), (2581, 0.005572930748944442), (2582, 0.00943911604511098), (2583, 0.026308382709404582), (2584, 0.04986967074953151), (2585, 0.021194241427463338), (2586, 0.012516429349937729), (2587, 0.004085282349652352), (2588, 0.034930466271423946), (2589, 0.02291780033165979), (2590, 0.0), (2591, 0.08090129866064469), (2592, 0.0), (2593, 0.0), (2594, 0.0), (2595, 0.014476369506249477), (2596, 0.0), (2597, 0.0), (2598, 0.0), (2599, 0.0), (2600, 0.0), (2601, 0.009996795575999749), (2602, 0.0), (2603, 0.014029378490862672), (2604, 0.0), (2605, 0.0), (2606, 0.0), (2607, 0.0), (2608, 0.004231418313628471), (2609, 0.0), (2610, 0.004799126699792029), (2611, 0.0318380526026114), (2612, 0.016416742213909388), (2613, 0.0), (2614, 0.0), (2615, 0.03687918742583726), (2616, 0.008948942291767572), (2617, 0.0), (2618, 0.0), (2619, 0.0), (2620, 0.0), (2621, 0.0), (2622, 0.003892760755700533), (2623, 0.07295690475344321), (2624, 0.0), (2625, 0.01057519258364999), (2626, 0.01816507112812233), (2627, 0.004091936731404003), (2628, 0.0), (2629, 0.0), (2630, 0.0), (2631, 0.004337236654485107), (2632, 0.01879679751891888), (2633, 0.01773170861278126), (2634, 0.029650538246336813), (2635, 0.0), (2636, 0.015540561200778406), (2637, 0.009535439283791691), (2638, 0.0), (2639, 0.0), (2640, 0.004655378983728655), (2641, 0.0), (2642, 0.015909997971254586), (2643, 0.0), (2644, 0.011263376767875885), (2645, 0.005948712095573898), (2646, 0.030375611480401802), (2647, 0.10379052444865502), (2648, 0.0), (2649, 0.038858622475047386), (2650, 0.0), (2651, 0.0), (2652, 0.013395770676445406), (2653, 0.0), (2654, 0.04419223036318162), (2655, 0.0), (2656, 0.011220371313479595), (2657, 0.0), (2658, 0.0), (2659, 0.0), (2660, 0.03994731533948304), (2661, 0.012009183725643937), (2662, 0.030263075526670537), (2663, 0.02057952960935401), (2664, 0.03232054483623902), (2665, 0.007698976341899908), (2666, 0.02819916165726071), (2667, 0.037666840586524954), (2668, 0.048379666349224526), (2669, 0.0), (2670, 0.0), (2671, 0.00719025475684119), (2672, 0.0), (2673, 0.005751059134229389), (2674, 0.0), (2675, 0.004933864035055193), (2676, 0.0), (2677, 0.015938852653623138), (2678, 0.0), (2679, 0.0), (2680, 0.00864290738578014), (2681, 0.0), (2682, 0.060430111404663304), (2683, 0.0), (2684, 0.0), (2685, 0.011741072086134292), (2686, 0.008474607063231188), (2687, 0.009308192107795559), (2688, 0.011651604184174925), (2689, 0.004805154130511148), (2690, 0.0), (2691, 0.004734567764081554), (2692, 0.0), (2693, 0.0), (2694, 0.0), (2695, 0.0), (2696, 0.014292235182951253), (2697, 0.0), (2698, 0.004502352321016891), (2699, 0.0), (2700, 0.0), (2701, 0.0), (2702, 0.0), (2703, 0.0), (2704, 0.014891055297186696), (2705, 0.0), (2706, 0.004628430497234411), (2707, 0.0), (2708, 0.013919345322868763), (2709, 0.0), (2710, 0.020916806520884616), (2711, 0.0), (2712, 0.014730383037574554), (2713, 0.0), (2714, 0.0), (2715, 0.017668063203595586), (2716, 0.0), (2717, 0.015137467219460824), (2718, 0.0), (2719, 0.014295959056149754), (2720, 0.026554333363532596), (2721, 0.0), (2722, 0.0), (2723, 0.0), (2724, 0.008255127698151548), (2725, 0.004774609766895227), (2726, 0.0), (2727, 0.0), (2728, 0.0), (2729, 0.004739828724604361), (2730, 0.01126910986742615), (2731, 0.0), (2732, 0.016519479200672604), (2733, 0.0), (2734, 0.013032704622963994), (2735, 0.0), (2736, 0.0), (2737, 0.0), (2738, 0.00558267219982423), (2739, 0.0), (2740, 0.005309988419803354), (2741, 0.01069960546238177), (2742, 0.0), (2743, 0.0), (2744, 0.0), (2745, 0.0), (2746, 0.0191213755999623), (2747, 0.04931007029552961), (2748, 0.0), (2749, 0.01459043467752364), (2750, 0.0), (2751, 0.008832957266316844), (2752, 0.041613672602981676), (2753, 0.036291970357276326), (2754, 0.0), (2755, 0.005059001082984585), (2756, 0.0), (2757, 0.0), (2758, 0.0), (2759, 0.04322265071860066), (2760, 0.022103823821607197), (2761, 0.013868044586504286), (2762, 0.021099533970133998), (2763, 0.009031417674975579), (2764, 0.0), (2765, 0.008867530404400322), (2766, 0.026746460794695368), (2767, 0.0), (2768, 0.0), (2769, 0.0), (2770, 0.014687853692865), (2771, 0.010614105671660705), (2772, 0.0), (2773, 0.0), (2774, 0.0037037020458313714), (2775, 0.0), (2776, 0.009952011079475197), (2777, 0.004452162907914191), (2778, 0.0), (2779, 0.0), (2780, 0.0), (2781, 0.01602957944670996), (2782, 0.013302003626853059), (2783, 0.0), (2784, 0.0), (2785, 0.0), (2786, 0.0), (2787, 0.0), (2788, 0.01643148898721151), (2789, 0.027194275343738403), (2790, 0.004853818383640786), (2791, 0.008825475239372571), (2792, 0.004691690039169041), (2793, 0.021503004805440488), (2794, 0.0), (2795, 0.0), (2796, 0.0), (2797, 0.0), (2798, 0.004822575520482916), (2799, 0.0), (2800, 0.0), (2801, 0.012266245002058782), (2802, 0.0), (2803, 0.0), (2804, 0.011588170503985584), (2805, 0.0), (2806, 0.0), (2807, 0.004668216001409092), (2808, 0.004539539641048872), (2809, 0.04738650611481758), (2810, 0.0), (2811, 0.0), (2812, 0.00461944976049092), (2813, 0.05621200059313958), (2814, 0.03609364623133594), (2815, 0.0), (2816, 0.004809005077468771), (2817, 0.01481309206825326), (2818, 0.006542838714080718), (2819, 0.0), (2820, 0.0), (2821, 0.0), (2822, 0.011623315022930247), (2823, 0.0), (2824, 0.018474606010038242), (2825, 0.0), (2826, 0.009197262876634811), (2827, 0.0), (2828, 0.0), (2829, 0.008916043051908455), (2830, 0.0), (2831, 0.024753745738386825), (2832, 0.0), (2833, 0.0), (2834, 0.00558151529838379), (2835, 0.051538626545925885), (2836, 0.0), (2837, 0.0), (2838, 0.0), (2839, 0.0239782085079974), (2840, 0.017939482071552083), (2841, 0.01448607179383068), (2842, 0.003953627795227295), (2843, 0.0), (2844, 0.018979871406094206), (2845, 0.008474733707910817), (2846, 0.0), (2847, 0.0), (2848, 0.0), (2849, 0.0), (2850, 0.0), (2851, 0.019413788436976224), (2852, 0.031568472836142565), (2853, 0.0), (2854, 0.017977607146607132), (2855, 0.00419308085009435), (2856, 0.01373442357563801), (2857, 0.049479760932224), (2858, 0.0), (2859, 0.004377603438512538), (2860, 0.0), (2861, 0.0), (2862, 0.004343051816878774), (2863, 0.0), (2864, 0.014369195329549254), (2865, 0.011932264151790275), (2866, 0.0), (2867, 0.014815941946301623), (2868, 0.0), (2869, 0.0), (2870, 0.0), (2871, 0.0), (2872, 0.0), (2873, 0.005056510228562112), (2874, 0.0), (2875, 0.0), (2876, 0.014539003538991088), (2877, 0.0), (2878, 0.014224139570601547), (2879, 0.0), (2880, 0.0), (2881, 0.0), (2882, 0.012981878128389366), (2883, 0.0), (2884, 0.03788463981960492), (2885, 0.0), (2886, 0.0), (2887, 0.0), (2888, 0.0), (2889, 0.0), (2890, 0.0), (2891, 0.0), (2892, 0.004373382036389196), (2893, 0.0), (2894, 0.0), (2895, 0.0), (2896, 0.0), (2897, 0.09992308193227724), (2898, 0.0), (2899, 0.015083735725756029), (2900, 0.004798494784416215), (2901, 0.0), (2902, 0.0), (2903, 0.0), (2904, 0.0), (2905, 0.0), (2906, 0.004188435892587925), (2907, 0.0), (2908, 0.020421338881329472), (2909, 0.0), (2910, 0.0047758336959967075), (2911, 0.004897160436898434), (2912, 0.009264845786941431), (2913, 0.0), (2914, 0.0), (2915, 0.01288387296605343), (2916, 0.0), (2917, 0.0), (2918, 0.011631653935373566), (2919, 0.0), (2920, 0.004294111481736735), (2921, 0.0), (2922, 0.0), (2923, 0.0), (2924, 0.0), (2925, 0.039349545277857674), (2926, 0.0), (2927, 0.015884135725141618), (2928, 0.0), (2929, 0.014494923702463008), (2930, 0.0), (2931, 0.008365329650846376), (2932, 0.0), (2933, 0.004054883584985134), (2934, 0.0), (2935, 0.008859645122263239), (2936, 0.0), (2937, 0.0), (2938, 0.06320528798093981), (2939, 0.0), (2940, 0.004764420060304617), (2941, 0.0), (2942, 0.012317640242575666), (2943, 0.0), (2944, 0.03860869886577605), (2945, 0.0), (2946, 0.0), (2947, 0.0), (2948, 0.0), (2949, 0.0), (2950, 0.0), (2951, 0.01796460324335028), (2952, 0.019721904751303632), (2953, 0.0), (2954, 0.015682270192179486), (2955, 0.0), (2956, 0.0), (2957, 0.02897250889945363), (2958, 0.0), (2959, 0.0), (2960, 0.0), (2961, 0.0), (2962, 0.03256172226291742), (2963, 0.004871370726782185), (2964, 0.020906782370161164), (2965, 0.034969689479108924), (2966, 0.0), (2967, 0.0), (2968, 0.0), (2969, 0.003933377719710129), (2970, 0.0), (2971, 0.0), (2972, 0.0), (2973, 0.0), (2974, 0.0), (2975, 0.008096390154350146), (2976, 0.0), (2977, 0.0), (2978, 0.0), (2979, 0.0), (2980, 0.038152782704879665), (2981, 0.018363158598250044), (2982, 0.013678680970183448), (2983, 0.0), (2984, 0.0), (2985, 0.0038722506050604044), (2986, 0.0), (2987, 0.0), (2988, 0.0), (2989, 0.0), (2990, 0.0), (2991, 0.0), (2992, 0.0), (2993, 0.0), (2994, 0.0), (2995, 0.0), (2996, 0.019499157316430968), (2997, 0.0), (2998, 0.0), (2999, 0.012275451078090709), (3000, 0.009515418218837486), (3001, 0.0), (3002, 0.0), (3003, 0.013683112117140853), (3004, 0.0), (3005, 0.0), (3006, 0.0), (3007, 0.0), (3008, 0.0), (3009, 0.0), (3010, 0.013494706183326717), (3011, 0.004449397960626596), (3012, 0.0), (3013, 0.0), (3014, 0.008985546760740976), (3015, 0.0), (3016, 0.0), (3017, 0.0), (3018, 0.004668102456264666), (3019, 0.0), (3020, 0.0), (3021, 0.0), (3022, 0.010579058469870397), (3023, 0.0), (3024, 0.02411760005886141), (3025, 0.0), (3026, 0.0), (3027, 0.044859528544870304), (3028, 0.004360160356923398), (3029, 0.0), (3030, 0.038566739914873374), (3031, 0.0), (3032, 0.0), (3033, 0.004608025846622678), (3034, 0.0), (3035, 0.0), (3036, 0.0), (3037, 0.0), (3038, 0.0), (3039, 0.0), (3040, 0.0), (3041, 0.0), (3042, 0.0), (3043, 0.0), (3044, 0.0), (3045, 0.00776691884931773), (3046, 0.004414673470345774), (3047, 0.03485766396263608), (3048, 0.0), (3049, 0.0), (3050, 0.0), (3051, 0.0), (3052, 0.0), (3053, 0.0045834794653891), (3054, 0.0), (3055, 0.0), (3056, 0.0), (3057, 0.018823663783449778), (3058, 0.0), (3059, 0.0), (3060, 0.012348208558886782), (3061, 0.0), (3062, 0.0), (3063, 0.0), (3064, 0.0), (3065, 0.0), (3066, 0.004544905544557821), (3067, 0.0), (3068, 0.0), (3069, 0.0), (3070, 0.0), (3071, 0.004272364582634138), (3072, 0.0), (3073, 0.004619592640339384), (3074, 0.0), (3075, 0.0), (3076, 0.0), (3077, 0.011130681077052257), (3078, 0.0), (3079, 0.0), (3080, 0.0), (3081, 0.0), (3082, 0.0), (3083, 0.01599898547637367), (3084, 0.0), (3085, 0.0), (3086, 0.0), (3087, 0.0), (3088, 0.0), (3089, 0.0), (3090, 0.0), (3091, 0.007819985542907002), (3092, 0.021160603112797837), (3093, 0.0), (3094, 0.0), (3095, 0.0), (3096, 0.008137377811820647), (3097, 0.0), (3098, 0.027247019446981442), (3099, 0.0), (3100, 0.0), (3101, 0.020198411112682016), (3102, 0.0), (3103, 0.0332463448318549), (3104, 0.011593724025609833), (3105, 0.0), (3106, 0.017089273657487084), (3107, 0.0), (3108, 0.00408437814941037), (3109, 0.039733848001365146), (3110, 0.017460148251437806), (3111, 0.022383972084418106), (3112, 0.0), (3113, 0.009850352329880664), (3114, 0.0), (3115, 0.0), (3116, 0.043238831963565656), (3117, 0.010454763495489227), (3118, 0.0), (3119, 0.03903830472622196), (3120, 0.06566684814327177), (3121, 0.013540133340750944), (3122, 0.009107346176567522), (3123, 0.0), (3124, 0.0), (3125, 0.004713354074546113), (3126, 0.0), (3127, 0.0043013787085792975), (3128, 0.0), (3129, 0.028576156777620997), (3130, 0.0), (3131, 0.0), (3132, 0.0), (3133, 0.026558144259605967), (3134, 0.0), (3135, 0.0), (3136, 0.0), (3137, 0.0), (3138, 0.0), (3139, 0.0), (3140, 0.0), (3141, 0.008912533044411771), (3142, 0.006306781414913465), (3143, 0.0), (3144, 0.06226273433556709), (3145, 0.0062175266913290774), (3146, 0.0), (3147, 0.0), (3148, 0.0), (3149, 0.01566131746995232), (3150, 0.0046647625232925675), (3151, 0.004524319650825216), (3152, 0.011415124585413957), (3153, 0.0), (3154, 0.0), (3155, 0.016475527948345895), (3156, 0.0), (3157, 0.0), (3158, 0.0), (3159, 0.0), (3160, 0.0), (3161, 0.0), (3162, 0.09841134358161054), (3163, 0.0), (3164, 0.0), (3165, 0.0), (3166, 0.0), (3167, 0.0), (3168, 0.0), (3169, 0.0), (3170, 0.0), (3171, 0.0), (3172, 0.005408137152000178), (3173, 0.02401800260329007), (3174, 0.0), (3175, 0.00986000482609358), (3176, 0.0), (3177, 0.0), (3178, 0.0), (3179, 0.02482329837282481), (3180, 0.013200151039708346), (3181, 0.04989810275006395), (3182, 0.0), (3183, 0.0), (3184, 0.0), (3185, 0.0), (3186, 0.0), (3187, 0.0), (3188, 0.011627087222546982), (3189, 0.0), (3190, 0.0), (3191, 0.0), (3192, 0.0), (3193, 0.0), (3194, 0.0), (3195, 0.009215194992984996), (3196, 0.0), (3197, 0.0), (3198, 0.0), (3199, 0.019439593670467173), (3200, 0.0), (3201, 0.069162468660978), (3202, 0.0), (3203, 0.0), (3204, 0.0), (3205, 0.018305440295667764), (3206, 0.013872212449483466), (3207, 0.0), (3208, 0.03394728012300722), (3209, 0.02435480197867172), (3210, 0.0), (3211, 0.004065655345950842), (3212, 0.03918719376784896), (3213, 0.07251809170170026), (3214, 0.01667095681153511), (3215, 0.008121084345179398), (3216, 0.0), (3217, 0.0), (3218, 0.026492778391804906), (3219, 0.0), (3220, 0.0), (3221, 0.013184006514672449), (3222, 0.003903289736164819), (3223, 0.0), (3224, 0.009785096706196114), (3225, 0.04485315738958963), (3226, 0.00422350823673969), (3227, 0.0), (3228, 0.03839235503715968), (3229, 0.009888534803641076), (3230, 0.0), (3231, 0.02356293714967269), (3232, 0.0), (3233, 0.004790104803443868), (3234, 0.010059460233391944), (3235, 0.0), (3236, 0.0), (3237, 0.0045540659265215265), (3238, 0.03442001735936331), (3239, 0.0), (3240, 0.004377728129060865), (3241, 0.0), (3242, 0.0), (3243, 0.0), (3244, 0.019684536215540525), (3245, 0.0), (3246, 0.0), (3247, 0.0), (3248, 0.0), (3249, 0.0), (3250, 0.0), (3251, 0.013929357396256805), (3252, 0.024529076736068994), (3253, 0.0), (3254, 0.010256417326263078), (3255, 0.0), (3256, 0.026981065640066127), (3257, 0.0), (3258, 0.0), (3259, 0.004890537410055863), (3260, 0.035218364272970114), (3261, 0.0), (3262, 0.0), (3263, 0.0314733432827761), (3264, 0.004898293745168289), (3265, 0.004659123062444467), (3266, 0.0), (3267, 0.0), (3268, 0.0), (3269, 0.01713557183049708), (3270, 0.03010519638714495), (3271, 0.0), (3272, 0.026564843853262986), (3273, 0.01288349752508179), (3274, 0.0), (3275, 0.0), (3276, 0.0), (3277, 0.0049957914833573935), (3278, 0.0), (3279, 0.010513294078182928), (3280, 0.0), (3281, 0.0), (3282, 0.0), (3283, 0.06158682685861196), (3284, 0.012809055963888639), (3285, 0.0), (3286, 0.02629297314122723), (3287, 0.01395114875246369), (3288, 0.03135506528898712), (3289, 0.0), (3290, 0.0), (3291, 0.0), (3292, 0.0), (3293, 0.015675329492253094), (3294, 0.028973235757472154), (3295, 0.004454249517958832), (3296, 0.0), (3297, 0.023648815656600035), (3298, 0.016254729860476342), (3299, 0.0), (3300, 0.0), (3301, 0.0), (3302, 0.04478557834132415), (3303, 0.016773872027443598), (3304, 0.0), (3305, 0.0), (3306, 0.030866910983595022), (3307, 0.0), (3308, 0.033085039772035876), (3309, 0.0), (3310, 0.0), (3311, 0.012978742930482685), (3312, 0.01818293705974891), (3313, 0.02675499332766994), (3314, 0.0), (3315, 0.0231257665141027), (3316, 0.0036087269287464045), (3317, 0.026122262224428653), (3318, 0.011030503803363933), (3319, 0.0), (3320, 0.022287801845861214), (3321, 0.004667061756899141), (3322, 0.0), (3323, 0.0), (3324, 0.0), (3325, 0.0), (3326, 0.0), (3327, 0.004115742101009117), (3328, 0.02763083965418225), (3329, 0.008517528651986756), (3330, 0.016534704879946776), (3331, 0.062099843324657664), (3332, 0.0), (3333, 0.0), (3334, 0.0), (3335, 0.0), (3336, 0.00408458465502944), (3337, 0.0), (3338, 0.02045159826879083), (3339, 0.0), (3340, 0.0), (3341, 0.0), (3342, 0.004297613509777623), (3343, 0.004495554637205033), (3344, 0.021332634103557045), (3345, 0.011436874325878263), (3346, 0.011811232080973991), (3347, 0.0), (3348, 0.0), (3349, 0.0), (3350, 0.0), (3351, 0.0), (3352, 0.0), (3353, 0.0), (3354, 0.0), (3355, 0.0), (3356, 0.0), (3357, 0.0), (3358, 0.0), (3359, 0.0), (3360, 0.004063350904611101), (3361, 0.03638089736461171), (3362, 0.0038311784330238904), (3363, 0.0), (3364, 0.005368023362109435), (3365, 0.0033263114014074635), (3366, 0.022206725584508404), (3367, 0.0), (3368, 0.004624231774566731), (3369, 0.010720205352236632), (3370, 0.008796017141358463), (3371, 0.0), (3372, 0.0), (3373, 0.03161134228059911), (3374, 0.004886961987673695), (3375, 0.02440201702650076), (3376, 0.010128283958169183), (3377, 0.0), (3378, 0.0), (3379, 0.0), (3380, 0.0), (3381, 0.0), (3382, 0.0), (3383, 0.0), (3384, 0.0052819223927462996), (3385, 0.0), (3386, 0.004788216387496734), (3387, 0.017519311367521148), (3388, 0.0), (3389, 0.015045284262937351), (3390, 0.049892300814664), (3391, 0.0), (3392, 0.0), (3393, 0.014770378729160375), (3394, 0.0), (3395, 0.012378431869065355), (3396, 0.0), (3397, 0.017538706894807417), (3398, 0.0), (3399, 0.004377501948575146), (3400, 0.0), (3401, 0.0), (3402, 0.0), (3403, 0.004053984864699207), (3404, 0.0), (3405, 0.0), (3406, 0.0), (3407, 0.016155350453614725), (3408, 0.013360337301947982), (3409, 0.003993618324051486), (3410, 0.0037382072677946293), (3411, 0.012695338210963606), (3412, 0.05595311467894686), (3413, 0.01354621707922538), (3414, 0.010317663105988575), (3415, 0.05831274424647593), (3416, 0.0), (3417, 0.0), (3418, 0.0), (3419, 0.0), (3420, 0.017265515758318653), (3421, 0.02507827575984093), (3422, 0.02478676746195074), (3423, 0.0), (3424, 0.010391377813634639), (3425, 0.013773845928908218), (3426, 0.0), (3427, 0.016984072867619254), (3428, 0.0), (3429, 0.0), (3430, 0.019611784596374818), (3431, 0.0), (3432, 0.0), (3433, 0.0), (3434, 0.0), (3435, 0.004612787365016316), (3436, 0.0), (3437, 0.0), (3438, 0.0), (3439, 0.0), (3440, 0.0), (3441, 0.028606093922309183), (3442, 0.012250531095306712), (3443, 0.012023974333327818), (3444, 0.019522003560252042), (3445, 0.0), (3446, 0.004666289539651901), (3447, 0.013167518025801472), (3448, 0.005752397236573459), (3449, 0.0), (3450, 0.0), (3451, 0.0), (3452, 0.009278410959685289), (3453, 0.0), (3454, 0.008895122875667792), (3455, 0.0), (3456, 0.02243568484428975), (3457, 0.03148689637088521), (3458, 0.018718491862108045), (3459, 0.015390385592459598), (3460, 0.0), (3461, 0.019118220570535385), (3462, 0.0), (3463, 0.004809737911813847), (3464, 0.0047386735866274884), (3465, 0.004368330352790094), (3466, 0.011348849399313493), (3467, 0.12370418176345631), (3468, 0.0), (3469, 0.005030356584020488), (3470, 0.0), (3471, 0.06668691816806842), (3472, 0.0), (3473, 0.015872442373678613), (3474, 0.01058906826675316), (3475, 0.0), (3476, 0.013428107795507294), (3477, 0.016528733339630324), (3478, 0.0), (3479, 0.0), (3480, 0.0), (3481, 0.01696962432531978), (3482, 0.013775187167817496), (3483, 0.0), (3484, 0.004136077658253915), (3485, 0.012037635478245719), (3486, 0.0), (3487, 0.00914996985278521), (3488, 0.03440643309936188), (3489, 0.0), (3490, 0.0), (3491, 0.004660900530930147), (3492, 0.0), (3493, 0.0), (3494, 0.0), (3495, 0.026637540957494814), (3496, 0.0), (3497, 0.0), (3498, 0.0), (3499, 0.0), (3500, 0.0), (3501, 0.012117055447079665), (3502, 0.005573818050828128), (3503, 0.02136703733330736), (3504, 0.0), (3505, 0.015025051324249583), (3506, 0.03237411533494784), (3507, 0.004779768225530111), (3508, 0.0), (3509, 0.032602910714057166), (3510, 0.0), (3511, 0.0), (3512, 0.0), (3513, 0.0), (3514, 0.0), (3515, 0.024126901157307184), (3516, 0.0), (3517, 0.02501883552461337), (3518, 0.021138768910105007), (3519, 0.0), (3520, 0.009323152706609637), (3521, 0.0), (3522, 0.0), (3523, 0.0), (3524, 0.0), (3525, 0.0), (3526, 0.03259076517476923), (3527, 0.0), (3528, 0.0), (3529, 0.00999800986386911), (3530, 0.0), (3531, 0.04432742336831582), (3532, 0.0), (3533, 0.0), (3534, 0.0), (3535, 0.0), (3536, 0.00464883344194426), (3537, 0.0), (3538, 0.0), (3539, 0.0), (3540, 0.03581303653030719), (3541, 0.0), (3542, 0.0), (3543, 0.0), (3544, 0.0), (3545, 0.0), (3546, 0.01565193373053209), (3547, 0.0), (3548, 0.0275001728957144), (3549, 0.00477993325756438), (3550, 0.026531815422755952), (3551, 0.004768319268619859), (3552, 0.0), (3553, 0.016575998703622884), (3554, 0.0), (3555, 0.0), (3556, 0.010354997220765105), (3557, 0.016519471834630043), (3558, 0.0), (3559, 0.04657104425828952), (3560, 0.0), (3561, 0.0), (3562, 0.01719293035643791), (3563, 0.004290637564731104), (3564, 0.0), (3565, 0.0), (3566, 0.004529470645430242), (3567, 0.004525062981584921), (3568, 0.0045867518026218345), (3569, 0.0), (3570, 0.0), (3571, 0.0), (3572, 0.0), (3573, 0.0), (3574, 0.01038363241255235), (3575, 0.0), (3576, 0.0), (3577, 0.005472137272344572), (3578, 0.020949823696577635), (3579, 0.012693168580487486), (3580, 0.0), (3581, 0.0), (3582, 0.0114406806142285), (3583, 0.0), (3584, 0.0), (3585, 0.009518335001246433), (3586, 0.0), (3587, 0.0), (3588, 0.0), (3589, 0.026404295588017476), (3590, 0.0), (3591, 0.0), (3592, 0.0), (3593, 0.013212336039823037), (3594, 0.020996997421717598), (3595, 0.0), (3596, 0.0), (3597, 0.0), (3598, 0.0041693240480210675), (3599, 0.004775850955802587), (3600, 0.0), (3601, 0.0), (3602, 0.011979308363523953), (3603, 0.0), (3604, 0.0), (3605, 0.0), (3606, 0.022816214065730686), (3607, 0.027607295904668795), (3608, 0.0), (3609, 0.0), (3610, 0.0054028211289639146), (3611, 0.045061388344642406), (3612, 0.017276491166725076), (3613, 0.0), (3614, 0.0), (3615, 0.01143614248475334), (3616, 0.019680194250539792), (3617, 0.0), (3618, 0.005091275679866488), (3619, 0.010375838643340997), (3620, 0.0), (3621, 0.07087792976340308), (3622, 0.0), (3623, 0.0), (3624, 0.0), (3625, 0.0), (3626, 0.012608329843365625), (3627, 0.0), (3628, 0.014701131706380042), (3629, 0.0), (3630, 0.017088981233942292), (3631, 0.027828763758532524), (3632, 0.07070531397885109), (3633, 0.0167346280687254), (3634, 0.0), (3635, 0.0), (3636, 0.0), (3637, 0.00840667832879221), (3638, 0.0), (3639, 0.0), (3640, 0.0), (3641, 0.0), (3642, 0.0), (3643, 0.004787657954969044), (3644, 0.011826588310831523), (3645, 0.0), (3646, 0.004415982629596119), (3647, 0.012299495029009046), (3648, 0.051127531078865286), (3649, 0.0), (3650, 0.023575040174190983), (3651, 0.015830141419196704), (3652, 0.0), (3653, 0.03958550938541659), (3654, 0.0), (3655, 0.004166195780981314), (3656, 0.0), (3657, 0.021313629213890926), (3658, 0.018274684051122692), (3659, 0.04587824959084886), (3660, 0.07357952881371861), (3661, 0.005292767227975781), (3662, 0.031505752692079766), (3663, 0.0), (3664, 0.0), (3665, 0.009150238612503728), (3666, 0.017541754344456654), (3667, 0.0), (3668, 0.02209224852754146), (3669, 0.0), (3670, 0.0), (3671, 0.016348739539331164), (3672, 0.0), (3673, 0.011687591545487364), (3674, 0.025910378388909618), (3675, 0.0), (3676, 0.0), (3677, 0.01014483823227679), (3678, 0.014637416774077849), (3679, 0.0), (3680, 0.0), (3681, 0.017805100119628273), (3682, 0.0), (3683, 0.016631254398147617), (3684, 0.013817811201758852), (3685, 0.029026759945389356), (3686, 0.0), (3687, 0.0), (3688, 0.0), (3689, 0.004746986326900652), (3690, 0.009414224922275146), (3691, 0.0), (3692, 0.0), (3693, 0.0), (3694, 0.0), (3695, 0.0), (3696, 0.015630680752863925), (3697, 0.01266381262788317), (3698, 0.051576798156960764), (3699, 0.0), (3700, 0.0), (3701, 0.004614530663690083), (3702, 0.0), (3703, 0.0), (3704, 0.0), (3705, 0.008629015836292856), (3706, 0.0), (3707, 0.0), (3708, 0.0), (3709, 0.013766771043334507), (3710, 0.0), (3711, 0.01485659506619241), (3712, 0.0), (3713, 0.0), (3714, 0.0), (3715, 0.0), (3716, 0.008502937351306966), (3717, 0.0), (3718, 0.0112641346527127), (3719, 0.0), (3720, 0.004529950544338334), (3721, 0.0), (3722, 0.029128876051502894), (3723, 0.0), (3724, 0.0), (3725, 0.0), (3726, 0.0), (3727, 0.0), (3728, 0.0), (3729, 0.0), (3730, 0.018274774629941336), (3731, 0.011863895372268892), (3732, 0.0), (3733, 0.0), (3734, 0.023540030429413505), (3735, 0.013883474891998355), (3736, 0.012875848328407786), (3737, 0.0), (3738, 0.0), (3739, 0.0045394115014357125), (3740, 0.0), (3741, 0.010975955005794354), (3742, 0.0), (3743, 0.009214409898886824), (3744, 0.0), (3745, 0.0), (3746, 0.025162115160870028), (3747, 0.012216642453774485), (3748, 0.004088966698946554), (3749, 0.0), (3750, 0.0), (3751, 0.007606888420670495), (3752, 0.012592262246759894), (3753, 0.0), (3754, 0.01070427708151858), (3755, 0.0), (3756, 0.0), (3757, 0.0), (3758, 0.0), (3759, 0.013897947276976354), (3760, 0.0), (3761, 0.0), (3762, 0.0), (3763, 0.0), (3764, 0.0), (3765, 0.009513618087224961), (3766, 0.0), (3767, 0.0), (3768, 0.012244704169811384), (3769, 0.016376079297783046), (3770, 0.0), (3771, 0.0), (3772, 0.0), (3773, 0.0), (3774, 0.0), (3775, 0.0), (3776, 0.02365682291666023), (3777, 0.0), (3778, 0.004725874358423871), (3779, 0.0), (3780, 0.004993303554480585), (3781, 0.0123823576347198), (3782, 0.023804074343066518), (3783, 0.0), (3784, 0.0), (3785, 0.029113722868341917), (3786, 0.004519003756936431), (3787, 0.0), (3788, 0.0), (3789, 0.0), (3790, 0.013918425302045428), (3791, 0.0), (3792, 0.0), (3793, 0.0), (3794, 0.008894842030664369), (3795, 0.0), (3796, 0.0), (3797, 0.017835544091078927), (3798, 0.0), (3799, 0.0), (3800, 0.0), (3801, 0.01543302670118593), (3802, 0.010354329275692457), (3803, 0.015721971611488382), (3804, 0.0), (3805, 0.013568403766806871), (3806, 0.0), (3807, 0.0), (3808, 0.035880506102425255), (3809, 0.012017245893459873), (3810, 0.004954227295246618), (3811, 0.0), (3812, 0.01431418985016075), (3813, 0.0), (3814, 0.0), (3815, 0.0), (3816, 0.014649934970218251), (3817, 0.02516294803053403), (3818, 0.004646769070909275), (3819, 0.0044585942420373925), (3820, 0.0), (3821, 0.003912599404903461), (3822, 0.023045115918684873), (3823, 0.00893759850235906), (3824, 0.01086986902526583), (3825, 0.04764685700337758), (3826, 0.015625530878520352), (3827, 0.0), (3828, 0.0), (3829, 0.04769135293970834), (3830, 0.030003463303951497), (3831, 0.0), (3832, 0.0), (3833, 0.0), (3834, 0.0), (3835, 0.007600463363230867), (3836, 0.0), (3837, 0.0), (3838, 0.08309722353019833), (3839, 0.010530862661113515), (3840, 0.012073393053926025), (3841, 0.004279427643511585), (3842, 0.0), (3843, 0.0441783891232348), (3844, 0.0), (3845, 0.0), (3846, 0.013525962199476287), (3847, 0.013479698503359118), (3848, 0.0), (3849, 0.0), (3850, 0.0), (3851, 0.0), (3852, 0.0702585113213669), (3853, 0.0), (3854, 0.013012327358633578), (3855, 0.0), (3856, 0.0), (3857, 0.004963639068666696), (3858, 0.018569892092794006), (3859, 0.0), (3860, 0.05913917288509094), (3861, 0.0), (3862, 0.0), (3863, 0.010771835924128895), (3864, 0.05246916627233068), (3865, 0.053273459320502994), (3866, 0.01957712234143015), (3867, 0.0), (3868, 0.004497585338704004), (3869, 0.0), (3870, 0.0569222703427778), (3871, 0.08982648098988345), (3872, 0.0), (3873, 0.0), (3874, 0.0), (3875, 0.007544597624418368), (3876, 0.01166235693420923), (3877, 0.0), (3878, 0.0), (3879, 0.0), (3880, 0.0), (3881, 0.0), (3882, 0.02131465903862012), (3883, 0.0), (3884, 0.0), (3885, 0.0), (3886, 0.004448569597351016), (3887, 0.0), (3888, 0.0), (3889, 0.012954897825677054), (3890, 0.020544615574669897), (3891, 0.004414017473936185), (3892, 0.0), (3893, 0.01795140061373595), (3894, 0.013176274189356173), (3895, 0.0), (3896, 0.0), (3897, 0.00508190754740033), (3898, 0.0), (3899, 0.0), (3900, 0.0), (3901, 0.0), (3902, 0.0), (3903, 0.010564002728943991), (3904, 0.0), (3905, 0.0), (3906, 0.027506470383735854), (3907, 0.009663583393611739), (3908, 0.0), (3909, 0.018780380711704226), (3910, 0.05149195778084463), (3911, 0.0), (3912, 0.0), (3913, 0.032703740151099794), (3914, 0.014819718694403364), (3915, 0.0), (3916, 0.020059982226307154), (3917, 0.004674370516757182), (3918, 0.0), (3919, 0.0049200305599618865), (3920, 0.005019652248184913), (3921, 0.010488581335032528), (3922, 0.0), (3923, 0.0), (3924, 0.015195557259766963), (3925, 0.0), (3926, 0.011511643870357822), (3927, 0.0), (3928, 0.004070229098112929), (3929, 0.0), (3930, 0.0), (3931, 0.0), (3932, 0.0), (3933, 0.0), (3934, 0.0), (3935, 0.0), (3936, 0.0), (3937, 0.0), (3938, 0.0), (3939, 0.0), (3940, 0.007710825201392666), (3941, 0.0), (3942, 0.0), (3943, 0.0359652974886006), (3944, 0.004036990358213337), (3945, 0.0), (3946, 0.0), (3947, 0.0), (3948, 0.0), (3949, 0.0), (3950, 0.013071281471856324), (3951, 0.0), (3952, 0.0), (3953, 0.0), (3954, 0.0), (3955, 0.004599500250287969), (3956, 0.04531556667860489), (3957, 0.003947576692501339), (3958, 0.0), (3959, 0.004917388414480195), (3960, 0.010415799702287985), (3961, 0.0), (3962, 0.0), (3963, 0.0047229276068505455), (3964, 0.0), (3965, 0.0), (3966, 0.01379710017267425), (3967, 0.0), (3968, 0.0), (3969, 0.01683761217667499), (3970, 0.008758972374805104), (3971, 0.0), (3972, 0.0), (3973, 0.028129485115189104), (3974, 0.0), (3975, 0.0), (3976, 0.0), (3977, 0.0), (3978, 0.0), (3979, 0.0), (3980, 0.004028738472410474), (3981, 0.0), (3982, 0.0), (3983, 0.010798963834479555), (3984, 0.018643516906748446), (3985, 0.0), (3986, 0.02892687461399944), (3987, 0.0), (3988, 0.0), (3989, 0.0), (3990, 0.0), (3991, 0.012775957840285625), (3992, 0.0), (3993, 0.022570080666472054), (3994, 0.02023764671999517), (3995, 0.0), (3996, 0.0), (3997, 0.012622745504275355), (3998, 0.004503550391419384), (3999, 0.0), (4000, 0.0), (4001, 0.00941516365354481), (4002, 0.0), (4003, 0.05677461663934173), (4004, 0.0), (4005, 0.0), (4006, 0.0), (4007, 0.006092481762314777), (4008, 0.0), (4009, 0.016765175918057734), (4010, 0.015908988644559106), (4011, 0.0), (4012, 0.004525573159166617), (4013, 0.00481688726403609), (4014, 0.0), (4015, 0.060327050768936914), (4016, 0.0), (4017, 0.0), (4018, 0.0), (4019, 0.0), (4020, 0.0), (4021, 0.0), (4022, 0.0), (4023, 0.013678114759142112), (4024, 0.0), (4025, 0.004729389806178974), (4026, 0.0), (4027, 0.0), (4028, 0.0), (4029, 0.0), (4030, 0.0), (4031, 0.0), (4032, 0.010592248520423828), (4033, 0.0), (4034, 0.014783955117005386), (4035, 0.0), (4036, 0.0), (4037, 0.0262743861426046), (4038, 0.004861884419919618), (4039, 0.0), (4040, 0.0), (4041, 0.0), (4042, 0.0), (4043, 0.0), (4044, 0.0), (4045, 0.0), (4046, 0.013019430412970028), (4047, 0.015372299056971624), (4048, 0.0), (4049, 0.0), (4050, 0.0), (4051, 0.05143273730302693), (4052, 0.0), (4053, 0.0), (4054, 0.04185057620129977), (4055, 0.00830387901709968), (4056, 0.0), (4057, 0.01964333845093849), (4058, 0.0), (4059, 0.004488894093391096), (4060, 0.0), (4061, 0.009830499766820124), (4062, 0.005371009507599518), (4063, 0.01588025762093187), (4064, 0.020619360647638852), (4065, 0.0), (4066, 0.012131460653551931), (4067, 0.0), (4068, 0.004585527964715314), (4069, 0.0), (4070, 0.025304864996891357), (4071, 0.0), (4072, 0.0), (4073, 0.0), (4074, 0.012443708402695047), (4075, 0.0), (4076, 0.014756005051183784), (4077, 0.0), (4078, 0.0), (4079, 0.010118093830454127), (4080, 0.0), (4081, 0.0), (4082, 0.0), (4083, 0.0), (4084, 0.0), (4085, 0.0), (4086, 0.015226129415079111), (4087, 0.0), (4088, 0.0), (4089, 0.05206094474139255), (4090, 0.03272499279753696), (4091, 0.0), (4092, 0.0), (4093, 0.0), (4094, 0.0), (4095, 0.02074321016247774), (4096, 0.0), (4097, 0.0), (4098, 0.012897950947041985), (4099, 0.04420354801377159), (4100, 0.0), (4101, 0.0), (4102, 0.0), (4103, 0.0), (4104, 0.010534225956689262), (4105, 0.0), (4106, 0.019283183006181585), (4107, 0.0), (4108, 0.004914640584059748), (4109, 0.012593559291127859), (4110, 0.008780397294252831), (4111, 0.012546233831320659), (4112, 0.017757518420263338), (4113, 0.014697621669500813), (4114, 0.0), (4115, 0.0), (4116, 0.0), (4117, 0.01112122293226701), (4118, 0.010359997733923963), (4119, 0.0049666091030589376), (4120, 0.0), (4121, 0.0), (4122, 0.011860937628433581), (4123, 0.0), (4124, 0.0), (4125, 0.03242849843725415), (4126, 0.0), (4127, 0.0), (4128, 0.0), (4129, 0.0), (4130, 0.0), (4131, 0.0), (4132, 0.0), (4133, 0.0), (4134, 0.0), (4135, 0.03132511039682413), (4136, 0.00486524568294455), (4137, 0.004531586926368938), (4138, 0.012781138510595579), (4139, 0.0), (4140, 0.0), (4141, 0.0), (4142, 0.0), (4143, 0.012714833986367476), (4144, 0.022540830742897172), (4145, 0.0), (4146, 0.0), (4147, 0.025123449812307297), (4148, 0.0), (4149, 0.02769386292188585), (4150, 0.0), (4151, 0.0), (4152, 0.034651001708197016), (4153, 0.0), (4154, 0.0), (4155, 0.013098508259907195), (4156, 0.003972924821138258), (4157, 0.004552816692471235), (4158, 0.003968367875320394), (4159, 0.0), (4160, 0.0), (4161, 0.0), (4162, 0.035904028105690086), (4163, 0.0), (4164, 0.02535408308257179), (4165, 0.0), (4166, 0.0), (4167, 0.0), (4168, 0.0), (4169, 0.009881987724109486), (4170, 0.0), (4171, 0.034128677030723364), (4172, 0.0), (4173, 0.03413962361379895), (4174, 0.048453334871772336), (4175, 0.0), (4176, 0.004305239359637119), (4177, 0.012896884429044958), (4178, 0.043089942840743155), (4179, 0.0), (4180, 0.0), (4181, 0.0), (4182, 0.05654004171538877), (4183, 0.011666146718379912), (4184, 0.0), (4185, 0.0), (4186, 0.027995024493774993), (4187, 0.0), (4188, 0.0), (4189, 0.020217996677864707), (4190, 0.0), (4191, 0.02220500611331436), (4192, 0.008770378953753821), (4193, 0.0), (4194, 0.005655816259065154), (4195, 0.013356652758397093), (4196, 0.01467918157526753), (4197, 0.022489534622237423), (4198, 0.0), (4199, 0.016850894007410498), (4200, 0.0), (4201, 0.007979080514334913), (4202, 0.0), (4203, 0.01900949012544487), (4204, 0.0), (4205, 0.008794185906258394), (4206, 0.0), (4207, 0.014850937784079608), (4208, 0.0), (4209, 0.0), (4210, 0.029953075731955235), (4211, 0.0), (4212, 0.0), (4213, 0.0), (4214, 0.018236584624356154), (4215, 0.0), (4216, 0.0), (4217, 0.004435576818435168), (4218, 0.00461627143769615), (4219, 0.0), (4220, 0.021794347593740587), (4221, 0.0), (4222, 0.0), (4223, 0.0), (4224, 0.0), (4225, 0.03032149338096784), (4226, 0.005035950297393291), (4227, 0.0), (4228, 0.0), (4229, 0.0), (4230, 0.0), (4231, 0.0), (4232, 0.0), (4233, 0.01974898799234576), (4234, 0.0), (4235, 0.0), (4236, 0.0), (4237, 0.07436763178332079), (4238, 0.0), (4239, 0.0), (4240, 0.013111998937326385), (4241, 0.009459544350184678), (4242, 0.01719748870545725), (4243, 0.0), (4244, 0.0), (4245, 0.01263505780088121), (4246, 0.0), (4247, 0.010768333016603201), (4248, 0.0), (4249, 0.0), (4250, 0.015014536511533854), (4251, 0.0), (4252, 0.015636349234089457), (4253, 0.0), (4254, 0.012113023620623756), (4255, 0.0), (4256, 0.0), (4257, 0.00434010608673756), (4258, 0.0), (4259, 0.0), (4260, 0.0), (4261, 0.0), (4262, 0.004825644428536048), (4263, 0.019854659554411215), (4264, 0.0), (4265, 0.004831496727772379), (4266, 0.0), (4267, 0.0053062992758695126), (4268, 0.025442112821711205), (4269, 0.005271790307499991), (4270, 0.023861549287975986), (4271, 0.0), (4272, 0.004357340103243145), (4273, 0.0), (4274, 0.0), (4275, 0.0), (4276, 0.0323962191996084), (4277, 0.03341784813898156), (4278, 0.0), (4279, 0.011935506087222401), (4280, 0.037546476024599845), (4281, 0.0053034382332022316), (4282, 0.008713944534108637), (4283, 0.04945895925388536), (4284, 0.0), (4285, 0.0), (4286, 0.0), (4287, 0.01650406889273875), (4288, 0.0), (4289, 0.012489814950812602), (4290, 0.018783429848152247), (4291, 0.0), (4292, 0.008949039036112083), (4293, 0.0), (4294, 0.0), (4295, 0.0), (4296, 0.0), (4297, 0.004177993478470142), (4298, 0.0), (4299, 0.0), (4300, 0.0), (4301, 0.0), (4302, 0.0), (4303, 0.02991028322292935), (4304, 0.01852980354923739), (4305, 0.0), (4306, 0.0), (4307, 0.0), (4308, 0.0), (4309, 0.0), (4310, 0.0), (4311, 0.0), (4312, 0.0049082239324720195), (4313, 0.0), (4314, 0.011829857089785692), (4315, 0.0), (4316, 0.0), (4317, 0.0), (4318, 0.0), (4319, 0.0), (4320, 0.0), (4321, 0.0), (4322, 0.0), (4323, 0.014617568052199782), (4324, 0.013062332015457503), (4325, 0.015094482979276931), (4326, 0.0), (4327, 0.01098851636735605), (4328, 0.004448634320978002), (4329, 0.028049851291600085), (4330, 0.005014052595581566), (4331, 0.0), (4332, 0.009782174686255505), (4333, 0.0), (4334, 0.040145964915285215), (4335, 0.0), (4336, 0.0), (4337, 0.03257848107768404), (4338, 0.01300083238271766), (4339, 0.004433020761084661), (4340, 0.0), (4341, 0.01578881193973466), (4342, 0.0), (4343, 0.00841193841978), (4344, 0.007906615236733677), (4345, 0.023530479176595183), (4346, 0.014911686792884606), (4347, 0.01378819547420882), (4348, 0.004260842250683625), (4349, 0.0), (4350, 0.010883672218713926), (4351, 0.01969298211598397), (4352, 0.0), (4353, 0.0), (4354, 0.0), (4355, 0.0), (4356, 0.0), (4357, 0.0), (4358, 0.010411018123947995), (4359, 0.0), (4360, 0.0), (4361, 0.0), (4362, 0.0), (4363, 0.005105753478437199), (4364, 0.01203428001607181), (4365, 0.0), (4366, 0.010609332602550448), (4367, 0.0), (4368, 0.0), (4369, 0.0), (4370, 0.0), (4371, 0.0), (4372, 0.0), (4373, 0.0), (4374, 0.07060802429412441), (4375, 0.0), (4376, 0.017490824449342676), (4377, 0.0), (4378, 0.022343005229192213), (4379, 0.004835604446238135), (4380, 0.011613583722144818), (4381, 0.0), (4382, 0.0), (4383, 0.0), (4384, 0.0), (4385, 0.0), (4386, 0.0), (4387, 0.0), (4388, 0.016171466730846844), (4389, 0.0), (4390, 0.0), (4391, 0.0), (4392, 0.0), (4393, 0.0), (4394, 0.03059023830657686), (4395, 0.004803733276251968), (4396, 0.012625898373028578), (4397, 0.0), (4398, 0.0), (4399, 0.004354709354981145), (4400, 0.0), (4401, 0.03371168746456392), (4402, 0.019848279082774724), (4403, 0.0), (4404, 0.0), (4405, 0.020136343073241518), (4406, 0.004759771787187794), (4407, 0.02186425392346115), (4408, 0.0), (4409, 0.011929092423433934), (4410, 0.03725464345779677), (4411, 0.04778664181615036), (4412, 0.0), (4413, 0.0), (4414, 0.003849566435037242), (4415, 0.0), (4416, 0.0), (4417, 0.0), (4418, 0.0), (4419, 0.0), (4420, 0.00972917608549465), (4421, 0.0243227026408977), (4422, 0.012183790778876411), (4423, 0.0), (4424, 0.0), (4425, 0.0), (4426, 0.008470950404619485), (4427, 0.0), (4428, 0.0), (4429, 0.0), (4430, 0.0), (4431, 0.009861011374552532), (4432, 0.0), (4433, 0.03275915582322489), (4434, 0.0), (4435, 0.0), (4436, 0.004942863345254683), (4437, 0.0), (4438, 0.004501677321305495), (4439, 0.0), (4440, 0.0), (4441, 0.008715104958620715), (4442, 0.004449139475252538), (4443, 0.029193228749589642), (4444, 0.0), (4445, 0.0071833119825483426), (4446, 0.0), (4447, 0.0), (4448, 0.005121830915052846), (4449, 0.0), (4450, 0.0), (4451, 0.011077436604863522), (4452, 0.0), (4453, 0.0), (4454, 0.017580015625434067), (4455, 0.0), (4456, 0.02769839417787495), (4457, 0.013784317313856365), (4458, 0.0), (4459, 0.00426824427846606), (4460, 0.018402958372551705), (4461, 0.0), (4462, 0.005032117686033486), (4463, 0.0), (4464, 0.0), (4465, 0.0), (4466, 0.0), (4467, 0.004675608500865616), (4468, 0.0), (4469, 0.0), (4470, 0.0), (4471, 0.0), (4472, 0.004371074864960306), (4473, 0.004285381349615552), (4474, 0.0), (4475, 0.0), (4476, 0.0), (4477, 0.005536797893213488), (4478, 0.0), (4479, 0.010859801765216833), (4480, 0.0), (4481, 0.0), (4482, 0.0), (4483, 0.0), (4484, 0.0), (4485, 0.03203630428419874), (4486, 0.0047179135871100435), (4487, 0.0), (4488, 0.0), (4489, 0.0), (4490, 0.0), (4491, 0.0), (4492, 0.013924694417735983), (4493, 0.0), (4494, 0.0), (4495, 0.0), (4496, 0.027488370634506373), (4497, 0.0), (4498, 0.0434177796439253), (4499, 0.0), (4500, 0.03573254636646023), (4501, 0.0), (4502, 0.011116927775815319), (4503, 0.0), (4504, 0.004531578674603527), (4505, 0.0), (4506, 0.0), (4507, 0.0), (4508, 0.0), (4509, 0.0), (4510, 0.0), (4511, 0.011438659057066187), (4512, 0.0), (4513, 0.0), (4514, 0.0), (4515, 0.00499678689301176), (4516, 0.0), (4517, 0.0), (4518, 0.019586156092395657), (4519, 0.025321024970097857), (4520, 0.0), (4521, 0.0), (4522, 0.0), (4523, 0.04482882090882852), (4524, 0.0548459680849034), (4525, 0.0), (4526, 0.016552022171987372), (4527, 0.0), (4528, 0.0), (4529, 0.0), (4530, 0.0), (4531, 0.0), (4532, 0.0), (4533, 0.0), (4534, 0.008939877844095192), (4535, 0.0), (4536, 0.0), (4537, 0.0), (4538, 0.0), (4539, 0.0), (4540, 0.0), (4541, 0.007087780317067823), (4542, 0.0), (4543, 0.0), (4544, 0.0), (4545, 0.0), (4546, 0.0), (4547, 0.0), (4548, 0.024845663944932147), (4549, 0.0051540490105925025), (4550, 0.0), (4551, 0.014773742232243299), (4552, 0.0), (4553, 0.011447145853310126), (4554, 0.0), (4555, 0.020444029066550594), (4556, 0.0), (4557, 0.0), (4558, 0.01063866993005178), (4559, 0.0), (4560, 0.0), (4561, 0.0), (4562, 0.0), (4563, 0.0), (4564, 0.004428501896629929), (4565, 0.0), (4566, 0.029800851176038128), (4567, 0.009376390267455494), (4568, 0.004244773499162222), (4569, 0.015169847017035913), (4570, 0.016528651393769238), (4571, 0.0), (4572, 0.0), (4573, 0.0), (4574, 0.0), (4575, 0.0), (4576, 0.03147988961239504), (4577, 0.0), (4578, 0.0), (4579, 0.02941220292907626), (4580, 0.0), (4581, 0.0), (4582, 0.022304584531813654), (4583, 0.0), (4584, 0.0), (4585, 0.0), (4586, 0.0), (4587, 0.0), (4588, 0.0), (4589, 0.01081509762933444), (4590, 0.004046836112230026), (4591, 0.011626443127303513), (4592, 0.004655311017328639), (4593, 0.0), (4594, 0.0), (4595, 0.0), (4596, 0.007965947765102673), (4597, 0.0), (4598, 0.01548106708991395), (4599, 0.0), (4600, 0.004442669645610772), (4601, 0.0), (4602, 0.0), (4603, 0.0), (4604, 0.016988878283129245), (4605, 0.043793721931911896), (4606, 0.01221927832734165), (4607, 0.013503431865598997), (4608, 0.0), (4609, 0.012211597788863321), (4610, 0.010244371251492428), (4611, 0.0), (4612, 0.005871712580663958), (4613, 0.018921866326009524), (4614, 0.0), (4615, 0.0), (4616, 0.011148784497987821), (4617, 0.0), (4618, 0.0), (4619, 0.0), (4620, 0.0), (4621, 0.004995054438966539), (4622, 0.0), (4623, 0.009225971334108454), (4624, 0.010126279867209076), (4625, 0.02657325107189377), (4626, 0.0), (4627, 0.010680154676432201), (4628, 0.0), (4629, 0.004851366167165982), (4630, 0.0), (4631, 0.0), (4632, 0.0), (4633, 0.028340223507085892), (4634, 0.004315189411504151), (4635, 0.0), (4636, 0.0), (4637, 0.0), (4638, 0.0), (4639, 0.0), (4640, 0.042232957068486496), (4641, 0.059254220656930215), (4642, 0.0), (4643, 0.0), (4644, 0.0), (4645, 0.0), (4646, 0.0), (4647, 0.04939237638036534), (4648, 0.0), (4649, 0.0), (4650, 0.0105760193698054), (4651, 0.0), (4652, 0.007506774335255349), (4653, 0.0), (4654, 0.0), (4655, 0.0), (4656, 0.0), (4657, 0.0), (4658, 0.0245091892622828), (4659, 0.0), (4660, 0.0), (4661, 0.01043672566326836), (4662, 0.03129576583539673), (4663, 0.0), (4664, 0.0), (4665, 0.0447321409998944), (4666, 0.0), (4667, 0.0), (4668, 0.0), (4669, 0.0), (4670, 0.0), (4671, 0.0), (4672, 0.0), (4673, 0.0), (4674, 0.022624086859686324), (4675, 0.0), (4676, 0.014752228138763725), (4677, 0.009551753901491117), (4678, 0.0), (4679, 0.008560816547232007), (4680, 0.0), (4681, 0.0), (4682, 0.00894750529965625), (4683, 0.0), (4684, 0.0), (4685, 0.0), (4686, 0.004696869163847396), (4687, 0.004586902083753742), (4688, 0.02141706114030069), (4689, 0.004299747495639262), (4690, 0.0), (4691, 0.0), (4692, 0.0), (4693, 0.0), (4694, 0.0), (4695, 0.03311559871955347), (4696, 0.0), (4697, 0.0), (4698, 0.0), (4699, 0.0), (4700, 0.0), (4701, 0.0), (4702, 0.0), (4703, 0.012125455724145062), (4704, 0.0), (4705, 0.0), (4706, 0.0), (4707, 0.0), (4708, 0.0), (4709, 0.0), (4710, 0.0), (4711, 0.0), (4712, 0.0), (4713, 0.0), (4714, 0.0), (4715, 0.0), (4716, 0.0), (4717, 0.0), (4718, 0.0), (4719, 0.0), (4720, 0.0), (4721, 0.01494060090633619), (4722, 0.0), (4723, 0.0), (4724, 0.0), (4725, 0.0), (4726, 0.0), (4727, 0.0), (4728, 0.012864600036007872), (4729, 0.0), (4730, 0.0), (4731, 0.0), (4732, 0.017590573871367116), (4733, 0.0), (4734, 0.0), (4735, 0.03284762488083048), (4736, 0.009311202054544838), (4737, 0.0), (4738, 0.032225823816845994), (4739, 0.0), (4740, 0.0), (4741, 0.0), (4742, 0.0), (4743, 0.009117668953386074), (4744, 0.0), (4745, 0.0), (4746, 0.029538653162044508), (4747, 0.010601915807268207), (4748, 0.004037463584677343), (4749, 0.0), (4750, 0.0), (4751, 0.0), (4752, 0.02052848235194086), (4753, 0.0), (4754, 0.048317927505293116), (4755, 0.0), (4756, 0.009614473419025627), (4757, 0.0), (4758, 0.0), (4759, 0.0)]\n"
          ]
        }
      ]
    },
    {
      "cell_type": "code",
      "source": [
        " len(Recommendation_Score)\n",
        "\n"
      ],
      "metadata": {
        "colab": {
          "base_uri": "https://localhost:8080/"
        },
        "id": "qQPdvpMevJnh",
        "outputId": "510411d8-0cea-48f7-80c5-7a045de70bc7"
      },
      "execution_count": 30,
      "outputs": [
        {
          "output_type": "execute_result",
          "data": {
            "text/plain": [
              "4760"
            ]
          },
          "metadata": {},
          "execution_count": 30
        }
      ]
    },
    {
      "cell_type": "markdown",
      "source": [
        "# **Get All Movies Sorted Based on Recommendation Score for your Favourite Movie**\n"
      ],
      "metadata": {
        "id": "gxu7GYlmvUeP"
      }
    },
    {
      "cell_type": "code",
      "source": [
        "#sorting the movies based on their similarity score\n",
        "\n",
        "Sorted_Similar_Movies = sorted(Recommendation_Score, key = lambda x:x[1], reverse=True)\n",
        "print (Sorted_Similar_Movies)\n"
      ],
      "metadata": {
        "colab": {
          "base_uri": "https://localhost:8080/"
        },
        "id": "JDksS_ukvMbC",
        "outputId": "c113a429-7fc6-4569-e399-f2c313cfc556"
      },
      "execution_count": 31,
      "outputs": [
        {
          "output_type": "stream",
          "name": "stdout",
          "text": [
            "[(2, 1.0), (247, 0.13165843050488332), (3467, 0.12370418176345631), (230, 0.11908027434400201), (1714, 0.11617902073919106), (2647, 0.10379052444865502), (1276, 0.10147676855245022), (2897, 0.09992308193227724), (1557, 0.09922218430901181), (3162, 0.09841134358161054), (1646, 0.09653774568219), (1251, 0.09194112082341202), (106, 0.09172975814859877), (3871, 0.08982648098988345), (14, 0.08557563690511476), (1886, 0.08515624993694729), (1473, 0.08395798652061737), (2016, 0.08375055724724575), (3838, 0.08309722353019833), (178, 0.0818799853784977), (2591, 0.08090129866064469), (1810, 0.08031828876065357), (2135, 0.0786513630988084), (752, 0.0774282858478528), (2098, 0.07728781456108877), (385, 0.07719299775162768), (2393, 0.07687397917417865), (286, 0.07657960647715087), (2433, 0.07579498923004277), (709, 0.07502152737526728), (4237, 0.07436763178332079), (624, 0.07430599286362866), (1737, 0.07383331000361239), (1860, 0.07382430778139326), (3660, 0.07357952881371861), (2623, 0.07295690475344321), (3213, 0.07251809170170026), (794, 0.07232935148372502), (619, 0.07215816678972854), (1813, 0.07139972092417153), (698, 0.07122182295392931), (3621, 0.07087792976340308), (3632, 0.07070531397885109), (4374, 0.07060802429412441), (3852, 0.0702585113213669), (2335, 0.06933443416404116), (293, 0.06930408884673477), (1586, 0.06923800928554484), (3201, 0.069162468660978), (1176, 0.06899382430705998), (2322, 0.06867888541061992), (2264, 0.06831850140558739), (2443, 0.0682334265349309), (1477, 0.06806277725043297), (1758, 0.06781399353119814), (540, 0.06732851266962983), (182, 0.06701014753058371), (3471, 0.06668691816806842), (3120, 0.06566684814327177), (1964, 0.06564785271116898), (1257, 0.06555126361582395), (1903, 0.06539169253833454), (705, 0.06530891137247684), (1700, 0.06358429049311945), (1523, 0.06325131298427979), (2938, 0.06320528798093981), (2321, 0.06271290407027308), (1505, 0.06228667683562401), (3144, 0.06226273433556709), (3331, 0.062099843324657664), (459, 0.061972249529126264), (353, 0.06173490198462901), (3283, 0.06158682685861196), (239, 0.06142932303496858), (427, 0.06090489667620368), (2682, 0.060430111404663304), (4015, 0.060327050768936914), (1319, 0.0603114660364352), (4641, 0.059254220656930215), (989, 0.059145225889967276), (3860, 0.05913917288509094), (1974, 0.05903772673317863), (1834, 0.05883884855085723), (137, 0.05831638891477643), (3415, 0.05831274424647593), (881, 0.05790134213577614), (853, 0.057357282734923125), (121, 0.05730210998490881), (3870, 0.0569222703427778), (4003, 0.05677461663934173), (4182, 0.05654004171538877), (1092, 0.056363250705840515), (2813, 0.05621200059313958), (2145, 0.05607712441245663), (3412, 0.05595311467894686), (463, 0.05592310338409941), (911, 0.055258456969553685), (185, 0.05506924971327734), (2161, 0.0548516523609949), (4524, 0.0548459680849034), (1072, 0.05463456447450868), (2250, 0.05429454782716734), (3865, 0.053273459320502994), (1094, 0.053214656815687586), (2061, 0.05316991860933282), (1210, 0.05291382349250229), (1833, 0.05272609480146134), (566, 0.05267623847848729), (1544, 0.052505407089004884), (3864, 0.05246916627233068), (1327, 0.05227197082757827), (1009, 0.052254822962427276), (4089, 0.05206094474139255), (3698, 0.051576798156960764), (2835, 0.051538626545925885), (3910, 0.05149195778084463), (4051, 0.05143273730302693), (2190, 0.05123772875020859), (3648, 0.051127531078865286), (2509, 0.05079923168947091), (691, 0.050741269590230856), (2138, 0.05030061976693408), (3181, 0.04989810275006395), (3390, 0.049892300814664), (2584, 0.04986967074953151), (2857, 0.049479760932224), (4283, 0.04945895925388536), (4647, 0.04939237638036534), (2568, 0.04937927460082482), (2747, 0.04931007029552961), (160, 0.04921784722839574), (768, 0.04918318805823848), (2290, 0.04909908296043263), (4174, 0.048453334871772336), (2668, 0.048379666349224526), (4754, 0.048317927505293116), (852, 0.04813194458184428), (562, 0.047870262116537256), (4411, 0.04778664181615036), (3829, 0.04769135293970834), (1845, 0.04768778546469278), (3825, 0.04764685700337758), (1082, 0.04764431472990323), (472, 0.047550361226183176), (2809, 0.04738650611481758), (1950, 0.04728111864204438), (546, 0.04717175841213842), (165, 0.047081785734564494), (421, 0.04682742449805603), (1365, 0.04676672045467191), (651, 0.04672577803890586), (1920, 0.04666780192919519), (3559, 0.04657104425828952), (862, 0.045915946470424795), (3659, 0.04587824959084886), (946, 0.04579031114790215), (2340, 0.0453425059989118), (3956, 0.04531556667860489), (2299, 0.04524595886124629), (3611, 0.045061388344642406), (3027, 0.044859528544870304), (3225, 0.04485315738958963), (4523, 0.04482882090882852), (1450, 0.044814081521665286), (3302, 0.04478557834132415), (4665, 0.0447321409998944), (1212, 0.04452735713951778), (3531, 0.04432742336831582), (665, 0.044230624632034254), (4099, 0.04420354801377159), (1010, 0.044196409668973494), (1409, 0.04419488231675653), (2654, 0.04419223036318162), (3843, 0.0441783891232348), (79, 0.04414651479631314), (2445, 0.044104948567515), (1433, 0.04391700569838633), (1771, 0.04387276874794866), (4605, 0.043793721931911896), (4498, 0.0434177796439253), (2218, 0.04340717874624073), (3116, 0.043238831963565656), (2759, 0.04322265071860066), (4178, 0.043089942840743155), (1364, 0.04261309902915955), (879, 0.04246651255460153), (4640, 0.042232957068486496), (1842, 0.042151715801068315), (4054, 0.04185057620129977), (1339, 0.04169573348136266), (2752, 0.041613672602981676), (1496, 0.04159184372812995), (880, 0.041462297888856005), (2221, 0.041238052237752496), (2280, 0.04122607689943975), (2197, 0.04053968965694754), (2553, 0.040438412532811496), (1724, 0.04021349814285783), (4334, 0.040145964915285215), (1351, 0.04012583327626529), (730, 0.040117620994530284), (1202, 0.040037358181489145), (1743, 0.039959998556289), (2660, 0.03994731533948304), (1050, 0.039913830838865655), (2329, 0.039739920155827044), (3109, 0.039733848001365146), (3653, 0.03958550938541659), (2925, 0.039349545277857674), (3212, 0.03918719376784896), (1468, 0.03911010631498075), (3119, 0.03903830472622196), (233, 0.038888638023476814), (2649, 0.038858622475047386), (2944, 0.03860869886577605), (3030, 0.038566739914873374), (2580, 0.03841535311758176), (3228, 0.03839235503715968), (2980, 0.038152782704879665), (1574, 0.038144377672614256), (1405, 0.038085003147394034), (0, 0.03807032572268845), (1041, 0.038050309274142824), (1305, 0.037914337290944566), (1454, 0.037901129349618236), (2884, 0.03788463981960492), (2502, 0.037878734309282076), (2667, 0.037666840586524954), (1778, 0.03760078393832046), (4280, 0.037546476024599845), (596, 0.037419800329094144), (1698, 0.03727131979759666), (4410, 0.03725464345779677), (1568, 0.037043277713641666), (1226, 0.037006501579408144), (212, 0.03698586008220983), (2615, 0.03687918742583726), (1935, 0.03686476864709801), (815, 0.036847973614388504), (2102, 0.03650962934665532), (3361, 0.03638089736461171), (1799, 0.03636612921827598), (2753, 0.036291970357276326), (1002, 0.036246109452340664), (1241, 0.0362106441792705), (2814, 0.03609364623133594), (1584, 0.036012157310875606), (3943, 0.0359652974886006), (4162, 0.035904028105690086), (3808, 0.035880506102425255), (2392, 0.03587605080138094), (1933, 0.0358643891951021), (3540, 0.03581303653030719), (4500, 0.03573254636646023), (948, 0.035709954690400454), (1862, 0.03566291649148507), (2234, 0.03546405944246364), (70, 0.03542239723172084), (594, 0.03540496254535305), (1664, 0.03533399294609195), (2398, 0.03527008247414435), (3260, 0.035218364272970114), (912, 0.03519094683575736), (708, 0.03505481252742363), (1953, 0.03504199009659703), (988, 0.035015344630837705), (2965, 0.034969689479108924), (2588, 0.034930466271423946), (2005, 0.034901007731317296), (3047, 0.03485766396263608), (1254, 0.03478663304324653), (1789, 0.03475538487891742), (1178, 0.03466146664369883), (4152, 0.034651001708197016), (2541, 0.03461624256697866), (1478, 0.0345910785660487), (1959, 0.03458653088667271), (3238, 0.03442001735936331), (429, 0.03441396274368133), (567, 0.03441336704531375), (3488, 0.03440643309936188), (643, 0.03438009091570024), (474, 0.03436298828261998), (1926, 0.03427906286591954), (2359, 0.034240554179918996), (217, 0.03423043080223217), (4173, 0.03413962361379895), (4171, 0.034128677030723364), (1021, 0.034016675356048076), (337, 0.03401367355449057), (1080, 0.033997791678335144), (3208, 0.03394728012300722), (146, 0.033902784282787674), (1356, 0.03388290002004113), (1817, 0.03377197378105781), (4401, 0.03371168746456392), (1760, 0.03361064097731732), (1762, 0.03356027026582951), (155, 0.03354741550035384), (1182, 0.033517420557972855), (96, 0.03347181880711711), (887, 0.03342501823288316), (4277, 0.03341784813898156), (3103, 0.0332463448318549), (108, 0.03322500584940299), (893, 0.03315163276338265), (4695, 0.03311559871955347), (3308, 0.033085039772035876), (4735, 0.03284762488083048), (2292, 0.03276490553660233), (4433, 0.03275915582322489), (4090, 0.03272499279753696), (1794, 0.0327240404183819), (3913, 0.032703740151099794), (3509, 0.032602910714057166), (3526, 0.03259076517476923), (4337, 0.03257848107768404), (2962, 0.03256172226291742), (2540, 0.03255496672890229), (787, 0.03244731744570177), (4125, 0.03242849843725415), (4276, 0.0323962191996084), (3506, 0.03237411533494784), (2406, 0.032364205680931596), (2664, 0.03232054483623902), (173, 0.03227530917013583), (4738, 0.032225823816845994), (1855, 0.03219628623175132), (2360, 0.03217000066976449), (2370, 0.032108160768726676), (753, 0.03210200555944722), (4485, 0.03203630428419874), (1495, 0.0319870062512741), (500, 0.031927990104935425), (1550, 0.03185670106119863), (2611, 0.0318380526026114), (1948, 0.03180745334490735), (166, 0.03177883598591808), (1629, 0.03173403463464729), (640, 0.03168865503056699), (198, 0.03162589873422597), (3373, 0.03161134228059911), (1529, 0.031570926277674674), (2852, 0.031568472836142565), (1216, 0.03153244485604918), (1152, 0.03152790392139604), (806, 0.03152231518188589), (3662, 0.031505752692079766), (3457, 0.03148689637088521), (4576, 0.03147988961239504), (3263, 0.0314733432827761), (2118, 0.03143152695687794), (1764, 0.0314314053212229), (1694, 0.0313935725255819), (2097, 0.03136950620874827), (3288, 0.03135506528898712), (4135, 0.03132511039682413), (4662, 0.03129576583539673), (392, 0.031081413455469335), (1927, 0.031067958625284504), (1279, 0.030906087688611937), (2000, 0.030880172423215543), (3306, 0.030866910983595022), (428, 0.030753472580431332), (2476, 0.030672442899543243), (4394, 0.03059023830657686), (1703, 0.030573719517835773), (1284, 0.03055367398002161), (1787, 0.030534069041723264), (850, 0.03051896773457634), (140, 0.030500630955689074), (446, 0.030457163378801236), (2303, 0.03045689590523367), (2646, 0.030375611480401802), (144, 0.030333597894960117), (4225, 0.03032149338096784), (2662, 0.030263075526670537), (22, 0.030172566584450996), (3270, 0.03010519638714495), (488, 0.03009429767315539), (1296, 0.030093335341825858), (1427, 0.03007350708881207), (269, 0.03001500623606212), (3830, 0.030003463303951497), (256, 0.02997811783298607), (561, 0.02996698646599191), (4210, 0.029953075731955235), (620, 0.0299507813703409), (4303, 0.02991028322292935), (2104, 0.02990568921841475), (743, 0.029901408596051313), (1538, 0.029859596328114878), (1609, 0.029839469721543766), (1944, 0.029800874522978808), (4566, 0.029800851176038128), (2634, 0.029650538246336813), (578, 0.029564127760796213), (4746, 0.029538653162044508), (778, 0.029497031952203545), (53, 0.02947544735740338), (91, 0.029455543462414573), (2263, 0.029412264246985627), (4579, 0.02941220292907626), (846, 0.029350780201735767), (1107, 0.02924509694482741), (4443, 0.029193228749589642), (3722, 0.029128876051502894), (3785, 0.029113722868341917), (2353, 0.029055150499990443), (3685, 0.029026759945389356), (1562, 0.02900691151884526), (3294, 0.028973235757472154), (2957, 0.02897250889945363), (1570, 0.02895947583661019), (548, 0.028930321568438354), (3986, 0.02892687461399944), (1682, 0.028917384976054006), (1046, 0.02884781931850993), (1038, 0.02881231412274289), (2372, 0.028775153591110283), (406, 0.0286674773171496), (355, 0.028622364444235986), (3441, 0.028606093922309183), (1715, 0.02857843876952639), (3129, 0.028576156777620997), (1412, 0.02851342936107977), (1888, 0.028438355431737082), (461, 0.02842218208410866), (1095, 0.02834987042202934), (4633, 0.028340223507085892), (508, 0.028340117059081953), (507, 0.028218570207189625), (2666, 0.02819916165726071), (72, 0.028184552650138972), (1195, 0.02816808985689081), (2109, 0.02816457447968612), (3973, 0.028129485115189104), (703, 0.028124032495959704), (1180, 0.028054759644122403), (4329, 0.028049851291600085), (932, 0.028034004511813034), (4186, 0.027995024493774993), (2283, 0.02798061519995747), (3631, 0.027828763758532524), (1647, 0.02782767660565046), (769, 0.02781159211667582), (524, 0.027764343585446282), (4456, 0.02769839417787495), (4149, 0.02769386292188585), (3328, 0.02763083965418225), (1676, 0.027614887850077197), (3607, 0.027607295904668795), (3906, 0.027506470383735854), (3548, 0.0275001728957144), (4496, 0.027488370634506373), (26, 0.027419348962276664), (346, 0.027405070126909147), (196, 0.027294402632023627), (1025, 0.027261565852477042), (3098, 0.027247019446981442), (530, 0.027215637607335766), (2789, 0.027194275343738403), (821, 0.027159625705767507), (2196, 0.02711736319842687), (1333, 0.027078593683485468), (363, 0.027066313938112718), (2245, 0.027025917993535542), (179, 0.027022689085760575), (3256, 0.026981065640066127), (717, 0.0269538083421679), (1485, 0.026845225497089727), (1430, 0.026836692248536853), (3313, 0.02675499332766994), (2766, 0.026746460794695368), (2113, 0.02670657149038768), (2100, 0.026704808659930815), (350, 0.026675183610666325), (3495, 0.026637540957494814), (742, 0.026631883754946503), (4625, 0.02657325107189377), (3272, 0.026564843853262986), (1812, 0.026564803721442716), (3133, 0.026558144259605967), (2720, 0.026554333363532596), (538, 0.026547573989476738), (3550, 0.026531815422755952), (3218, 0.026492778391804906), (170, 0.02647231928063318), (3589, 0.026404295588017476), (1492, 0.026398631370183855), (2232, 0.026334037840866575), (2583, 0.026308382709404582), (3286, 0.02629297314122723), (4037, 0.0262743861426046), (49, 0.026122344238041682), (3317, 0.026122262224428653), (2184, 0.026080733512336605), (953, 0.02598192150411853), (926, 0.025924083782054113), (3674, 0.025910378388909618), (1259, 0.025905012589184553), (1868, 0.025893574768506008), (2114, 0.025884430009484788), (1166, 0.025861469160224505), (954, 0.025800883104805127), (1456, 0.02569276725415945), (324, 0.025661419143435064), (498, 0.025657782189572785), (884, 0.025597239042920033), (1578, 0.02557159572686561), (1057, 0.025443602699530884), (4268, 0.025442112821711205), (4164, 0.02535408308257179), (4519, 0.025321024970097857), (4070, 0.025304864996891357), (2167, 0.02528053011382141), (2022, 0.025241178702857456), (3817, 0.02516294803053403), (3746, 0.025162115160870028), (1282, 0.02515584916144357), (4147, 0.025123449812307297), (646, 0.025117966736179324), (1937, 0.025114757605576257), (1114, 0.025099150703854815), (2408, 0.02509823712849136), (3421, 0.02507827575984093), (995, 0.025023426456369305), (3517, 0.02501883552461337), (2227, 0.02495135849344439), (731, 0.024921413533805593), (4548, 0.024845663944932147), (3179, 0.02482329837282481), (3422, 0.02478676746195074), (2831, 0.024753745738386825), (740, 0.02466823340202144), (1163, 0.02466597573233593), (2450, 0.024541696454396453), (2014, 0.0245411564472078), (3252, 0.024529076736068994), (4658, 0.0245091892622828), (935, 0.02448857825798422), (356, 0.024451597000124455), (2212, 0.024427745955589223), (2237, 0.024425305214921828), (3375, 0.02440201702650076), (360, 0.02436574219943037), (362, 0.024365346997512687), (3209, 0.02435480197867172), (4421, 0.0243227026408977), (277, 0.024310182200528115), (829, 0.024278883323039353), (370, 0.024157217711032127), (662, 0.02414949305341707), (3515, 0.024126901157307184), (3024, 0.02411760005886141), (906, 0.024058655133521165), (1861, 0.02403630739459496), (3173, 0.02401800260329007), (2060, 0.023984806337463443), (2839, 0.0239782085079974), (469, 0.023947499688056942), (1891, 0.023929939604131225), (2211, 0.023896394294247253), (4270, 0.023861549287975986), (3782, 0.023804074343066518), (936, 0.02374641139658512), (2563, 0.02368118674587839), (3776, 0.02365682291666023), (3297, 0.023648815656600035), (1503, 0.02364439829420762), (279, 0.02361923306802171), (621, 0.02360774428477231), (1336, 0.023590752220399615), (3650, 0.023575040174190983), (3231, 0.02356293714967269), (3734, 0.023540030429413505), (4345, 0.023530479176595183), (327, 0.02345164583162203), (1237, 0.023405629050885626), (1211, 0.02330512375252832), (1979, 0.023283090210098292), (1321, 0.023271308969767653), (455, 0.02321503577330703), (804, 0.023197462985443926), (555, 0.02315099132749917), (3315, 0.0231257665141027), (229, 0.02307027783419191), (3822, 0.023045115918684873), (2121, 0.02303789722294199), (130, 0.02300622650296118), (1390, 0.022937960715260573), (2589, 0.02291780033165979), (2442, 0.022903788236049962), (597, 0.022878580208583722), (3606, 0.022816214065730686), (891, 0.022778739856656436), (657, 0.022770315463823042), (4674, 0.022624086859686324), (899, 0.022587815032829184), (3993, 0.022570080666472054), (1992, 0.022560324040172205), (1559, 0.022555057054107843), (4144, 0.022540830742897172), (1383, 0.022514684975307467), (4197, 0.022489534622237423), (609, 0.022488745288114138), (699, 0.022467236191471424), (1552, 0.02244594094487392), (2235, 0.02243834644197641), (3456, 0.02243568484428975), (3111, 0.022383972084418106), (136, 0.022350088500742857), (4378, 0.022343005229192213), (1910, 0.02231945206053568), (4582, 0.022304584531813654), (47, 0.02229329422595427), (3320, 0.022287801845861214), (1876, 0.022243358758292753), (3366, 0.022206725584508404), (4191, 0.02220500611331436), (1755, 0.02220236351874726), (1090, 0.02218670211250989), (86, 0.022177032035519018), (2494, 0.022158217012763975), (2059, 0.022112457061724395), (434, 0.022104199334178298), (2760, 0.022103823821607197), (3668, 0.02209224852754146), (2352, 0.022033374118387416), (1824, 0.0219717159750673), (1776, 0.021919637784593143), (4407, 0.02186425392346115), (187, 0.02186202146840951), (560, 0.021852208645542916), (379, 0.021845178643197415), (4220, 0.021794347593740587), (192, 0.02177246074888687), (231, 0.02176756963148615), (856, 0.02168319620407323), (648, 0.021663486762760316), (2201, 0.02153683998797439), (2793, 0.021503004805440488), (1307, 0.021476079512981194), (2040, 0.021417986545712177), (4688, 0.02141706114030069), (706, 0.021409472300964294), (58, 0.021409159133289262), (3503, 0.02136703733330736), (1808, 0.021364043132298935), (810, 0.021344015455631467), (855, 0.021342695861282936), (1105, 0.021335005251639838), (3344, 0.021332634103557045), (3882, 0.02131465903862012), (3657, 0.021313629213890926), (1645, 0.02128028318957677), (2585, 0.021194241427463338), (785, 0.021186241270065034), (3092, 0.021160603112797837), (3518, 0.021138768910105007), (1291, 0.021131548063560816), (2762, 0.021099533970133998), (1472, 0.02109178833805704), (1344, 0.021022305751385875), (3594, 0.020996997421717598), (3578, 0.020949823696577635), (2710, 0.020916806520884616), (2964, 0.020906782370161164), (1253, 0.020848989041419505), (1666, 0.020834361224929432), (831, 0.020827297566513428), (1828, 0.020775951229780924), (690, 0.020756985033801092), (4095, 0.02074321016247774), (1026, 0.020649945953367492), (4064, 0.020619360647638852), (1561, 0.02061742490268136), (532, 0.020591273747676213), (2111, 0.020586400861155166), (1008, 0.020585616985589493), (894, 0.02058005180470754), (2663, 0.02057952960935401), (3890, 0.020544615574669897), (75, 0.02053403820942691), (4752, 0.02052848235194086), (373, 0.020483365371850817), (3338, 0.02045159826879083), (4555, 0.020444029066550594), (2908, 0.020421338881329472), (780, 0.02028991885437738), (496, 0.020276362289274062), (202, 0.020251885124691015), (3994, 0.02023764671999517), (2195, 0.020232390653558495), (4189, 0.020217996677864707), (1954, 0.02021490485213274), (1640, 0.02020957523663476), (3101, 0.020198411112682016), (4405, 0.020136343073241518), (3916, 0.020059982226307154), (2517, 0.01997280060326408), (1925, 0.019949996825426693), (4263, 0.019854659554411215), (4402, 0.019848279082774724), (2327, 0.0197549858636853), (4233, 0.01974898799234576), (2952, 0.019721904751303632), (4351, 0.01969298211598397), (3244, 0.019684536215540525), (2140, 0.019682921697665525), (3616, 0.019680194250539792), (1011, 0.019667850712417), (1278, 0.01965363501725724), (4057, 0.01964333845093849), (517, 0.01962392263692943), (3430, 0.019611784596374818), (4518, 0.019586156092395657), (2236, 0.019583318537141667), (3866, 0.01957712234143015), (3444, 0.019522003560252042), (2266, 0.01951336484389762), (2996, 0.019499157316430968), (2055, 0.019488529964182308), (451, 0.019451198174515533), (3199, 0.019439593670467173), (2851, 0.019413788436976224), (1487, 0.019362911063577456), (465, 0.019305295514323147), (4106, 0.019283183006181585), (1841, 0.019242503434368383), (1306, 0.019237180129491976), (265, 0.019153718589623506), (874, 0.01913897807184898), (2746, 0.0191213755999623), (1725, 0.01911843933086131), (3461, 0.019118220570535385), (27, 0.01904429372097841), (1569, 0.019032097641497273), (4203, 0.01900949012544487), (270, 0.01900171588117544), (2844, 0.018979871406094206), (2570, 0.01897220653682568), (1864, 0.018952848604444992), (4613, 0.018921866326009524), (2297, 0.01889869450870886), (495, 0.01887228905425569), (820, 0.0188715191384917), (1494, 0.018843299386566262), (3057, 0.018823663783449778), (2632, 0.01879679751891888), (4290, 0.018783429848152247), (3909, 0.018780380711704226), (1458, 0.018767068398090996), (3458, 0.018718491862108045), (1018, 0.01869779227834931), (1109, 0.018673661871331192), (2504, 0.018647104767852318), (3984, 0.018643516906748446), (1616, 0.01861006256977197), (317, 0.018609912026769024), (900, 0.01859389992733242), (3858, 0.018569892092794006), (985, 0.01854272594903659), (4304, 0.01852980354923739), (2824, 0.018474606010038242), (4460, 0.018402958372551705), (1489, 0.018402138975063542), (2981, 0.018363158598250044), (3205, 0.018305440295667764), (1774, 0.018285095333895253), (3730, 0.018274774629941336), (3658, 0.018274684051122692), (1467, 0.01826244287291051), (4214, 0.018236584624356154), (1701, 0.018205426903528003), (3312, 0.01818293705974891), (2560, 0.01816622643741341), (2626, 0.01816507112812233), (1353, 0.018138386779724916), (1511, 0.018134861072302253), (847, 0.018115536599443854), (1118, 0.018083476020842967), (1453, 0.018064277985707373), (10, 0.01805370262105669), (1295, 0.018039370710325846), (2414, 0.018033110894330903), (2854, 0.017977607146607132), (2951, 0.01796460324335028), (3893, 0.01795140061373595), (2036, 0.01794242962352869), (2840, 0.017939482071552083), (683, 0.017936605756592974), (991, 0.01790156167522037), (3797, 0.017835544091078927), (203, 0.01782295303548998), (1464, 0.017822468874044813), (737, 0.017807508273909336), (3681, 0.017805100119628273), (2413, 0.01780426710646325), (695, 0.017793763441932845), (57, 0.01776069890849616), (4112, 0.017757518420263338), (958, 0.017757230522571582), (1582, 0.01773717517692137), (2633, 0.01773170861278126), (415, 0.017731126770373414), (2715, 0.017668063203595586), (2365, 0.017666735948369438), (1614, 0.017615185285265688), (441, 0.017609469288835444), (4732, 0.017590573871367116), (4454, 0.017580015625434067), (384, 0.017564279707854107), (73, 0.01755836170170713), (3666, 0.017541754344456654), (3397, 0.017538706894807417), (2484, 0.01752234079603365), (3387, 0.017519311367521148), (4376, 0.017490824449342676), (2222, 0.017477328064378406), (3110, 0.017460148251437806), (1341, 0.017439480865304807), (2548, 0.01740085125978397), (1029, 0.01737265579668023), (763, 0.01735631407549823), (479, 0.017353150967047863), (1104, 0.01731489320128013), (3612, 0.017276491166725076), (3420, 0.017265515758318653), (890, 0.017236354641532198), (4242, 0.01719748870545725), (3562, 0.01719293035643791), (557, 0.017189629022629604), (895, 0.01718360461580532), (805, 0.01714237890994608), (2085, 0.01714157709923801), (2086, 0.017139333731068), (2521, 0.01713697758666311), (3269, 0.01713557183049708), (1480, 0.017133053383722546), (1951, 0.017124253624487676), (3106, 0.017089273657487084), (3630, 0.017088981233942292), (2155, 0.01708292612898855), (696, 0.017061658972653354), (409, 0.017015319341025764), (4604, 0.016988878283129245), (3427, 0.016984072867619254), (3481, 0.01696962432531978), (216, 0.01696731992008991), (122, 0.016954171596001034), (82, 0.01690717052650869), (1577, 0.016898917560551414), (201, 0.01688288634586089), (2007, 0.01686470455649794), (4199, 0.016850894007410498), (3969, 0.01683761217667499), (1006, 0.016822262850850943), (1443, 0.016786835993411964), (981, 0.016779132149417626), (3303, 0.016773872027443598), (750, 0.016773506503092856), (4009, 0.016765175918057734), (610, 0.01675890907236894), (347, 0.016750164394501717), (2554, 0.016741177144064173), (656, 0.016736518795045865), (3633, 0.0167346280687254), (1969, 0.01671539222062339), (1407, 0.01670396367966385), (3214, 0.01667095681153511), (351, 0.016662658855808598), (892, 0.016662235675747396), (3683, 0.016631254398147617), (1849, 0.016621229404328596), (1122, 0.016607900867716224), (271, 0.016602884950763484), (1526, 0.016602299972268142), (1961, 0.016594580914503283), (3553, 0.016575998703622884), (1447, 0.01657171406403647), (2074, 0.016559330175723783), (1250, 0.016556509176181518), (4526, 0.016552022171987372), (3330, 0.016534704879946776), (3477, 0.016528733339630324), (4570, 0.016528651393769238), (2732, 0.016519479200672604), (3557, 0.016519471834630043), (169, 0.016519089758006294), (1171, 0.016516824393424785), (1521, 0.016512694966613575), (4287, 0.01650406889273875), (2268, 0.01649382283940347), (2496, 0.016491487928861577), (448, 0.016476538694969033), (3155, 0.016475527948345895), (585, 0.01647032920302299), (973, 0.016470243460174797), (378, 0.01646966127547954), (971, 0.016460006279751773), (251, 0.016435269430592894), (2788, 0.01643148898721151), (2612, 0.016416742213909388), (966, 0.016400055444898216), (1711, 0.01639199655322023), (358, 0.01638234072477261), (3769, 0.016376079297783046), (1692, 0.016358164913868573), (1610, 0.016352627983406254), (1998, 0.01635239116347119), (3671, 0.016348739539331164), (1077, 0.016344550322512183), (1726, 0.016335137131791647), (3298, 0.016254729860476342), (225, 0.016240645950545207), (1481, 0.01623370950028958), (1060, 0.01622247210618905), (568, 0.016191262264571463), (2073, 0.016186925485249318), (1873, 0.016172591666064624), (4388, 0.016171466730846844), (2267, 0.016167142734915894), (762, 0.016156763135857656), (3407, 0.016155350453614725), (1768, 0.016153697986339477), (403, 0.016135455615174092), (1129, 0.016121237413105807), (1068, 0.016067978623130478), (2781, 0.01602957944670996), (1373, 0.01602886813920233), (3083, 0.01599898547637367), (44, 0.015977708219608092), (391, 0.01597480271466391), (30, 0.015972301685172215), (2677, 0.015938852653623138), (618, 0.015912219071183953), (2642, 0.015909997971254586), (29, 0.01590961434907543), (4010, 0.015908988644559106), (1797, 0.01589376741920867), (2927, 0.015884135725141618), (2562, 0.01588060265728072), (4063, 0.01588025762093187), (3473, 0.015872442373678613), (2479, 0.015867618653059797), (1634, 0.015863025197320784), (3651, 0.015830141419196704), (1214, 0.015803858075138028), (4341, 0.01578881193973466), (1524, 0.015729294495707), (2170, 0.015728519448170965), (3803, 0.015721971611488382), (878, 0.015715191212802213), (1818, 0.01570661099159976), (2954, 0.015682270192179486), (3293, 0.015675329492253094), (336, 0.01566219682909385), (3149, 0.01566131746995232), (3546, 0.01565193373053209), (4252, 0.015636349234089457), (3696, 0.015630680752863925), (3826, 0.015625530878520352), (501, 0.01559081907650851), (786, 0.015560100658211088), (2636, 0.015540561200778406), (541, 0.015535396653045815), (2532, 0.015530661818807351), (1493, 0.01553020762498861), (915, 0.01551665455898888), (1132, 0.015501397623366376), (1207, 0.015489178183684308), (4598, 0.01548106708991395), (2473, 0.015469822064794756), (3801, 0.01543302670118593), (2366, 0.015426271020799171), (2578, 0.015423844326999437), (3459, 0.015390385592459598), (1914, 0.015374245387962395), (4047, 0.015372299056971624), (1973, 0.015317078695220004), (52, 0.015293965352635408), (177, 0.015285669455104754), (549, 0.015270584907557758), (827, 0.015264929476548951), (2367, 0.015228772020512881), (4086, 0.015226129415079111), (3924, 0.015195557259766963), (4569, 0.015169847017035913), (304, 0.015161149352871325), (102, 0.015152384165459155), (2717, 0.015137467219460824), (1460, 0.01511654931137207), (559, 0.015099536017063587), (4325, 0.015094482979276931), (1626, 0.015088751530440817), (2899, 0.015083735725756029), (3389, 0.015045284262937351), (3505, 0.015025051324249583), (1157, 0.015020617546629023), (4250, 0.015014536511533854), (2457, 0.014993848464922499), (1482, 0.014985012600950134), (1601, 0.014978849620603312), (330, 0.014975098382891922), (577, 0.014972255759938866), (1814, 0.014960514704410356), (1679, 0.014944869508629543), (4721, 0.01494060090633619), (184, 0.014937769745413141), (342, 0.014937655713602503), (836, 0.014920095766006353), (744, 0.014916133210479406), (4346, 0.014911686792884606), (1718, 0.014904566024759775), (454, 0.014894793222799982), (2704, 0.014891055297186696), (1079, 0.014883969731932784), (365, 0.014876856266128363), (3711, 0.01485659506619241), (4207, 0.014850937784079608), (1784, 0.014843125896193046), (1999, 0.014833907273769037), (3914, 0.014819718694403364), (2867, 0.014815941946301623), (2817, 0.01481309206825326), (4034, 0.014783955117005386), (4551, 0.014773742232243299), (792, 0.014770868578383969), (3393, 0.014770378729160375), (1564, 0.014766529871529335), (4076, 0.014756005051183784), (4676, 0.014752228138763725), (2712, 0.014730383037574554), (2462, 0.014726315950779768), (3628, 0.014701131706380042), (4113, 0.014697621669500813), (1465, 0.014689166480695449), (2770, 0.014687853692865), (4196, 0.01467918157526753), (298, 0.014666641325878721), (3816, 0.014649934970218251), (2037, 0.014648914880878317), (33, 0.01464201232651933), (3678, 0.014637416774077849), (1474, 0.014622553396181702), (4323, 0.014617568052199782), (1655, 0.01460865669132171), (775, 0.014601942524279387), (861, 0.014597649663638164), (2749, 0.01459043467752364), (1246, 0.01457037445382716), (2185, 0.014568659404441717), (2516, 0.014561104653164073), (2876, 0.014539003538991088), (1115, 0.01452884925524591), (1403, 0.01450957831565977), (2929, 0.014494923702463008), (2274, 0.014493694322689207), (802, 0.014490376222865003), (2841, 0.01448607179383068), (2595, 0.014476369506249477), (1071, 0.014425422581131326), (1301, 0.01440134545763621), (1352, 0.014395239476504687), (2864, 0.014369195329549254), (928, 0.014353961422635921), (266, 0.014326446516332936), (3812, 0.01431418985016075), (1155, 0.014311283101358693), (2719, 0.014295959056149754), (931, 0.014294272157240764), (2696, 0.014292235182951253), (1844, 0.01428236769541641), (1881, 0.01425663521289934), (125, 0.014236076374646474), (2451, 0.014235195367287698), (639, 0.014229646636219185), (2878, 0.014224139570601547), (1411, 0.014189404744202452), (2526, 0.01418096309116974), (1215, 0.014177580695959863), (670, 0.0141197067922682), (2030, 0.014117555037705173), (2177, 0.014101766888403767), (2200, 0.014082315941061395), (642, 0.014075415123110242), (2603, 0.014029378490862672), (1678, 0.014008941002065116), (245, 0.014003401456649878), (3287, 0.01395114875246369), (1379, 0.013950209687785847), (797, 0.013944807080635514), (924, 0.013941980435637082), (582, 0.013940497439762998), (1600, 0.013934333460405119), (3251, 0.013929357396256805), (361, 0.013925868770767302), (4492, 0.013924694417735983), (2708, 0.013919345322868763), (3790, 0.013918425302045428), (3759, 0.013897947276976354), (1085, 0.013888654507019203), (3735, 0.013883474891998355), (2368, 0.01387347657240528), (3206, 0.013872212449483466), (905, 0.013870472438145733), (2481, 0.013870008029570658), (2761, 0.013868044586504286), (520, 0.01386670181736232), (150, 0.013850400187344653), (3684, 0.013817811201758852), (219, 0.01381624143645384), (3966, 0.01379710017267425), (69, 0.013789777457851605), (4347, 0.01378819547420882), (2009, 0.0137843555115287), (4457, 0.013784317313856365), (3482, 0.013775187167817496), (3425, 0.013773845928908218), (3709, 0.013766771043334507), (25, 0.013764104620818092), (2856, 0.01373442357563801), (2034, 0.013729919767756527), (945, 0.013722842319869265), (2317, 0.013696497182949623), (152, 0.013690803362075891), (3003, 0.013683112117140853), (1165, 0.013678869733874752), (2982, 0.013678680970183448), (4023, 0.013678114759142112), (819, 0.01367334019414327), (2041, 0.013669491253173849), (1431, 0.013646386251468492), (1709, 0.013622121022895018), (1049, 0.013608446995101055), (223, 0.013605859415302235), (2239, 0.013604809645048465), (2430, 0.01359951065018862), (1769, 0.01357377622023003), (2051, 0.013571608737030623), (3805, 0.013568403766806871), (2332, 0.013554477609036683), (1837, 0.01355421043257062), (3413, 0.01354621707922538), (3121, 0.013540133340750944), (1198, 0.01353234616987794), (3846, 0.013525962199476287), (4607, 0.013503431865598997), (1602, 0.013495922684289743), (3010, 0.013494706183326717), (2039, 0.013479934807713066), (3847, 0.013479698503359118), (674, 0.0134729858799675), (840, 0.013461482286798275), (2409, 0.013454121664379058), (3476, 0.013428107795507294), (790, 0.013427981959674536), (1130, 0.013421779246358267), (2652, 0.013395770676445406), (909, 0.013368807626546521), (3408, 0.013360337301947982), (4195, 0.013356652758397093), (1695, 0.013302347110383065), (2782, 0.013302003626853059), (1404, 0.013299878323683477), (1285, 0.013260525325250062), (1368, 0.013234841318279504), (263, 0.013228053480487318), (1720, 0.01322191904033554), (3593, 0.013212336039823037), (3180, 0.013200151039708346), (1451, 0.013191392634527906), (3221, 0.013184006514672449), (612, 0.013178890316315583), (3894, 0.013176274189356173), (2019, 0.013175878749575287), (1706, 0.013175383905038052), (3447, 0.013167518025801472), (345, 0.013158306410227335), (453, 0.013155335798918436), (998, 0.013147568098041438), (807, 0.013141426154200239), (2153, 0.013132184835031913), (240, 0.01312232172974021), (4240, 0.013111998937326385), (2552, 0.013109727405256809), (4155, 0.013098508259907195), (435, 0.013093157213002561), (1267, 0.013090784453688324), (3950, 0.013071281471856324), (4324, 0.013062332015457503), (2311, 0.013057742552848086), (284, 0.01304290233208344), (1161, 0.013041947541167366), (2734, 0.013032704622963994), (4046, 0.013019430412970028), (537, 0.013018941631512012), (3854, 0.013012327358633578), (4338, 0.01300083238271766), (2882, 0.012981878128389366), (3311, 0.012978742930482685), (2116, 0.012974940399418565), (3889, 0.012954897825677054), (1788, 0.012942139071901079), (338, 0.012921869137191582), (1106, 0.012918753254980313), (4098, 0.012897950947041985), (4177, 0.012896884429044958), (2915, 0.01288387296605343), (3273, 0.01288349752508179), (3736, 0.012875848328407786), (2207, 0.012872616167274134), (4728, 0.012864600036007872), (1800, 0.012858024990717663), (2513, 0.012852926016713416), (35, 0.01284599680683387), (2095, 0.01284094929785756), (630, 0.012836201680336768), (1791, 0.01283271318201983), (2579, 0.012821359244356572), (1000, 0.012812684840965137), (3284, 0.012809055963888639), (1579, 0.012802847223211148), (1897, 0.012796672078741998), (2514, 0.012793685474387815), (352, 0.012793362328649714), (4138, 0.012781138510595579), (335, 0.012780618282960161), (2574, 0.012778099990923573), (3991, 0.012775957840285625), (2472, 0.012757816683030861), (2525, 0.012739187597075667), (1607, 0.012732656846002386), (1089, 0.012730058715367004), (254, 0.012726584401344635), (1734, 0.012715046431639938), (4143, 0.012714833986367476), (2150, 0.012707561738385852), (3411, 0.012695338210963606), (3579, 0.012693168580487486), (1116, 0.012684179540987748), (2262, 0.012677470306913326), (1479, 0.01267735884535303), (1675, 0.01266984284105407), (3697, 0.01266381262788317), (957, 0.012660993412394694), (4245, 0.01263505780088121), (2043, 0.012634836856000886), (4396, 0.012625898373028578), (1820, 0.01262377124649451), (3997, 0.012622745504275355), (3626, 0.012608329843365625), (191, 0.012601706432720038), (1539, 0.012595406643493672), (4109, 0.012593559291127859), (3752, 0.012592262246759894), (1153, 0.012587011142478802), (1816, 0.012579160245919737), (369, 0.012578218813351937), (664, 0.012574441816024146), (4111, 0.012546233831320659), (2586, 0.012516429349937729), (67, 0.012515483596732808), (2088, 0.012498371246502974), (4289, 0.012489814950812602), (1779, 0.012481956205144201), (2064, 0.012479464363622433), (1228, 0.01247448924013939), (2183, 0.012459456880181177), (2390, 0.012458213175981607), (1588, 0.012451882237253365), (2038, 0.012448226719837372), (4074, 0.012443708402695047), (232, 0.012433051727885287), (1931, 0.012430010897176116), (1232, 0.012416945879670216), (1345, 0.012401034216429636), (3781, 0.0123823576347198), (3395, 0.012378431869065355), (1323, 0.012357842801954183), (3060, 0.012348208558886782), (176, 0.01234685737273047), (110, 0.012335623201663442), (2942, 0.012317640242575666), (920, 0.012311257643546708), (1445, 0.012309773930199561), (3647, 0.012299495029009046), (2999, 0.012275451078090709), (803, 0.012273405837258142), (2801, 0.012266245002058782), (811, 0.012256307575878533), (3442, 0.012250531095306712), (3768, 0.012244704169811384), (1603, 0.01224186540793794), (882, 0.01223998326834001), (872, 0.012230484895518713), (4606, 0.01221927832734165), (3747, 0.012216642453774485), (4609, 0.012211597788863321), (1475, 0.012199925729736402), (545, 0.012199632620617917), (1606, 0.012195376536020477), (1175, 0.012195175660267378), (4422, 0.012183790778876411), (1993, 0.01218104334973845), (622, 0.012174038377558965), (395, 0.0121733759964673), (4066, 0.012131460653551931), (1942, 0.012126161298715861), (4703, 0.012125455724145062), (1227, 0.012122544696291301), (1397, 0.01211713011661383), (3501, 0.012117055447079665), (4254, 0.012113023620623756), (1172, 0.012111711099011862), (793, 0.012102823507711033), (1028, 0.012075954675032322), (3840, 0.012073393053926025), (539, 0.012067614357962735), (1045, 0.01204330839700899), (3485, 0.012037635478245719), (4364, 0.01203428001607181), (849, 0.012030131140002618), (3443, 0.012023974333327818), (3809, 0.012017245893459873), (193, 0.012010478677981162), (2661, 0.012009183725643937), (2204, 0.011991688299672894), (273, 0.011983901083534051), (3602, 0.011979308363523953), (400, 0.011975971829050814), (467, 0.011955249967264126), (312, 0.011948156067661092), (4279, 0.011935506087222401), (2865, 0.011932264151790275), (464, 0.011929835870459414), (4409, 0.011929092423433934), (1016, 0.011914117750037452), (1696, 0.011905114857378132), (697, 0.011892147552561579), (50, 0.011887933853798794), (2539, 0.01186899450567266), (3731, 0.011863895372268892), (4122, 0.011860937628433581), (1269, 0.011842692357592137), (2533, 0.01184026655950729), (4314, 0.011829857089785692), (600, 0.011828131377888353), (3644, 0.011826588310831523), (349, 0.01182188253655771), (3346, 0.011811232080973991), (2326, 0.011793553565379375), (1811, 0.011788718193883819), (2144, 0.011749452674082938), (2685, 0.011741072086134292), (723, 0.011737206637674857), (676, 0.011702676008623134), (755, 0.011699369399278098), (3673, 0.011687591545487364), (2226, 0.011682291803446519), (2050, 0.011682005604104168), (2354, 0.011677957414532345), (4183, 0.011666146718379912), (3876, 0.01166235693420923), (2688, 0.011651604184174925), (1369, 0.011650560052388367), (2192, 0.01164187732352083), (2918, 0.011631653935373566), (1604, 0.011627758160077887), (3188, 0.011627087222546982), (4591, 0.011626443127303513), (2822, 0.011623315022930247), (88, 0.011619347261452967), (834, 0.01161554983158391), (4380, 0.011613583722144818), (3104, 0.011593724025609833), (114, 0.011588359407096602), (2804, 0.011588170503985584), (1759, 0.011584951878767881), (712, 0.01156291880776507), (693, 0.011550933105423836), (719, 0.011531811136728163), (1247, 0.011520925833061592), (724, 0.011517367277651416), (3926, 0.011511643870357822), (1255, 0.011504853785376284), (319, 0.011499460757375783), (315, 0.011475602516409665), (975, 0.011473223843070304), (1406, 0.011472407035014405), (1263, 0.01145510482081831), (1621, 0.01144731882206587), (4553, 0.011447145853310126), (3582, 0.0114406806142285), (4511, 0.011438659057066187), (1509, 0.011437908240934177), (3345, 0.011436874325878263), (3615, 0.01143614248475334), (628, 0.011436109959951294), (2206, 0.011424489579066084), (1663, 0.011415221884815661), (3152, 0.011415124585413957), (1921, 0.011410027314181559), (2378, 0.011401986530095297), (85, 0.011394768290217709), (1117, 0.011390884013555943), (1235, 0.011390619757303298), (1112, 0.011387851391176169), (466, 0.011384271456343478), (309, 0.011378526001213935), (838, 0.011375262480979635), (359, 0.011369588632330842), (1912, 0.011353597181626585), (3466, 0.011348849399313493), (473, 0.011347170815935928), (188, 0.011344023157226685), (689, 0.011329249104310468), (1421, 0.011320777862960683), (237, 0.011319845466280006), (2107, 0.01129826928749322), (1135, 0.01127937553056199), (833, 0.01126980521671586), (2730, 0.01126910986742615), (3718, 0.0112641346527127), (2644, 0.011263376767875885), (94, 0.011252215145292255), (1741, 0.011251513784527748), (812, 0.01122384757685191), (2656, 0.011220371313479595), (1231, 0.011218491175439146), (1654, 0.011217926618968914), (1385, 0.011215282246298275), (276, 0.01121261534109418), (1081, 0.011204114886932222), (939, 0.01119076380726169), (292, 0.011181547332192034), (835, 0.011179953899110823), (1197, 0.011168216464565034), (1667, 0.011162137520137533), (61, 0.01116036601060631), (4616, 0.011148784497987821), (3077, 0.011130681077052257), (4117, 0.01112122293226701), (4502, 0.011116927775815319), (868, 0.011116029320075821), (757, 0.011107219531632385), (449, 0.01110376554766754), (407, 0.011080721354062321), (4451, 0.011077436604863522), (2528, 0.011068206661301937), (2474, 0.011062724164911131), (1084, 0.011062393140842973), (1672, 0.011051683118642434), (3318, 0.011030503803363933), (4327, 0.01098851636735605), (3741, 0.010975955005794354), (1532, 0.010963343921409368), (1073, 0.010953726136533507), (1877, 0.010929499233004677), (1288, 0.01091525709274991), (1934, 0.010899509826900735), (80, 0.01088733355230097), (4350, 0.010883672218713926), (2143, 0.010879216710529714), (1292, 0.01087575302738559), (3824, 0.01086986902526583), (1209, 0.010860210780539711), (4479, 0.010859801765216833), (4589, 0.01081509762933444), (944, 0.01080722010204711), (3983, 0.010798963834479555), (1827, 0.010794573279607669), (2427, 0.010788536874180197), (3863, 0.010771835924128895), (684, 0.01077028755764666), (4247, 0.010768333016603201), (1543, 0.010765293069096646), (1076, 0.010764662329850226), (1387, 0.01075355489246351), (1507, 0.010745309749777058), (1625, 0.010744107957691144), (2320, 0.010728450207961458), (3369, 0.010720205352236632), (1004, 0.010711045319669809), (3754, 0.01070427708151858), (2741, 0.01069960546238177), (1067, 0.01068522831447133), (1869, 0.010684474575642824), (1414, 0.010683826046313766), (1219, 0.010682798720257418), (4627, 0.010680154676432201), (604, 0.010653355891227624), (1690, 0.010643393320079976), (154, 0.010640078296096816), (4558, 0.01063866993005178), (161, 0.010616747936115908), (2771, 0.010614105671660705), (4366, 0.010609332602550448), (4747, 0.010601915807268207), (813, 0.01059977988144753), (4032, 0.010592248520423828), (3474, 0.01058906826675316), (3022, 0.010579058469870397), (4650, 0.0105760193698054), (2625, 0.01057519258364999), (3903, 0.010564002728943991), (519, 0.010542008845742579), (4104, 0.010534225956689262), (3839, 0.010530862661113515), (3279, 0.010513294078182928), (2158, 0.01049951822826104), (3921, 0.010488581335032528), (1134, 0.010481956295672373), (2485, 0.010481320665382826), (457, 0.010468396119643824), (3117, 0.010454763495489227), (1423, 0.010454294324331212), (143, 0.01045380963292604), (4661, 0.01043672566326836), (149, 0.010428118880852391), (3960, 0.010415799702287985), (7, 0.010413459181243579), (4358, 0.010411018123947995), (3424, 0.010391377813634639), (3574, 0.01038363241255235), (3619, 0.010375838643340997), (2550, 0.01037416120036071), (4118, 0.010359997733923963), (3556, 0.010354997220765105), (3802, 0.010354329275692457), (1580, 0.010343479918112746), (3414, 0.010317663105988575), (2510, 0.010311660996154472), (2159, 0.010270626190540016), (839, 0.010264822741757978), (3254, 0.010256417326263078), (142, 0.010253004364249795), (4610, 0.010244371251492428), (2573, 0.010163754921679624), (3677, 0.01014483823227679), (1222, 0.010136860940852315), (3376, 0.010128283958169183), (4624, 0.010126279867209076), (2507, 0.01012016537528373), (4079, 0.010118093830454127), (334, 0.010118069947856754), (1040, 0.010106604587649925), (635, 0.010060950515236939), (3234, 0.010059460233391944), (1563, 0.010025394981554676), (611, 0.010022370739710797), (547, 0.01002173831071868), (2252, 0.010006735774840498), (3529, 0.00999800986386911), (2460, 0.009997102304665268), (2601, 0.009996795575999749), (1393, 0.009967782407092894), (1062, 0.00996756113323702), (2776, 0.009952011079475197), (1594, 0.009938308655682635), (2053, 0.009932627967792445), (341, 0.009931542693371194), (162, 0.009929232200454377), (175, 0.00992823048837703), (433, 0.00991967131745683), (3229, 0.009888534803641076), (4169, 0.009881987724109486), (4431, 0.009861011374552532), (3175, 0.00986000482609358), (3113, 0.009850352329880664), (4061, 0.009830499766820124), (3224, 0.009785096706196114), (74, 0.00978483089586553), (4332, 0.009782174686255505), (1963, 0.009743048711517004), (1401, 0.009738638037616956), (4420, 0.00972917608549465), (430, 0.009712946697358142), (297, 0.00967903958758415), (1859, 0.009673532513529776), (3907, 0.009663583393611739), (1599, 0.009641580755984964), (843, 0.009624069292246148), (4756, 0.009614473419025627), (1777, 0.00960763419989853), (2441, 0.009581843025706947), (1549, 0.009572930993750015), (1919, 0.009569560362485473), (1677, 0.009563651144702126), (4677, 0.009551753901491117), (2637, 0.009535439283791691), (87, 0.009530599363192057), (3585, 0.009518335001246433), (3000, 0.009515418218837486), (3765, 0.009513618087224961), (1967, 0.009499657678362064), (1419, 0.009474301914171016), (2421, 0.009465599529872276), (1506, 0.009460958749865795), (4241, 0.009459544350184678), (377, 0.009441005453128438), (2582, 0.00943911604511098), (1871, 0.00941518824428793), (4001, 0.00941516365354481), (3690, 0.009414224922275146), (4567, 0.009376390267455494), (1100, 0.009371737540615472), (2492, 0.009366107227252), (1334, 0.00936086296203166), (1192, 0.009342898091250903), (3520, 0.009323152706609637), (4736, 0.009311202054544838), (2687, 0.009308192107795559), (404, 0.009300774311474759), (2122, 0.00929766469642601), (494, 0.00929638598498561), (1757, 0.009293754424073434), (1517, 0.009291360754811816), (1522, 0.009288902602390795), (259, 0.009282578380994928), (3452, 0.009278410959685289), (2912, 0.009264845786941431), (1459, 0.009249763269765194), (1804, 0.009234976870654152), (1852, 0.009233372394617387), (822, 0.00923180315855782), (4623, 0.009225971334108454), (3195, 0.009215194992984996), (3743, 0.009214409898886824), (1915, 0.00921146525444577), (1191, 0.009210427928808052), (328, 0.009202308775110269), (1374, 0.009200716869429462), (2422, 0.009198011144894018), (2826, 0.009197262876634811), (2174, 0.009193357192589152), (1133, 0.009192216516303765), (749, 0.009185580098509612), (339, 0.009185235193917018), (3665, 0.009150238612503728), (3487, 0.00914996985278521), (2103, 0.009136211369480401), (4743, 0.009117668953386074), (1245, 0.009113542080969192), (3122, 0.009107346176567522), (1304, 0.009084363871772347), (1420, 0.009081050894995777), (460, 0.009073846250884879), (1087, 0.009058790710418749), (2160, 0.009047596342454233), (2763, 0.009031417674975579), (2215, 0.009030991388376597), (607, 0.009022582536171733), (1500, 0.009017227091608572), (727, 0.009001060593029747), (1329, 0.008999184836427724), (3014, 0.008985546760740976), (2498, 0.008968500403721713), (4292, 0.008949039036112083), (2616, 0.008948942291767572), (4682, 0.00894750529965625), (1878, 0.008943936033008455), (4534, 0.008939877844095192), (3823, 0.00893759850235906), (962, 0.008924678494968577), (2829, 0.008916043051908455), (3141, 0.008912533044411771), (132, 0.008898586174865648), (1632, 0.008897512693474737), (3454, 0.008895122875667792), (3794, 0.008894842030664369), (310, 0.008886424204543553), (1825, 0.008869284452629248), (2765, 0.008867530404400322), (2935, 0.008859645122263239), (287, 0.008857862140598867), (221, 0.008845866940968743), (167, 0.008838580764815755), (641, 0.008832964379115793), (2751, 0.008832957266316844), (2791, 0.008825475239372571), (1668, 0.008813532596138126), (1823, 0.008803272836161414), (3370, 0.008796017141358463), (1723, 0.008795068256603861), (4205, 0.008794185906258394), (798, 0.008782799843090014), (2347, 0.008781561210171807), (1001, 0.008780885175663925), (4110, 0.008780397294252831), (4192, 0.008770378953753821), (3970, 0.008758972374805104), (1649, 0.008752200539022998), (92, 0.008748778736113167), (605, 0.008746435520672263), (311, 0.00873999790083535), (4441, 0.008715104958620715), (4282, 0.008713944534108637), (2062, 0.00868777901625859), (2175, 0.008683939812102075), (1630, 0.008665567602850411), (1608, 0.008663565042899184), (218, 0.008654699094895501), (2680, 0.00864290738578014), (3705, 0.008629015836292856), (1033, 0.008616559591758218), (2191, 0.008605053582349009), (2399, 0.008579881047127466), (745, 0.008573025837149086), (214, 0.008570328804871746), (4679, 0.008560816547232007), (2224, 0.008557799725810332), (1242, 0.0085547981770224), (858, 0.00854824535302763), (1392, 0.008528071818959529), (934, 0.00851817086234636), (3329, 0.008517528651986756), (1865, 0.008508975448875342), (3716, 0.008502937351306966), (2287, 0.008499782011962479), (647, 0.008494271395502554), (285, 0.008489302761704433), (2845, 0.008474733707910817), (2686, 0.008474607063231188), (1982, 0.008472556007460554), (4426, 0.008470950404619485), (1809, 0.008470588804316998), (1, 0.00844857868046558), (124, 0.00844304259157156), (1366, 0.00843344001705649), (4343, 0.00841193841978), (1354, 0.0084116911144334), (1650, 0.008409514101623671), (2031, 0.00840714058036013), (3637, 0.00840667832879221), (1652, 0.008397865150811474), (1249, 0.0083726299825049), (2931, 0.008365329650846376), (1977, 0.00836510623071976), (37, 0.008360209891661754), (43, 0.008348759004619665), (1213, 0.008344757622564248), (4055, 0.00830387901709968), (2285, 0.008280585706019881), (629, 0.008276742003270566), (2338, 0.008267307919711902), (2724, 0.008255127698151548), (1978, 0.008244899177575794), (194, 0.008239641466546398), (357, 0.008226803031283703), (222, 0.008139702905089129), (2065, 0.00813858251215029), (3096, 0.008137377811820647), (1039, 0.00812867391139468), (3215, 0.008121084345179398), (2975, 0.008096390154350146), (653, 0.008093504563489475), (249, 0.008083204434507205), (1553, 0.00805986006087192), (733, 0.008019638076398187), (76, 0.00801505026964957), (1042, 0.008005179952821451), (1802, 0.00799462795782419), (2544, 0.007984828689593356), (4201, 0.007979080514334913), (4596, 0.007965947765102673), (2412, 0.007942369063873904), (4344, 0.007906615236733677), (3, 0.0079027889418109), (3091, 0.007819985542907002), (692, 0.0078122273436913026), (726, 0.007779557422826963), (3045, 0.00776691884931773), (1957, 0.007764821636429819), (1781, 0.007733813777412202), (113, 0.007729573068978223), (3940, 0.007710825201392666), (2665, 0.007698976341899908), (2318, 0.007665800997315312), (156, 0.007642634125613894), (3751, 0.007606888420670495), (440, 0.007605243603266358), (3835, 0.007600463363230867), (3875, 0.007544597624418368), (4652, 0.007506774335255349), (412, 0.007500692619071721), (789, 0.007440485516330696), (1277, 0.007429095529713171), (1005, 0.00731374137955981), (2220, 0.00730223224398341), (2376, 0.007225453408260219), (2671, 0.00719025475684119), (4445, 0.0071833119825483426), (1648, 0.007092995987061626), (4541, 0.007087780317067823), (452, 0.00707831006040098), (228, 0.007038842152883211), (1471, 0.007012682487318796), (542, 0.006846909825937287), (553, 0.006631758382587698), (824, 0.006601468999496272), (243, 0.006553884857247604), (2818, 0.006542838714080718), (2534, 0.006381125608954107), (3142, 0.006306781414913465), (3145, 0.0062175266913290774), (4007, 0.006092481762314777), (2645, 0.005948712095573898), (4612, 0.005871712580663958), (2363, 0.00584767816061335), (2538, 0.005846367968777364), (1548, 0.0057613764868268726), (3448, 0.005752397236573459), (2673, 0.005751059134229389), (2547, 0.005673221180895805), (4194, 0.005655816259065154), (1208, 0.005627233519990564), (2738, 0.00558267219982423), (2834, 0.00558151529838379), (3502, 0.005573818050828128), (2581, 0.005572930748944442), (4477, 0.005536797893213488), (3577, 0.005472137272344572), (491, 0.005464043209394252), (2351, 0.005424428871366557), (1343, 0.005412877122189497), (3172, 0.005408137152000178), (3610, 0.0054028211289639146), (4062, 0.005371009507599518), (3364, 0.005368023362109435), (2458, 0.005357151786972874), (1381, 0.005316918052833885), (2740, 0.005309988419803354), (4267, 0.0053062992758695126), (614, 0.005305677084742409), (4281, 0.0053034382332022316), (368, 0.005295995338178485), (3661, 0.005292767227975781), (3384, 0.0052819223927462996), (4269, 0.005271790307499991), (2032, 0.0052285192459244935), (2180, 0.005225522570434169), (1168, 0.0052081351383293974), (425, 0.005197648270010327), (1887, 0.005191914109445917), (2339, 0.005190831921813864), (424, 0.005190492072113361), (1681, 0.005173468667641835), (2079, 0.005158783283039406), (701, 0.0051543030048457296), (4549, 0.0051540490105925025), (2518, 0.005150671246740923), (380, 0.005148768519219593), (1968, 0.005139690033075771), (2012, 0.0051301440441066624), (4448, 0.005121830915052846), (1322, 0.005114113796629734), (4363, 0.005105753478437199), (3618, 0.005091275679866488), (687, 0.005089058277070701), (1349, 0.005085155432685835), (666, 0.00508236942334148), (3897, 0.00508190754740033), (12, 0.005076187566359604), (2436, 0.005067625030345518), (1733, 0.005067504395241401), (2755, 0.005059001082984585), (2873, 0.005056510228562112), (250, 0.005044032005446811), (919, 0.0050382579514736915), (4226, 0.005035950297393291), (4462, 0.005032117686033486), (3469, 0.005030356584020488), (1702, 0.005030151561296442), (1798, 0.005025493829354855), (1997, 0.0050250410575528115), (1952, 0.005022351041386766), (3920, 0.005019652248184913), (4330, 0.005014052595581566), (2418, 0.004997919931846071), (4515, 0.00499678689301176), (3277, 0.0049957914833573935), (4621, 0.004995054438966539), (3780, 0.004993303554480585), (677, 0.004982570084242637), (747, 0.004979359598733231), (4119, 0.0049666091030589376), (3857, 0.004963639068666696), (1704, 0.004961387290233528), (1858, 0.004961128503897419), (1907, 0.004955722593923749), (2546, 0.004955501403787904), (3810, 0.004954227295246618), (1520, 0.004949475347230499), (2112, 0.0049455869209389615), (4436, 0.004942863345254683), (2259, 0.004937797180971773), (982, 0.004936003583236574), (2675, 0.004933864035055193), (1537, 0.004931243957083853), (1893, 0.004924135419692585), (3919, 0.0049200305599618865), (3959, 0.004917388414480195), (4108, 0.004914640584059748), (4312, 0.0049082239324720195), (1851, 0.004906436015826164), (700, 0.00490300996119972), (3264, 0.004898293745168289), (2911, 0.004897160436898434), (3259, 0.004890537410055863), (123, 0.004890293732693801), (3374, 0.004886961987673695), (101, 0.004881700950412113), (2147, 0.0048774806457525756), (2334, 0.004876153883394447), (704, 0.004875764956700254), (2241, 0.004873369684112401), (418, 0.004871508954175926), (2963, 0.004871370726782185), (4136, 0.00486524568294455), (4038, 0.004861884419919618), (2790, 0.004853818383640786), (4629, 0.004851366167165982), (2126, 0.00484210157709626), (4379, 0.004835604446238135), (913, 0.004831802732989072), (4265, 0.004831496727772379), (930, 0.004831308266072638), (2487, 0.004828800601492171), (272, 0.004826633892739709), (4262, 0.004825644428536048), (1346, 0.004825273348287727), (1587, 0.00482493970969262), (2798, 0.004822575520482916), (344, 0.004821590116944471), (4013, 0.00481688726403609), (781, 0.004816643684441383), (2277, 0.004811849344172637), (3463, 0.004809737911813847), (2816, 0.004809005077468771), (2689, 0.004805154130511148), (4395, 0.004803733276251968), (2610, 0.004799126699792029), (2900, 0.004798494784416215), (11, 0.004793121024553406), (3233, 0.004790104803443868), (3386, 0.004788216387496734), (3643, 0.004787657954969044), (1660, 0.004780973730430254), (3549, 0.00477993325756438), (3507, 0.004779768225530111), (301, 0.00477740626421292), (1140, 0.004777366860265644), (3599, 0.004775850955802587), (2910, 0.0047758336959967075), (2725, 0.004774609766895227), (1619, 0.004773213387360884), (2431, 0.004772210538414283), (3551, 0.004768319268619859), (220, 0.0047672506378962426), (2940, 0.004764420060304617), (2072, 0.00476089550336342), (4406, 0.004759771787187794), (918, 0.004758275475292474), (908, 0.004752318616886722), (525, 0.00474725552142193), (3689, 0.004746986326900652), (2444, 0.0047454975186691575), (1402, 0.00474493425314266), (1688, 0.00474259184599889), (2729, 0.004739828724604361), (1613, 0.004739827286245961), (3464, 0.0047386735866274884), (2691, 0.004734567764081554), (2511, 0.004732504549020054), (189, 0.00473217052444673), (4025, 0.004729389806178974), (1413, 0.004729323803526498), (3778, 0.004725874358423871), (3963, 0.0047229276068505455), (1262, 0.004720019332583412), (4486, 0.0047179135871100435), (2416, 0.0047171617431027435), (1048, 0.004714466790722259), (1908, 0.00471433728171249), (3125, 0.004713354074546113), (2278, 0.004710319562768656), (1223, 0.004706576017744731), (685, 0.004706483467974926), (483, 0.00469989750988521), (1751, 0.004698429310661118), (2246, 0.004698328797472407), (4686, 0.004696869163847396), (523, 0.004696811703503156), (1396, 0.004696409484296642), (1689, 0.004694688991361453), (2792, 0.004691690039169041), (28, 0.004691611272717557), (504, 0.00469008870293854), (1179, 0.004689831415104384), (56, 0.004687032022370417), (1436, 0.0046846402191717705), (4467, 0.004675608500865616), (1985, 0.004674545440400853), (3917, 0.004674370516757182), (1146, 0.004672554356460875), (1525, 0.004671835579397632), (264, 0.004671627923784269), (2807, 0.004668216001409092), (3018, 0.004668102456264666), (1461, 0.004667503686817278), (3321, 0.004667061756899141), (897, 0.004666866052198217), (3446, 0.004666289539651901), (3150, 0.0046647625232925675), (2003, 0.004661650914042341), (2501, 0.004661515163844957), (3491, 0.004660900530930147), (3265, 0.004659123062444467), (2640, 0.004655378983728655), (4592, 0.004655311017328639), (3536, 0.00464883344194426), (3818, 0.004646769070909275), (2193, 0.004639924113694541), (299, 0.0046389876684438626), (529, 0.0046385968149957185), (2198, 0.0046322062088606985), (2706, 0.004628430497234411), (3368, 0.004624231774566731), (1239, 0.004621487407325666), (1501, 0.004620022445202848), (3073, 0.004619592640339384), (2169, 0.004619497192733914), (2812, 0.00461944976049092), (736, 0.0046171170477197175), (4218, 0.00461627143769615), (2017, 0.0046147084120866915), (3701, 0.004614530663690083), (3435, 0.004612787365016316), (521, 0.004611638483525298), (3033, 0.004608025846622678), (993, 0.0046064163246750545), (1111, 0.004604202949047933), (1551, 0.0046040949769900474), (3955, 0.004599500250287969), (2503, 0.004588521336411953), (4687, 0.004586902083753742), (3568, 0.0045867518026218345), (1338, 0.004586000552408034), (4068, 0.004585527964715314), (1035, 0.004585479913870663), (3053, 0.0045834794653891), (2045, 0.004581346075353375), (105, 0.004567270073855008), (135, 0.004566901502520252), (938, 0.004563079612170135), (1022, 0.004559626936980746), (1515, 0.00455888464697138), (1857, 0.004556109980194817), (439, 0.004555214463355322), (3237, 0.0045540659265215265), (2071, 0.0045532225669682345), (4157, 0.004552816692471235), (2027, 0.004552639073308038), (260, 0.004550230825046072), (1620, 0.004549651596887152), (3066, 0.004544905544557821), (2808, 0.004539539641048872), (3739, 0.0045394115014357125), (613, 0.004534578881924187), (4137, 0.004531586926368938), (4504, 0.004531578674603527), (3720, 0.004529950544338334), (3566, 0.004529470645430242), (4012, 0.004525573159166617), (3567, 0.004525062981584921), (2178, 0.00452447571244067), (3151, 0.004524319650825216), (1059, 0.004521145309932745), (348, 0.004519982556785809), (3786, 0.004519003756936431), (1738, 0.004517358202105414), (1442, 0.004515785837125417), (1984, 0.004515220522592348), (171, 0.004508615049071548), (112, 0.004506556828814568), (261, 0.004504430416349312), (3998, 0.004503550391419384), (2480, 0.0045027912707573175), (2698, 0.004502352321016891), (4438, 0.004501677321305495), (3868, 0.004497585338704004), (2128, 0.004497041272015855), (39, 0.004496313556220067), (3343, 0.004495554637205033), (2056, 0.004494114886827517), (4059, 0.004488894093391096), (2131, 0.004483581920113575), (870, 0.004477238864884074), (883, 0.0044697823770990675), (854, 0.004462396145575748), (3819, 0.0044585942420373925), (1446, 0.00445543304276734), (3295, 0.004454249517958832), (1113, 0.004452771990966977), (1597, 0.004452750585951439), (2777, 0.004452162907914191), (1617, 0.004451587675515422), (3011, 0.004449397960626596), (4442, 0.004449139475252538), (4328, 0.004448634320978002), (3886, 0.004448569597351016), (119, 0.004444755554968106), (4600, 0.004442669645610772), (2029, 0.004442178804671491), (1510, 0.004441055570026158), (1742, 0.004440273424817882), (1782, 0.004436605021133768), (4217, 0.004435576818435168), (138, 0.004434990487943624), (4339, 0.004433020761084661), (4564, 0.004428501896629929), (773, 0.004419814526995358), (3646, 0.004415982629596119), (2446, 0.004414934405106815), (3046, 0.004414673470345774), (3891, 0.004414017473936185), (1793, 0.004405686445756398), (215, 0.004401215356416493), (1988, 0.004400950016704656), (1360, 0.004395326787000158), (388, 0.004382815244063864), (3240, 0.004377728129060865), (2859, 0.004377603438512538), (3399, 0.004377501948575146), (866, 0.004373724985370754), (2892, 0.004373382036389196), (1756, 0.004371979209951031), (4472, 0.004371074864960306), (3465, 0.004368330352790094), (486, 0.004363112371728574), (1642, 0.004360718283730919), (3028, 0.004360160356923398), (907, 0.004358724684021893), (408, 0.004357789588243923), (4272, 0.004357340103243145), (4399, 0.004354709354981145), (492, 0.004343321663769042), (974, 0.004343202922673693), (2862, 0.004343051816878774), (9, 0.004343046097131075), (4257, 0.00434010608673756), (1066, 0.0043385433165830135), (2631, 0.004337236654485107), (372, 0.0043361541469943785), (45, 0.004335058152356135), (1314, 0.0043335881432923756), (2291, 0.004332298495381543), (2094, 0.004317800226708941), (4634, 0.004315189411504151), (1895, 0.0043118449385915365), (1746, 0.00431024335056902), (963, 0.004308918523753452), (18, 0.004307583708046612), (4176, 0.004305239359637119), (3127, 0.0043013787085792975), (4689, 0.004299747495639262), (411, 0.004297898609772526), (3342, 0.004297613509777623), (1662, 0.004295931754847085), (2920, 0.004294111481736735), (3563, 0.004290637564731104), (1308, 0.004287491493894161), (4473, 0.004285381349615552), (3841, 0.004279427643511585), (2491, 0.004277669007368061), (1052, 0.004275361655992422), (3071, 0.004272364582634138), (1555, 0.004271942402061434), (4459, 0.00426824427846606), (4348, 0.004260842250683625), (1173, 0.004257760865532261), (291, 0.004249527412949086), (1054, 0.004249465533557249), (788, 0.004248555944668247), (306, 0.0042472619987962), (4568, 0.004244773499162222), (511, 0.004239673753795963), (575, 0.004236312784653793), (354, 0.004234475779613941), (1270, 0.004233878854177847), (2301, 0.004231428605095467), (2608, 0.004231418313628471), (569, 0.004227733471231504), (3226, 0.00422350823673969), (1990, 0.004200769797049678), (2855, 0.00419308085009435), (2906, 0.004188435892587925), (4297, 0.004177993478470142), (583, 0.004177312751161386), (1987, 0.004175654482365754), (1384, 0.004171155933342636), (2058, 0.004169846192548497), (3598, 0.0041693240480210675), (885, 0.004168638372393237), (410, 0.004167567458039161), (3655, 0.004166195780981314), (1719, 0.004156859062814107), (148, 0.004156500166965141), (1994, 0.0041549441833926065), (722, 0.0041462774906068055), (978, 0.004141401238229404), (3484, 0.004136077658253915), (898, 0.004127927895286582), (1546, 0.004124315170689466), (1772, 0.004118902384459198), (3327, 0.004115742101009117), (1312, 0.0041103249881774065), (1136, 0.0041092086141802375), (1971, 0.004099514428469991), (2627, 0.004091936731404003), (3748, 0.004088966698946554), (2587, 0.004085282349652352), (3336, 0.00408458465502944), (3108, 0.00408437814941037), (2156, 0.004078144723624818), (3928, 0.004070229098112929), (756, 0.00406681112798491), (3211, 0.004065655345950842), (3360, 0.004063350904611101), (497, 0.004062893271737594), (779, 0.004054935111763373), (2933, 0.004054883584985134), (3403, 0.004053984864699207), (4590, 0.004046836112230026), (1850, 0.004043226232048889), (64, 0.004039969507618458), (4748, 0.004037463584677343), (3944, 0.004036990358213337), (3980, 0.004028738472410474), (97, 0.00402767983806372), (1194, 0.004020027770365424), (1120, 0.004012754586866088), (60, 0.004002438081949027), (1394, 0.003998161636887048), (3409, 0.003993618324051486), (2047, 0.003976159908718367), (4156, 0.003972924821138258), (4158, 0.003968367875320394), (2447, 0.003965413461913207), (2842, 0.003953627795227295), (195, 0.003953448057880979), (1377, 0.003947935580783028), (3957, 0.003947576692501339), (186, 0.003939329899029587), (2969, 0.003933377719710129), (725, 0.003918472678955894), (2070, 0.003914448943552984), (1707, 0.003914431064356645), (3821, 0.003912599404903461), (78, 0.003911466095667967), (3222, 0.003903289736164819), (1535, 0.003894097486542527), (1530, 0.003893089185958141), (2622, 0.003892760755700533), (288, 0.0038886560585867347), (1221, 0.00388692114823244), (2985, 0.0038722506050604044), (1691, 0.0038719809244021604), (1981, 0.003869304227801112), (4414, 0.003849566435037242), (3362, 0.0038311784330238904), (2296, 0.0038151719966352205), (2377, 0.003810044012365334), (1395, 0.0037815295415234698), (477, 0.0037647247396491693), (738, 0.003761932090838376), (381, 0.0037412572349347405), (3410, 0.0037382072677946293), (159, 0.003727473197180148), (2774, 0.0037037020458313714), (168, 0.0036975036005101277), (2013, 0.0036859360980047106), (668, 0.0036739025709673296), (510, 0.0036716406702003135), (294, 0.003645120149900551), (1418, 0.003612837403711126), (3316, 0.0036087269287464045), (929, 0.0035413857653458997), (3365, 0.0033263114014074635), (4, 0.0), (5, 0.0), (6, 0.0), (8, 0.0), (13, 0.0), (15, 0.0), (16, 0.0), (17, 0.0), (19, 0.0), (20, 0.0), (21, 0.0), (23, 0.0), (24, 0.0), (31, 0.0), (32, 0.0), (34, 0.0), (36, 0.0), (38, 0.0), (40, 0.0), (41, 0.0), (42, 0.0), (46, 0.0), (48, 0.0), (51, 0.0), (54, 0.0), (55, 0.0), (59, 0.0), (62, 0.0), (63, 0.0), (65, 0.0), (66, 0.0), (68, 0.0), (71, 0.0), (77, 0.0), (81, 0.0), (83, 0.0), (84, 0.0), (89, 0.0), (90, 0.0), (93, 0.0), (95, 0.0), (98, 0.0), (99, 0.0), (100, 0.0), (103, 0.0), (104, 0.0), (107, 0.0), (109, 0.0), (111, 0.0), (115, 0.0), (116, 0.0), (117, 0.0), (118, 0.0), (120, 0.0), (126, 0.0), (127, 0.0), (128, 0.0), (129, 0.0), (131, 0.0), (133, 0.0), (134, 0.0), (139, 0.0), (141, 0.0), (145, 0.0), (147, 0.0), (151, 0.0), (153, 0.0), (157, 0.0), (158, 0.0), (163, 0.0), (164, 0.0), (172, 0.0), (174, 0.0), (180, 0.0), (181, 0.0), (183, 0.0), (190, 0.0), (197, 0.0), (199, 0.0), (200, 0.0), (204, 0.0), (205, 0.0), (206, 0.0), (207, 0.0), (208, 0.0), (209, 0.0), (210, 0.0), (211, 0.0), (213, 0.0), (224, 0.0), (226, 0.0), (227, 0.0), (234, 0.0), (235, 0.0), (236, 0.0), (238, 0.0), (241, 0.0), (242, 0.0), (244, 0.0), (246, 0.0), (248, 0.0), (252, 0.0), (253, 0.0), (255, 0.0), (257, 0.0), (258, 0.0), (262, 0.0), (267, 0.0), (268, 0.0), (274, 0.0), (275, 0.0), (278, 0.0), (280, 0.0), (281, 0.0), (282, 0.0), (283, 0.0), (289, 0.0), (290, 0.0), (295, 0.0), (296, 0.0), (300, 0.0), (302, 0.0), (303, 0.0), (305, 0.0), (307, 0.0), (308, 0.0), (313, 0.0), (314, 0.0), (316, 0.0), (318, 0.0), (320, 0.0), (321, 0.0), (322, 0.0), (323, 0.0), (325, 0.0), (326, 0.0), (329, 0.0), (331, 0.0), (332, 0.0), (333, 0.0), (340, 0.0), (343, 0.0), (364, 0.0), (366, 0.0), (367, 0.0), (371, 0.0), (374, 0.0), (375, 0.0), (376, 0.0), (382, 0.0), (383, 0.0), (386, 0.0), (387, 0.0), (389, 0.0), (390, 0.0), (393, 0.0), (394, 0.0), (396, 0.0), (397, 0.0), (398, 0.0), (399, 0.0), (401, 0.0), (402, 0.0), (405, 0.0), (413, 0.0), (414, 0.0), (416, 0.0), (417, 0.0), (419, 0.0), (420, 0.0), (422, 0.0), (423, 0.0), (426, 0.0), (431, 0.0), (432, 0.0), (436, 0.0), (437, 0.0), (438, 0.0), (442, 0.0), (443, 0.0), (444, 0.0), (445, 0.0), (447, 0.0), (450, 0.0), (456, 0.0), (458, 0.0), (462, 0.0), (468, 0.0), (470, 0.0), (471, 0.0), (475, 0.0), (476, 0.0), (478, 0.0), (480, 0.0), (481, 0.0), (482, 0.0), (484, 0.0), (485, 0.0), (487, 0.0), (489, 0.0), (490, 0.0), (493, 0.0), (499, 0.0), (502, 0.0), (503, 0.0), (505, 0.0), (506, 0.0), (509, 0.0), (512, 0.0), (513, 0.0), (514, 0.0), (515, 0.0), (516, 0.0), (518, 0.0), (522, 0.0), (526, 0.0), (527, 0.0), (528, 0.0), (531, 0.0), (533, 0.0), (534, 0.0), (535, 0.0), (536, 0.0), (543, 0.0), (544, 0.0), (550, 0.0), (551, 0.0), (552, 0.0), (554, 0.0), (556, 0.0), (558, 0.0), (563, 0.0), (564, 0.0), (565, 0.0), (570, 0.0), (571, 0.0), (572, 0.0), (573, 0.0), (574, 0.0), (576, 0.0), (579, 0.0), (580, 0.0), (581, 0.0), (584, 0.0), (586, 0.0), (587, 0.0), (588, 0.0), (589, 0.0), (590, 0.0), (591, 0.0), (592, 0.0), (593, 0.0), (595, 0.0), (598, 0.0), (599, 0.0), (601, 0.0), (602, 0.0), (603, 0.0), (606, 0.0), (608, 0.0), (615, 0.0), (616, 0.0), (617, 0.0), (623, 0.0), (625, 0.0), (626, 0.0), (627, 0.0), (631, 0.0), (632, 0.0), (633, 0.0), (634, 0.0), (636, 0.0), (637, 0.0), (638, 0.0), (644, 0.0), (645, 0.0), (649, 0.0), (650, 0.0), (652, 0.0), (654, 0.0), (655, 0.0), (658, 0.0), (659, 0.0), (660, 0.0), (661, 0.0), (663, 0.0), (667, 0.0), (669, 0.0), (671, 0.0), (672, 0.0), (673, 0.0), (675, 0.0), (678, 0.0), (679, 0.0), (680, 0.0), (681, 0.0), (682, 0.0), (686, 0.0), (688, 0.0), (694, 0.0), (702, 0.0), (707, 0.0), (710, 0.0), (711, 0.0), (713, 0.0), (714, 0.0), (715, 0.0), (716, 0.0), (718, 0.0), (720, 0.0), (721, 0.0), (728, 0.0), (729, 0.0), (732, 0.0), (734, 0.0), (735, 0.0), (739, 0.0), (741, 0.0), (746, 0.0), (748, 0.0), (751, 0.0), (754, 0.0), (758, 0.0), (759, 0.0), (760, 0.0), (761, 0.0), (764, 0.0), (765, 0.0), (766, 0.0), (767, 0.0), (770, 0.0), (771, 0.0), (772, 0.0), (774, 0.0), (776, 0.0), (777, 0.0), (782, 0.0), (783, 0.0), (784, 0.0), (791, 0.0), (795, 0.0), (796, 0.0), (799, 0.0), (800, 0.0), (801, 0.0), (808, 0.0), (809, 0.0), (814, 0.0), (816, 0.0), (817, 0.0), (818, 0.0), (823, 0.0), (825, 0.0), (826, 0.0), (828, 0.0), (830, 0.0), (832, 0.0), (837, 0.0), (841, 0.0), (842, 0.0), (844, 0.0), (845, 0.0), (848, 0.0), (851, 0.0), (857, 0.0), (859, 0.0), (860, 0.0), (863, 0.0), (864, 0.0), (865, 0.0), (867, 0.0), (869, 0.0), (871, 0.0), (873, 0.0), (875, 0.0), (876, 0.0), (877, 0.0), (886, 0.0), (888, 0.0), (889, 0.0), (896, 0.0), (901, 0.0), (902, 0.0), (903, 0.0), (904, 0.0), (910, 0.0), (914, 0.0), (916, 0.0), (917, 0.0), (921, 0.0), (922, 0.0), (923, 0.0), (925, 0.0), (927, 0.0), (933, 0.0), (937, 0.0), (940, 0.0), (941, 0.0), (942, 0.0), (943, 0.0), (947, 0.0), (949, 0.0), (950, 0.0), (951, 0.0), (952, 0.0), (955, 0.0), (956, 0.0), (959, 0.0), (960, 0.0), (961, 0.0), (964, 0.0), (965, 0.0), (967, 0.0), (968, 0.0), (969, 0.0), (970, 0.0), (972, 0.0), (976, 0.0), (977, 0.0), (979, 0.0), (980, 0.0), (983, 0.0), (984, 0.0), (986, 0.0), (987, 0.0), (990, 0.0), (992, 0.0), (994, 0.0), (996, 0.0), (997, 0.0), (999, 0.0), (1003, 0.0), (1007, 0.0), (1012, 0.0), (1013, 0.0), (1014, 0.0), (1015, 0.0), (1017, 0.0), (1019, 0.0), (1020, 0.0), (1023, 0.0), (1024, 0.0), (1027, 0.0), (1030, 0.0), (1031, 0.0), (1032, 0.0), (1034, 0.0), (1036, 0.0), (1037, 0.0), (1043, 0.0), (1044, 0.0), (1047, 0.0), (1051, 0.0), (1053, 0.0), (1055, 0.0), (1056, 0.0), (1058, 0.0), (1061, 0.0), (1063, 0.0), (1064, 0.0), (1065, 0.0), (1069, 0.0), (1070, 0.0), (1074, 0.0), (1075, 0.0), (1078, 0.0), (1083, 0.0), (1086, 0.0), (1088, 0.0), (1091, 0.0), (1093, 0.0), (1096, 0.0), (1097, 0.0), (1098, 0.0), (1099, 0.0), (1101, 0.0), (1102, 0.0), (1103, 0.0), (1108, 0.0), (1110, 0.0), (1119, 0.0), (1121, 0.0), (1123, 0.0), (1124, 0.0), (1125, 0.0), (1126, 0.0), (1127, 0.0), (1128, 0.0), (1131, 0.0), (1137, 0.0), (1138, 0.0), (1139, 0.0), (1141, 0.0), (1142, 0.0), (1143, 0.0), (1144, 0.0), (1145, 0.0), (1147, 0.0), (1148, 0.0), (1149, 0.0), (1150, 0.0), (1151, 0.0), (1154, 0.0), (1156, 0.0), (1158, 0.0), (1159, 0.0), (1160, 0.0), (1162, 0.0), (1164, 0.0), (1167, 0.0), (1169, 0.0), (1170, 0.0), (1174, 0.0), (1177, 0.0), (1181, 0.0), (1183, 0.0), (1184, 0.0), (1185, 0.0), (1186, 0.0), (1187, 0.0), (1188, 0.0), (1189, 0.0), (1190, 0.0), (1193, 0.0), (1196, 0.0), (1199, 0.0), (1200, 0.0), (1201, 0.0), (1203, 0.0), (1204, 0.0), (1205, 0.0), (1206, 0.0), (1217, 0.0), (1218, 0.0), (1220, 0.0), (1224, 0.0), (1225, 0.0), (1229, 0.0), (1230, 0.0), (1233, 0.0), (1234, 0.0), (1236, 0.0), (1238, 0.0), (1240, 0.0), (1243, 0.0), (1244, 0.0), (1248, 0.0), (1252, 0.0), (1256, 0.0), (1258, 0.0), (1260, 0.0), (1261, 0.0), (1264, 0.0), (1265, 0.0), (1266, 0.0), (1268, 0.0), (1271, 0.0), (1272, 0.0), (1273, 0.0), (1274, 0.0), (1275, 0.0), (1280, 0.0), (1281, 0.0), (1283, 0.0), (1286, 0.0), (1287, 0.0), (1289, 0.0), (1290, 0.0), (1293, 0.0), (1294, 0.0), (1297, 0.0), (1298, 0.0), (1299, 0.0), (1300, 0.0), (1302, 0.0), (1303, 0.0), (1309, 0.0), (1310, 0.0), (1311, 0.0), (1313, 0.0), (1315, 0.0), (1316, 0.0), (1317, 0.0), (1318, 0.0), (1320, 0.0), (1324, 0.0), (1325, 0.0), (1326, 0.0), (1328, 0.0), (1330, 0.0), (1331, 0.0), (1332, 0.0), (1335, 0.0), (1337, 0.0), (1340, 0.0), (1342, 0.0), (1347, 0.0), (1348, 0.0), (1350, 0.0), (1355, 0.0), (1357, 0.0), (1358, 0.0), (1359, 0.0), (1361, 0.0), (1362, 0.0), (1363, 0.0), (1367, 0.0), (1370, 0.0), (1371, 0.0), (1372, 0.0), (1375, 0.0), (1376, 0.0), (1378, 0.0), (1380, 0.0), (1382, 0.0), (1386, 0.0), (1388, 0.0), (1389, 0.0), (1391, 0.0), (1398, 0.0), (1399, 0.0), (1400, 0.0), (1408, 0.0), (1410, 0.0), (1415, 0.0), (1416, 0.0), (1417, 0.0), (1422, 0.0), (1424, 0.0), (1425, 0.0), (1426, 0.0), (1428, 0.0), (1429, 0.0), (1432, 0.0), (1434, 0.0), (1435, 0.0), (1437, 0.0), (1438, 0.0), (1439, 0.0), (1440, 0.0), (1441, 0.0), (1444, 0.0), (1448, 0.0), (1449, 0.0), (1452, 0.0), (1455, 0.0), (1457, 0.0), (1462, 0.0), (1463, 0.0), (1466, 0.0), (1469, 0.0), (1470, 0.0), (1476, 0.0), (1483, 0.0), (1484, 0.0), (1486, 0.0), (1488, 0.0), (1490, 0.0), (1491, 0.0), (1497, 0.0), (1498, 0.0), (1499, 0.0), (1502, 0.0), (1504, 0.0), (1508, 0.0), (1512, 0.0), (1513, 0.0), (1514, 0.0), (1516, 0.0), (1518, 0.0), (1519, 0.0), (1527, 0.0), (1528, 0.0), (1531, 0.0), (1533, 0.0), (1534, 0.0), (1536, 0.0), (1540, 0.0), (1541, 0.0), (1542, 0.0), (1545, 0.0), (1547, 0.0), (1554, 0.0), (1556, 0.0), (1558, 0.0), (1560, 0.0), (1565, 0.0), (1566, 0.0), (1567, 0.0), (1571, 0.0), (1572, 0.0), (1573, 0.0), (1575, 0.0), (1576, 0.0), (1581, 0.0), (1583, 0.0), (1585, 0.0), (1589, 0.0), (1590, 0.0), (1591, 0.0), (1592, 0.0), (1593, 0.0), (1595, 0.0), (1596, 0.0), (1598, 0.0), (1605, 0.0), (1611, 0.0), (1612, 0.0), (1615, 0.0), (1618, 0.0), (1622, 0.0), (1623, 0.0), (1624, 0.0), (1627, 0.0), (1628, 0.0), (1631, 0.0), (1633, 0.0), (1635, 0.0), (1636, 0.0), (1637, 0.0), (1638, 0.0), (1639, 0.0), (1641, 0.0), (1643, 0.0), (1644, 0.0), (1651, 0.0), (1653, 0.0), (1656, 0.0), (1657, 0.0), (1658, 0.0), (1659, 0.0), (1661, 0.0), (1665, 0.0), (1669, 0.0), (1670, 0.0), (1671, 0.0), (1673, 0.0), (1674, 0.0), (1680, 0.0), (1683, 0.0), (1684, 0.0), (1685, 0.0), (1686, 0.0), (1687, 0.0), (1693, 0.0), (1697, 0.0), (1699, 0.0), (1705, 0.0), (1708, 0.0), (1710, 0.0), (1712, 0.0), (1713, 0.0), (1716, 0.0), (1717, 0.0), (1721, 0.0), (1722, 0.0), (1727, 0.0), (1728, 0.0), (1729, 0.0), (1730, 0.0), (1731, 0.0), (1732, 0.0), (1735, 0.0), (1736, 0.0), (1739, 0.0), (1740, 0.0), (1744, 0.0), (1745, 0.0), (1747, 0.0), (1748, 0.0), (1749, 0.0), (1750, 0.0), (1752, 0.0), (1753, 0.0), (1754, 0.0), (1761, 0.0), (1763, 0.0), (1765, 0.0), (1766, 0.0), (1767, 0.0), (1770, 0.0), (1773, 0.0), (1775, 0.0), (1780, 0.0), (1783, 0.0), (1785, 0.0), (1786, 0.0), (1790, 0.0), (1792, 0.0), (1795, 0.0), (1796, 0.0), (1801, 0.0), (1803, 0.0), (1805, 0.0), (1806, 0.0), (1807, 0.0), (1815, 0.0), (1819, 0.0), (1821, 0.0), (1822, 0.0), (1826, 0.0), (1829, 0.0), (1830, 0.0), (1831, 0.0), (1832, 0.0), (1835, 0.0), (1836, 0.0), (1838, 0.0), (1839, 0.0), (1840, 0.0), (1843, 0.0), (1846, 0.0), (1847, 0.0), (1848, 0.0), (1853, 0.0), (1854, 0.0), (1856, 0.0), (1863, 0.0), (1866, 0.0), (1867, 0.0), (1870, 0.0), (1872, 0.0), (1874, 0.0), (1875, 0.0), (1879, 0.0), (1880, 0.0), (1882, 0.0), (1883, 0.0), (1884, 0.0), (1885, 0.0), (1889, 0.0), (1890, 0.0), (1892, 0.0), (1894, 0.0), (1896, 0.0), (1898, 0.0), (1899, 0.0), (1900, 0.0), (1901, 0.0), (1902, 0.0), (1904, 0.0), (1905, 0.0), (1906, 0.0), (1909, 0.0), (1911, 0.0), (1913, 0.0), (1916, 0.0), (1917, 0.0), (1918, 0.0), (1922, 0.0), (1923, 0.0), (1924, 0.0), (1928, 0.0), (1929, 0.0), (1930, 0.0), (1932, 0.0), (1936, 0.0), (1938, 0.0), (1939, 0.0), (1940, 0.0), (1941, 0.0), (1943, 0.0), (1945, 0.0), (1946, 0.0), (1947, 0.0), (1949, 0.0), (1955, 0.0), (1956, 0.0), (1958, 0.0), (1960, 0.0), (1962, 0.0), (1965, 0.0), (1966, 0.0), (1970, 0.0), (1972, 0.0), (1975, 0.0), (1976, 0.0), (1980, 0.0), (1983, 0.0), (1986, 0.0), (1989, 0.0), (1991, 0.0), (1995, 0.0), (1996, 0.0), (2001, 0.0), (2002, 0.0), (2004, 0.0), (2006, 0.0), (2008, 0.0), (2010, 0.0), (2011, 0.0), (2015, 0.0), (2018, 0.0), (2020, 0.0), (2021, 0.0), (2023, 0.0), (2024, 0.0), (2025, 0.0), (2026, 0.0), (2028, 0.0), (2033, 0.0), (2035, 0.0), (2042, 0.0), (2044, 0.0), (2046, 0.0), (2048, 0.0), (2049, 0.0), (2052, 0.0), (2054, 0.0), (2057, 0.0), (2063, 0.0), (2066, 0.0), (2067, 0.0), (2068, 0.0), (2069, 0.0), (2075, 0.0), (2076, 0.0), (2077, 0.0), (2078, 0.0), (2080, 0.0), (2081, 0.0), (2082, 0.0), (2083, 0.0), (2084, 0.0), (2087, 0.0), (2089, 0.0), (2090, 0.0), (2091, 0.0), (2092, 0.0), (2093, 0.0), (2096, 0.0), (2099, 0.0), (2101, 0.0), (2105, 0.0), (2106, 0.0), (2108, 0.0), (2110, 0.0), (2115, 0.0), (2117, 0.0), (2119, 0.0), (2120, 0.0), (2123, 0.0), (2124, 0.0), (2125, 0.0), (2127, 0.0), (2129, 0.0), (2130, 0.0), (2132, 0.0), (2133, 0.0), (2134, 0.0), (2136, 0.0), (2137, 0.0), (2139, 0.0), (2141, 0.0), (2142, 0.0), (2146, 0.0), (2148, 0.0), (2149, 0.0), (2151, 0.0), (2152, 0.0), (2154, 0.0), (2157, 0.0), (2162, 0.0), (2163, 0.0), (2164, 0.0), (2165, 0.0), (2166, 0.0), (2168, 0.0), (2171, 0.0), (2172, 0.0), (2173, 0.0), (2176, 0.0), (2179, 0.0), (2181, 0.0), (2182, 0.0), (2186, 0.0), (2187, 0.0), (2188, 0.0), (2189, 0.0), (2194, 0.0), (2199, 0.0), (2202, 0.0), (2203, 0.0), (2205, 0.0), (2208, 0.0), (2209, 0.0), (2210, 0.0), (2213, 0.0), (2214, 0.0), (2216, 0.0), (2217, 0.0), (2219, 0.0), (2223, 0.0), (2225, 0.0), (2228, 0.0), (2229, 0.0), (2230, 0.0), (2231, 0.0), (2233, 0.0), (2238, 0.0), (2240, 0.0), (2242, 0.0), (2243, 0.0), (2244, 0.0), (2247, 0.0), (2248, 0.0), (2249, 0.0), (2251, 0.0), (2253, 0.0), (2254, 0.0), (2255, 0.0), (2256, 0.0), (2257, 0.0), (2258, 0.0), (2260, 0.0), (2261, 0.0), (2265, 0.0), (2269, 0.0), (2270, 0.0), (2271, 0.0), (2272, 0.0), (2273, 0.0), (2275, 0.0), (2276, 0.0), (2279, 0.0), (2281, 0.0), (2282, 0.0), (2284, 0.0), (2286, 0.0), (2288, 0.0), (2289, 0.0), (2293, 0.0), (2294, 0.0), (2295, 0.0), (2298, 0.0), (2300, 0.0), (2302, 0.0), (2304, 0.0), (2305, 0.0), (2306, 0.0), (2307, 0.0), (2308, 0.0), (2309, 0.0), (2310, 0.0), (2312, 0.0), (2313, 0.0), (2314, 0.0), (2315, 0.0), (2316, 0.0), (2319, 0.0), (2323, 0.0), (2324, 0.0), (2325, 0.0), (2328, 0.0), (2330, 0.0), (2331, 0.0), (2333, 0.0), (2336, 0.0), (2337, 0.0), (2341, 0.0), (2342, 0.0), (2343, 0.0), (2344, 0.0), (2345, 0.0), (2346, 0.0), (2348, 0.0), (2349, 0.0), (2350, 0.0), (2355, 0.0), (2356, 0.0), (2357, 0.0), (2358, 0.0), (2361, 0.0), (2362, 0.0), (2364, 0.0), (2369, 0.0), (2371, 0.0), (2373, 0.0), (2374, 0.0), (2375, 0.0), (2379, 0.0), (2380, 0.0), (2381, 0.0), (2382, 0.0), (2383, 0.0), (2384, 0.0), (2385, 0.0), (2386, 0.0), (2387, 0.0), (2388, 0.0), (2389, 0.0), (2391, 0.0), (2394, 0.0), (2395, 0.0), (2396, 0.0), (2397, 0.0), (2400, 0.0), (2401, 0.0), (2402, 0.0), (2403, 0.0), (2404, 0.0), (2405, 0.0), (2407, 0.0), (2410, 0.0), (2411, 0.0), (2415, 0.0), (2417, 0.0), (2419, 0.0), (2420, 0.0), (2423, 0.0), (2424, 0.0), (2425, 0.0), (2426, 0.0), (2428, 0.0), (2429, 0.0), (2432, 0.0), (2434, 0.0), (2435, 0.0), (2437, 0.0), (2438, 0.0), (2439, 0.0), (2440, 0.0), (2448, 0.0), (2449, 0.0), (2452, 0.0), (2453, 0.0), (2454, 0.0), (2455, 0.0), (2456, 0.0), (2459, 0.0), (2461, 0.0), (2463, 0.0), (2464, 0.0), (2465, 0.0), (2466, 0.0), (2467, 0.0), (2468, 0.0), (2469, 0.0), (2470, 0.0), (2471, 0.0), (2475, 0.0), (2477, 0.0), (2478, 0.0), (2482, 0.0), (2483, 0.0), (2486, 0.0), (2488, 0.0), (2489, 0.0), (2490, 0.0), (2493, 0.0), (2495, 0.0), (2497, 0.0), (2499, 0.0), (2500, 0.0), (2505, 0.0), (2506, 0.0), (2508, 0.0), (2512, 0.0), (2515, 0.0), (2519, 0.0), (2520, 0.0), (2522, 0.0), (2523, 0.0), (2524, 0.0), (2527, 0.0), (2529, 0.0), (2530, 0.0), (2531, 0.0), (2535, 0.0), (2536, 0.0), (2537, 0.0), (2542, 0.0), (2543, 0.0), (2545, 0.0), (2549, 0.0), (2551, 0.0), (2555, 0.0), (2556, 0.0), (2557, 0.0), (2558, 0.0), (2559, 0.0), (2561, 0.0), (2564, 0.0), (2565, 0.0), (2566, 0.0), (2567, 0.0), (2569, 0.0), (2571, 0.0), (2572, 0.0), (2575, 0.0), (2576, 0.0), (2577, 0.0), (2590, 0.0), (2592, 0.0), (2593, 0.0), (2594, 0.0), (2596, 0.0), (2597, 0.0), (2598, 0.0), (2599, 0.0), (2600, 0.0), (2602, 0.0), (2604, 0.0), (2605, 0.0), (2606, 0.0), (2607, 0.0), (2609, 0.0), (2613, 0.0), (2614, 0.0), (2617, 0.0), (2618, 0.0), (2619, 0.0), (2620, 0.0), (2621, 0.0), (2624, 0.0), (2628, 0.0), (2629, 0.0), (2630, 0.0), (2635, 0.0), (2638, 0.0), (2639, 0.0), (2641, 0.0), (2643, 0.0), (2648, 0.0), (2650, 0.0), (2651, 0.0), (2653, 0.0), (2655, 0.0), (2657, 0.0), (2658, 0.0), (2659, 0.0), (2669, 0.0), (2670, 0.0), (2672, 0.0), (2674, 0.0), (2676, 0.0), (2678, 0.0), (2679, 0.0), (2681, 0.0), (2683, 0.0), (2684, 0.0), (2690, 0.0), (2692, 0.0), (2693, 0.0), (2694, 0.0), (2695, 0.0), (2697, 0.0), (2699, 0.0), (2700, 0.0), (2701, 0.0), (2702, 0.0), (2703, 0.0), (2705, 0.0), (2707, 0.0), (2709, 0.0), (2711, 0.0), (2713, 0.0), (2714, 0.0), (2716, 0.0), (2718, 0.0), (2721, 0.0), (2722, 0.0), (2723, 0.0), (2726, 0.0), (2727, 0.0), (2728, 0.0), (2731, 0.0), (2733, 0.0), (2735, 0.0), (2736, 0.0), (2737, 0.0), (2739, 0.0), (2742, 0.0), (2743, 0.0), (2744, 0.0), (2745, 0.0), (2748, 0.0), (2750, 0.0), (2754, 0.0), (2756, 0.0), (2757, 0.0), (2758, 0.0), (2764, 0.0), (2767, 0.0), (2768, 0.0), (2769, 0.0), (2772, 0.0), (2773, 0.0), (2775, 0.0), (2778, 0.0), (2779, 0.0), (2780, 0.0), (2783, 0.0), (2784, 0.0), (2785, 0.0), (2786, 0.0), (2787, 0.0), (2794, 0.0), (2795, 0.0), (2796, 0.0), (2797, 0.0), (2799, 0.0), (2800, 0.0), (2802, 0.0), (2803, 0.0), (2805, 0.0), (2806, 0.0), (2810, 0.0), (2811, 0.0), (2815, 0.0), (2819, 0.0), (2820, 0.0), (2821, 0.0), (2823, 0.0), (2825, 0.0), (2827, 0.0), (2828, 0.0), (2830, 0.0), (2832, 0.0), (2833, 0.0), (2836, 0.0), (2837, 0.0), (2838, 0.0), (2843, 0.0), (2846, 0.0), (2847, 0.0), (2848, 0.0), (2849, 0.0), (2850, 0.0), (2853, 0.0), (2858, 0.0), (2860, 0.0), (2861, 0.0), (2863, 0.0), (2866, 0.0), (2868, 0.0), (2869, 0.0), (2870, 0.0), (2871, 0.0), (2872, 0.0), (2874, 0.0), (2875, 0.0), (2877, 0.0), (2879, 0.0), (2880, 0.0), (2881, 0.0), (2883, 0.0), (2885, 0.0), (2886, 0.0), (2887, 0.0), (2888, 0.0), (2889, 0.0), (2890, 0.0), (2891, 0.0), (2893, 0.0), (2894, 0.0), (2895, 0.0), (2896, 0.0), (2898, 0.0), (2901, 0.0), (2902, 0.0), (2903, 0.0), (2904, 0.0), (2905, 0.0), (2907, 0.0), (2909, 0.0), (2913, 0.0), (2914, 0.0), (2916, 0.0), (2917, 0.0), (2919, 0.0), (2921, 0.0), (2922, 0.0), (2923, 0.0), (2924, 0.0), (2926, 0.0), (2928, 0.0), (2930, 0.0), (2932, 0.0), (2934, 0.0), (2936, 0.0), (2937, 0.0), (2939, 0.0), (2941, 0.0), (2943, 0.0), (2945, 0.0), (2946, 0.0), (2947, 0.0), (2948, 0.0), (2949, 0.0), (2950, 0.0), (2953, 0.0), (2955, 0.0), (2956, 0.0), (2958, 0.0), (2959, 0.0), (2960, 0.0), (2961, 0.0), (2966, 0.0), (2967, 0.0), (2968, 0.0), (2970, 0.0), (2971, 0.0), (2972, 0.0), (2973, 0.0), (2974, 0.0), (2976, 0.0), (2977, 0.0), (2978, 0.0), (2979, 0.0), (2983, 0.0), (2984, 0.0), (2986, 0.0), (2987, 0.0), (2988, 0.0), (2989, 0.0), (2990, 0.0), (2991, 0.0), (2992, 0.0), (2993, 0.0), (2994, 0.0), (2995, 0.0), (2997, 0.0), (2998, 0.0), (3001, 0.0), (3002, 0.0), (3004, 0.0), (3005, 0.0), (3006, 0.0), (3007, 0.0), (3008, 0.0), (3009, 0.0), (3012, 0.0), (3013, 0.0), (3015, 0.0), (3016, 0.0), (3017, 0.0), (3019, 0.0), (3020, 0.0), (3021, 0.0), (3023, 0.0), (3025, 0.0), (3026, 0.0), (3029, 0.0), (3031, 0.0), (3032, 0.0), (3034, 0.0), (3035, 0.0), (3036, 0.0), (3037, 0.0), (3038, 0.0), (3039, 0.0), (3040, 0.0), (3041, 0.0), (3042, 0.0), (3043, 0.0), (3044, 0.0), (3048, 0.0), (3049, 0.0), (3050, 0.0), (3051, 0.0), (3052, 0.0), (3054, 0.0), (3055, 0.0), (3056, 0.0), (3058, 0.0), (3059, 0.0), (3061, 0.0), (3062, 0.0), (3063, 0.0), (3064, 0.0), (3065, 0.0), (3067, 0.0), (3068, 0.0), (3069, 0.0), (3070, 0.0), (3072, 0.0), (3074, 0.0), (3075, 0.0), (3076, 0.0), (3078, 0.0), (3079, 0.0), (3080, 0.0), (3081, 0.0), (3082, 0.0), (3084, 0.0), (3085, 0.0), (3086, 0.0), (3087, 0.0), (3088, 0.0), (3089, 0.0), (3090, 0.0), (3093, 0.0), (3094, 0.0), (3095, 0.0), (3097, 0.0), (3099, 0.0), (3100, 0.0), (3102, 0.0), (3105, 0.0), (3107, 0.0), (3112, 0.0), (3114, 0.0), (3115, 0.0), (3118, 0.0), (3123, 0.0), (3124, 0.0), (3126, 0.0), (3128, 0.0), (3130, 0.0), (3131, 0.0), (3132, 0.0), (3134, 0.0), (3135, 0.0), (3136, 0.0), (3137, 0.0), (3138, 0.0), (3139, 0.0), (3140, 0.0), (3143, 0.0), (3146, 0.0), (3147, 0.0), (3148, 0.0), (3153, 0.0), (3154, 0.0), (3156, 0.0), (3157, 0.0), (3158, 0.0), (3159, 0.0), (3160, 0.0), (3161, 0.0), (3163, 0.0), (3164, 0.0), (3165, 0.0), (3166, 0.0), (3167, 0.0), (3168, 0.0), (3169, 0.0), (3170, 0.0), (3171, 0.0), (3174, 0.0), (3176, 0.0), (3177, 0.0), (3178, 0.0), (3182, 0.0), (3183, 0.0), (3184, 0.0), (3185, 0.0), (3186, 0.0), (3187, 0.0), (3189, 0.0), (3190, 0.0), (3191, 0.0), (3192, 0.0), (3193, 0.0), (3194, 0.0), (3196, 0.0), (3197, 0.0), (3198, 0.0), (3200, 0.0), (3202, 0.0), (3203, 0.0), (3204, 0.0), (3207, 0.0), (3210, 0.0), (3216, 0.0), (3217, 0.0), (3219, 0.0), (3220, 0.0), (3223, 0.0), (3227, 0.0), (3230, 0.0), (3232, 0.0), (3235, 0.0), (3236, 0.0), (3239, 0.0), (3241, 0.0), (3242, 0.0), (3243, 0.0), (3245, 0.0), (3246, 0.0), (3247, 0.0), (3248, 0.0), (3249, 0.0), (3250, 0.0), (3253, 0.0), (3255, 0.0), (3257, 0.0), (3258, 0.0), (3261, 0.0), (3262, 0.0), (3266, 0.0), (3267, 0.0), (3268, 0.0), (3271, 0.0), (3274, 0.0), (3275, 0.0), (3276, 0.0), (3278, 0.0), (3280, 0.0), (3281, 0.0), (3282, 0.0), (3285, 0.0), (3289, 0.0), (3290, 0.0), (3291, 0.0), (3292, 0.0), (3296, 0.0), (3299, 0.0), (3300, 0.0), (3301, 0.0), (3304, 0.0), (3305, 0.0), (3307, 0.0), (3309, 0.0), (3310, 0.0), (3314, 0.0), (3319, 0.0), (3322, 0.0), (3323, 0.0), (3324, 0.0), (3325, 0.0), (3326, 0.0), (3332, 0.0), (3333, 0.0), (3334, 0.0), (3335, 0.0), (3337, 0.0), (3339, 0.0), (3340, 0.0), (3341, 0.0), (3347, 0.0), (3348, 0.0), (3349, 0.0), (3350, 0.0), (3351, 0.0), (3352, 0.0), (3353, 0.0), (3354, 0.0), (3355, 0.0), (3356, 0.0), (3357, 0.0), (3358, 0.0), (3359, 0.0), (3363, 0.0), (3367, 0.0), (3371, 0.0), (3372, 0.0), (3377, 0.0), (3378, 0.0), (3379, 0.0), (3380, 0.0), (3381, 0.0), (3382, 0.0), (3383, 0.0), (3385, 0.0), (3388, 0.0), (3391, 0.0), (3392, 0.0), (3394, 0.0), (3396, 0.0), (3398, 0.0), (3400, 0.0), (3401, 0.0), (3402, 0.0), (3404, 0.0), (3405, 0.0), (3406, 0.0), (3416, 0.0), (3417, 0.0), (3418, 0.0), (3419, 0.0), (3423, 0.0), (3426, 0.0), (3428, 0.0), (3429, 0.0), (3431, 0.0), (3432, 0.0), (3433, 0.0), (3434, 0.0), (3436, 0.0), (3437, 0.0), (3438, 0.0), (3439, 0.0), (3440, 0.0), (3445, 0.0), (3449, 0.0), (3450, 0.0), (3451, 0.0), (3453, 0.0), (3455, 0.0), (3460, 0.0), (3462, 0.0), (3468, 0.0), (3470, 0.0), (3472, 0.0), (3475, 0.0), (3478, 0.0), (3479, 0.0), (3480, 0.0), (3483, 0.0), (3486, 0.0), (3489, 0.0), (3490, 0.0), (3492, 0.0), (3493, 0.0), (3494, 0.0), (3496, 0.0), (3497, 0.0), (3498, 0.0), (3499, 0.0), (3500, 0.0), (3504, 0.0), (3508, 0.0), (3510, 0.0), (3511, 0.0), (3512, 0.0), (3513, 0.0), (3514, 0.0), (3516, 0.0), (3519, 0.0), (3521, 0.0), (3522, 0.0), (3523, 0.0), (3524, 0.0), (3525, 0.0), (3527, 0.0), (3528, 0.0), (3530, 0.0), (3532, 0.0), (3533, 0.0), (3534, 0.0), (3535, 0.0), (3537, 0.0), (3538, 0.0), (3539, 0.0), (3541, 0.0), (3542, 0.0), (3543, 0.0), (3544, 0.0), (3545, 0.0), (3547, 0.0), (3552, 0.0), (3554, 0.0), (3555, 0.0), (3558, 0.0), (3560, 0.0), (3561, 0.0), (3564, 0.0), (3565, 0.0), (3569, 0.0), (3570, 0.0), (3571, 0.0), (3572, 0.0), (3573, 0.0), (3575, 0.0), (3576, 0.0), (3580, 0.0), (3581, 0.0), (3583, 0.0), (3584, 0.0), (3586, 0.0), (3587, 0.0), (3588, 0.0), (3590, 0.0), (3591, 0.0), (3592, 0.0), (3595, 0.0), (3596, 0.0), (3597, 0.0), (3600, 0.0), (3601, 0.0), (3603, 0.0), (3604, 0.0), (3605, 0.0), (3608, 0.0), (3609, 0.0), (3613, 0.0), (3614, 0.0), (3617, 0.0), (3620, 0.0), (3622, 0.0), (3623, 0.0), (3624, 0.0), (3625, 0.0), (3627, 0.0), (3629, 0.0), (3634, 0.0), (3635, 0.0), (3636, 0.0), (3638, 0.0), (3639, 0.0), (3640, 0.0), (3641, 0.0), (3642, 0.0), (3645, 0.0), (3649, 0.0), (3652, 0.0), (3654, 0.0), (3656, 0.0), (3663, 0.0), (3664, 0.0), (3667, 0.0), (3669, 0.0), (3670, 0.0), (3672, 0.0), (3675, 0.0), (3676, 0.0), (3679, 0.0), (3680, 0.0), (3682, 0.0), (3686, 0.0), (3687, 0.0), (3688, 0.0), (3691, 0.0), (3692, 0.0), (3693, 0.0), (3694, 0.0), (3695, 0.0), (3699, 0.0), (3700, 0.0), (3702, 0.0), (3703, 0.0), (3704, 0.0), (3706, 0.0), (3707, 0.0), (3708, 0.0), (3710, 0.0), (3712, 0.0), (3713, 0.0), (3714, 0.0), (3715, 0.0), (3717, 0.0), (3719, 0.0), (3721, 0.0), (3723, 0.0), (3724, 0.0), (3725, 0.0), (3726, 0.0), (3727, 0.0), (3728, 0.0), (3729, 0.0), (3732, 0.0), (3733, 0.0), (3737, 0.0), (3738, 0.0), (3740, 0.0), (3742, 0.0), (3744, 0.0), (3745, 0.0), (3749, 0.0), (3750, 0.0), (3753, 0.0), (3755, 0.0), (3756, 0.0), (3757, 0.0), (3758, 0.0), (3760, 0.0), (3761, 0.0), (3762, 0.0), (3763, 0.0), (3764, 0.0), (3766, 0.0), (3767, 0.0), (3770, 0.0), (3771, 0.0), (3772, 0.0), (3773, 0.0), (3774, 0.0), (3775, 0.0), (3777, 0.0), (3779, 0.0), (3783, 0.0), (3784, 0.0), (3787, 0.0), (3788, 0.0), (3789, 0.0), (3791, 0.0), (3792, 0.0), (3793, 0.0), (3795, 0.0), (3796, 0.0), (3798, 0.0), (3799, 0.0), (3800, 0.0), (3804, 0.0), (3806, 0.0), (3807, 0.0), (3811, 0.0), (3813, 0.0), (3814, 0.0), (3815, 0.0), (3820, 0.0), (3827, 0.0), (3828, 0.0), (3831, 0.0), (3832, 0.0), (3833, 0.0), (3834, 0.0), (3836, 0.0), (3837, 0.0), (3842, 0.0), (3844, 0.0), (3845, 0.0), (3848, 0.0), (3849, 0.0), (3850, 0.0), (3851, 0.0), (3853, 0.0), (3855, 0.0), (3856, 0.0), (3859, 0.0), (3861, 0.0), (3862, 0.0), (3867, 0.0), (3869, 0.0), (3872, 0.0), (3873, 0.0), (3874, 0.0), (3877, 0.0), (3878, 0.0), (3879, 0.0), (3880, 0.0), (3881, 0.0), (3883, 0.0), (3884, 0.0), (3885, 0.0), (3887, 0.0), (3888, 0.0), (3892, 0.0), (3895, 0.0), (3896, 0.0), (3898, 0.0), (3899, 0.0), (3900, 0.0), (3901, 0.0), (3902, 0.0), (3904, 0.0), (3905, 0.0), (3908, 0.0), (3911, 0.0), (3912, 0.0), (3915, 0.0), (3918, 0.0), (3922, 0.0), (3923, 0.0), (3925, 0.0), (3927, 0.0), (3929, 0.0), (3930, 0.0), (3931, 0.0), (3932, 0.0), (3933, 0.0), (3934, 0.0), (3935, 0.0), (3936, 0.0), (3937, 0.0), (3938, 0.0), (3939, 0.0), (3941, 0.0), (3942, 0.0), (3945, 0.0), (3946, 0.0), (3947, 0.0), (3948, 0.0), (3949, 0.0), (3951, 0.0), (3952, 0.0), (3953, 0.0), (3954, 0.0), (3958, 0.0), (3961, 0.0), (3962, 0.0), (3964, 0.0), (3965, 0.0), (3967, 0.0), (3968, 0.0), (3971, 0.0), (3972, 0.0), (3974, 0.0), (3975, 0.0), (3976, 0.0), (3977, 0.0), (3978, 0.0), (3979, 0.0), (3981, 0.0), (3982, 0.0), (3985, 0.0), (3987, 0.0), (3988, 0.0), (3989, 0.0), (3990, 0.0), (3992, 0.0), (3995, 0.0), (3996, 0.0), (3999, 0.0), (4000, 0.0), (4002, 0.0), (4004, 0.0), (4005, 0.0), (4006, 0.0), (4008, 0.0), (4011, 0.0), (4014, 0.0), (4016, 0.0), (4017, 0.0), (4018, 0.0), (4019, 0.0), (4020, 0.0), (4021, 0.0), (4022, 0.0), (4024, 0.0), (4026, 0.0), (4027, 0.0), (4028, 0.0), (4029, 0.0), (4030, 0.0), (4031, 0.0), (4033, 0.0), (4035, 0.0), (4036, 0.0), (4039, 0.0), (4040, 0.0), (4041, 0.0), (4042, 0.0), (4043, 0.0), (4044, 0.0), (4045, 0.0), (4048, 0.0), (4049, 0.0), (4050, 0.0), (4052, 0.0), (4053, 0.0), (4056, 0.0), (4058, 0.0), (4060, 0.0), (4065, 0.0), (4067, 0.0), (4069, 0.0), (4071, 0.0), (4072, 0.0), (4073, 0.0), (4075, 0.0), (4077, 0.0), (4078, 0.0), (4080, 0.0), (4081, 0.0), (4082, 0.0), (4083, 0.0), (4084, 0.0), (4085, 0.0), (4087, 0.0), (4088, 0.0), (4091, 0.0), (4092, 0.0), (4093, 0.0), (4094, 0.0), (4096, 0.0), (4097, 0.0), (4100, 0.0), (4101, 0.0), (4102, 0.0), (4103, 0.0), (4105, 0.0), (4107, 0.0), (4114, 0.0), (4115, 0.0), (4116, 0.0), (4120, 0.0), (4121, 0.0), (4123, 0.0), (4124, 0.0), (4126, 0.0), (4127, 0.0), (4128, 0.0), (4129, 0.0), (4130, 0.0), (4131, 0.0), (4132, 0.0), (4133, 0.0), (4134, 0.0), (4139, 0.0), (4140, 0.0), (4141, 0.0), (4142, 0.0), (4145, 0.0), (4146, 0.0), (4148, 0.0), (4150, 0.0), (4151, 0.0), (4153, 0.0), (4154, 0.0), (4159, 0.0), (4160, 0.0), (4161, 0.0), (4163, 0.0), (4165, 0.0), (4166, 0.0), (4167, 0.0), (4168, 0.0), (4170, 0.0), (4172, 0.0), (4175, 0.0), (4179, 0.0), (4180, 0.0), (4181, 0.0), (4184, 0.0), (4185, 0.0), (4187, 0.0), (4188, 0.0), (4190, 0.0), (4193, 0.0), (4198, 0.0), (4200, 0.0), (4202, 0.0), (4204, 0.0), (4206, 0.0), (4208, 0.0), (4209, 0.0), (4211, 0.0), (4212, 0.0), (4213, 0.0), (4215, 0.0), (4216, 0.0), (4219, 0.0), (4221, 0.0), (4222, 0.0), (4223, 0.0), (4224, 0.0), (4227, 0.0), (4228, 0.0), (4229, 0.0), (4230, 0.0), (4231, 0.0), (4232, 0.0), (4234, 0.0), (4235, 0.0), (4236, 0.0), (4238, 0.0), (4239, 0.0), (4243, 0.0), (4244, 0.0), (4246, 0.0), (4248, 0.0), (4249, 0.0), (4251, 0.0), (4253, 0.0), (4255, 0.0), (4256, 0.0), (4258, 0.0), (4259, 0.0), (4260, 0.0), (4261, 0.0), (4264, 0.0), (4266, 0.0), (4271, 0.0), (4273, 0.0), (4274, 0.0), (4275, 0.0), (4278, 0.0), (4284, 0.0), (4285, 0.0), (4286, 0.0), (4288, 0.0), (4291, 0.0), (4293, 0.0), (4294, 0.0), (4295, 0.0), (4296, 0.0), (4298, 0.0), (4299, 0.0), (4300, 0.0), (4301, 0.0), (4302, 0.0), (4305, 0.0), (4306, 0.0), (4307, 0.0), (4308, 0.0), (4309, 0.0), (4310, 0.0), (4311, 0.0), (4313, 0.0), (4315, 0.0), (4316, 0.0), (4317, 0.0), (4318, 0.0), (4319, 0.0), (4320, 0.0), (4321, 0.0), (4322, 0.0), (4326, 0.0), (4331, 0.0), (4333, 0.0), (4335, 0.0), (4336, 0.0), (4340, 0.0), (4342, 0.0), (4349, 0.0), (4352, 0.0), (4353, 0.0), (4354, 0.0), (4355, 0.0), (4356, 0.0), (4357, 0.0), (4359, 0.0), (4360, 0.0), (4361, 0.0), (4362, 0.0), (4365, 0.0), (4367, 0.0), (4368, 0.0), (4369, 0.0), (4370, 0.0), (4371, 0.0), (4372, 0.0), (4373, 0.0), (4375, 0.0), (4377, 0.0), (4381, 0.0), (4382, 0.0), (4383, 0.0), (4384, 0.0), (4385, 0.0), (4386, 0.0), (4387, 0.0), (4389, 0.0), (4390, 0.0), (4391, 0.0), (4392, 0.0), (4393, 0.0), (4397, 0.0), (4398, 0.0), (4400, 0.0), (4403, 0.0), (4404, 0.0), (4408, 0.0), (4412, 0.0), (4413, 0.0), (4415, 0.0), (4416, 0.0), (4417, 0.0), (4418, 0.0), (4419, 0.0), (4423, 0.0), (4424, 0.0), (4425, 0.0), (4427, 0.0), (4428, 0.0), (4429, 0.0), (4430, 0.0), (4432, 0.0), (4434, 0.0), (4435, 0.0), (4437, 0.0), (4439, 0.0), (4440, 0.0), (4444, 0.0), (4446, 0.0), (4447, 0.0), (4449, 0.0), (4450, 0.0), (4452, 0.0), (4453, 0.0), (4455, 0.0), (4458, 0.0), (4461, 0.0), (4463, 0.0), (4464, 0.0), (4465, 0.0), (4466, 0.0), (4468, 0.0), (4469, 0.0), (4470, 0.0), (4471, 0.0), (4474, 0.0), (4475, 0.0), (4476, 0.0), (4478, 0.0), (4480, 0.0), (4481, 0.0), (4482, 0.0), (4483, 0.0), (4484, 0.0), (4487, 0.0), (4488, 0.0), (4489, 0.0), (4490, 0.0), (4491, 0.0), (4493, 0.0), (4494, 0.0), (4495, 0.0), (4497, 0.0), (4499, 0.0), (4501, 0.0), (4503, 0.0), (4505, 0.0), (4506, 0.0), (4507, 0.0), (4508, 0.0), (4509, 0.0), (4510, 0.0), (4512, 0.0), (4513, 0.0), (4514, 0.0), (4516, 0.0), (4517, 0.0), (4520, 0.0), (4521, 0.0), (4522, 0.0), (4525, 0.0), (4527, 0.0), (4528, 0.0), (4529, 0.0), (4530, 0.0), (4531, 0.0), (4532, 0.0), (4533, 0.0), (4535, 0.0), (4536, 0.0), (4537, 0.0), (4538, 0.0), (4539, 0.0), (4540, 0.0), (4542, 0.0), (4543, 0.0), (4544, 0.0), (4545, 0.0), (4546, 0.0), (4547, 0.0), (4550, 0.0), (4552, 0.0), (4554, 0.0), (4556, 0.0), (4557, 0.0), (4559, 0.0), (4560, 0.0), (4561, 0.0), (4562, 0.0), (4563, 0.0), (4565, 0.0), (4571, 0.0), (4572, 0.0), (4573, 0.0), (4574, 0.0), (4575, 0.0), (4577, 0.0), (4578, 0.0), (4580, 0.0), (4581, 0.0), (4583, 0.0), (4584, 0.0), (4585, 0.0), (4586, 0.0), (4587, 0.0), (4588, 0.0), (4593, 0.0), (4594, 0.0), (4595, 0.0), (4597, 0.0), (4599, 0.0), (4601, 0.0), (4602, 0.0), (4603, 0.0), (4608, 0.0), (4611, 0.0), (4614, 0.0), (4615, 0.0), (4617, 0.0), (4618, 0.0), (4619, 0.0), (4620, 0.0), (4622, 0.0), (4626, 0.0), (4628, 0.0), (4630, 0.0), (4631, 0.0), (4632, 0.0), (4635, 0.0), (4636, 0.0), (4637, 0.0), (4638, 0.0), (4639, 0.0), (4642, 0.0), (4643, 0.0), (4644, 0.0), (4645, 0.0), (4646, 0.0), (4648, 0.0), (4649, 0.0), (4651, 0.0), (4653, 0.0), (4654, 0.0), (4655, 0.0), (4656, 0.0), (4657, 0.0), (4659, 0.0), (4660, 0.0), (4663, 0.0), (4664, 0.0), (4666, 0.0), (4667, 0.0), (4668, 0.0), (4669, 0.0), (4670, 0.0), (4671, 0.0), (4672, 0.0), (4673, 0.0), (4675, 0.0), (4678, 0.0), (4680, 0.0), (4681, 0.0), (4683, 0.0), (4684, 0.0), (4685, 0.0), (4690, 0.0), (4691, 0.0), (4692, 0.0), (4693, 0.0), (4694, 0.0), (4696, 0.0), (4697, 0.0), (4698, 0.0), (4699, 0.0), (4700, 0.0), (4701, 0.0), (4702, 0.0), (4704, 0.0), (4705, 0.0), (4706, 0.0), (4707, 0.0), (4708, 0.0), (4709, 0.0), (4710, 0.0), (4711, 0.0), (4712, 0.0), (4713, 0.0), (4714, 0.0), (4715, 0.0), (4716, 0.0), (4717, 0.0), (4718, 0.0), (4719, 0.0), (4720, 0.0), (4722, 0.0), (4723, 0.0), (4724, 0.0), (4725, 0.0), (4726, 0.0), (4727, 0.0), (4729, 0.0), (4730, 0.0), (4731, 0.0), (4733, 0.0), (4734, 0.0), (4737, 0.0), (4739, 0.0), (4740, 0.0), (4741, 0.0), (4742, 0.0), (4744, 0.0), (4745, 0.0), (4749, 0.0), (4750, 0.0), (4751, 0.0), (4753, 0.0), (4755, 0.0), (4757, 0.0), (4758, 0.0), (4759, 0.0)]\n"
          ]
        }
      ]
    },
    {
      "cell_type": "code",
      "source": [
        "# print the name of similar movies based on the index\n",
        "\n",
        "print('Top 30 Movies Suggested for You :\\ n ')\n",
        "\n",
        "i=1\n",
        "\n",
        "for movie in Sorted_Similar_Movies:\n",
        "   index = movie[0]\n",
        "   title_from_index = df [df.index==index]['Movie_Title'].values[0]\n",
        "   if (i<31):\n",
        "    print(i, '.',title_from_index)\n",
        "    i+=1"
      ],
      "metadata": {
        "colab": {
          "base_uri": "https://localhost:8080/"
        },
        "id": "FnM9k7sWvi-R",
        "outputId": "e3f7edd4-c232-46f2-e1ab-b837e802819f"
      },
      "execution_count": 32,
      "outputs": [
        {
          "output_type": "stream",
          "name": "stdout",
          "text": [
            "Top 30 Movies Suggested for You :\\ n \n",
            "1 . Finding Nemo\n",
            "2 . Big Fish\n",
            "3 . John Carter\n",
            "4 . Spider-Man\n",
            "5 . Shark Tale\n",
            "6 . Flight of the Intruder\n",
            "7 . El Mariachi\n",
            "8 . Shooting Fish\n",
            "9 . The Shaggy Dog\n",
            "10 . The Muse\n",
            "11 . Freaky Friday\n",
            "12 . American Dreamz\n",
            "13 . The Outsiders\n",
            "14 . Mr. Peabody & Sherman\n",
            "15 . The Simpsons Movie\n",
            "16 . Tora! Tora! Tora!\n",
            "17 . Happy Feet\n",
            "18 . xXx: State of the Union\n",
            "19 . Indie Game: The Movie\n",
            "20 . The English Patient\n",
            "21 . Because of Winn-Dixie\n",
            "22 . Atlantis: The Lost Empire\n",
            "23 . Ponyo\n",
            "24 . Evan Almighty\n",
            "25 . White Chicks\n",
            "26 . The Mask\n",
            "27 . The Rookie\n",
            "28 . Troy\n",
            "29 . Jonah: A VeggieTales Movie\n",
            "30 . Mallrats\n"
          ]
        }
      ]
    },
    {
      "cell_type": "markdown",
      "source": [
        "# **Top 10 Movies Recommended Based on Your Favorite Movie**\n"
      ],
      "metadata": {
        "id": "f3WmuvMQyHUg"
      }
    },
    {
      "cell_type": "code",
      "source": [
        "import difflib\n",
        "\n",
        "Movie_Name = input('Enter your favorite movie name: ')\n",
        "\n",
        "list_of_all_titles = df['Movie_Title'].tolist()\n",
        "\n",
        "# Find close matches to the input movie name\n",
        "close_matches = difflib.get_close_matches(Movie_Name, list_of_all_titles)\n",
        "\n",
        "if close_matches:\n",
        "    closest_match = close_matches[0]  # Get the closest match\n",
        "    Index_of_Movie = df[df.Movie_Title == closest_match]['Movie_ID'].values[0]\n",
        "\n",
        "    Recommendation_Score = list(enumerate(Similarity_Score[Index_of_Movie]))\n",
        "\n",
        "    sorted_similar_movies = sorted(Recommendation_Score, key=lambda x: x[1], reverse=True)\n",
        "\n",
        "    print('Top 10 Movies suggested for you: \\n')\n",
        "\n",
        "    i = 1\n",
        "\n",
        "    for movie in sorted_similar_movies:\n",
        "        index = movie[0]\n",
        "        if index < len(df):\n",
        "            title_from_index = df[df.Movie_ID == index]['Movie_Title'].values[0]\n",
        "            print(i, '.', title_from_index)\n",
        "            i += 1\n",
        "        else:\n",
        "            print(\"Invalid index:\", index)\n",
        "\n",
        "        if i > 10:\n",
        "            break\n",
        "else:\n",
        "    print('No close matches found for the entered movie name.')\n"
      ],
      "metadata": {
        "colab": {
          "base_uri": "https://localhost:8080/"
        },
        "id": "dzYW8eWH0tKP",
        "outputId": "5bd630d0-812c-47c1-c0a2-45a52360b78f"
      },
      "execution_count": 33,
      "outputs": [
        {
          "output_type": "stream",
          "name": "stdout",
          "text": [
            "Enter your favorite movie name: Forest Gump\n",
            "Top 10 Movies suggested for you: \n",
            "\n",
            "1 . Forrest Gump\n",
            "2 . Heaven is for Real\n",
            "3 . Rampage\n",
            "4 . Miss Potter\n",
            "5 . Juno\n",
            "6 . From Paris with Love\n",
            "7 . Hannibal Rising\n",
            "8 . Herbie Fully Loaded\n",
            "9 . Just Go with It\n",
            "10 . Ghosts of Mars\n"
          ]
        }
      ]
    },
    {
      "cell_type": "markdown",
      "source": [
        "Movie Match, the advanced Movie Recommendation System, is powered by the **Close Match algorithm**, ensuring precise and personalized movie suggestions. By employing fuzzy matching techniques, it adeptly handles minor input variations, such as typos or incomplete titles. This innovative approach guarantees spot-on recommendations, tailored exclusively for each user's cinematic taste.\n",
        "\n",
        "\n",
        "\n",
        "In conclusion, Movie Match offers a seamless and immersive movie-watching experience. I'm delighted to assist you in discovering movies perfectly aligned with your preferences. Thank you for choosing Movie Match. For any inquiries or assistance, please don't hesitate to contact me. Happy movie watching!\n",
        "\n",
        "\n",
        "Thank you for exploring our Movie Recommendation System! I hope you enjoy your personalized movie suggestions. If you have any questions or feedback, feel free to reach out. Happy movie watching!"
      ],
      "metadata": {
        "id": "i_GCDc4MBITG"
      }
    }
  ]
}